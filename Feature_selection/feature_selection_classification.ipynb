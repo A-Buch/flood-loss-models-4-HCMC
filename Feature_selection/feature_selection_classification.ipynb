{
 "cells": [
  {
   "cell_type": "markdown",
   "metadata": {},
   "source": []
  },
  {
   "cell_type": "code",
   "execution_count": 81,
   "metadata": {},
   "outputs": [
    {
     "name": "stdout",
     "output_type": "stream",
     "text": [
      "c:\\Users\\Anna\\Documents\\UNI\\MA_topic\\flood-loss-models-4-HCMC\\feature-selection\\Feature_selection\n"
     ]
    },
    {
     "data": {
      "text/plain": [
       "<Figure size 2000x1000 with 0 Axes>"
      ]
     },
     "metadata": {},
     "output_type": "display_data"
    }
   ],
   "source": [
    "#!/usr/bin/env python\n",
    "# -*- coding: utf-8 -*-\n",
    "\"\"\"Data preprocessing for HCMC survey dataset\"\"\"\n",
    "\n",
    "__author__ = \"Anna Buch, Heidelberg University\"\n",
    "__email__ = \"a.buch@stud.uni-heidelberg.de\"\n",
    "\n",
    "## Feature selection for content losses done by Logistic Regression\n",
    "\n",
    "# Due to many zero losses especially in content losses, a binary regression was tested to distinguish between occured losses and no losses. \n",
    "# The before applied elastic net result showed that the elastic net algorithm might be a bit too complex for the moderate size of training set \n",
    "# and the imbalnced distribution with in the response (many zero losses compared to only a very a left skewed distribution of occured content losses)  \n",
    "# *Sources*\n",
    "# Geron 2019: https://learning.oreilly.com/library/view/hands-on-machine-learning/9781492032632/ch04.html#idm45022190228392\n",
    "\n",
    "\n",
    "import os, sys\n",
    "import re\n",
    "from datetime import datetime\n",
    "from pathlib import Path\n",
    "import numpy as np\n",
    "import pandas as pd\n",
    "\n",
    "import pickle\n",
    "import joblib\n",
    "\n",
    "from sklearn.linear_model import LinearRegression\n",
    "from sklearn.preprocessing import MinMaxScaler\n",
    "from sklearn.model_selection import RepeatedStratifiedKFold, cross_val_score\n",
    "from sklearn.metrics import classification_report, precision_score, accuracy_score, make_scorer\n",
    "\n",
    "import statsmodels.api as sm\n",
    "from scipy import stats\n",
    "\n",
    "import matplotlib.pyplot as plt\n",
    "import matplotlib.patches as mpatches\n",
    "import seaborn as sns\n",
    "\n",
    "\n",
    "sys.path.insert(0, \"../../\")\n",
    "import utils.feature_selection as fs\n",
    "import utils.training as t\n",
    "import utils.evaluation as e\n",
    "import utils.evaluation_metrics as em\n",
    "import utils.figures as f\n",
    "import utils.settings as s\n",
    "import utils.pipelines as p\n",
    "import utils.preprocessing as pp\n",
    "\n",
    "\n",
    "## make new base results-folder\n",
    "hcmc_cantho = \"hcmc\" # \"hcmc\", \"cantho\"\n",
    "# hcmc_cantho = \"hcmc_cantho\" # \"hcmc\", \"cantho\"\n",
    "Path(f\"../model_results/{hcmc_cantho}/\").mkdir(parents=True, exist_ok=True)\n",
    "# os.chdir(f\"../model_results/{hcmc_cantho}/\")\n",
    "print(os.getcwd())\n",
    "\n",
    "\n",
    "p.main()  # create/update model settings\n",
    "#s.init()\n",
    "seed = s.seed\n",
    "\n",
    "import contextlib\n",
    "import warnings\n",
    "warnings.filterwarnings('ignore')\n",
    "\n",
    "pd.set_option('display.max_columns', None)\n",
    "plt.figure(figsize=(20, 10))\n",
    "\n",
    "## settings for cv\n",
    "kfolds_and_repeats =  7, 2 # 10, 5  # <k-folds, repeats> for nested cv\n",
    "cv = RepeatedStratifiedKFold(n_splits=kfolds_and_repeats[0], n_repeats=kfolds_and_repeats[1], random_state=seed)\n",
    "\n",
    "# ## make new base results-folder\n",
    "# hcmc_cantho = \"hcmc\" # \"hcmc\", \"cantho\"\n",
    "# # hcmc_cantho = \"hcmc_cantho\" # \"hcmc\", \"cantho\"\n",
    "# Path(f\"../../{hcmc_cantho}/\").mkdir(parents=True, exist_ok=True)\n",
    "# os.chdir(f\"../../{hcmc_cantho}/\")\n",
    "# print(os.getcwd())\n",
    "\n",
    "## save models and their evaluation in following folders:\n",
    "Path(f\"../model_results/models_trained/{hcmc_cantho}/chance_of_loss/nested_cv_models\").mkdir(parents=True, exist_ok=True)\n",
    "Path(f\"../model_results/models_trained/{hcmc_cantho}/chance_of_loss/final_models\").mkdir(parents=True, exist_ok=True)\n",
    "Path(f\"../model_results/models_evaluation/{hcmc_cantho}/chance_of_loss\").mkdir(parents=True, exist_ok=True)\n",
    "Path(f\"../model_results/selected_features/{hcmc_cantho}/chance_of_loss\").mkdir(parents=True, exist_ok=True)\n",
    "\n",
    "\n"
   ]
  },
  {
   "cell_type": "code",
   "execution_count": 82,
   "metadata": {},
   "outputs": [],
   "source": [
    "target = \"Target_relative_contentloss_euro\"\n",
    "# target = \"Target_abs_loss\"\n",
    "\n",
    "\n",
    "## load DS for relative content loss\n",
    "df_candidates = pd.read_excel(\"../../input_survey_data/input_data_contentloss_tueb.xlsx\")\n",
    "# df_candidates = pd.read_excel(\"../../input_survey_data/input_data_cantho_2013_quicktest.xlsx\", header=0)\n",
    "# df_candidates = pd.read_excel(\"../../input_survey_data/input_data_contentloss_tueb_cantho.xlsx\")\n",
    "# df_candidates = pd.read_excel(\"../../input_survey_data/input_data_contentloss_cantho.xlsx\")  # ACC: ~57%, 260cases from which 140 are zero-loss\n",
    "\n",
    "## move targets to beginning\n",
    "df_candidates.insert(0, \"Target_relative_contentloss_euro\", df_candidates.pop(\"Target_relative_contentloss_euro\"))\n",
    "\n",
    "\n"
   ]
  },
  {
   "cell_type": "code",
   "execution_count": 83,
   "metadata": {},
   "outputs": [
    {
     "name": "stdout",
     "output_type": "stream",
     "text": [
      "Percentage of missing values per feature [%]\n",
      " shp_registered_capital_euro         8.0\n",
      "hh_monthly_income_euro              4.0\n",
      "bage                                4.0\n",
      "inundation_duration_h               1.0\n",
      "b_area                              1.0\n",
      "Target_relative_contentloss_euro    0.0\n",
      "precautionary_measures_expensive    0.0\n",
      "shp_employees                       0.0\n",
      "resilienceLeftAlone                 0.0\n",
      "resilience                          0.0\n",
      "emergency_measures                  0.0\n",
      "precautionary_measures_lowcost      0.0\n",
      "flood_experience                    0.0\n",
      "contaminations                      0.0\n",
      "flowvelocity                        0.0\n",
      "dtype: float64\n"
     ]
    }
   ],
   "source": [
    "## features with most missing values\n",
    "pp.percentage_of_nan(df_candidates)"
   ]
  },
  {
   "cell_type": "markdown",
   "metadata": {},
   "source": [
    "## Explore correlations \n",
    "Visualize correlations between candidate predictors and targets incl rloss, abs loss, business reduction"
   ]
  },
  {
   "cell_type": "code",
   "execution_count": 84,
   "metadata": {},
   "outputs": [],
   "source": [
    "# f.plot_correlations(df_candidates)"
   ]
  },
  {
   "cell_type": "code",
   "execution_count": 85,
   "metadata": {},
   "outputs": [],
   "source": [
    "# # ### Test : remove / set to np.nan the two datapoints in abs loss which are very high\n",
    "# sns.regplot(x=df.Target_contentloss_euro, y=df.shp_employees,\n",
    "#     lowess=True, ci=False,\n",
    "#     line_kws={'color': 'red', 'lw': 1},\n",
    "#     scatter_kws={'color': 'black', 's': 20}\n",
    "#     )\n",
    "\n",
    "# # #sns.boxenplot(df.Target_contentloss_euro)\n",
    "# # sns.boxenplot(df.Target_relative_contentloss_euro)\n",
    "# # # sns.boxenplot(df.Target_businessreduction)\n",
    "# # sns.boxenplot(df.shp_employees)\n"
   ]
  },
  {
   "cell_type": "markdown",
   "metadata": {},
   "source": [
    "**Outlier removal**\n",
    "Remove outleris for certain columns based on percentiles"
   ]
  },
  {
   "cell_type": "code",
   "execution_count": 86,
   "metadata": {},
   "outputs": [
    {
     "name": "stdout",
     "output_type": "stream",
     "text": [
      "count    310.000000\n",
      "mean      11.087742\n",
      "std       40.926339\n",
      "min        0.200000\n",
      "25%        2.000000\n",
      "50%        3.000000\n",
      "75%        6.000000\n",
      "max      600.000000\n",
      "Name: inundation_duration_h, dtype: float64\n",
      "Axes(0.125,0.11;0.775x0.77)\n"
     ]
    },
    {
     "data": {
      "image/png": "[encoded data removed]",
      "text/plain": [
       "<Figure size 640x480 with 1 Axes>"
      ]
     },
     "metadata": {},
     "output_type": "display_data"
    }
   ],
   "source": [
    "## inundation_duration_h\n",
    "print(df_candidates.inundation_duration_h.describe())\n",
    "print(df_candidates.inundation_duration_h.hist(bins=100))\n"
   ]
  },
  {
   "cell_type": "code",
   "execution_count": null,
   "metadata": {},
   "outputs": [],
   "source": []
  },
  {
   "cell_type": "code",
   "execution_count": 87,
   "metadata": {},
   "outputs": [],
   "source": [
    "\n",
    "# # # df_candidates = df_candidates.loc[ ~(df_candidates.inundation >= 15000), :]\n",
    "# # print(df_candidates.shape)\n",
    "# # df_candidates.hh_monthly_income_euro.describe()\n",
    "\n",
    "# print(df_candidates.shape)\n",
    "# print(df_candidates.inundation_duration_h.hist(bins=50))\n",
    "\n",
    "# #low = .00\n",
    "# high = .99\n",
    "# #high = .95\n",
    "# quant_df = df_candidates.quantile([high])\n",
    "# # quant_df = df_candidates.quantile([low, high])\n",
    "# print(max(quant_df.inundation_duration_h))\n",
    "\n",
    "# # Next filtering values based on computed percentiles. To do that I use an apply by columns and that's it !\n",
    "# df_candidates = df_candidates.apply(\n",
    "#     lambda x: #x[(x > quant_df.loc[low, x.name]) & \n",
    "#                 (x < quant_df.loc[high,x.name]), axis=0)"
   ]
  },
  {
   "cell_type": "code",
   "execution_count": 88,
   "metadata": {},
   "outputs": [],
   "source": [
    "# df_candidates = df_candidates.loc[ ~(df_candidates.inundation_duration_h >= 300), :]\n",
    "# print(df_candidates.shape)\n",
    "# df_candidates.inundation_duration_h.describe()\n"
   ]
  },
  {
   "cell_type": "code",
   "execution_count": 89,
   "metadata": {},
   "outputs": [],
   "source": [
    "# print( len(df_candidates.loc[df_candidates.b_area >= 300, :]))\n",
    "# df_candidates = df_candidates.loc[~(df_candidates.b_area >= 300), :]\n",
    "# print(df_candidates.shape)\n",
    "# df_candidates.b_area.describe()"
   ]
  },
  {
   "cell_type": "code",
   "execution_count": 90,
   "metadata": {},
   "outputs": [
    {
     "name": "stdout",
     "output_type": "stream",
     "text": [
      "0\n"
     ]
    },
    {
     "data": {
      "text/plain": [
       "shp_employees\n",
       "1    155\n",
       "2    112\n",
       "3     22\n",
       "4     16\n",
       "6      6\n",
       "5      2\n",
       "7      1\n",
       "Name: count, dtype: int64"
      ]
     },
     "execution_count": 90,
     "metadata": {},
     "output_type": "execute_result"
    }
   ],
   "source": [
    "print(len(df_candidates.loc[ (df_candidates.shp_employees >= 10), :]))  # less tha n10 employess = micro business according to World Bank definiton\n",
    "df_candidates = df_candidates.loc[ ~(df_candidates.shp_employees >= 10), :]\n",
    "df_candidates.shp_employees.value_counts()"
   ]
  },
  {
   "cell_type": "code",
   "execution_count": 91,
   "metadata": {},
   "outputs": [
    {
     "name": "stdout",
     "output_type": "stream",
     "text": [
      "5\n",
      "(314, 17)\n"
     ]
    },
    {
     "data": {
      "text/plain": [
       "count       289.000000\n",
       "mean       2627.044637\n",
       "std        7880.116959\n",
       "min          36.800000\n",
       "25%         368.300000\n",
       "50%         736.500000\n",
       "75%        1841.300000\n",
       "max      110476.900000\n",
       "Name: shp_registered_capital_euro, dtype: float64"
      ]
     },
     "execution_count": 91,
     "metadata": {},
     "output_type": "execute_result"
    }
   ],
   "source": [
    "# df_candidates = df_candidates.loc[ ~(df_candidates.shp_registered_capital_euro >= 5000), :]\n",
    "print( len(df_candidates.loc[df_candidates.shp_registered_capital_euro >= 20000, :]))\n",
    "#df_candidates = df_candidates.loc[ ~(df_candidates.shp_registered_capital_euro >= 20000), :]\n",
    "print(df_candidates.shape)\n",
    "df_candidates.shp_registered_capital_euro.describe()\n",
    "# df_candidates.shp_registered_capital_euro.hist(bins=50)"
   ]
  },
  {
   "cell_type": "code",
   "execution_count": 92,
   "metadata": {},
   "outputs": [
    {
     "name": "stdout",
     "output_type": "stream",
     "text": [
      "4\n",
      "(314, 17)\n"
     ]
    },
    {
     "data": {
      "text/plain": [
       "count     301.000000\n",
       "mean      414.139203\n",
       "std       345.306255\n",
       "min       110.500000\n",
       "25%       294.600000\n",
       "50%       294.600000\n",
       "75%       552.400000\n",
       "max      3314.300000\n",
       "Name: hh_monthly_income_euro, dtype: float64"
      ]
     },
     "execution_count": 92,
     "metadata": {},
     "output_type": "execute_result"
    }
   ],
   "source": [
    "print( len(df_candidates.loc[(df_candidates.hh_monthly_income_euro >= 2000), :]))\n",
    "# df_candidates = df_candidates.loc[ ~(df_candidates.hh_monthly_income_euro >= 2000), :]\n",
    "print(df_candidates.shape)\n",
    "\n",
    "df_candidates.hh_monthly_income_euro.describe()\n"
   ]
  },
  {
   "cell_type": "code",
   "execution_count": 93,
   "metadata": {},
   "outputs": [
    {
     "name": "stdout",
     "output_type": "stream",
     "text": [
      "6\n",
      "(314, 17)\n"
     ]
    },
    {
     "data": {
      "text/plain": [
       "count     314.000000\n",
       "mean      348.333121\n",
       "std       430.462734\n",
       "min        92.100000\n",
       "25%        92.100000\n",
       "50%       276.200000\n",
       "75%       276.200000\n",
       "max      2761.900000\n",
       "Name: shp_avgmonthly_sale_euro, dtype: float64"
      ]
     },
     "execution_count": 93,
     "metadata": {},
     "output_type": "execute_result"
    }
   ],
   "source": [
    "print(len(df_candidates.loc[ (df_candidates.shp_avgmonthly_sale_euro >= 2000), :]))\n",
    "# df_candidates = df_candidates.loc[ ~(df_candidates.shp_avgmonthly_sale_euro >= 2000), :]\n",
    "print(df_candidates.shape)\n",
    "df_candidates.shp_avgmonthly_sale_euro.describe()\n"
   ]
  },
  {
   "cell_type": "code",
   "execution_count": 94,
   "metadata": {},
   "outputs": [],
   "source": [
    "# plot_correlations(df_candidates)"
   ]
  },
  {
   "cell_type": "code",
   "execution_count": 95,
   "metadata": {},
   "outputs": [
    {
     "name": "stdout",
     "output_type": "stream",
     "text": [
      "(314, 17)\n"
     ]
    },
    {
     "data": {
      "text/plain": [
       "count    314.000000\n",
       "mean       0.047501\n",
       "std        0.134701\n",
       "min        0.000000\n",
       "25%        0.000000\n",
       "50%        0.000000\n",
       "75%        0.026734\n",
       "max        0.970700\n",
       "Name: Target_relative_contentloss_euro, dtype: float64"
      ]
     },
     "execution_count": 95,
     "metadata": {},
     "output_type": "execute_result"
    }
   ],
   "source": [
    "# ## test rloss <= 0.5 due that for HCMC also this imporved the alogrithm to ACc=60% - no improement for combi df when rloss only < 0.5\n",
    "# #df_candidates = df_candidates.loc[ ~(df_candidates.Target_relative_contentloss_euro >= 1.0), :]\n",
    "# print(len(df_candidates.loc[ ~(df_candidates.Target_relative_contentloss_euro >= 0.5), :]))\n",
    "# df_candidates = df_candidates.loc[ ~(df_candidates.Target_relative_contentloss_euro >= 0.5), :]\n",
    "\n",
    "print(df_candidates.shape)\n",
    "df_candidates.Target_relative_contentloss_euro.describe()\n"
   ]
  },
  {
   "cell_type": "code",
   "execution_count": 96,
   "metadata": {},
   "outputs": [],
   "source": [
    "#save to find out which sample are predicted wrongly\n",
    "df_candidates_continous = df_candidates.copy()\n",
    "df_candidates_continous.dropna(inplace=True)"
   ]
  },
  {
   "cell_type": "markdown",
   "metadata": {},
   "source": [
    "## Fit model"
   ]
  },
  {
   "cell_type": "code",
   "execution_count": 97,
   "metadata": {},
   "outputs": [],
   "source": [
    "# Variables for average classification report\n",
    "originalclass = []\n",
    "predictedclass = []\n",
    "\n",
    "#Make our customer score\n",
    "def classification_report_with_accuracy_score(y_true, y_pred):\n",
    "    originalclass.extend(y_true)\n",
    "    predictedclass.extend(y_pred)\n",
    "    #return precision_score(y_true, y_pred) # return precision score\n",
    "    return accuracy_score(y_true, y_pred)"
   ]
  },
  {
   "cell_type": "code",
   "execution_count": 98,
   "metadata": {},
   "outputs": [
    {
     "name": "stdout",
     "output_type": "stream",
     "text": [
      "(317, 15)\n",
      "Drop buisness which are not microbusinesses:  6\n",
      "(279, 15)\n",
      "Index(['inundation_duration_h', 'water_depth_cm', 'flowvelocity',\n",
      "       'contaminations', 'flood_experience', 'bage', 'b_area',\n",
      "       'emergency_measures', 'precautionary_measures_lowcost',\n",
      "       'precautionary_measures_expensive', 'resilience', 'resilienceLeftAlone',\n",
      "       'hh_monthly_income_euro', 'shp_employees',\n",
      "       'shp_registered_capital_euro', 'shp_avgmonthly_sale_euro'],\n",
      "      dtype='object')\n"
     ]
    }
   ],
   "source": [
    "# <!-- **Test final model on CanTHo dataset**\n",
    "# See if the zero-loss and damage predictions of the final model are reasonable -->\n",
    "\n",
    "df_cantho = pd.read_excel(\"../../input_survey_data/input_data_contentloss_cantho.xlsx\")\n",
    "df_cantho.tail(3)\n",
    "print(df_cantho.shape)\n",
    "df_cantho = df_cantho.dropna()\n",
    "# pp.percentage_of_nan(df_cantho)\n",
    "\n",
    "## cantho only micro-businesses\n",
    "print(\"Drop buisness which are not microbusinesses: \" ,len(df_cantho.loc[ (df_cantho.shp_employees >= 10), :]))  # less tha n10 employess = micro business according to World Bank definiton\n",
    "df_cantho = df_cantho.loc[ ~(df_cantho.shp_employees >= 10), :]\n",
    "\n",
    "print(df_cantho.shape)\n",
    "X_cantho, y_true_cantho = df_cantho.drop(target, axis=1), df_cantho[target]\n",
    "y_true_cantho[y_true_cantho > 0] = 1\n",
    "y_true_cantho = y_true_cantho.astype(\"Int64\")\n",
    "\n",
    "\n",
    "## add missing features to cantho ds\n",
    "X_cantho[\"resilience\"] = 0\n",
    "X_cantho[\"resilienceLeftAlone\"] = 0\n",
    "X_cantho = X_cantho[df_candidates.drop(target, axis=1).columns.to_list()]\n",
    "print(X_cantho.columns)\n",
    "\n",
    "# ## predict on unseen data and evaluate distribution\n",
    "# y_pred_cantho = final_model.predict(X_cantho)\n",
    "# pd.concat([y_true_cantho, pd.Series(y_pred_cantho)], axis=1).describe()\n"
   ]
  },
  {
   "cell_type": "code",
   "execution_count": 99,
   "metadata": {},
   "outputs": [
    {
     "data": {
      "text/plain": [
       "<Axes: >"
      ]
     },
     "execution_count": 99,
     "metadata": {},
     "output_type": "execute_result"
    },
    {
     "data": {
      "image/png": "[encoded data removed]",
      "text/plain": [
       "<Figure size 640x480 with 1 Axes>"
      ]
     },
     "metadata": {},
     "output_type": "display_data"
    }
   ],
   "source": [
    "## Test model perofance on hCMC and unseen CanTHo when low-valued damages are set as non damages\n",
    "df_candidates[target][df_candidates[target]  < 0.01 ] = 0\n",
    "df_candidates[target].hist(bins=100)"
   ]
  },
  {
   "cell_type": "code",
   "execution_count": 100,
   "metadata": {},
   "outputs": [
    {
     "name": "stdout",
     "output_type": "stream",
     "text": [
      "(314, 17)\n",
      "Index(['Target_relative_contentloss_euro', 'inundation_duration_h',\n",
      "       'water_depth_cm', 'flowvelocity', 'contaminations', 'flood_experience',\n",
      "       'bage', 'b_area', 'emergency_measures',\n",
      "       'precautionary_measures_lowcost', 'precautionary_measures_expensive',\n",
      "       'resilience', 'resilienceLeftAlone', 'hh_monthly_income_euro',\n",
      "       'shp_employees', 'shp_registered_capital_euro',\n",
      "       'shp_avgmonthly_sale_euro'],\n",
      "      dtype='object')\n",
      "{'LogisticRegression_hyperparameters': {'model__penalty': ['elasticnet'], 'model__tol': [1e-05, 0.001, 0.01, 0.1, 0.5], 'model__C': [1, 2, 3, 4, 5, 6, 7, 8, 9], 'model__max_iter': [10, 50, 100, 250, 500], 'model__l1_ratio': [0.0, 0.25, 0.5, 0.75, 1.0], 'model__solver': ['saga'], 'model__random_state': [42]}, 'XGBRegressor_hyperparameters': {'model__n_estimators': [3, 5, 10, 30, 50, 100, 250], 'model__max_depth': [3, 5, 10, 15], 'model__booster': ['gbtree'], 'model__colsample_bytree': [0.33, 0.66, 1.0], 'model__learning_rate': [0.001, 0.01, 0.1, 0.2, 0.3], 'model__seed': [42]}, 'SGDClassifier_hyperparameters': {'model__alpha': [0.0, 0.3, 0.5, 1, 3, 5], 'model__max_iter': [2, 3, 4, 6, 8], 'model__l1_ratio': [0.01, 0.1, 0.25, 0.5, 0.75, 1.0], 'model__tol': [0.1, 0.3, 0.5, 0.7, 1.0, 5.0], 'model__random_state': [42]}, 'ElasticNet_hyperparameters': {'model__alpha': [0.5, 0.75, 1, 1.5, 3, 5], 'model__max_iter': [2, 3, 4, 6, 8, 10], 'model__l1_ratio': [0.001, 0.01, 0.1, 0.25, 0.5, 0.75, 1.0], 'model__tol': [0.1, 0.3, 0.5, 0.7, 1.0, 5.0], 'model__selection': ['cyclic', 'random'], 'model__random_state': [42]}, 'cforest_hyperparameters': {'mtry': [2, 18, 2]}}\n",
      "\n",
      "  ############### Applying LogisticRegression on Target_relative_contentloss_euro:  ###############\n",
      "\n",
      "Amount of missing target values should be zero:  0\n",
      "Using  260  records, from those are  169  cases with zero-loss or zero-reduction\n",
      "count    260.0\n",
      "mean       0.5\n",
      "std        0.0\n",
      "min        0.5\n",
      "25%        0.5\n",
      "50%        0.5\n",
      "75%        0.5\n",
      "max        0.5\n",
      "dtype: float64\n",
      "0.5    260\n",
      "Name: count, dtype: int64\n"
     ]
    },
    {
     "name": "stdout",
     "output_type": "stream",
     "text": [
      "classification_report from outer cross validation\n",
      "              precision    recall  f1-score   support\n",
      "\n",
      "           0       0.70      0.87      0.77       338\n",
      "           1       0.55      0.30      0.39       182\n",
      "\n",
      "    accuracy                           0.67       520\n",
      "   macro avg       0.62      0.58      0.58       520\n",
      "weighted avg       0.65      0.67      0.64       520\n",
      "\n",
      "LogisticRegression:  {'model__tol': 0.01, 'model__solver': 'saga', 'model__random_state': 42, 'model__penalty': 'elasticnet', 'model__max_iter': 100, 'model__l1_ratio': 0.75, 'model__C': 1}\n",
      "LogisticRegression:  {'model__tol': 0.5, 'model__solver': 'saga', 'model__random_state': 42, 'model__penalty': 'elasticnet', 'model__max_iter': 250, 'model__l1_ratio': 0.25, 'model__C': 9}\n",
      "LogisticRegression:  {'model__tol': 0.001, 'model__solver': 'saga', 'model__random_state': 42, 'model__penalty': 'elasticnet', 'model__max_iter': 500, 'model__l1_ratio': 1.0, 'model__C': 1}\n",
      "LogisticRegression:  {'model__tol': 1e-05, 'model__solver': 'saga', 'model__random_state': 42, 'model__penalty': 'elasticnet', 'model__max_iter': 50, 'model__l1_ratio': 0.0, 'model__C': 2}\n",
      "LogisticRegression:  {'model__tol': 0.1, 'model__solver': 'saga', 'model__random_state': 42, 'model__penalty': 'elasticnet', 'model__max_iter': 500, 'model__l1_ratio': 1.0, 'model__C': 9}\n",
      "LogisticRegression:  {'model__tol': 1e-05, 'model__solver': 'saga', 'model__random_state': 42, 'model__penalty': 'elasticnet', 'model__max_iter': 50, 'model__l1_ratio': 0.75, 'model__C': 3}\n",
      "LogisticRegression:  {'model__tol': 0.01, 'model__solver': 'saga', 'model__random_state': 42, 'model__penalty': 'elasticnet', 'model__max_iter': 100, 'model__l1_ratio': 0.75, 'model__C': 1}\n",
      "LogisticRegression:  {'model__tol': 0.5, 'model__solver': 'saga', 'model__random_state': 42, 'model__penalty': 'elasticnet', 'model__max_iter': 250, 'model__l1_ratio': 0.25, 'model__C': 9}\n",
      "LogisticRegression:  {'model__tol': 0.001, 'model__solver': 'saga', 'model__random_state': 42, 'model__penalty': 'elasticnet', 'model__max_iter': 500, 'model__l1_ratio': 1.0, 'model__C': 1}\n",
      "LogisticRegression:  {'model__tol': 0.001, 'model__solver': 'saga', 'model__random_state': 42, 'model__penalty': 'elasticnet', 'model__max_iter': 250, 'model__l1_ratio': 0.75, 'model__C': 4}\n",
      "LogisticRegression:  {'model__tol': 0.001, 'model__solver': 'saga', 'model__random_state': 42, 'model__penalty': 'elasticnet', 'model__max_iter': 500, 'model__l1_ratio': 1.0, 'model__C': 1}\n",
      "LogisticRegression:  {'model__tol': 1e-05, 'model__solver': 'saga', 'model__random_state': 42, 'model__penalty': 'elasticnet', 'model__max_iter': 50, 'model__l1_ratio': 0.0, 'model__C': 2}\n",
      "LogisticRegression:  {'model__tol': 0.01, 'model__solver': 'saga', 'model__random_state': 42, 'model__penalty': 'elasticnet', 'model__max_iter': 100, 'model__l1_ratio': 0.75, 'model__C': 1}\n",
      "LogisticRegression:  {'model__tol': 0.1, 'model__solver': 'saga', 'model__random_state': 42, 'model__penalty': 'elasticnet', 'model__max_iter': 500, 'model__l1_ratio': 1.0, 'model__C': 9}\n",
      "used params for best model: {'model__tol': 1e-05, 'model__solver': 'saga', 'model__random_state': 42, 'model__penalty': 'elasticnet', 'model__max_iter': 50, 'model__l1_ratio': 0.75, 'model__C': 3}\n",
      "Predict on CanTHo ds\n",
      "       Target_relative_contentloss_euro      0\n",
      "count                             279.0  279.0\n",
      "mean                           0.480287    1.0\n",
      "std                            0.500509    0.0\n",
      "min                                 0.0    1.0\n",
      "25%                                 0.0    1.0\n",
      "50%                                 0.0    1.0\n",
      "75%                                 1.0    1.0\n",
      "max                                 1.0    1.0\n",
      "              precision    recall  f1-score   support\n",
      "\n",
      "         0.0       0.00      0.00      0.00       145\n",
      "         1.0       0.48      1.00      0.65       134\n",
      "\n",
      "    accuracy                           0.48       279\n",
      "   macro avg       0.24      0.50      0.32       279\n",
      "weighted avg       0.23      0.48      0.31       279\n",
      "\n",
      "\n",
      "Select features based on permutation feature importance\n",
      "5 most important features: ['precautionary_measures_lowcost', 'resilienceLeftAlone', 'emergency_measures', 'water_depth_cm', 'resilience']\n",
      "\n",
      "Training and evaluation of LogisticRegression took 115.844759 seconds\n",
      "\n",
      "Outer evaluation scores:\n",
      "            LogisticRegression_score  LogisticRegression_score_std\n",
      "accuracy                     0.6692                        0.0546\n",
      "precision                    0.5363                        0.1421\n",
      "recall                       0.3022                        0.1552\n",
      "f1_macro                     0.5744                        0.0861 \n",
      ".. saved to ../model_results/models_evaluation/can_tho/chance_of_loss/performance_Target_relative_contentloss_euro.xlsx\n",
      "y ture: \n",
      " y_true\n",
      "0    169\n",
      "1     91\n",
      "Name: count, dtype: Int64\n",
      "y pred from nested cv: \n",
      " y_pred\n",
      "0    210\n",
      "1     50\n",
      "Name: count, dtype: int64\n",
      "\n",
      "LogisticRegression estimators from nested cross-validation:\n",
      "           nobs  median      mean min max  variance\n",
      "empirical   260     0.0  0.350000  [0, 1]      0.23\n",
      "predicted   260     0.0  0.192308  [0, 1]      0.16\n",
      "Classification report from final model:\n",
      "              precision    recall  f1-score   support\n",
      "\n",
      "         0.0       0.00      0.00      0.00       169\n",
      "         1.0       0.35      1.00      0.52        91\n",
      "\n",
      "    accuracy                           0.35       260\n",
      "   macro avg       0.17      0.50      0.26       260\n",
      "weighted avg       0.12      0.35      0.18       260\n",
      "\n",
      "y true: \n",
      " Target_relative_contentloss_euro\n",
      "0    169\n",
      "1     91\n",
      "Name: count, dtype: Int64\n",
      "y pred from final model: \n",
      " 1.0    260\n",
      "Name: count, dtype: int64\n",
      "\n",
      "LogisticRegression from final model:\n",
      "           nobs  median  mean min max  variance\n",
      "empirical   260     0.0  0.35  [0, 1]      0.23\n",
      "predicted   260     1.0  1.00  [1, 1]      0.00\n"
     ]
    },
    {
     "data": {
      "image/png": "[encoded data removed]",
      "text/plain": [
       "<Figure size 600x600 with 2 Axes>"
      ]
     },
     "metadata": {},
     "output_type": "display_data"
    },
    {
     "data": {
      "image/png": "[encoded data removed]",
      "text/plain": [
       "<Figure size 600x600 with 2 Axes>"
      ]
     },
     "metadata": {},
     "output_type": "display_data"
    }
   ],
   "source": [
    "print(df_candidates.shape)\n",
    "\n",
    "\n",
    "## Fit model\n",
    "\n",
    "score_metrics = {\n",
    "    \"accuracy\": \"accuracy\",\n",
    "    \"precision\": \"precision\",\n",
    "    \"recall\": \"recall\",\n",
    "    \"f1_macro\": \"f1_macro\", # only for class balanced\n",
    "    # \"f1\": \"f1\",\n",
    "}\n",
    "# score_metrics = {\"accuracy\": make_scorer(classification_report_with_accuracy_score)} \n",
    "\n",
    "## test drop flow velocity due to diffenret flooding sources (eg. overwhelmed draingage systems)\n",
    "# df_candidates = df_candidates.drop(\"flowvelocity\", axis=1)\n",
    "print(df_candidates.columns)\n",
    "\n",
    "## iterate over piplines. Each pipline contains a scaler and regressor (and optionally a bagging method) \n",
    "\n",
    "#pipelines = [\"pipe_logreg_bag\"]\n",
    "pipelines = [\"pipe_logreg\"]\n",
    "#pipelines = [\"pipe_sgd\"] # with logreg loss and en penality\n",
    "\n",
    "eval_sets = {}\n",
    "models_trained = {}\n",
    "final_models_trained = {}\n",
    "models_coef = {}\n",
    "predicted_values = {}\n",
    "df_feature_importances = pd.DataFrame(index=df_candidates.drop(target, axis=1).columns.to_list())\n",
    "models_scores = {}\n",
    "\n",
    "## Load set of hyperparamters\n",
    "hyperparams_set = pp.load_config(\"../../utils/hyperparameter_sets.json\")\n",
    "print(hyperparams_set)\n",
    "\n",
    "\n",
    "for pipe_name in pipelines:\n",
    "\n",
    "    TIME0 = datetime.now()\n",
    "\n",
    "    ## load model pipeline and get model name\n",
    "    pipe = joblib.load(f'./pipelines/{pipe_name}.pkl')\n",
    "\n",
    "    try:\n",
    "        model_name = re.findall(\"[a-zA-Z]+\", str(pipe.steps[1][1].__class__).split(\".\")[-1])[0] # get model name for python models  \n",
    "    except AttributeError:\n",
    "        model_name = pipe # get R model name\n",
    "    \n",
    "\n",
    "    print( f\"\\n  ############### Applying {model_name} on {target}:  ###############\\n\")\n",
    "\n",
    "    ## load hyperparameter space\n",
    "    param_space = hyperparams_set[f\"{model_name}_hyperparameters\"]\n",
    "\n",
    "    ## if bagging is used, adapt hyperparameeter names\n",
    "    if \"bag\" in pipe_name.split(\"_\"):\n",
    "        print(f\"Testing {model_name} with bagging\")\n",
    "        param_space = { k.replace('model', 'bagging__estimator') : v for (k, v) in param_space.items()}\n",
    "\n",
    "\n",
    "    ## load input dataset\n",
    "    df_Xy = df_candidates\n",
    "    X_names = df_Xy.drop(target, axis=1).columns.to_list()\n",
    "\n",
    "    # ## test impact of median imputation on model performance\n",
    "    # print(\"test impact of median imputation on model performance\")\n",
    "    # df_Xy[X_names] = df_Xy[X_names].apply(lambda x: x.fillna(x.median()),axis=0)\n",
    "\n",
    "\n",
    "    ## set target as binary class\n",
    "    df_Xy[target][df_Xy[target] > 0] = 1\n",
    "    df_Xy[target] = df_Xy[target].astype(\"Int64\")\n",
    "\n",
    "    ## clean df from remaining records containg nan\n",
    "    df_Xy.dropna(inplace=True) ## TODO test with only nan in target removed\n",
    "\n",
    "    print(\"Amount of missing target values should be zero: \", df_Xy[target].isna().sum())\n",
    "    print(\n",
    "        \"Using \",\n",
    "        df_Xy.shape[0],\n",
    "        \" records, from those are \",\n",
    "        (df_Xy[target][df_Xy[target] == 0.0]).count(),\n",
    "        \" cases with zero-loss or zero-reduction\",\n",
    "    )\n",
    "\n",
    "    X = df_Xy[X_names]\n",
    "    y = df_Xy[target]\n",
    "\n",
    "\n",
    "\n",
    "    if model_name != \"crf\":\n",
    "\n",
    "        ## save evaluation set for later usage in feature importance\n",
    "        eval_sets[f\"{model_name}\"] = df_Xy #pd.concat([df_Xy[target], X_crf], axis=1)         \n",
    "        mf = t.ModelFitting(\n",
    "            model=pipe, \n",
    "            Xy=df_Xy,\n",
    "            target_name=target,\n",
    "            param_space=param_space,\n",
    "            tuning_score=\"accuracy\", #\"roc_auc\", #\"f1_macro\", #\"accuracy\", # best 54%=\"precision\",#\", #\"f1_macro\", #\"precision\", #\"f1_macro\", # accuracy\n",
    "            cv=cv,\n",
    "            kfolds_and_repeats=kfolds_and_repeats,\n",
    "            seed=seed,\n",
    "        )\n",
    "        models_trained_ncv = mf.model_fit_ncv()  # pipe\n",
    "        \n",
    "        # from sklearn.utils.class_weight import compute_sample_weight\n",
    "        # sample_weights_dict = compute_sample_weight(class_weight='balanced', y=df_candidates_continous[target])\n",
    "        # print(sample_weights_dict)\n",
    "        s = np.where(df_candidates_continous[target].between(0.000001, 0.1), 0.5, 0.5)  ## NOTE curr best number of y_pred with 72 damage cases (0.6/0.4 weigth=15 damage cases in y_pred )\n",
    "        # s = np.where(df_candidates_continous[target]==0.0, 0.8, 0.2) \n",
    "        # s = np.where(df_candidates_continous[target].between(0.0, 0.001), 0.7, 0.3)  # 0..6 / 0.4 give ca 56 damage cases in ypred NOTE 0.8 / 0.2 44 damage cases in ypred\n",
    "        # no or only slight sample weight, too high weight such as .8, 0.2 = too less non-damage cases are predicted in NCV\n",
    "        print(pd.Series(s).describe())\n",
    "        print(pd.Series(s).value_counts())\n",
    "           \n",
    "        me = e.ModelEvaluation(\n",
    "            models_trained_ncv=models_trained_ncv, \n",
    "            Xy=df_Xy,\n",
    "            target_name=target,\n",
    "            #score_metrics={\"precision\": make_scorer(classification_report_with_accuracy_score)} ,\n",
    "            score_metrics=score_metrics,\n",
    "            cv=cv,\n",
    "            kfolds=kfolds_and_repeats[0],\n",
    "            seed=seed,\n",
    "        )\n",
    "        model_evaluation_results = me.model_evaluate_ncv(prediction_method=\"predict_proba\")\n",
    "        #model_evaluation_results = me.model_evaluate_ncv(sample_weights={'model__sample_weight': s}, prediction_method=\"predict_proba\")\n",
    "\n",
    "\n",
    "        ## Classification report for nested cross validation                \n",
    "        nested_score = cross_val_score(models_trained_ncv, X=X, y=y, cv=cv, \n",
    "               scoring=make_scorer(classification_report_with_accuracy_score))\n",
    "        # Average values in classification report for all folds in a K-fold Cross-validation  \n",
    "        # print(nested_score) # scores from each fold\n",
    "        print(\"classification_report from outer cross validation\") \n",
    "        print(classification_report(originalclass, predictedclass)) \n",
    "\n",
    "\n",
    "        ## visual check if hyperparameter ranges are good or need to be adapted\n",
    "        for i in range(len(model_evaluation_results[\"estimator\"])):\n",
    "            print(f\"{model_name}: \", model_evaluation_results[\"estimator\"][i].best_params_)\n",
    "\n",
    "\n",
    "        ## store models evaluation \n",
    "        models_scores[model_name] =  {\n",
    "            k: model_evaluation_results[k] for k in tuple(\"test_\" + s for s in list(score_metrics.keys()))\n",
    "        } # get evaluation scores, metric names start with \"test_<metricname>\"\n",
    "\n",
    "        \n",
    "        ## Final model\n",
    "\n",
    "        ## get final model based on best MAE score during outer cv\n",
    "        # best_idx = list(models_scores[model_name][\"test_f1_macro\"]).index(max(models_scores[model_name][\"test_f1_macro\"]))\n",
    "        #best_idx = list(models_scores[model_name][\"test_precision\"]).index(max(models_scores[model_name][\"test_precision\"]))\n",
    "        # best_idx = list(models_scores[model_name][\"test_recall\"]).index(max(models_scores[model_name][\"test_recall\"]))\n",
    "        best_idx = list(models_scores[model_name][\"test_accuracy\"]).index(max(models_scores[model_name][\"test_accuracy\"]))\n",
    "        final_model = model_evaluation_results[\"estimator\"][best_idx]\n",
    "        print(\"used params for best model:\", final_model.best_params_)  # use last model as the best one\n",
    "        final_model = final_model.best_estimator_\n",
    "\n",
    "        ## Test performance on CnaTHo Datset\n",
    "        print(\"Predict on CanTHo ds\")\n",
    "        y_pred_cantho = final_model.predict(X_cantho)\n",
    "        print(pd.concat([y_true_cantho, pd.Series(y_pred_cantho)], axis=1).describe())\n",
    "        print(classification_report( y_true_cantho, y_pred_cantho)) \n",
    "        f.plot_confusion_matrix(\n",
    "            y_true_cantho,\n",
    "            y_pred_cantho,\n",
    "            outfile=f\"../model_results/models_evaluation/{hcmc_cantho}/chance_of_loss/confusionmatrix_evaluate_on_cantho_{target}.jpg\",\n",
    "        )\n",
    "        ##                          cantho y_true    cantho y_pred\n",
    "        # mean                           0.484211    0.898246  no sample weights, no class weights or balancing\n",
    "        # mean                           0.484211    0.898246  0.6 / 0.4 sample weights on 0.0 - <0.1 losses, no class weights or balancing\n",
    "\n",
    "\n",
    "        ## predict on entire dataset and save final model\n",
    "        y_pred = final_model.predict(X) \n",
    "        final_models_trained[model_name] = final_model \n",
    "        joblib.dump(final_model, f\"../model_results/models_trained/can_tho/chance_of_loss/final_models/{model_name}_{target}.joblib\")\n",
    "\n",
    "        ## Feature importance of best model\n",
    "        importances = me.permutation_feature_importance(final_model, repeats=5)\n",
    "\n",
    "\n",
    "        ## regression coefficients for linear models\n",
    "        with contextlib.suppress(Exception):\n",
    "            models_coef[model_name] = me.calc_regression_coefficients(final_model)\n",
    "            outfile = f\"../model_results/models_evaluation/can_tho/chance_of_loss/regression_coefficients_{model_name}_{target}.xlsx\"\n",
    "            models_coef[model_name].round(3).to_excel(outfile, index=True)\n",
    "            print(\"Regression Coefficients:\\n\", models_coef[model_name].sort_values(\"probabilities\", ascending=False), f\"\\n.. saved to {outfile}\")\n",
    "\n",
    "\n",
    "    # filename = f'./models_trained_ncv/{model_name}_{target}.sav'\n",
    "    # pickle.dump(model, open(filename, 'wb'))\n",
    "    eval_sets[model_name] = df_Xy\n",
    "    models_trained[f\"{model_name}\"] = models_trained_ncv\n",
    "    # models_trained[model_name] = model_evaluation_results[\"estimator\"]\n",
    "    predicted_values[model_name] = me.residuals  # from nested cv\n",
    "\n",
    "    ## Feature importance\n",
    "    print(\"\\nSelect features based on permutation feature importance\")\n",
    "    df_importance = pd.DataFrame(\n",
    "        {\n",
    "            f\"{model_name}_importances\" : importances[0],   # mean importnaces across repeats\n",
    "            f\"{model_name}_importances_std\" : importances[1]\n",
    "        },\n",
    "        index=X_names,\n",
    "    )\n",
    "    df_feature_importances = df_feature_importances.merge(\n",
    "        df_importance[f\"{model_name}_importances\"],   # only use mean FI, drop std of FI\n",
    "        left_index=True, right_index=True, how=\"outer\")\n",
    "\n",
    "    df_feature_importances = df_feature_importances.sort_values(f\"{model_name}_importances\", ascending=False)  # get most important features to the top\n",
    "    print(\"5 most important features:\", df_feature_importances.iloc[:5].index.to_list())\n",
    "    #df_importance = df_importance.loc[df_importance[f\"{model_name}_importances\"] >= 0.000000, : ]\n",
    "\n",
    "    print(\n",
    "    f\"\\nTraining and evaluation of {model_name} took {(datetime.now() - TIME0).total_seconds()} seconds\\n\"\n",
    "    )\n",
    "\n",
    "\n",
    "## Print model evaluation based on performance on outer cross-validation \n",
    "classifier_model_evaluation = pd.DataFrame(models_scores[model_name]).mean(axis=0)  # get mean of outer cv metrics (negative MAE and neg RMSE, pos. R2, pos MBE, posSMAPE)\n",
    "classifier_model_evaluation_std = pd.DataFrame(models_scores[model_name]).std(axis=0)   # get respective standard deviations\n",
    "\n",
    "model_evaluation = pd.concat([classifier_model_evaluation, classifier_model_evaluation_std], axis=1)\n",
    "model_evaluation.columns = [f\"{model_name}_score\", f\"{model_name}_score_std\"]\n",
    "\n",
    "model_evaluation.index = model_evaluation.index.str.replace(\"test_\", \"\")\n",
    "\n",
    "outfile = f\"../model_results/models_evaluation/can_tho/chance_of_loss/performance_{target}.xlsx\"\n",
    "model_evaluation.round(3).to_excel(outfile, index=True)\n",
    "print(\"Outer evaluation scores:\\n\", model_evaluation.round(4), f\"\\n.. saved to {outfile}\")\n",
    "\n",
    "## Print evaluation nested cv\n",
    "print(\"y ture: \\n\", predicted_values[model_name][\"y_true\"].value_counts())\n",
    "print(\"y pred from nested cv: \\n\", pd.Series(predicted_values[model_name][\"y_pred\"]).value_counts())\n",
    "# ### Empirical median ~ predicted median\n",
    "for k,v in predicted_values.items():\n",
    "    print(f\"\\n{k} estimators from nested cross-validation:\")\n",
    "    print(em.empirical_vs_predicted(predicted_values[k][\"y_true\"], predicted_values[k][\"y_pred\"]))\n",
    "\n",
    "f.plot_confusion_matrix(\n",
    "    predicted_values[model_name][\"y_true\"],\n",
    "    predicted_values[model_name][\"y_pred\"],\n",
    "    outfile=f\"../model_results/models_evaluation/{hcmc_cantho}/chance_of_loss/confusionmatrix_{target}.jpg\",\n",
    ")\n",
    "\n",
    "\n",
    "## Print evaluation of final model\n",
    "print(\"Classification report from final model:\")\n",
    "print(classification_report( y, y_pred)) \n",
    "print(\"y true: \\n\", y.value_counts())\n",
    "print(\"y pred from final model: \\n\", pd.Series(y_pred).value_counts())\n",
    "for k,v in predicted_values.items():\n",
    "    print(f\"\\n{k} from final model:\")\n",
    "    print(em.empirical_vs_predicted(y, y_pred))\n",
    "\n"
   ]
  },
  {
   "cell_type": "code",
   "execution_count": null,
   "metadata": {},
   "outputs": [],
   "source": [
    "## Print model evaluation based on performance on outer cross-validation \n",
    "classifier_model_evaluation = pd.DataFrame(models_scores[model_name]).mean(axis=0)  # get mean of outer cv metrics (negative MAE and neg RMSE, pos. R2, pos MBE, posSMAPE)\n",
    "classifier_model_evaluation_std = pd.DataFrame(models_scores[model_name]).std(axis=0)   # get respective standard deviations\n",
    "\n",
    "model_evaluation = pd.concat([classifier_model_evaluation, classifier_model_evaluation_std], axis=1)\n",
    "model_evaluation.columns = [f\"{model_name}_score\", f\"{model_name}_score_std\"]\n",
    "\n",
    "model_evaluation.index = model_evaluation.index.str.replace(\"test_\", \"\")\n",
    "\n",
    "outfile = f\"../model_results/models_evaluation/can_tho/chance_of_loss/performance_{target}.xlsx\"\n",
    "model_evaluation.round(3).to_excel(outfile, index=True)\n",
    "print(\"Outer evaluation scores (samplewise):\\n\", model_evaluation.round(3), f\"\\n.. saved to {outfile}\")\n",
    "\n",
    "        \n",
    "## Feature Importances \n",
    "### drop features which dont reduce the loss\n",
    "df_feature_importances_plot = df_feature_importances\n",
    "df_feature_importances_plot = df_feature_importances_plot.loc[df_feature_importances_plot[f\"{model_name}_importances\"] >= 0.0000, : ] \n",
    "df_feature_importances_plot = df_feature_importances_plot.sort_values(f\"{model_name}_importances\", ascending=True)\n",
    "\n",
    "\n",
    "## TODO update with plt_fi() func as soons a its more flexible in number of models passed to func()\n",
    "plt.figure(figsize=(30, 22), facecolor=\"w\")\n",
    "fig = df_feature_importances_plot.plot.barh(\n",
    "    color=\"darkblue\",\n",
    "    width=0.5,\n",
    "    )\n",
    "plt.xlabel(\"Importance\")\n",
    "plt.ylabel(\"\")\n",
    "plt.title(f\"Feature Importances for {target.replace('_',' ')}\")\n",
    "\n",
    "top_bar = mpatches.Patch(color=\"darkblue\", label=f\"{model_name} classification\")\n",
    "plt.tick_params(axis='x', which='major', labelsize=12)\n",
    "plt.tick_params(axis='y', which='major', labelsize=12)\n",
    "plt.legend(handles=[top_bar], loc=\"lower right\")\n",
    "plt.tight_layout()\n",
    "plt.grid(False)\n",
    "plt.show()\n",
    "\n",
    " \n",
    "fig.get_figure().savefig(f\"../model_results/models_evaluation/can_tho/chance_of_loss/feature_importances_{target}.jpg\", bbox_inches=\"tight\")\n",
    "plt.close()\n",
    "\n",
    "\n",
    "# f.plot_stacked_feature_importances(\n",
    "#     df_feature_importances_plot[\"LogisticRegression_importances\"],\n",
    "#     target_name=target,\n",
    "#     model_names_plot = (\"Logistic Regression\"),\n",
    "#     outfile=f\"../model_results/models_evaluation/chance_of_loss/feature_importances_{target}.jpg\"\n",
    "# )\n",
    "\n",
    "\n",
    "### Save final feature space \n",
    "## The final selection of features is used later for the non-parametric Bayesian Network\n",
    "\n",
    "## drop records with missing target values\n",
    "print(f\"Dropping {df_candidates[f'{target}'].isna().sum()} records from entire dataset due that these values are nan in target variable\")\n",
    "df_candidates = df_candidates[ ~df_candidates[target].isna()]\n",
    "print(f\"Keeping {df_candidates.shape[0]} records and {df_candidates.shape[1]} features\")\n",
    "\n",
    "\n",
    "## sort features by their overall importance (weighted sum across across all features) \n",
    "final_feature_names = df_feature_importances_plot[f\"{model_name}_importances\"].sort_values(ascending=False).index##[:10]\n",
    "print(final_feature_names)\n",
    "\n",
    "## save importnat features, first column contains target variable\n",
    "fs.save_selected_features(\n",
    "    df_candidates, \n",
    "    pd.DataFrame(df_candidates, columns=[target]), \n",
    "    final_feature_names,\n",
    "    filename=f\"../model_results/selected_features/can_tho/chance_of_loss/final_predictors_{target}.xlsx\"\n",
    ")\n",
    "\n",
    "\n",
    "### Partial dependence\n",
    "## PDP shows the marginal effect that one or two features have on the predicted outcome.\n",
    "\n",
    "# ## store partial dependences for each model\n",
    "# pdp_features = {a : {} for a in [model_name]}\n",
    "\n",
    "# for model_name in [model_name]:\n",
    "\n",
    "#     Xy_pdp = eval_sets[model_name].dropna() #  solve bug on sklearn.partial_dependece() which can not deal with NAN values\n",
    "#     X_pdp, y_pdp = Xy_pdp[Xy_pdp.columns.drop(target)], Xy_pdp[target]\n",
    "#     X_pdp = pd.DataFrame(\n",
    "#         MinMaxScaler().fit_transform(X_pdp), # for same scaled pd plots across models\n",
    "#         columns=X.columns\n",
    "#         )\n",
    "#     Xy_pdp = pd.concat([y_pdp, X_pdp], axis=1)\n",
    "\n",
    "#     for predictor_name in X.columns.to_list(): \n",
    "#         features_info =  {\n",
    "#             #\"percentiles\" : (0.05, .95) # causes NAN for some variables for XGB if (0, 1)\n",
    "#             \"model\" : final_models_trained[model_name], \n",
    "        #     \"Xy\" : Xy_pdp, \n",
    "        #     \"y_name\" : target, \n",
    "        #     \"feature_name\" : predictor_name, \n",
    "        #     \"scale\"  : True\n",
    "        # }         \n",
    "        # # get Partial dependences for sklearn models\n",
    "        # partial_dep = me.get_partial_dependence(**features_info)\n",
    "\n",
    "        # pdp_features[model_name][predictor_name] = partial_dep\n",
    "\n",
    "\n",
    "# ## Plot PDP\n",
    "\n",
    "# most_important_features = df_feature_importances_plot.sort_values(f\"{model_name}_importances\", ascending=False).index\n",
    "\n",
    "# categorical = [] # [\"flowvelocity\", \"further_variables ..\"]\n",
    "# ncols = 1\n",
    "# nrows = len(most_important_features[:10])\n",
    "# idx = 0\n",
    "\n",
    "# plt.figure(figsize=(5,25))\n",
    "# # plt.suptitle(f\"Partial Dependences for {target}\", fontsize=18, y=0.95)\n",
    "\n",
    "\n",
    "# ## create PDP for all three models\n",
    "# for feature in most_important_features[:10]:\n",
    "#     for model_name, color, idx_col in zip([model_name], [\"darkblue\"], [0]):\n",
    "        \n",
    "#         # idx position of subplot\n",
    "#         ax = plt.subplot(nrows, ncols, idx + 1 + idx_col)\n",
    "    #     feature_info = {\"color\" : color, \"ax\" : ax} \n",
    "\n",
    "    #     # plot\n",
    "    #     df_pd_feature = pdp_features[model_name][feature]  \n",
    "    #     p = f.plot_partial_dependence(\n",
    "    #         df_pd_feature, \n",
    "    #         feature_name=feature, \n",
    "    #         partial_dependence_name=\"yhat\", \n",
    "    #         categorical=[],\n",
    "    #         outfile=f\"../model_results/models_evaluation/can_tho/chance_of_loss/pdp_{target}.jpg\",\n",
    "    #         **feature_info\n",
    "    #         )\n",
    "    #     p\n",
    "\n",
    "    # idx = idx + 1\n",
    "\n",
    "# #plt.subplots_adjust(top=0.2)\n",
    "# plt.savefig(f\"../model_results/models_evaluation/can_tho/chance_of_loss/pdp_{target}.jpg\", bbox_inches=\"tight\")\n",
    "\n",
    "\n",
    "# ### Empirical median ~ predicted median\n",
    "# Compare median and mean of predicted  vs observed target values\n",
    "for k,v in predicted_values.items():\n",
    "    print(f\"\\n{k}\")\n",
    "    print(em.empirical_vs_predicted(predicted_values[k][\"y_true\"], predicted_values[k][\"y_pred\"]))\n",
    "\n",
    "\n",
    "# HCMC LogReg : with removed 4 highest abs loss removed ACC 0.61\n",
    "#             LogisticRegression_score  LogisticRegression_score_std\n",
    "# accuracy                       0.61                          0.08\n",
    "# precision                      0.53                          0.10\n",
    "# recall                         0.57                          0.15\n",
    "# f1_macro                       0.59                          0.08 \n",
    "\n",
    "## Can Tho\n",
    "## drop in model performance when predict on abs loss (Acc 62%) --> r loss (Acc 0.55 - cv-selfbuilt)\n",
    "# rloss limit to <= 0.5 - ACC 0.535\n",
    "\n",
    "## HCMC\n",
    "# with new cv estimation and rloss <= 0.5  : ACC - 0.60\n",
    "# LogReg : with removed 4 highest ab loss (old cv apporach) removed ACC 0.61\n",
    "\n",
    "## HCMC_cantho quick rm\n",
    "# Outer evaluation scores:\n",
    "#             LogisticRegression_score  LogisticRegression_score_std\n",
    "# accuracy                       0.52                          0.04\n",
    "# precision                      0.48                          0.03\n",
    "# recall                         0.69 **-)                      0.11\n",
    "# f1_macro                       0.51                          0.06 \n",
    "\n",
    "\n",
    "f.plot_confusion_matrix(\n",
    "    predicted_values[model_name][\"y_true\"],\n",
    "    predicted_values[model_name][\"y_pred\"],\n",
    "    outfile=f\"../model_results/models_evaluation/{hcmc_cantho}/chance_of_loss/pdp_{target}.jpg\",\n",
    ")\n",
    "# no sample weights\n",
    "# Outer evaluation scores:\n",
    "#             LogisticRegression_score  LogisticRegression_score_std\n",
    "# accuracy                      0.600                         0.069\n",
    "# precision                     0.512                         0.120\n",
    "# recall                        0.370                         0.113\n",
    "# f1_macro                      0.558                         0.078 \n",
    "\n",
    "\n",
    "# sample weights\n",
    "# Outer evaluation scores:\n",
    "#             LogisticRegression_score  LogisticRegression_score_std\n",
    "# accuracy                      0.600                         0.069\n",
    "# precision                     0.512                         0.120\n",
    "# recall                        0.370                         0.113\n",
    "# f1_macro                      0.558                         0.078 \n",
    "\n"
   ]
  },
  {
   "cell_type": "code",
   "execution_count": null,
   "metadata": {},
   "outputs": [],
   "source": [
    "## no class balancing\n",
    "##          1.0       0.42      0.88      0.57       107   # no sample weights\n",
    "##          1.0       0.42      0.96      0.59       107   # with sample weight 0.7 / 0.3\n",
    "##          1.0       0.42      0.96      0.59       107   # with sample weight 0.3 / 0.7\n",
    "\n",
    "\n",
    "## only class balancing (no sample weights)\n",
    "#\"model__class_weight\": 0:0.3 , 1:0.7,\n",
    "#         1.0       0.42      0.96      0.59       107\n",
    "\n",
    "\n",
    "# #sampel 6 ? 4 with balanced class weighs and less kfolds/repas \n",
    "# accuracy                      0.562                         0.079\n",
    "## --> less good as with stronger sample wieghts , also less good in detailed c.report \n",
    " \n",
    "# ## sample 8 / 2 (with balanced) + less kfolds/repas \n",
    "# accuracy                      0.562                         0.079 no resart # with restart\n",
    "\n",
    "###################################\n",
    "\n",
    "# ## sample 8 / 2 (no balancing =None) + less kfolds/repas \n",
    "# accuracy                      0.573                         0.066\n",
    "\n",
    "# ## sample 8 / 2 (no balancing =None) + many kfolds/repas \n",
    "## ACC 60%\n",
    "\n",
    "#          0.0       0.82      0.21      0.33       153\n",
    "#          1.0       0.45      0.93      0.61       107\n",
    "\n",
    "#     accuracy                           0.51       260\n",
    "#    macro avg       0.64      0.57      0.47       260\n",
    "# weighted avg       0.67      0.51      0.45       260"
   ]
  },
  {
   "cell_type": "code",
   "execution_count": null,
   "metadata": {},
   "outputs": [],
   "source": []
  },
  {
   "cell_type": "code",
   "execution_count": null,
   "metadata": {},
   "outputs": [],
   "source": [
    "model_evaluation_results#[\"estimator\"][0]\n",
    "\n",
    "# s =df_candidates_continous[target]\n",
    "# # s = np.where(df_candidates_continous[target] > 0.2, 0.2, df_candidates_continous[target])\n",
    "# # # s = np.where(df_candidates_continous[target]==0.0, 0.3, df_candidates_continous[target])\n",
    "# s = np.where(df_candidates_continous[target].between(0.000001, 0.1), 0.7, 0.3)\n",
    "# # pd.Series(s).describe()\n",
    "\n",
    "# pd.concat([pd.Series(s), df_candidates_continous[target]], axis=1).tail(30)"
   ]
  },
  {
   "cell_type": "markdown",
   "metadata": {},
   "source": []
  },
  {
   "cell_type": "code",
   "execution_count": null,
   "metadata": {},
   "outputs": [],
   "source": [
    "df_candidates_continous[\"y_pred\"] = y_pred\n",
    "df_candidates_continous.insert(0, \"y_pred\", df_candidates_continous.pop(\"y_pred\"))\n",
    "## all False positives from final model\n",
    "df_falsepositives = df_candidates_continous[(df_candidates_continous.Target_relative_contentloss_euro !=0) & (df_candidates_continous.y_pred==0.0)].sort_values(\"Target_relative_contentloss_euro\").head(50)\n",
    "df_falsepositives"
   ]
  },
  {
   "cell_type": "code",
   "execution_count": null,
   "metadata": {},
   "outputs": [],
   "source": [
    "print(pd.Series(y).value_counts())\n",
    "print(pd.Series(y_pred).value_counts())\n",
    "\n"
   ]
  },
  {
   "cell_type": "code",
   "execution_count": null,
   "metadata": {},
   "outputs": [],
   "source": [
    "# f.plot_correlations(df_candidates)\n",
    "#         \"model__class_weight\": [{0:\"0.33\", 1:\"0.67\"}],\n",
    "\n",
    "from sklearn.metrics import classification_report\n",
    "print(classification_report( y, y_pred)) # baggin: ACC: 0.58\n",
    "              "
   ]
  },
  {
   "cell_type": "code",
   "execution_count": null,
   "metadata": {},
   "outputs": [],
   "source": []
  },
  {
   "cell_type": "code",
   "execution_count": null,
   "metadata": {},
   "outputs": [],
   "source": [
    "# f.plot_correlations(df_candidates)\n",
    "#         \"model__class_weight\": [{0:\"0.33\", 1:\"0.67\"}],\n",
    "\n",
    "from sklearn.metrics import classification_report\n",
    "print(classification_report( y, y_pred)) # baggin: ACC: 0.58\n",
    "              "
   ]
  },
  {
   "cell_type": "code",
   "execution_count": null,
   "metadata": {},
   "outputs": [],
   "source": [
    "# models_coef#[f\"LogisticRegression_selfbuilt\"][\"features\"] =  [\"intercept\"] + X.columns.to_list()\n",
    "# model_coef[f\"LogisticRegression_selfbuilt\"]"
   ]
  },
  {
   "cell_type": "code",
   "execution_count": null,
   "metadata": {},
   "outputs": [],
   "source": [
    "# models_cv_result.keys()"
   ]
  },
  {
   "cell_type": "code",
   "execution_count": null,
   "metadata": {},
   "outputs": [],
   "source": [
    "## scoring=ACC 5*5 ACC:\n",
    "# outer CV: ACC: 0.573 (0.087)\n",
    "# outer CV: precision: 0.491 (0.105)\n",
    "# outer CV: recall: 0.607 (0.176)\n",
    "# outer CV: F1: 0.529 (0.114)\n",
    "\n",
    "## scoring=ACC 10*5 ACC: "
   ]
  },
  {
   "cell_type": "code",
   "execution_count": null,
   "metadata": {},
   "outputs": [],
   "source": [
    "# ValueError: Classification metrics can't handle a mix of binary and continuous targets\n",
    "predicted_probabilities\n",
    "#pd.Series(y_pred).describe()\n"
   ]
  },
  {
   "cell_type": "code",
   "execution_count": null,
   "metadata": {},
   "outputs": [],
   "source": [
    "#logistic_reg_cv\n",
    "# ?logistic_reg\n",
    "# ?KFold\n",
    "predicted_probabilities\n",
    "\n",
    "## use continous  probability values for weights in BN\n",
    "# --> gives chance that a certain vlaue of loss occures \n",
    "## model bias over/underestimation of losses\n"
   ]
  },
  {
   "cell_type": "code",
   "execution_count": null,
   "metadata": {},
   "outputs": [],
   "source": [
    "model_coef[\"LogisticRegression_selfbuilt\"][\"features\"] =  [\"intercept\"] + X.columns.to_list()\n",
    "model_coef[\"LogisticRegression_selfbuilt\"].sort_values(\"features\")"
   ]
  },
  {
   "cell_type": "code",
   "execution_count": null,
   "metadata": {},
   "outputs": [],
   "source": [
    "model_coef[\"logreg_freg\"].sort_values(\"features\")"
   ]
  },
  {
   "cell_type": "markdown",
   "metadata": {},
   "source": [
    "## Evaluation"
   ]
  },
  {
   "cell_type": "markdown",
   "metadata": {},
   "source": [
    "#### Coefficients of Logistic Regression \n",
    "\n",
    "LogReg:  The algorithm estimates the probability of an event occurring by fitting a logistic function to a set of input variables. The coefficients for logistic regression are used to measure the strength of the relationship between the input variables and the output variable.\n",
    "LogReg doesnt reduce the influence of correlated variables on the model (in contrast to the regularization term in Linear models.)\n",
    "\n",
    "[https://scikit-learn.org/stable/auto_examples/inspection/plot_linear_model_coefficient_interpretation.html#checking-the-variability-of-the-coefficients]\n",
    "\n",
    "\n",
    "sklearn:\n",
    "odds_ratio = exp(coef)\n",
    "where exp is the exponential function and coef is the coefficient for the input variable. The odds_ratio represents the change in the odds of the output variable for a one-unit increase in the input variable. A value greater than 1 indicates that the odds of the output variable increase with an increase in the input variable"
   ]
  },
  {
   "cell_type": "code",
   "execution_count": null,
   "metadata": {},
   "outputs": [],
   "source": [
    "model_coef[\"logreg_selfbuilt\"][\"features\"] =  [\"intercept\"] + X.columns.to_list()\n",
    "model_coef[\"logreg_selfbuilt\"].sort_values(\"features\")\n"
   ]
  },
  {
   "cell_type": "code",
   "execution_count": null,
   "metadata": {},
   "outputs": [],
   "source": [
    "#df_candidates.resistant_material_building_impl.value_counts()"
   ]
  },
  {
   "cell_type": "code",
   "execution_count": null,
   "metadata": {},
   "outputs": [],
   "source": [
    "model_coef[\"logreg_selfbuilt\"].sort_values(\"features\")"
   ]
  },
  {
   "cell_type": "code",
   "execution_count": null,
   "metadata": {},
   "outputs": [],
   "source": [
    "# #models_trained[\"LogisticRegression\"]\n",
    "# #print(model_coef.keys())\n",
    "# #model_coef\n",
    "\n",
    "# import statsmodels.api as sm\n",
    "\n",
    "# df_candidates_sm = pd.get_dummies(df_candidates_t, columns=[target], drop_first=True)\n",
    "# y_sm = df_candidates_sm[[target+\"_1\"]]\n",
    "# X_sm = df_candidates_sm.drop(target+\"_1\", axis=1)\n",
    "# sm_model = sm.Logit(y_sm, sm.add_constant(X_sm)).fit(disp=0)\n",
    "# print(sm_model.pvalues)\n",
    "# sm_model.summary()\n",
    "\n",
    "\n"
   ]
  },
  {
   "cell_type": "code",
   "execution_count": null,
   "metadata": {},
   "outputs": [],
   "source": []
  },
  {
   "cell_type": "code",
   "execution_count": null,
   "metadata": {},
   "outputs": [],
   "source": [
    "# #import statsmodels.api as sm\n",
    "\n",
    "# print(model_coef.keys())\n",
    "# print(model_coef[\"LogisticRegression\"].sort_values(\"coef\", key=abs, ascending=False).head(10))\n",
    "\n",
    "## Interpretation of coefficients:\n",
    "#  Without normalization: e.g increase of 1 year in AGE means a decrease of <coef_value> of the target in its unit, \n",
    "#  On the other hand, categorical variables (as UNION or SEX) are adimensional numbers taking either the value 0 or 1 (<-were hot-encoded). \n",
    "# Their coefficients are expressed in dollars/hour. Then, we cannot compare the magnitude of different coefficients since the features \n",
    "# have different natural scales, and hence value ranges, because of their different unit of measure. \n",
    "# [https://scikit-learn.org/stable/auto_examples/inspection/plot_linear_model_coefficient_interpretation.html#checking-the-variability-of-the-coefficients]"
   ]
  },
  {
   "cell_type": "code",
   "execution_count": null,
   "metadata": {},
   "outputs": [],
   "source": []
  },
  {
   "cell_type": "markdown",
   "metadata": {},
   "source": [
    "### Confusion matrix"
   ]
  },
  {
   "cell_type": "code",
   "execution_count": null,
   "metadata": {},
   "outputs": [],
   "source": [
    "## based on neste cv\n",
    "f.plot_confusion_matrix(\n",
    "    predicted_values[\"y_pred\"],\n",
    "    predicted_values[\"y_pred\"],\n",
    "    show_absolute=True,\n",
    "    show_normed=True,\n",
    "    colorbar=False,\n",
    "    model_name=\"Logistic_Regression\", target_name=target)"
   ]
  },
  {
   "cell_type": "markdown",
   "metadata": {},
   "source": [
    "### Empirical median ~ predicted median\n",
    "\n",
    "And further statitics compared to their empirical counterpart.\n",
    "-  mean / variance / std  compared to empirical distribution"
   ]
  },
  {
   "cell_type": "code",
   "execution_count": null,
   "metadata": {},
   "outputs": [],
   "source": [
    "# print(\"Logistic Reg (binary classification): \", target)\n",
    "# e.empirical_vs_predicted(\n",
    "#     X, y.astype(int),\n",
    "#     models_list=[final_models_trained[\"LogisticRegression\"].named_steps[\"model\"]]    \n",
    "#     #models_list=[model, model_log, model_quantile, model_boxcox, model_sqrt]    \n",
    "# )\n",
    "\n",
    "# ## TODO idea: make a median/mean etc of best model as boxplots 8one (3 models for each target)\n"
   ]
  },
  {
   "cell_type": "code",
   "execution_count": null,
   "metadata": {},
   "outputs": [],
   "source": [
    "# #scores = cross_validate(elastic_net, X_train, y_train, scoring='neg_mean_absolute_error', cv=cv, n_jobs=-1)\n",
    "# #pd.DataFrame(scores).set_index(\"test_score\").sort_index().T\n",
    "\n",
    "# # #Snippet from: https://ubc-cs.github.io/cpsc330/lectures/08_hyperparameter-optimization.html#exhaustive-grid-search-sklearn-model-selection-gridsearchcv\n",
    "# #pd.DataFrame(elastic_net_cv.cv_results_).set_index(\"rank_test_score\").sort_index().T\n",
    "# pd.DataFrame(model.cv_results_)[\n",
    "#         [                                   # only important cv evaluation metrics \n",
    "#             \"mean_test_score\",\n",
    "#             \"mean_fit_time\",\n",
    "#             \"rank_test_score\",\n",
    "#             \"param_name__estimator__C\",\n",
    "#             \"param_name__estimator__penalty\",\n",
    "#             \"param_name__estimator__l1_ratio\",\n",
    "#             \"param_name__estimator__max_iter\"\n",
    "#         ]\n",
    "#     ].set_index(\"rank_test_score\").sort_index().T\n"
   ]
  },
  {
   "cell_type": "code",
   "execution_count": null,
   "metadata": {},
   "outputs": [],
   "source": []
  },
  {
   "cell_type": "code",
   "execution_count": null,
   "metadata": {},
   "outputs": [],
   "source": [
    "## reload models\n",
    "\n",
    "print(targets)\n",
    "target = targets[0]\n",
    "\n",
    "logistic_reg_eval = pickle.load(open(f\"./models_trained/logisticreg_{target}.sav\", 'rb'))\n",
    "#elastic_net_eval.get_params()\n"
   ]
  },
  {
   "cell_type": "markdown",
   "metadata": {},
   "source": [
    "### Feature importance"
   ]
  },
  {
   "cell_type": "code",
   "execution_count": null,
   "metadata": {},
   "outputs": [],
   "source": [
    "## TODO test to get std of FI _ C:\\Users\\Anna\\Documents\\UNI\\MA_topic\\recycling\\sm2t-traffic-speed-model-partial-dependence\\SM2T\\sm2t-traffic-speed-model_partialDep\\traffic_speed_model\\modelling.py\n",
    "#    std = np.std([tree.feature_importances_ for tree in model.estimators_], axis=0)  # based on RF_fi_ \n",
    "\n",
    "#plt.rcParams['axes.grid'] = 'none'\n",
    "#s = df_feature_importances"
   ]
  },
  {
   "cell_type": "code",
   "execution_count": null,
   "metadata": {},
   "outputs": [],
   "source": [
    "### drop features which dont reduce the loss\n",
    "#df_feature_importances = s\n",
    "df_feature_importances = df_feature_importances.loc[df_feature_importances.logreg_importances >= 0.0001, : ] \n",
    "df_feature_importances = df_feature_importances.sort_values(\"logreg_importances\", ascending=True)\n",
    "\n",
    "plt.figure(figsize=(30, 22), facecolor=\"w\")\n",
    "df_feature_importances.plot.barh(\n",
    "    color=\"darkblue\",\n",
    "    width=0.5,\n",
    "    # #errorbar=\"sd\",\n",
    "    # errorbar=(\"pi\", 50), \n",
    "    # capsize=.1, errcolor=\".5\",\n",
    "    # linewidth=3,\n",
    "    )\n",
    "plt.xlabel(\"Importance\")\n",
    "plt.ylabel(\"\")\n",
    "plt.title(f\"Feature Importances for {target.replace('_',' ')}\")\n",
    "\n",
    "\n",
    "top_bar = mpatches.Patch(color=\"darkblue\", label=\"logistic regression\")\n",
    "plt.tick_params(axis='x', which='major', labelsize=12)\n",
    "plt.tick_params(axis='y', which='major', labelsize=8)\n",
    "plt.legend(handles=[top_bar], loc=\"lower right\")\n",
    "plt.tight_layout()\n",
    "#plt.axes().set_facecolor(\"w\")\n",
    "plt.grid(False)\n",
    "#plt.show()\n",
    "\n",
    "#sns.despine(left=True, bottom=True)\n",
    "## save importance scores and figure\n",
    "#filepath = f'./models_evaluation/best_xgb_importance_scores_{target}_{pipe_name}'\n",
    "#if not glob(filepath):\n",
    "#    df_importance.to_csv(filename, index = False)\n",
    "#plt.savefig(f'../../../figures/best_en_feature_importance_{target}_{pipe_name}.png', bbox_inches='tight')\n",
    "\n"
   ]
  },
  {
   "cell_type": "code",
   "execution_count": null,
   "metadata": {},
   "outputs": [],
   "source": []
  },
  {
   "cell_type": "markdown",
   "metadata": {},
   "source": [
    "###  Partial dependences"
   ]
  },
  {
   "cell_type": "code",
   "execution_count": null,
   "metadata": {},
   "outputs": [],
   "source": [
    "## store partial dependences for each classification algorithm\n",
    "\n",
    "pdp_features = {a : {} for a in [\"LogisticRegression\"]}\n",
    "\n",
    "me = e.ModelEvaluation()\n",
    "\n",
    "\n",
    "for model_name in [\"LogisticRegression\"]:\n",
    "\n",
    "    Xy_pdp = eval_sets[model_name].dropna() #  solve bug on sklearn.partial_dependece() which can not deal with NAN values\n",
    "    X_pdp, y_pdp = Xy_pdp[Xy_pdp.columns.drop(target)], Xy_pdp[target]\n",
    "    X_pdp = pd.DataFrame(\n",
    "        MinMaxScaler().fit_transform(X_pdp), # for same scaled pd plots across models\n",
    "        columns=X.columns\n",
    "        )\n",
    "    Xy_pdp = pd.concat([y_pdp, X_pdp], axis=1)\n",
    "\n",
    "    for predictor_name in X.columns.to_list(): \n",
    "        features_info =  {\n",
    "            #\"percentiles\" : (0.05, .95) # causes NAN for some variables for XGB if (0, 1)\n",
    "            \"model\" : final_models_trained[model_name], \n",
    "            \"Xy\" : Xy_pdp, \n",
    "            \"y_name\" : target, \n",
    "            \"feature_name\" : predictor_name, \n",
    "            \"scale\"  : True\n",
    "        }         \n",
    "\n",
    "        if model_name != \"crf\":   \n",
    "            print(predictor_name)\n",
    "            partial_dep = me.get_partial_dependence(\n",
    "                **features_info\n",
    "            )\n",
    "        else:  # process R models\n",
    "            print(\"crf: \", predictor_name)\n",
    "            partial_dep = me.decorator_func(       #  change function only temporally        \n",
    "                # model=final_models_trained[model_name], \n",
    "                # Xy=Xy_pdp, \n",
    "                # y_name=target, \n",
    "                # feature_name=predictor_name, \n",
    "                # scale=True\n",
    "                **features_info\n",
    "            ) (me.get_partial_dependence)()\n",
    "\n",
    "        pdp_features[model_name][predictor_name] = partial_dep\n",
    "\n"
   ]
  },
  {
   "cell_type": "code",
   "execution_count": null,
   "metadata": {},
   "outputs": [],
   "source": [
    "plt.figure(figsize=(10,25))\n",
    "#plt.subplots_adjust(hspace=0.9)\n",
    "#plt.suptitle(f\"Partial Dependences for {target}\", fontsize=18, y=0.95)\n",
    "\n",
    "\n",
    "most_important_features = df_feature_importances_plot.sort_values(\"sum_all_importances_weighted\", ascending=False).index\n",
    "\n",
    "\n",
    "\n",
    "idx = 0\n",
    "categorical = [] # [\"flowvelocity\"]\n",
    "ncols = 3\n",
    "nrows = len(most_important_features[:10])\n",
    "\n",
    "## create PDP for all three models\n",
    "for feature in most_important_features[:10]:\n",
    "    for model_name, color, idx_col in zip([\"crf\", \"en\", \"xgb\"], [\"darkblue\", \"steelblue\",\"grey\"], [0, 1, 2]):\n",
    "        \n",
    "        # idx position of subplot\n",
    "        ax = plt.subplot(nrows, ncols, idx + 1 + idx_col)\n",
    "        feature_info = {\"color\" : color, \"ax\" : ax} \n",
    "\n",
    "        # plot\n",
    "        df_pd_feature = pdp_features[model_name][feature]  \n",
    "        p = f.plot_partial_dependence(\n",
    "            df_pd_feature, feature_name=feature, partial_dependence_name=\"yhat\", \n",
    "            categorical=[],\n",
    "            outfile=f\"./models_evaluation/chance_of_loss/pdp_{target}.jpg\",\n",
    "            **feature_info\n",
    "            )\n",
    "        p\n",
    "\n",
    "    idx = idx + 3\n",
    "\n",
    "#plt.subplots_adjust(top=0.2)\n",
    "#plt.savefig(\"test_pdp.jpg\", bbox_inches=\"tight\")\n"
   ]
  },
  {
   "cell_type": "code",
   "execution_count": null,
   "metadata": {},
   "outputs": [],
   "source": []
  }
 ],
 "metadata": {
  "kernelspec": {
   "display_name": "py396_c3",
   "language": "python",
   "name": "python3"
  },
  "language_info": {
   "codemirror_mode": {
    "name": "ipython",
    "version": 3
   },
   "file_extension": ".py",
   "mimetype": "text/x-python",
   "name": "python",
   "nbconvert_exporter": "python",
   "pygments_lexer": "ipython3",
   "version": "3.9.6"
  },
  "orig_nbformat": 4
 },
 "nbformat": 4,
 "nbformat_minor": 2
}
