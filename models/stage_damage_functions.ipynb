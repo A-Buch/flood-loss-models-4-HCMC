{
 "cells": [
  {
   "attachments": {},
   "cell_type": "markdown",
   "metadata": {},
   "source": [
    "Aim: \n",
    "- Define best (and second best) stage-damage function for survey dataset to use them as baseline for the multivariat models\n",
    "- Evaluate functions by MSE, R2 etc"
   ]
  },
  {
   "cell_type": "code",
   "execution_count": 26,
   "metadata": {},
   "outputs": [],
   "source": [
    "import pandas as pd\n",
    "import geopandas as gpd\n",
    "import numpy as np\n",
    "from shapely import wkt\n",
    "\n",
    "from scipy import stats, optimize\n",
    "from sklearn.preprocessing import PolynomialFeatures, MinMaxScaler\n",
    "from sklearn.linear_model import LinearRegression\n",
    "from sklearn.metrics import mean_squared_error, r2_score\n",
    "\n",
    "import matplotlib.pyplot as plt\n",
    "%matplotlib inline\n"
   ]
  },
  {
   "cell_type": "code",
   "execution_count": 29,
   "metadata": {},
   "outputs": [
    {
     "data": {
      "text/html": [
       "<div>\n",
       "<style scoped>\n",
       "    .dataframe tbody tr th:only-of-type {\n",
       "        vertical-align: middle;\n",
       "    }\n",
       "\n",
       "    .dataframe tbody tr th {\n",
       "        vertical-align: top;\n",
       "    }\n",
       "\n",
       "    .dataframe thead th {\n",
       "        text-align: right;\n",
       "    }\n",
       "</style>\n",
       "<table border=\"1\" class=\"dataframe\">\n",
       "  <thead>\n",
       "    <tr style=\"text-align: right;\">\n",
       "      <th></th>\n",
       "      <th>Target_direct</th>\n",
       "      <th>business_reduction</th>\n",
       "      <th>inundation_duration_h</th>\n",
       "      <th>water_depth_cm</th>\n",
       "      <th>warning_time_h</th>\n",
       "      <th>shp_damage_level_business</th>\n",
       "      <th>shp_damage_level_products</th>\n",
       "      <th>shp_closed_d</th>\n",
       "      <th>shp_duration_back2normal</th>\n",
       "      <th>contaminations</th>\n",
       "      <th>...</th>\n",
       "      <th>elevation_building_height_cm</th>\n",
       "      <th>building_elevation_rel2surrounding</th>\n",
       "      <th>building_elevation_rel2surrounding.cm</th>\n",
       "      <th>shp_sector.specify</th>\n",
       "      <th>shp_avgmonthly_sale_mVND</th>\n",
       "      <th>shp_capital_mVND</th>\n",
       "      <th>shp_monetary_resources_prenvention</th>\n",
       "      <th>lat</th>\n",
       "      <th>lon</th>\n",
       "      <th>geometry</th>\n",
       "    </tr>\n",
       "  </thead>\n",
       "  <tbody>\n",
       "    <tr>\n",
       "      <th>502</th>\n",
       "      <td>2.0</td>\n",
       "      <td>70.0</td>\n",
       "      <td>2.0</td>\n",
       "      <td>10</td>\n",
       "      <td>0.0</td>\n",
       "      <td>4</td>\n",
       "      <td>2</td>\n",
       "      <td>2</td>\n",
       "      <td>4</td>\n",
       "      <td>2</td>\n",
       "      <td>...</td>\n",
       "      <td>NaN</td>\n",
       "      <td>NaN</td>\n",
       "      <td>NaN</td>\n",
       "      <td>NaN</td>\n",
       "      <td>NaN</td>\n",
       "      <td>NaN</td>\n",
       "      <td>NaN</td>\n",
       "      <td>NaN</td>\n",
       "      <td>NaN</td>\n",
       "      <td>POINT EMPTY</td>\n",
       "    </tr>\n",
       "    <tr>\n",
       "      <th>503</th>\n",
       "      <td>0.0</td>\n",
       "      <td>100.0</td>\n",
       "      <td>5.0</td>\n",
       "      <td>20</td>\n",
       "      <td>0.0</td>\n",
       "      <td>1</td>\n",
       "      <td>1</td>\n",
       "      <td>14</td>\n",
       "      <td>20</td>\n",
       "      <td>2</td>\n",
       "      <td>...</td>\n",
       "      <td>NaN</td>\n",
       "      <td>NaN</td>\n",
       "      <td>NaN</td>\n",
       "      <td>NaN</td>\n",
       "      <td>NaN</td>\n",
       "      <td>NaN</td>\n",
       "      <td>NaN</td>\n",
       "      <td>NaN</td>\n",
       "      <td>NaN</td>\n",
       "      <td>POINT EMPTY</td>\n",
       "    </tr>\n",
       "  </tbody>\n",
       "</table>\n",
       "<p>2 rows × 29 columns</p>\n",
       "</div>"
      ],
      "text/plain": [
       "     Target_direct  business_reduction  inundation_duration_h  water_depth_cm   \n",
       "502            2.0                70.0                    2.0              10  \\\n",
       "503            0.0               100.0                    5.0              20   \n",
       "\n",
       "     warning_time_h  shp_damage_level_business  shp_damage_level_products   \n",
       "502             0.0                          4                          2  \\\n",
       "503             0.0                          1                          1   \n",
       "\n",
       "     shp_closed_d  shp_duration_back2normal  contaminations  ...   \n",
       "502             2                         4               2  ...  \\\n",
       "503            14                        20               2  ...   \n",
       "\n",
       "     elevation_building_height_cm  building_elevation_rel2surrounding   \n",
       "502                           NaN                                 NaN  \\\n",
       "503                           NaN                                 NaN   \n",
       "\n",
       "     building_elevation_rel2surrounding.cm  shp_sector.specify   \n",
       "502                                    NaN                 NaN  \\\n",
       "503                                    NaN                 NaN   \n",
       "\n",
       "     shp_avgmonthly_sale_mVND  shp_capital_mVND   \n",
       "502                       NaN               NaN  \\\n",
       "503                       NaN               NaN   \n",
       "\n",
       "     shp_monetary_resources_prenvention  lat  lon     geometry  \n",
       "502                                 NaN  NaN  NaN  POINT EMPTY  \n",
       "503                                 NaN  NaN  NaN  POINT EMPTY  \n",
       "\n",
       "[2 rows x 29 columns]"
      ]
     },
     "execution_count": 29,
     "metadata": {},
     "output_type": "execute_result"
    }
   ],
   "source": [
    "df_candidates = pd.read_excel(\"../input_survey_data/survey_data_candidates_coords.xlsx\")\n",
    "\n",
    "df_candidates = gpd.GeoDataFrame(df_candidates, crs=\"EPSG:4326\", geometry=gpd.points_from_xy(df_candidates.lat, df_candidates.lon))\n",
    "df_candidates.tail(2)"
   ]
  },
  {
   "cell_type": "code",
   "execution_count": 30,
   "metadata": {},
   "outputs": [
    {
     "name": "stdout",
     "output_type": "stream",
     "text": [
      "(216, 29)\n"
     ]
    }
   ],
   "source": [
    "## remove businesses without direct damage costs\n",
    "\n",
    "df_candidates.Target_direct.value_counts();\n",
    "df_candidates = df_candidates[df_candidates.Target_direct > 0.0]  # 136=0.0\n",
    "print(df_candidates.shape)\n"
   ]
  },
  {
   "attachments": {},
   "cell_type": "markdown",
   "metadata": {},
   "source": [
    "### univariate regressions (linear, square root, expo)\n"
   ]
  },
  {
   "cell_type": "code",
   "execution_count": 97,
   "metadata": {},
   "outputs": [],
   "source": [
    "df_candidates = df_candidates[['water_depth_cm', 'inundation_duration_h', 'contaminations', 'Target_direct']].dropna()\n",
    "df_candidates = df_candidates.sort_values(by='water_depth_cm')\n",
    "\n",
    "y = df_candidates.Target_direct.astype(\"float64\")\n",
    "X_unscaled = df_candidates['water_depth_cm'].values.astype(\"float64\")\n"
   ]
  },
  {
   "attachments": {},
   "cell_type": "markdown",
   "metadata": {},
   "source": [
    "#### Normalize independend variables \n",
    "- due that they dont have a gaussian distribution, donwside is that distance to outliers is decreased so outliers have influence on the loss calculation (smaller standard deviations when using normaization)\n"
   ]
  },
  {
   "cell_type": "code",
   "execution_count": 102,
   "metadata": {},
   "outputs": [],
   "source": [
    "scaler = MinMaxScaler() \n",
    "X = scaler.fit_transform(X_unscaled.reshape(-1, 1))\n"
   ]
  },
  {
   "cell_type": "code",
   "execution_count": 103,
   "metadata": {},
   "outputs": [],
   "source": [
    "## linear and root reg without least square method\n",
    "def linear_func(x,m,c):\n",
    "    return m*x + c\n",
    "## Alternative: Linear least squares regression - incluedes already evaluation params\n",
    "#linear_reg = stats.linregress(X, y)\n",
    "\n",
    "\n",
    "# Schoppa et al 2020 used square root regression\n",
    "def root_func(x,m,c):\n",
    "    return m*np.sqrt(x) + c\n",
    "\n",
    "\n",
    "def exp_func(x,m,c):\n",
    "    #p_1st = np.polyfit(X, y, 1)  # linear func, np.log(y) in combi wtih weights\n",
    "    #m = np.exp(p_1st[1]) # p_1st[1] = slope ? , polynomial back to exponential\n",
    "    b = -0.5 # initally guessed,  # p_1st[0] \n",
    "    return m * np.exp(b * x) + c\n",
    "#x_fitted = np.linspace(np.min(X), np.max(X), 100) # Create the fitted curve\n",
    "#y_fitted = m * np.exp(b * x_fitted)  # Create the fitted curve\n",
    "\n",
    "\n",
    "def standard_deviation(covariance):\n",
    "    \"\"\"\n",
    "    code: https://www.mandeepbasson.com/resources/python/curvefitting/curve_fitting/\n",
    "    \"\"\"\n",
    "    return np.sqrt(np.diag(covariance))\n",
    "\n"
   ]
  },
  {
   "attachments": {},
   "cell_type": "markdown",
   "metadata": {},
   "source": [
    "## Loss functions , precictor= water depth"
   ]
  },
  {
   "cell_type": "code",
   "execution_count": 106,
   "metadata": {},
   "outputs": [
    {
     "name": "stdout",
     "output_type": "stream",
     "text": [
      "R-squared, linear reg: 0.05\n",
      "R-squared, root reg: 0.04\n",
      "R-squared, exponential reg: 0.05\n"
     ]
    }
   ],
   "source": [
    "## Fit regression functions\n",
    "\n",
    "params, pcov = optimize.curve_fit(linear_func, X.flatten(), y)\n",
    "params_root, pcov_root = optimize.curve_fit(root_func, X.flatten(), y)\n",
    "params_exp, pcov_exp = optimize.curve_fit(exp_func, X.flatten(), y)\n",
    "# print(f\"optimized params for exponential func: slope: {params_exp[0]}, b: {params_exp[1]}\")#, intercept{params_exp[2]}\")\n",
    "\n",
    "print(f\"R-squared, linear reg: {r2_score(y, linear_func(X, *params)):.2f}\")#{linear_reg.rvalue**2:.3f}\")\n",
    "print(f\"R-squared, root reg: {r2_score(y, root_func(X, *params_root)):.2f}\")\n",
    "print(f\"R-squared, exponential reg: {r2_score( y, exp_func(X, *params_exp)):.2f}\")\n",
    "\n",
    "# print(f'The equation of the line of best fit is y = {m2:.2f}*x^0.5 + {c2:.2f}')"
   ]
  },
  {
   "attachments": {},
   "cell_type": "markdown",
   "metadata": {},
   "source": [
    "### Plot water depth vs Target"
   ]
  },
  {
   "cell_type": "code",
   "execution_count": 107,
   "metadata": {},
   "outputs": [
    {
     "data": {
      "text/plain": [
       "<matplotlib.legend.Legend at 0x177c9c1e9a0>"
      ]
     },
     "execution_count": 107,
     "metadata": {},
     "output_type": "execute_result"
    },
    {
     "data": {
      "image/png": "[encoded data removed]",
      "text/plain": [
       "<Figure size 640x480 with 1 Axes>"
      ]
     },
     "metadata": {},
     "output_type": "display_data"
    }
   ],
   "source": [
    "plt.plot(X, y, 'o', label='businesses with damage costs')\n",
    "plt.plot(X, linear_func(X, *params), 'black', label='Fitted linear reg')\n",
    "plt.plot(X, root_func(X, *params_root), '#002776', label='Fitted square root reg')\n",
    "plt.plot(X, exp_func(X, *params_exp), 'r', label='Fitted exponential reg')\n",
    "#plt.plot(x_fitted, y_fitted, 'r', label='Fitted exponential reg')\n",
    "\n",
    "plt.ylim(-10,1000)\n",
    "plt.xlabel(\"water depth [cm]\")\n",
    "plt.ylabel(\"loss costs for business contents [mVND]\")\n",
    "plt.legend()\n",
    "\n",
    "# plt.plot(X.water_depth_cm, y, 'o', label='original data')\n",
    "# # linear fnc\n",
    "# plt.plot(X.water_depth_cm, linear_reg.intercept + linear_reg.slope * X.water_depth_cm, 'r', label='fitted linear reg')\n",
    "#plt.plot(X.water_depth_cm, linear_func(X.water_depth_cm, *params), 'r-')\n",
    "#         label='fit: a=%5.3f, b=%5.3f, c=%5.3f' % tuple(popt))"
   ]
  },
  {
   "attachments": {},
   "cell_type": "markdown",
   "metadata": {},
   "source": [
    "## ## Loss functions , predictor= inundation duration"
   ]
  },
  {
   "cell_type": "code",
   "execution_count": 110,
   "metadata": {},
   "outputs": [],
   "source": [
    "df_candidates = df_candidates.sort_values(by='inundation_duration_h')\n",
    "\n",
    "y = df_candidates.Target_direct.astype(\"float64\")\n",
    "X_unscaled = df_candidates['inundation_duration_h'].values.astype(\"float64\")\n",
    "\n",
    "scaler = MinMaxScaler() \n",
    "X = scaler.fit_transform(X_unscaled.reshape(-1,1))\n",
    " "
   ]
  },
  {
   "cell_type": "code",
   "execution_count": 114,
   "metadata": {},
   "outputs": [
    {
     "name": "stdout",
     "output_type": "stream",
     "text": [
      "R-squared, linear reg: 0.00603\n",
      "R-squared, root reg: 0.02464\n",
      "R-squared, exponential reg: 0.00853\n"
     ]
    }
   ],
   "source": [
    "params, pcov = optimize.curve_fit(linear_func, X.flatten(), y)\n",
    "params_root, pcov_root = optimize.curve_fit(root_func, X.flatten(), y)\n",
    "params_exp, pcov_exp = optimize.curve_fit(exp_func, X.flatten(), y)\n",
    "\n",
    "#linear_reg = stats.linregress(X, y)\n",
    "print(f\"R-squared, linear reg: {r2_score( y, linear_func(X, *params)):.5f}\")\n",
    "print(f\"R-squared, root reg: {r2_score( y, root_func(X, *params_root)):.5f}\")\n",
    "print(f\"R-squared, exponential reg: {r2_score( y, exp_func(X, *params_exp)):.5f}\")"
   ]
  },
  {
   "attachments": {},
   "cell_type": "markdown",
   "metadata": {},
   "source": [
    "### Plot inundation duration vs Target"
   ]
  },
  {
   "cell_type": "code",
   "execution_count": 13,
   "metadata": {},
   "outputs": [
    {
     "data": {
      "text/plain": [
       "<matplotlib.legend.Legend at 0x177c5135ca0>"
      ]
     },
     "execution_count": 13,
     "metadata": {},
     "output_type": "execute_result"
    },
    {
     "data": {
      "image/png": "[encoded data removed]",
      "text/plain": [
       "<Figure size 640x480 with 1 Axes>"
      ]
     },
     "metadata": {},
     "output_type": "display_data"
    }
   ],
   "source": [
    "plt.scatter(X, y, label='businesses with damage costs')\n",
    "#plt.plot(X, y, 'o', label='businesses with damage costs')\n",
    "plt.plot(X, linear_func(X, *params), 'black', label='Fitted linear reg')\n",
    "plt.plot(X, root_func(X, *params_root), '#002776', label='Fitted square root reg')\n",
    "plt.plot(X, exp_func(X, *params_exp) ,'r', label='Fitted exponential reg')\n",
    "\n",
    "plt.ylim(-10,1000)\n",
    "plt.xlabel(\"inundation duration [h]\")\n",
    "plt.ylabel(\"loss costs for business contents [mVND]\")\n",
    "plt.legend()\n"
   ]
  },
  {
   "cell_type": "code",
   "execution_count": null,
   "metadata": {},
   "outputs": [],
   "source": []
  },
  {
   "attachments": {},
   "cell_type": "markdown",
   "metadata": {},
   "source": [
    "## bivariate regressions (linear, square root, expo)\n"
   ]
  },
  {
   "cell_type": "code",
   "execution_count": 116,
   "metadata": {},
   "outputs": [],
   "source": [
    "df_candidates = df_candidates.sort_values(by=['water_depth_cm','inundation_duration_h'])\n",
    "\n",
    "X_unscaled = df_candidates[['water_depth_cm', 'inundation_duration_h']].values\n",
    "y = df_candidates['Target_direct'].values\n",
    "\n",
    "scaler = MinMaxScaler() \n",
    "X = scaler.fit_transform(X_unscaled)\n"
   ]
  },
  {
   "cell_type": "code",
   "execution_count": 117,
   "metadata": {},
   "outputs": [],
   "source": [
    "def linear_bifunc(x,a,b,c):\n",
    "    return a*x[0] + b*x[1] + c\n",
    "# Alternative:\n",
    "    # linReg = LinearRegression()\n",
    "    # linReg.fit(x, y)\n",
    "    # y_pred = linReg.predict(x)\n",
    "        \n",
    "def root_bifunc(x,a,b,c):\n",
    "    return a*np.sqrt(x[0]) + b*np.sqrt(x[1]) + c\n",
    "\n",
    "\n",
    "def exp_bifunc(x,a,b,d):\n",
    "    d = 0.5 # initally guessed,  # p_1st[0] \n",
    "    return a*np.exp(d*x[0]) + b*np.exp(d*x[1]) # + c  # TODO why decreases r2 if y-intercept is added?\n",
    "\n",
    "# p = np.polyfit(X, np.log(y), 1) # Fit linear function - polynomial=1\n",
    "# m = np.exp(p[1]) # Convert the polynomial back into an exponential\n",
    "# b = p[0]\n",
    "# x_fitted = np.linspace(np.min(X), np.max(X), 100) # Create the fitted curve\n",
    "# y_fitted = m * np.exp(b * x_fitted)  # Create the fitted curve\n",
    "\n"
   ]
  },
  {
   "cell_type": "code",
   "execution_count": 146,
   "metadata": {},
   "outputs": [
    {
     "data": {
      "text/plain": [
       "(216, 4)"
      ]
     },
     "execution_count": 146,
     "metadata": {},
     "output_type": "execute_result"
    }
   ],
   "source": [
    "# linReg = LinearRegression()\n",
    "# linReg.fit(X, y)\n",
    "# y_pred = linReg.predict(X)\n",
    "\n",
    "#r2_score( y, linear_bifunc(XX, *params))"
   ]
  },
  {
   "attachments": {},
   "cell_type": "markdown",
   "metadata": {},
   "source": [
    "### LS fitting bivariate functions\n",
    "\n",
    "Code snippets_ https://enjoymachinelearning.com/blog/multivariate-polynomial-regression-python/"
   ]
  },
  {
   "cell_type": "code",
   "execution_count": 127,
   "metadata": {},
   "outputs": [
    {
     "name": "stdout",
     "output_type": "stream",
     "text": [
      "optimized params for exponential func: slope: 246.98628140687362, b: -167.64277468575392, intercept=1.0\n",
      "Linear regression : \n",
      "  adjusted R2: 53.711 \n",
      "  MSE: 17800603.501 \n",
      "  RMSE : 4219.076\n",
      "\n",
      "Root regression : \n",
      "  adjusted R2: -0.556   \n",
      "  MSE: 515803.877   \n",
      "  RMSE : 718.195\n",
      "\n",
      "Exponential regression : \n",
      "  adjusted R2: -0.017   \n",
      "  MSE: 337075.375   \n",
      "  RMSE : 580.582\n",
      "\n"
     ]
    }
   ],
   "source": [
    "## Fit bivariate regression functions\n",
    "\n",
    "XX = X.reshape( X.shape[1], X.shape[0])  # reshape neeeded for curve_fit()\n",
    "\n",
    "params, pcov = optimize.curve_fit(linear_bifunc, XX.flatten(),  list(y))\n",
    "params_root, pcov_root = optimize.curve_fit(root_bifunc, XX.flatten(),  list(y))\n",
    "params_exp, pcov_exp = optimize.curve_fit(exp_bifunc, XX.flatten(),  list(y))\n",
    "print(f\"optimized params for exponential func: slope: {params_exp[0]}, b: {params_exp[1]}, intercept={params_exp[2]}\")#, intercept{params_exp[2]}\")\n",
    "\n",
    "\n",
    "def r2_adjusted(X, y, y_pred):\n",
    "    \"\"\"\n",
    "    calc based on number of variabels adjusted R2\n",
    "    \"\"\"\n",
    "    r2 = r2_score(y, y_pred)\n",
    "    try:\n",
    "        r2_adj = 1 - (1-r2) * (len(y) - 1) / (len(y) - X.shape[0] -1) # nbr of variabels are now stored XX.shape[0] \n",
    "        return r2_adj\n",
    "    except:\n",
    "        return r2\n",
    "\n",
    "\n",
    "def mse(y, y_pred):\n",
    "    return mean_squared_error(y, y_pred)\n",
    "\n",
    "def rmse(y, y_pred):\n",
    "    return mean_squared_error(y, y_pred, squared=False)\n",
    "\n",
    "\n",
    "print(f\"Linear regression : \\n  adjusted R2: {r2_adjusted(XX.flatten(), y, linear_bifunc(XX, *params)):.3f}\",\n",
    "      f\"\\n  MSE: {mse(y, linear_bifunc(XX, *params)):.3f}\",\n",
    "      f\"\\n  RMSE : {rmse(y, linear_bifunc(XX, *params)):.3f}\\n\"\n",
    "      )\n",
    "print(f\"Root regression : \\n  adjusted R2: {r2_adjusted(XX, y, linear_bifunc(XX, *params_root)):.3f}\",\n",
    "      f\"  \\n  MSE: {mse(y, linear_bifunc(XX, *params_root)):.3f}\",\n",
    "      f\"  \\n  RMSE : {rmse(y, linear_bifunc(XX, *params_root)):.3f}\\n\"\n",
    "      )\n",
    "print(f\"Exponential regression : \\n  adjusted R2: {r2_adjusted(XX, y, exp_bifunc(XX, *params_exp)):.3f}\",\n",
    "      f\"  \\n  MSE: {mse(y, exp_bifunc(XX, *params_exp)):.3f}\",\n",
    "      f\"  \\n  RMSE : {rmse(y, exp_bifunc(XX, *params_exp)):.3f}\\n\"\n",
    "      )\n",
    "\n",
    "\n",
    "# func_names = [\"linear regression\", \"root regression\", \"exponential regression\"]\n",
    "# for i,func in enumerate([linear_bifunc(XX, *params), root_bifunc(XX, *params_root), exp_bifunc(XX, *params_exp)]):\n",
    "#     print(f\" {func_names[i]}  : \\nadjusted R2: {r2_score_using_multivariate(XX, y, func):.3f}\",\n",
    "#       f\"\\nMSE: {mean_squared_error(y, func):.3f}\",\n",
    "#       f\"\\nRMSE : {root_mean_squared_error(y, func):.3f}\"\n",
    "#     )\n",
    "\n"
   ]
  },
  {
   "cell_type": "code",
   "execution_count": null,
   "metadata": {},
   "outputs": [],
   "source": []
  },
  {
   "attachments": {},
   "cell_type": "markdown",
   "metadata": {},
   "source": [
    "## Summary\n",
    "\n",
    "- with combinec targets the bivariate functions perform quite similar worse as with univarite regressions\n",
    "  - i.e. water depth and indundation duration explain nearly nothing of the variance in direct loss costs for business contents \n",
    "- also wit both target used seperatly, the univarite and bivariate regressions are still similar inappriate\n",
    "- this leads to underlines the assumption of the highly influence of multiple variables, which was aleady observed in the pearso nCorrelation Coefficients "
   ]
  },
  {
   "attachments": {},
   "cell_type": "markdown",
   "metadata": {},
   "source": [
    "####################################"
   ]
  },
  {
   "attachments": {},
   "cell_type": "markdown",
   "metadata": {},
   "source": [
    "### reste\n",
    "- plot MSE\n",
    "- get acc for each degree, -  example uses polynomials"
   ]
  },
  {
   "cell_type": "code",
   "execution_count": 147,
   "metadata": {},
   "outputs": [
    {
     "data": {
      "text/plain": [
       "[<matplotlib.lines.Line2D at 0x1815592dd00>]"
      ]
     },
     "execution_count": 147,
     "metadata": {},
     "output_type": "execute_result"
    },
    {
     "data": {
      "image/png": "[encoded data removed]",
      "text/plain": [
       "<Figure size 640x480 with 1 Axes>"
      ]
     },
     "metadata": {},
     "output_type": "display_data"
    }
   ],
   "source": [
    "# # check  accuracy for each degree, the lower the error the better!\n",
    "# number_degrees = [1,2,3,4,5,6,7]\n",
    "# plt_mean_squared_error = []\n",
    "\n",
    "# X = df_candidates[['water_depth_cm', 'inundation_duration_h']].values#, # univariate: best with 4 polynomial\n",
    "\n",
    "# for degree in number_degrees:\n",
    "\n",
    "#    poly_model = PolynomialFeatures(degree=degree)\n",
    "  \n",
    "#    poly_x_values = poly_model.fit_transform(X)\n",
    "#    poly_model.fit(poly_x_values, y)\n",
    "  \n",
    "#    regression_model = LinearRegression()\n",
    "#    regression_model.fit(poly_x_values, y)\n",
    "#    y_pred = regression_model.predict(poly_x_values)\n",
    "  \n",
    "#    plt_mean_squared_error.append(mean_squared_error(y, y_pred, squared=False))\n",
    "  \n",
    "# plt.scatter(number_degrees, plt_mean_squared_error, color=\"green\")\n",
    "# plt.plot(number_degrees, plt_mean_squared_error, color=\"red\") "
   ]
  },
  {
   "cell_type": "code",
   "execution_count": null,
   "metadata": {},
   "outputs": [],
   "source": []
  },
  {
   "cell_type": "code",
   "execution_count": null,
   "metadata": {},
   "outputs": [],
   "source": []
  }
 ],
 "metadata": {
  "kernelspec": {
   "display_name": "py396_c3",
   "language": "python",
   "name": "python3"
  },
  "language_info": {
   "codemirror_mode": {
    "name": "ipython",
    "version": 3
   },
   "file_extension": ".py",
   "mimetype": "text/x-python",
   "name": "python",
   "nbconvert_exporter": "python",
   "pygments_lexer": "ipython3",
   "version": "3.9.6"
  },
  "orig_nbformat": 4
 },
 "nbformat": 4,
 "nbformat_minor": 2
}
