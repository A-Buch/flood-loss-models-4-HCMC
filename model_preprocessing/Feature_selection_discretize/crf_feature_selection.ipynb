{
 "cells": [
  {
   "cell_type": "code",
   "execution_count": 55,
   "metadata": {},
   "outputs": [],
   "source": [
    "#!/usr/bin/env python\n",
    "# -*- coding: utf-8 -*-\n",
    "\"\"\"Data preprocessing for HCMC survey dataset\"\"\"\n",
    "\n",
    "__author__ = \"Anna Buch, Heidelberg University\"\n",
    "__email__ = \"a.buch@stud.uni-heidelberg.de\"\n"
   ]
  },
  {
   "cell_type": "markdown",
   "metadata": {},
   "source": [
    "# Feature selection done by Conditional Inference Trees \n",
    "\n",
    "CIT uses p-value as one-a-split criterion instead of using homogeneity. The algorithm will pick the feature with the least p-value and will start splitting from it. Then it will keep going until it no longer finds statistically significant p-value or some other criteria have met such as minimum node size or max split. "
   ]
  },
  {
   "cell_type": "code",
   "execution_count": 56,
   "metadata": {},
   "outputs": [
    {
     "data": {
      "text/plain": [
       "<Figure size 2000x1000 with 0 Axes>"
      ]
     },
     "metadata": {},
     "output_type": "display_data"
    }
   ],
   "source": [
    "import sys\n",
    "import numpy as np\n",
    "import pandas as pd\n",
    "import pickle\n",
    "\n",
    "from sklearn.metrics import r2_score, mean_squared_error, mean_absolute_error\n",
    "from sklearn.model_selection import train_test_split\n",
    "from sklearn.pipeline import Pipeline as sklearn_pipeline\n",
    "\n",
    "from imblearn.under_sampling import RandomUnderSampler\n",
    "from imblearn.pipeline import Pipeline  # make sure not to mix it with sklearn Pipeline\n",
    "from collections import Counter\n",
    "\n",
    "\n",
    "import matplotlib.pyplot as plt\n",
    "\n",
    "sys.path.insert(0, \"../../../\")\n",
    "import utils.utils_feature_selection as fs\n",
    "import utils.settings as s\n",
    "import utils.utils_evaluation as e\n",
    "\n",
    "s.init()\n",
    "seed = s.seed\n",
    "\n",
    "\n",
    "pd.set_option('display.max_columns', None)\n",
    "plt.figure(figsize=(20, 10))\n",
    "\n",
    "# import warnings\n",
    "# warnings.filterwarnings('ignore')\n",
    "\n",
    "%matplotlib inline\n",
    "\n",
    "# ruff check ./model_preprocessing/Feature_selection/utils_feature_selection.py --fix"
   ]
  },
  {
   "cell_type": "markdown",
   "metadata": {},
   "source": [
    "## Load R packages to process Conditional Random Forest in python\n",
    "*Note 1: all needed R packages have to be previously loaded in R*\n",
    "\n",
    "*Note 2: Make sure that caret package version >= 6.0-81, otherwise caret.train() throws an error*"
   ]
  },
  {
   "cell_type": "code",
   "execution_count": 57,
   "metadata": {},
   "outputs": [],
   "source": [
    "import rpy2\n",
    "import rpy2.robjects as robjects\n",
    "from rpy2.robjects.packages import importr, data\n",
    "import rpy2.robjects.packages as rpackages\n",
    "\n",
    "\n",
    "# get basic R packages\n",
    "utils = importr('utils')\n",
    "base = importr('base')\n",
    "dplyr = importr('dplyr')\n",
    "stats = importr(\"stats\")\n",
    "\n",
    "# pandas.DataFrames to R dataframes \n",
    "from rpy2.robjects import pandas2ri, Formula\n",
    "pandas2ri.activate()\n",
    "\n",
    "# print r df in html\n",
    "import rpy2.ipython.html\n",
    "rpy2.ipython.html.init_printing()\n",
    "\n",
    "\n",
    "# get libraries for CRF processing, ctree_controls etc\n",
    "#partykit = importr('partykit')\n",
    "party = importr('party')\n",
    "caret = importr('caret') # package version >=\n",
    "#stablelearner = importr('stablelearner')\n",
    "ggplot2 = importr('ggplot2')\n"
   ]
  },
  {
   "cell_type": "markdown",
   "metadata": {},
   "source": [
    "### input data"
   ]
  },
  {
   "cell_type": "code",
   "execution_count": 58,
   "metadata": {},
   "outputs": [
    {
     "name": "stdout",
     "output_type": "stream",
     "text": [
      "(397, 51)\n"
     ]
    },
    {
     "data": {
      "text/html": [
       "<div>\n",
       "<style scoped>\n",
       "    .dataframe tbody tr th:only-of-type {\n",
       "        vertical-align: middle;\n",
       "    }\n",
       "\n",
       "    .dataframe tbody tr th {\n",
       "        vertical-align: top;\n",
       "    }\n",
       "\n",
       "    .dataframe thead th {\n",
       "        text-align: right;\n",
       "    }\n",
       "</style>\n",
       "<table border=\"1\" class=\"dataframe\">\n",
       "  <thead>\n",
       "    <tr style=\"text-align: right;\">\n",
       "      <th></th>\n",
       "      <th>Target_contentloss_euro</th>\n",
       "      <th>Target_businessreduction</th>\n",
       "      <th>inundation_duration_h</th>\n",
       "      <th>water_depth_cm</th>\n",
       "      <th>contaminations.0</th>\n",
       "      <th>flowvelocity</th>\n",
       "      <th>warning_time_h</th>\n",
       "      <th>emergency_measures.1</th>\n",
       "      <th>emergency_measures.2</th>\n",
       "      <th>emergency_measures.3</th>\n",
       "      <th>emergency_measures.4</th>\n",
       "      <th>emergency_measures.6</th>\n",
       "      <th>emergency_measures.7</th>\n",
       "      <th>emergency_measures.8</th>\n",
       "      <th>emergency_measures.9</th>\n",
       "      <th>overall_problem_house</th>\n",
       "      <th>protect_valuables_impl</th>\n",
       "      <th>water_barriers_impl</th>\n",
       "      <th>pumping_equipment_impl</th>\n",
       "      <th>elevation_building_impl</th>\n",
       "      <th>resistant_material_building_impl</th>\n",
       "      <th>electricity_higher_impl</th>\n",
       "      <th>flood_protections_impl</th>\n",
       "      <th>flood_experience</th>\n",
       "      <th>elevation_building_height_cm</th>\n",
       "      <th>elevation_rel2surrounding_cat</th>\n",
       "      <th>bage</th>\n",
       "      <th>b_area</th>\n",
       "      <th>hh_monthly_income_cat</th>\n",
       "      <th>shp_owner</th>\n",
       "      <th>shp_sector</th>\n",
       "      <th>shp_employees</th>\n",
       "      <th>shp_avgmonthly_sale_cat</th>\n",
       "      <th>shp_finance_investments</th>\n",
       "      <th>shp_profits_last5years</th>\n",
       "      <th>shp_risk_tolerance</th>\n",
       "      <th>shp_monetary_resources4prevention</th>\n",
       "      <th>resilience_city_protection</th>\n",
       "      <th>resilience_more_future_affected</th>\n",
       "      <th>resilience_govern_warnings_helpful</th>\n",
       "      <th>resilience_govern_careing</th>\n",
       "      <th>resilience_left_alone</th>\n",
       "      <th>resilience_neighbor_management</th>\n",
       "      <th>perception_who_responsible4protection.Rank1</th>\n",
       "      <th>perception_private_economy_future</th>\n",
       "      <th>contaminations_light</th>\n",
       "      <th>contaminations_heavy</th>\n",
       "      <th>shp_suppliers_HCMC</th>\n",
       "      <th>shp_content_value_euro</th>\n",
       "      <th>elevation_m</th>\n",
       "      <th>shp_registered_capital_euro</th>\n",
       "    </tr>\n",
       "  </thead>\n",
       "  <tbody>\n",
       "    <tr>\n",
       "      <th>395</th>\n",
       "      <td>0.0</td>\n",
       "      <td>NaN</td>\n",
       "      <td>4.0</td>\n",
       "      <td>70.0</td>\n",
       "      <td>0</td>\n",
       "      <td>1</td>\n",
       "      <td>NaN</td>\n",
       "      <td>1</td>\n",
       "      <td>0</td>\n",
       "      <td>1</td>\n",
       "      <td>0</td>\n",
       "      <td>1</td>\n",
       "      <td>0</td>\n",
       "      <td>0</td>\n",
       "      <td>0</td>\n",
       "      <td>1</td>\n",
       "      <td>1</td>\n",
       "      <td>5</td>\n",
       "      <td>1</td>\n",
       "      <td>1</td>\n",
       "      <td>5</td>\n",
       "      <td>5</td>\n",
       "      <td>5</td>\n",
       "      <td>5</td>\n",
       "      <td>70.0</td>\n",
       "      <td>1</td>\n",
       "      <td>NaN</td>\n",
       "      <td>130.0</td>\n",
       "      <td>NaN</td>\n",
       "      <td>1</td>\n",
       "      <td>17</td>\n",
       "      <td>2</td>\n",
       "      <td>3</td>\n",
       "      <td>1</td>\n",
       "      <td>4.0</td>\n",
       "      <td>3.0</td>\n",
       "      <td>3.0</td>\n",
       "      <td>1.0</td>\n",
       "      <td>5.0</td>\n",
       "      <td>1.0</td>\n",
       "      <td>1.0</td>\n",
       "      <td>5</td>\n",
       "      <td>1.0</td>\n",
       "      <td>2.0</td>\n",
       "      <td>3.0</td>\n",
       "      <td>1</td>\n",
       "      <td>0</td>\n",
       "      <td>1</td>\n",
       "      <td>NaN</td>\n",
       "      <td>1.83886</td>\n",
       "      <td>11047.7</td>\n",
       "    </tr>\n",
       "    <tr>\n",
       "      <th>396</th>\n",
       "      <td>0.0</td>\n",
       "      <td>0.0</td>\n",
       "      <td>3.0</td>\n",
       "      <td>100.0</td>\n",
       "      <td>0</td>\n",
       "      <td>1</td>\n",
       "      <td>NaN</td>\n",
       "      <td>1</td>\n",
       "      <td>0</td>\n",
       "      <td>1</td>\n",
       "      <td>0</td>\n",
       "      <td>0</td>\n",
       "      <td>0</td>\n",
       "      <td>0</td>\n",
       "      <td>0</td>\n",
       "      <td>0</td>\n",
       "      <td>1</td>\n",
       "      <td>5</td>\n",
       "      <td>5</td>\n",
       "      <td>5</td>\n",
       "      <td>5</td>\n",
       "      <td>5</td>\n",
       "      <td>5</td>\n",
       "      <td>4</td>\n",
       "      <td>NaN</td>\n",
       "      <td>0</td>\n",
       "      <td>5.0</td>\n",
       "      <td>33.0</td>\n",
       "      <td>1.0</td>\n",
       "      <td>1</td>\n",
       "      <td>11</td>\n",
       "      <td>2</td>\n",
       "      <td>3</td>\n",
       "      <td>1</td>\n",
       "      <td>4.0</td>\n",
       "      <td>3.0</td>\n",
       "      <td>4.0</td>\n",
       "      <td>NaN</td>\n",
       "      <td>NaN</td>\n",
       "      <td>NaN</td>\n",
       "      <td>NaN</td>\n",
       "      <td>5</td>\n",
       "      <td>NaN</td>\n",
       "      <td>3.0</td>\n",
       "      <td>3.0</td>\n",
       "      <td>1</td>\n",
       "      <td>0</td>\n",
       "      <td>1</td>\n",
       "      <td>NaN</td>\n",
       "      <td>1.87277</td>\n",
       "      <td>736.5</td>\n",
       "    </tr>\n",
       "  </tbody>\n",
       "</table>\n",
       "</div>"
      ],
      "text/plain": [
       "     Target_contentloss_euro  Target_businessreduction  inundation_duration_h   \n",
       "395                      0.0                       NaN                    4.0  \\\n",
       "396                      0.0                       0.0                    3.0   \n",
       "\n",
       "     water_depth_cm  contaminations.0  flowvelocity  warning_time_h   \n",
       "395            70.0                 0             1             NaN  \\\n",
       "396           100.0                 0             1             NaN   \n",
       "\n",
       "     emergency_measures.1  emergency_measures.2  emergency_measures.3   \n",
       "395                     1                     0                     1  \\\n",
       "396                     1                     0                     1   \n",
       "\n",
       "     emergency_measures.4  emergency_measures.6  emergency_measures.7   \n",
       "395                     0                     1                     0  \\\n",
       "396                     0                     0                     0   \n",
       "\n",
       "     emergency_measures.8  emergency_measures.9  overall_problem_house   \n",
       "395                     0                     0                      1  \\\n",
       "396                     0                     0                      0   \n",
       "\n",
       "     protect_valuables_impl  water_barriers_impl  pumping_equipment_impl   \n",
       "395                       1                    5                       1  \\\n",
       "396                       1                    5                       5   \n",
       "\n",
       "     elevation_building_impl  resistant_material_building_impl   \n",
       "395                        1                                 5  \\\n",
       "396                        5                                 5   \n",
       "\n",
       "     electricity_higher_impl  flood_protections_impl  flood_experience   \n",
       "395                        5                       5                 5  \\\n",
       "396                        5                       5                 4   \n",
       "\n",
       "     elevation_building_height_cm  elevation_rel2surrounding_cat  bage   \n",
       "395                          70.0                              1   NaN  \\\n",
       "396                           NaN                              0   5.0   \n",
       "\n",
       "     b_area  hh_monthly_income_cat  shp_owner  shp_sector  shp_employees   \n",
       "395   130.0                    NaN          1          17              2  \\\n",
       "396    33.0                    1.0          1          11              2   \n",
       "\n",
       "     shp_avgmonthly_sale_cat  shp_finance_investments  shp_profits_last5years   \n",
       "395                        3                        1                     4.0  \\\n",
       "396                        3                        1                     4.0   \n",
       "\n",
       "     shp_risk_tolerance  shp_monetary_resources4prevention   \n",
       "395                 3.0                                3.0  \\\n",
       "396                 3.0                                4.0   \n",
       "\n",
       "     resilience_city_protection  resilience_more_future_affected   \n",
       "395                         1.0                              5.0  \\\n",
       "396                         NaN                              NaN   \n",
       "\n",
       "     resilience_govern_warnings_helpful  resilience_govern_careing   \n",
       "395                                 1.0                        1.0  \\\n",
       "396                                 NaN                        NaN   \n",
       "\n",
       "     resilience_left_alone  resilience_neighbor_management   \n",
       "395                      5                             1.0  \\\n",
       "396                      5                             NaN   \n",
       "\n",
       "     perception_who_responsible4protection.Rank1   \n",
       "395                                          2.0  \\\n",
       "396                                          3.0   \n",
       "\n",
       "     perception_private_economy_future  contaminations_light   \n",
       "395                                3.0                     1  \\\n",
       "396                                3.0                     1   \n",
       "\n",
       "     contaminations_heavy  shp_suppliers_HCMC  shp_content_value_euro   \n",
       "395                     0                   1                     NaN  \\\n",
       "396                     0                   1                     NaN   \n",
       "\n",
       "     elevation_m  shp_registered_capital_euro  \n",
       "395      1.83886                      11047.7  \n",
       "396      1.87277                        736.5  "
      ]
     },
     "execution_count": 58,
     "metadata": {},
     "output_type": "execute_result"
    }
   ],
   "source": [
    "df_candidates = pd.read_excel(\"../../../input_survey_data/input_data_business.xlsx\")\n",
    "print(df_candidates.shape)\n",
    "df_candidates.tail(2)\n"
   ]
  },
  {
   "cell_type": "code",
   "execution_count": 59,
   "metadata": {},
   "outputs": [],
   "source": [
    "targets = [\"Target_contentloss_euro\", \"Target_businessreduction\"]\n",
    "target = targets[0]\n",
    "\n",
    "## TODO make entire wokflow as loop over both target variables\n",
    "# ## iterate over both targets and store results \n",
    "# for target in [\"Target_contentloss_euro\", \"Target_businessreduction\"]:\n",
    "\n",
    "#     print( f\"Apply Elastic Net on {target}:\\n\")\n",
    "#     y = df_candidates[target]"
   ]
  },
  {
   "cell_type": "code",
   "execution_count": 63,
   "metadata": {},
   "outputs": [
    {
     "name": "stdout",
     "output_type": "stream",
     "text": [
      "Percentage of missing valeus per feature\n",
      " warning_time_h                  0.775819\n",
      "elevation_building_height_cm    0.158690\n",
      "shp_content_value_euro          0.158690\n",
      "shp_registered_capital_euro     0.118388\n",
      "Target_businessreduction        0.090680\n",
      "dtype: float64\n"
     ]
    }
   ],
   "source": [
    "## show features with more than 10% missing values\n",
    "print(\"Percentage of missing valeus per feature\\n\", df_candidates.isna().mean().sort_values(ascending=False)[:5] ) \n",
    "\n",
    "# print(df_candidates.isna().sum(axis=0).sort_values(ascending=False))\n",
    "#df_candidates = df_candidates[df_candidates.columns[df_candidates.isna().mean() < 0.10]]  # drop feautres with more than 10% missing values\n",
    "#print(df_candidates.isna().sum(axis=0).sort_values(ascending=False))\n",
    "\n",
    "## --> drop content values if threshold == 15%"
   ]
  },
  {
   "cell_type": "code",
   "execution_count": 64,
   "metadata": {},
   "outputs": [
    {
     "name": "stdout",
     "output_type": "stream",
     "text": [
      "(382, 51)\n"
     ]
    }
   ],
   "source": [
    "## remove records where target information is missing\n",
    "df_candidates = df_candidates[ ~df_candidates[f\"{target}\"].isna()]\n",
    "print(df_candidates.shape)\n"
   ]
  },
  {
   "cell_type": "markdown",
   "metadata": {},
   "source": [
    "## Discretize target"
   ]
  },
  {
   "cell_type": "code",
   "execution_count": 65,
   "metadata": {},
   "outputs": [
    {
     "name": "stdout",
     "output_type": "stream",
     "text": [
      "Discretization of target:\n",
      "156 records are euqally split into categories, so that same number of records is in each class (equal frequency binning) \n",
      "Group labels and bins : [1, 2, 3, 4] Target_contentloss_euro\n",
      "(7.399, 39.7]        41\n",
      "(137.95, 382.7]      40\n",
      "(382.7, 224190.4]    38\n",
      "(39.7, 137.95]       37\n",
      "Name: count, dtype: int64\n",
      "check if correct discretized: Target_contentloss_euro_c\n",
      "0    226\n",
      "1     41\n",
      "3     40\n",
      "4     38\n",
      "2     37\n",
      "Name: count, dtype: int64\n"
     ]
    },
    {
     "name": "stderr",
     "output_type": "stream",
     "text": [
      "C:\\Users\\Anna\\AppData\\Local\\Temp\\ipykernel_5448\\3061184054.py:8: SettingWithCopyWarning: \n",
      "A value is trying to be set on a copy of a slice from a DataFrame.\n",
      "Try using .loc[row_indexer,col_indexer] = value instead\n",
      "\n",
      "See the caveats in the documentation: https://pandas.pydata.org/pandas-docs/stable/user_guide/indexing.html#returning-a-view-versus-a-copy\n",
      "  no_contentloss[target_c] = 0 #\"no loss\"\n"
     ]
    },
    {
     "data": {
      "image/png": "[encoded data removed]",
      "text/plain": [
       "<Figure size 640x480 with 1 Axes>"
      ]
     },
     "metadata": {},
     "output_type": "display_data"
    }
   ],
   "source": [
    "# Discretize target variable \n",
    "print(\"Discretization of target:\")\n",
    "\n",
    "target_c = target + \"_c\"\n",
    "df_candidates_t = df_candidates\n",
    "\n",
    "no_contentloss = df_candidates_t[df_candidates_t[target]==0.0]\n",
    "no_contentloss[target_c] = 0 #\"no loss\"\n",
    "contentloss = df_candidates_t.drop(no_contentloss.index,  axis=0)  # reduce df to not yet discretized records\n",
    "\n",
    "## exclude also very high values for content loss\n",
    "if target == \"Target_contentloss_euro\":\n",
    "    #extreme_high_contenloss = df_candidates_t[df_candidates_t[target] >= extreme_high_lower_bin_boundary]\n",
    "    #extreme_high_contenloss[target_c] = 4 # \"very high\"\n",
    "    #contentloss = contentloss.drop(extreme_high_contenloss.index,  axis=0) #  reduce df to not yet discretized records\n",
    "    \n",
    "    ## equal frequency binning for major group of content losses\n",
    "    contentloss = fs.equal_freq_binning(\n",
    "        df=contentloss, variable_name=target, \n",
    "        cuts=4, group_labels=[1, 2, 3, 4 ],  \n",
    "        drop_old_variable=False)\n",
    "    df_candidates_t = pd.concat([no_contentloss, contentloss], axis=0).reset_index(drop=True)\n",
    "#        df_candidates_t = pd.concat([no_contentloss, contentloss, extreme_high_contenloss], axis=0).reset_index(drop=True)\n",
    "\n",
    "# make for 4 eqal bins for business reduction, due that no extreme high values exists\n",
    "if target == \"Target_businessreduction\":\n",
    "    contentloss = fs.equal_freq_binning(\n",
    "        df=contentloss, variable_name=target, \n",
    "        cuts=4, group_labels=[1, 2, 3, 4 ],\n",
    "        drop_old_variable=False)\n",
    "    df_candidates_t = pd.concat([no_contentloss, contentloss], axis=0).reset_index(drop=True)\n",
    "\n",
    "df_candidates_t.insert(1, target_c, df_candidates_t.pop(target_c))\n",
    "df_candidates_t = df_candidates_t.sort_values(target)  # sort values to assigne later \n",
    "print(\"check if correct discretized:\", df_candidates_t[target_c].value_counts())  # visual check if correct discretized\n",
    "\n",
    "## save distribution of discretized variable for visual check to disk\n",
    "fig, ax = plt.subplots(nrows=1, ncols=1)  # create figure & 1 axis\n",
    "df_candidates_t[target_c].hist( bins=len(df_candidates_t[target_c].unique())*2-1, grid=False ) # get space between single bars\n",
    "fig.tight_layout()\n",
    "fig.savefig(f'../../../figures/crf_histo_{target_c}_dscrt.png')\n",
    "\n"
   ]
  },
  {
   "cell_type": "markdown",
   "metadata": {},
   "source": [
    "#### Split Data"
   ]
  },
  {
   "cell_type": "code",
   "execution_count": 66,
   "metadata": {},
   "outputs": [],
   "source": [
    "X = df_candidates_t.drop([target_c] + targets, axis=1)\n",
    "y = df_candidates_t[target_c]\n",
    "\n",
    "\n",
    "## TEST: replace nan with median of each variable\n",
    "for c in X.columns:\n",
    "    #print(X[c].fillna(X[c].median()))\n",
    "    X[c].fillna(X[c].median(), inplace=True)\n",
    "\n",
    "# ##impute nans in X\n",
    "# for c in df_candidates_t.drop(targets, axis=1): \n",
    "#     df_candidates_t[f\"{c}\"].fillna(value=np.nanmedian(df_candidates_t[f\"{c}\"]), inplace=True)\n",
    "\n"
   ]
  },
  {
   "cell_type": "code",
   "execution_count": 81,
   "metadata": {},
   "outputs": [],
   "source": [
    "## test train split\n",
    "X_train, X_test, y_train, y_test = train_test_split(\n",
    "    X, y, test_size=0.10, \n",
    "    random_state=seed, shuffle=True\n",
    ")\n",
    "\n",
    "# normlaize via MinMaxScaler, transform X_train ,then use the fitted scaler for X_test\n",
    "X_train, X_test = fs.normalize_X(X_train, X_test)\n",
    "\n",
    "train = pd.concat([y_train.reset_index(), X_train], axis=1).drop(\"index\", axis=1)\n",
    "test = pd.concat([y_test.reset_index(), X_test], axis=1).drop(\"index\", axis=1)"
   ]
  },
  {
   "cell_type": "markdown",
   "metadata": {},
   "source": [
    "## Balance zero loss class"
   ]
  },
  {
   "cell_type": "code",
   "execution_count": 82,
   "metadata": {},
   "outputs": [
    {
     "name": "stdout",
     "output_type": "stream",
     "text": [
      "Balancing will result in following class frequencies\n",
      "Counter({0: 203, 3: 38, 1: 36, 2: 35, 4: 31})\n",
      "Counter({0: 50, 3: 38, 1: 36, 2: 35, 4: 31})\n"
     ]
    },
    {
     "data": {
      "text/plain": [
       "Target_contentloss_euro_c\n",
       "3                            38\n",
       "1                            36\n",
       "2                            35\n",
       "0                            31\n",
       "4                            31\n",
       "Name: count, dtype: int64"
      ]
     },
     "execution_count": 82,
     "metadata": {},
     "output_type": "execute_result"
    }
   ],
   "source": [
    "zero_loss_ratio = 0.25\n",
    "fi_threshold = 0.000\n",
    "\n",
    "def ratio_multiplier(y, sampling_stategy=zero_loss_ratio):\n",
    "    \"\"\"\"\n",
    "    https://imbalanced-learn.org/stable/auto_examples/api/plot_sampling_strategy_usage.html#sphx-glr-auto-examples-api-plot-sampling-strategy-usage-py\n",
    "    y : y train\n",
    "    sampling_stategy = str defineing imblearn stategy or float between 0-1.0 defining ratio to which y is reduced .e.g. (0.75 >- y will be 75% of its former size)\n",
    "    \"\"\"\n",
    "    # if sampling_stategy == \"majority\": \n",
    "    #     return sampling_stategy\n",
    "    # else:\n",
    "    multiplier = {0: zero_loss_ratio} # set only zero loss class to the half or 3/4 of its size\n",
    "    target_stats = Counter(y)\n",
    "    for key, value in target_stats.items():\n",
    "        if key in multiplier:\n",
    "            target_stats[key] = int(value * multiplier[key])\n",
    "    return target_stats\n",
    "\n",
    "\n",
    "\n",
    "## Pre-check class distribution with user-defined balancing stategy\n",
    "print(\"Balancing will result in following class frequencies\")\n",
    "print(Counter(y_train))\n",
    "\n",
    "## apply undersampling\n",
    "#print(ratio_multiplier(y_train, zero_loss_ratio))\n",
    "#y_train = ratio_multiplier(y_train, zero_loss_ratio)\n",
    "\n",
    "## majority sampling stategy\n",
    "sampler = RandomUnderSampler( \n",
    "                             sampling_strategy=\"majority\",\n",
    "                             random_state=seed,\n",
    "        )\n",
    "X_train, y_train = sampler.fit_resample(X_train, y_train)\n",
    "pd.DataFrame(y_train).value_counts()"
   ]
  },
  {
   "cell_type": "markdown",
   "metadata": {},
   "source": [
    "### Model fit"
   ]
  },
  {
   "cell_type": "code",
   "execution_count": 84,
   "metadata": {},
   "outputs": [],
   "source": [
    "# from rpy2.robjects.conversion import localconverter\n",
    "\n",
    "# # Convert a Pandas DataFrame to an R DataFrame\n",
    "# def pandas_to_r_dataframe(df):\n",
    "#     with localconverter(robjects.default_converter + pandas2ri.converter):\n",
    "#         r_dataframe = robjects.conversion.py2rpy(df)\n",
    "#     return r_dataframe\n",
    "\n",
    "# # Convert the Pandas DataFrame to an R DataFrame\n",
    "# data_train_r = pandas_to_r_dataframe(train)\n",
    "# x_train_r = pandas_to_r_dataframe(X_train)\n",
    "# x_test_r = pandas_to_r_dataframe(X_test)\n",
    "# y_train_r = pandas_to_r_dataframe(y_train)\n",
    "\n",
    "# # Convert Pandas DataFrame to R list\n",
    "# y_train_l = robjects.r.list(**dict(zip(y_train_r.names, y_train_r)))\n",
    "# column_names = \" + \".join(X_train.columns)\n",
    "# #formula = robjects.Formula(f'{target} ~ ' + column_names)"
   ]
  },
  {
   "cell_type": "code",
   "execution_count": 85,
   "metadata": {},
   "outputs": [
    {
     "name": "stdout",
     "output_type": "stream",
     "text": [
      "Conditional Inference Random Forest \n",
      "\n",
      "343 samples\n",
      " 49 predictor\n",
      "\n",
      "No pre-processing\n",
      "Resampling: Cross-Validated (10 fold, repeated 10 times) \n",
      "Summary of sample sizes: 310, 309, 308, 309, 309, 309, ... \n",
      "Resampling results across tuning parameters:\n",
      "\n",
      "  mtry  RMSE      Rsquared   MAE     \n",
      "   2    1.357692  0.1630623  1.160284\n",
      "  25    1.290307  0.1811683  1.079113\n",
      "  49    1.291303  0.1763860  1.078441\n",
      "\n",
      "RMSE was used to select the optimal model using the smallest value.\n",
      "The final value used for the model was mtry = 25.\n",
      "\n"
     ]
    },
    {
     "data": {
      "text/plain": [
       "<rpy2.rinterface_lib.sexp.NULLType object at 0x0000012ACC82D6C0> [RTYPES.NILSXP]"
      ]
     },
     "execution_count": 85,
     "metadata": {},
     "output_type": "execute_result"
    }
   ],
   "source": [
    "##  CV with gridSearch from R \n",
    "## Due that cforest is a R package it only accepts other R functions for tunning and cross validation  \n",
    "## CIT handles by default missing values in response, while CRF doesnt accept missing vlaues in response\n",
    "\n",
    "# ## Define the hyperparamters\n",
    "## NOTE: cant define hyperparameter ranges for cforest, caret.train(method=\"cforest\") is doing this by itself\n",
    "## train() Doc: https://search.r-project.org/CRAN/refmans/caret/html/train.html\n",
    "\n",
    "\n",
    "base.set_seed(seed)\n",
    "\n",
    "## CV method\n",
    "fitControl = caret.trainControl(\n",
    "    method = \"repeatedcv\",  # \"oob\" - then no repeats are needed\n",
    "    number = 10,   ## = K-folds\n",
    "    repeats = 10,  # number of tried values for mtry\n",
    "    )\n",
    "\n",
    "# robjects.r('''\n",
    "#         r_grid <- function(verbose=FALSE) {\n",
    "#             expand.grid(ntree=10)\n",
    "#         }\n",
    "#     ''')\n",
    "# f = robjects.globalenv['r_grid']\n",
    "# createCfGrid = base.expand_grid(controls = party.cforest_control(mtry=3, ntree=200)) #qnorm() =90th percentile\n",
    "# mincriterion=stats.qnorm(0.9) # = default\n",
    "# \" train() will generate the grid for you. If you want to specify ntree you just pass a controls object in as another argument to train but leave out mtry:\"\"\n",
    "# https://stackoverflow.com/questions/20337137/run-cforest-with-controls-cforest-unbiased-using-caret-package?rq=4\n",
    "\n",
    "\n",
    "## CIT handles by default missing values in response, while CRF doesnt accept missing vlaues in response\n",
    "base.set_seed(seed)\n",
    "crf_cv = caret.train(\n",
    "        Formula(f'{target_c} ~ .'), \n",
    "        data = train,\n",
    "        method = \"cforest\",\n",
    "        metric='RMSE',  # Accuracy RMSE unit of target or use MAE due that more robust than RMSE further metrics options Rsquared, RMSE, MAE \n",
    "        #na_action =  stats.na_pass,\n",
    "        controls = party.cforest_control( #cforest_unbiased(\n",
    "            # only mtry gets tuned by grid\n",
    "            ntree = 100,  # didnt improved with 200 or 500 trees\n",
    "           # mincriterion = 0.5\n",
    "        ),  # cforest_unbiased= subsampling without replacement\n",
    "        trControl = fitControl,\n",
    "        #tuneGrid = #params_grid, # createCfGrid\n",
    "        #verbose = False\n",
    "    )\n",
    "print(crf_cv) # 5687.575\n",
    "\n",
    "base.warnings()"
   ]
  },
  {
   "cell_type": "code",
   "execution_count": 86,
   "metadata": {},
   "outputs": [
    {
     "data": {
      "text/html": [
       "\n",
       "<emph>DataFrame</emph> with 3 rows and\n",
       "  7 columns:\n",
       "<table class=\"rpy2_table\">\n",
       "  <thead>\n",
       "    <tr class=\"rpy2_names\">\n",
       "      <th></th>\n",
       "      <th></th>\n",
       "      <th>mtry</th>\n",
       "      <th>RMSE</th>\n",
       "      <th>Rsquared</th>\n",
       "      <th>MAE</th>\n",
       "      <th>...</th>\n",
       "      <th>RsquaredSD</th>\n",
       "      <th>MAESD</th>\n",
       "    </tr>\n",
       "  </thead>\n",
       "  <tbody>\n",
       "    <tr>\n",
       "      <td class=\"rpy2_rowname\">0</td>\n",
       "        <td class=\"rpy2_names\">1</td>\n",
       "      <td>2.0</td>\n",
       "      <td>1.357691801323075</td>\n",
       "      <td>0.16306225138464722</td>\n",
       "      <td>1.1602837435147022</td>\n",
       "       <td>...</td>\n",
       "      <td>0.1055706408530513</td>\n",
       "      <td>0.06355750313627632</td>\n",
       "    </tr>\n",
       "    <tr>\n",
       "      <td class=\"rpy2_rowname\">1</td>\n",
       "        <td class=\"rpy2_names\">2</td>\n",
       "      <td>25.0</td>\n",
       "      <td>1.2903074440257827</td>\n",
       "      <td>0.18116828822680558</td>\n",
       "      <td>1.0791132184199348</td>\n",
       "       <td>...</td>\n",
       "      <td>0.12358648863652441</td>\n",
       "      <td>0.07053911113265465</td>\n",
       "    </tr>\n",
       "    <tr>\n",
       "      <td class=\"rpy2_rowname\">2</td>\n",
       "        <td class=\"rpy2_names\">3</td>\n",
       "      <td>49.0</td>\n",
       "      <td>1.2913028363221175</td>\n",
       "      <td>0.17638602519883897</td>\n",
       "      <td>1.078441011599421</td>\n",
       "       <td>...</td>\n",
       "      <td>0.12958560068217412</td>\n",
       "      <td>0.0752300083912015</td>\n",
       "    </tr>\n",
       "  </tbody>\n",
       "</table>"
      ],
      "text/plain": [
       "<rpy2.robjects.vectors.DataFrame object at 0x0000012AE7A78380> [RTYPES.VECSXP]\n",
       "R classes: ('data.frame',)\n",
       "[Floa..., Floa..., Floa..., Floa..., Floa..., Floa..., Floa...]\n",
       "  mtry: <class 'rpy2.rinterface.FloatSexpVector'>\n",
       "  <rpy2.rinterface.FloatSexpVector object at 0x0000012A8074B9C0> [RTYPES.REALSXP]\n",
       "  RMSE: <class 'rpy2.rinterface.FloatSexpVector'>\n",
       "  <rpy2.rinterface.FloatSexpVector object at 0x0000012ADDAEBB00> [RTYPES.REALSXP]\n",
       "  Rsquared: <class 'rpy2.rinterface.FloatSexpVector'>\n",
       "  <rpy2.rinterface.FloatSexpVector object at 0x0000012AE790F480> [RTYPES.REALSXP]\n",
       "  MAE: <class 'rpy2.rinterface.FloatSexpVector'>\n",
       "  <rpy2.rinterface.FloatSexpVector object at 0x0000012AE7AA6680> [RTYPES.REALSXP]\n",
       "  RMSESD: <class 'rpy2.rinterface.FloatSexpVector'>\n",
       "  <rpy2.rinterface.FloatSexpVector object at 0x0000012A8074B9C0> [RTYPES.REALSXP]\n",
       "  RsquaredSD: <class 'rpy2.rinterface.FloatSexpVector'>\n",
       "  <rpy2.rinterface.FloatSexpVector object at 0x0000012AE790F480> [RTYPES.REALSXP]\n",
       "  MAESD: <class 'rpy2.rinterface.FloatSexpVector'>\n",
       "  <rpy2.rinterface.FloatSexpVector object at 0x0000012ADE0C40C0> [RTYPES.REALSXP]"
      ]
     },
     "execution_count": 86,
     "metadata": {},
     "output_type": "execute_result"
    }
   ],
   "source": [
    "## evalution results of the three tested models during CV and tunning\n",
    "fs.r_models_cv_results(crf_cv)\n"
   ]
  },
  {
   "cell_type": "code",
   "execution_count": 87,
   "metadata": {},
   "outputs": [],
   "source": [
    "## store trained model for evaluation\n",
    "filename = f'./models_trained/crf_{target}_dscrt'\n",
    "pickle.dump(crf_cv, open(filename, 'wb'))\n"
   ]
  },
  {
   "cell_type": "code",
   "execution_count": 88,
   "metadata": {},
   "outputs": [
    {
     "name": "stdout",
     "output_type": "stream",
     "text": [
      "   mtry\n",
      "2  25.0\n"
     ]
    }
   ],
   "source": [
    "## get best model\n",
    "\n",
    "#print(crf_cv.names)#$param\n",
    "best_hyperparameters = fs.r_best_hyperparamters(crf_cv)\n",
    "best_hyperparameters = fs.r_dataframe_to_pandas(best_hyperparameters)\n",
    "print(best_hyperparameters)"
   ]
  },
  {
   "cell_type": "code",
   "execution_count": 89,
   "metadata": {},
   "outputs": [
    {
     "name": "stdout",
     "output_type": "stream",
     "text": [
      "\n",
      "\t Random Forest using Conditional Inference Trees\n",
      "\n",
      "Number of trees:  100 \n",
      "\n",
      "Response:  Target_contentloss_euro_c \n",
      "Inputs:  inundation_duration_h, water_depth_cm, contaminations.0, flowvelocity, warning_time_h, emergency_measures.1, emergency_measures.2, emergency_measures.3, emergency_measures.4, emergency_measures.6, emergency_measures.7, emergency_measures.8, emergency_measures.9, overall_problem_house, protect_valuables_impl, water_barriers_impl, pumping_equipment_impl, elevation_building_impl, resistant_material_building_impl, electricity_higher_impl, flood_protections_impl, flood_experience, elevation_building_height_cm, elevation_rel2surrounding_cat, bage, b_area, hh_monthly_income_cat, shp_owner, shp_sector, shp_employees, shp_avgmonthly_sale_cat, shp_finance_investments, shp_profits_last5years, shp_risk_tolerance, shp_monetary_resources4prevention, resilience_city_protection, resilience_more_future_affected, resilience_govern_warnings_helpful, resilience_govern_careing, resilience_left_alone, resilience_neighbor_management, perception_who_responsible4protection.Rank1, perception_private_economy_future, contaminations_light, contaminations_heavy, shp_suppliers_HCMC, shp_content_value_euro, elevation_m, shp_registered_capital_euro \n",
      "Number of observations:  343 \n",
      "\n",
      "\n"
     ]
    }
   ],
   "source": [
    "## refit model with best hyperparamters\n",
    "\n",
    "#cit_model = partykit.ctree(Formula(f'{target} ~ .'),  \n",
    "crf_model = party.cforest(Formula(f'{target_c} ~ .'),  \n",
    "                                data=train,\n",
    "                                #control= party.cforest_control(mtry=best_hyperparameters.mtry, ntree=100)\n",
    "                                control= party.cforest_unbiased(mtry=best_hyperparameters.mtry, ntree=100)\n",
    "                                #control = partykit.ctree_control(mincriterion = 0.8)\n",
    "                          )\n",
    "print(crf_model)"
   ]
  },
  {
   "cell_type": "markdown",
   "metadata": {},
   "source": [
    "## Model evaluation"
   ]
  },
  {
   "cell_type": "code",
   "execution_count": 90,
   "metadata": {},
   "outputs": [
    {
     "data": {
      "text/plain": [
       "rpy2.robjects.vectors.ListVector"
      ]
     },
     "execution_count": 90,
     "metadata": {},
     "output_type": "execute_result"
    }
   ],
   "source": [
    "crf_model_p = pickle.load(open(f\"./models_trained/crf_{target}_dscrt\", 'rb'))\n",
    "type(crf_model_p)\n"
   ]
  },
  {
   "cell_type": "code",
   "execution_count": 93,
   "metadata": {},
   "outputs": [
    {
     "name": "stdout",
     "output_type": "stream",
     "text": [
      "\n",
      "Testing set\n",
      "\n",
      "    Model Performance:\n",
      "        Mean Squared Error: 2.7\n",
      "        Root Mean Square Error: 1.6\n",
      "        Mean Absolute Error: 2.7\n",
      "        Mean Absolute Percentage Error: nan\n",
      "        R²-Score: 0.2\n",
      "    \n"
     ]
    },
    {
     "name": "stderr",
     "output_type": "stream",
     "text": [
      "c:\\Users\\Anna\\Documents\\UNI\\MA_topic\\flood-loss-models-4-HCMC\\feature-selection-from-remote-fs\\model_preprocessing\\Feature_selection_discretize\\../../..\\utils\\utils_evaluation.py:18: RuntimeWarning: divide by zero encountered in divide\n",
      "  return np.mean(np.abs((y_true - y_pred) / y_true)) * 100\n",
      "c:\\Users\\Anna\\Documents\\UNI\\MA_topic\\flood-loss-models-4-HCMC\\feature-selection-from-remote-fs\\model_preprocessing\\Feature_selection_discretize\\../../..\\utils\\utils_evaluation.py:18: RuntimeWarning: invalid value encountered in divide\n",
      "  return np.mean(np.abs((y_true - y_pred) / y_true)) * 100\n"
     ]
    },
    {
     "name": "stdout",
     "output_type": "stream",
     "text": [
      "\n",
      "Training set\n",
      "\n",
      "    Model Performance:\n",
      "        Mean Squared Error: 1.7\n",
      "        Root Mean Square Error: 1.3\n",
      "        Mean Absolute Error: 1.7\n",
      "        Mean Absolute Percentage Error: inf\n",
      "        R²-Score: 0.1\n",
      "    \n"
     ]
    },
    {
     "data": {
      "text/plain": [
       "(1.6564327485380113,\n",
       " 1.2870247660934933,\n",
       " 1.6564327485380113,\n",
       " inf,\n",
       " 0.12027770714519248)"
      ]
     },
     "execution_count": 93,
     "metadata": {},
     "output_type": "execute_result"
    }
   ],
   "source": [
    "## Predict\n",
    "y_pred = stats.predict(crf_model, newdata=X_test)#, type=\"response\") #  type = \"prob\" # conditional class probabilities extractPrediction(\n",
    "y_pred  = base.round(y_pred)\n",
    "\n",
    "## get back to python dtypes\n",
    "y_pred = np.array(y_pred)\n",
    "y_test = np.array(y_test)\n",
    "\n",
    "## print evaluation report + check for overfitting \n",
    "print(\"\\nTesting set\")\n",
    "e.evaluation_report(y_test, y_pred)\n",
    "\n",
    "# r2 how well pred fit to observed \n",
    "y_pred_train = np.round(stats.predict(crf_model, newdata=X_train), 1).reshape(-1)\n",
    "print(\"\\nTraining set\")\n",
    "e.evaluation_report(y_train, y_pred_train)"
   ]
  },
  {
   "cell_type": "markdown",
   "metadata": {},
   "source": [
    "## Feature importance"
   ]
  },
  {
   "cell_type": "code",
   "execution_count": 95,
   "metadata": {},
   "outputs": [],
   "source": [
    "## Code snippet from Danielas CRF script and from https://cran.r-project.org/web/packages/stablelearner/vignettes/forests.html\n",
    "\n",
    "## Calculate variance importance based on selection frequency\n",
    "# varimp = party.varimp(model, measures=[\"freq\"])\n",
    "# varimp_df = pd.DataFrame({'Variable': varimp.names, 'Importance': varimp})\n",
    "## Sort the variable importance in descending order\n",
    "# varimp_df = varimp_df.sort_values(by='freq', ascending=False)\n",
    "## Plot the variance importance\n",
    "# varimp_df.plot(kind='bar', x='term', y='freq', figsize=(10, 6))\n",
    "\n",
    "# Extract variable importance values from the model\n",
    "varimp = party.varimp(crf_model, conditional = True )  # compute conditional variable importance scores\n",
    "# t = caret.varImp(crf_model)#, conditional=True) # caret derives FI a bit differently than party package\n",
    "# pd.DataFrame({\"names\":X.columns.to_list(), \"importances\":pd.Series(t)[0]}).sort_values(\"importances\", ascending=False).head(5)\n"
   ]
  },
  {
   "cell_type": "code",
   "execution_count": 103,
   "metadata": {},
   "outputs": [
    {
     "name": "stdout",
     "output_type": "stream",
     "text": [
      "1.2471083149986781\n",
      "1.2471083149986781\n"
     ]
    }
   ],
   "source": [
    "## define threshold according to Hilpert 2020: \"The rule of thumb is to take the absolute minimum value as a cutoff point.\"\" \n",
    "fi_threshold = np.abs(np.min(varimp))\n",
    "fi_threshold\n",
    "print(fi_threshold)\n",
    "\n",
    "## this is to high set to fi_threshold = fi_threshold /10\n",
    "fi_threshold = fi_threshold # / 5\n",
    "print(fi_threshold)"
   ]
  },
  {
   "cell_type": "code",
   "execution_count": 104,
   "metadata": {},
   "outputs": [],
   "source": [
    "## TODO -DONE use abs() version : check if abs value of negative importances from CRF should be used\n",
    "## Hilpert 2020: \"Note that unimportant predictors fluctuate randomly around zero, with positive or negative values\n",
    "## \"Negative values appear when the randomly permuted versions of a predictor tend to be better than the original one.\"\n",
    "## --> means: negative FI score indicate important features. \n",
    "\n",
    "df_importance = pd.DataFrame({\n",
    "    \"importances\" : np.abs(varimp),  \n",
    "    }, index= X.columns.to_list())\n"
   ]
  },
  {
   "cell_type": "code",
   "execution_count": 105,
   "metadata": {},
   "outputs": [
    {
     "name": "stdout",
     "output_type": "stream",
     "text": [
      "5 most important features:\n"
     ]
    },
    {
     "data": {
      "text/plain": [
       "(10, 1)"
      ]
     },
     "execution_count": 105,
     "metadata": {},
     "output_type": "execute_result"
    }
   ],
   "source": [
    "df_importance = df_importance.loc[df_importance.importances > fi_threshold, : ]      # drop features which dont reduce the loss\n",
    "\n",
    "df_importance = df_importance.sort_values(\"importances\", ascending=False)\n",
    "print(\"5 most important features:\")\n",
    "df_importance.shape#head()"
   ]
  },
  {
   "cell_type": "code",
   "execution_count": 106,
   "metadata": {},
   "outputs": [
    {
     "data": {
      "image/png": "[encoded data removed]",
      "text/plain": [
       "<Figure size 1200x500 with 1 Axes>"
      ]
     },
     "metadata": {},
     "output_type": "display_data"
    }
   ],
   "source": [
    "# plot feature importance\n",
    "fig, ax = plt.subplots(figsize=(12,5))\n",
    "\n",
    "\n",
    "# keep only features which reduce the loss\n",
    "#df_importance = df_importance.loc[df_importance.importances > 0, : ]\n",
    "\n",
    "plt.bar(df_importance.index, df_importance.importances)\n",
    "plt.xticks(\n",
    "    #ticks = range(len(selected_feat)),\n",
    "    #labels = X_unscaled.iloc[:,selected_feat],\n",
    "    rotation = 90\n",
    "    )\n",
    "plt.title(f\"Feature Importances for {target}\")\n",
    "\n",
    "plt.show()"
   ]
  },
  {
   "cell_type": "code",
   "execution_count": 100,
   "metadata": {},
   "outputs": [],
   "source": [
    "### Save to disk"
   ]
  },
  {
   "cell_type": "code",
   "execution_count": 101,
   "metadata": {},
   "outputs": [
    {
     "name": "stdout",
     "output_type": "stream",
     "text": [
      "total features: 51\n",
      "selected features: 27\n",
      "dropped features: 24\n",
      "selected features: \n",
      "['emergency_measures.7', 'shp_risk_tolerance', 'flowvelocity', 'water_depth_cm', 'resilience_govern_warnings_helpful', 'shp_monetary_resources4prevention', 'emergency_measures.2', 'shp_finance_investments', 'shp_employees', 'bage', 'perception_private_economy_future', 'resilience_govern_careing', 'shp_profits_last5years', 'emergency_measures.4', 'pumping_equipment_impl', 'resilience_left_alone', 'flood_experience', 'b_area', 'elevation_m', 'resilience_city_protection', 'shp_suppliers_location.1', 'emergency_measures.9', 'emergency_measures.1', 'resilience_neighbor_management', 'shp_owner', 'electricity_higher_impl', 'protect_valuables_impl']\n",
      "\n",
      "Saving model to disk: ../../input_survey_data/fs_crf_Target_businessreduction.xlsx\n"
     ]
    }
   ],
   "source": [
    "##Feature selection\n",
    "selected_feat = df_importance.T.columns\n",
    "\n",
    "## write selected predictors to disk\n",
    "fs.save_selected_features(X_train, pd.DataFrame(y_train), selected_feat, filename=f\"../../input_survey_data/fs_crf_{target}.xlsx\")\n"
   ]
  },
  {
   "cell_type": "code",
   "execution_count": null,
   "metadata": {},
   "outputs": [],
   "source": []
  },
  {
   "cell_type": "markdown",
   "metadata": {},
   "source": [
    "#### Statistics related to CIT and CRF"
   ]
  },
  {
   "cell_type": "markdown",
   "metadata": {},
   "source": [
    "The log rather than the p-value is used because it is numerically much more stable when used for comparisons, computing the minimal value, etc. Note that the p-values can become extremely small when significant. \n",
    "\n",
    "\n",
    "statistic DEF: \n",
    "\n",
    "citrerion DEF: \n",
    "\n"
   ]
  },
  {
   "cell_type": "code",
   "execution_count": null,
   "metadata": {},
   "outputs": [],
   "source": [
    "# ## get signifcant features\n",
    "# selected_feat = cit_stats.loc[:, cit_stats.loc[\"p_value\",:]<= 0.05]\n"
   ]
  },
  {
   "cell_type": "code",
   "execution_count": null,
   "metadata": {},
   "outputs": [],
   "source": [
    "## Snippet from: https://cran.r-project.org/web/packages/stablelearner/vignettes/forests.html\n",
    "# cf_stablelearner = stablelearner.stabletree(cit_model,\n",
    "#   sampler = stablelearner.subsampling, savetrees = True, B = 100, v = 0.632)\n",
    "# #Internally, stablelearner::stabletree() does the following: For each of the 100 trees to be generated, the dataset is resampled according to the resampling method specified (in our case subsampling with a fraction of v = 0.632) and the function call of our initial tree (which we labeled ct_partykit) is updated with respect to this resampled data and reevaluated, resulting in a new tree. All the 100 trees together then build the forest.\n",
    "\n",
    "# #2.2 Gaining insight into the forest\n",
    "# #The following summary prints the variable selection frequency (freq) as well as the average number of splits in each variable (mean) over all 100 trees. As we do not want to focus on our initial tree (remember that we just grew a forest, where all trees are of equal interest), we set original = FALSE, as already mentioned in the introduction:\n",
    "# t = base.summary(cf_stablelearner, original = False)\n",
    "\n",
    "# ## Variable selection overview:\n",
    "# ## Note: n python we can see the R df.index which contains the variable names, therefore it is not very usefull\n",
    "# #pd.DataFrame(t).iloc[3,:][0] # frequency\n",
    "# #pd.DataFrame(t).iloc[3,:][1] # mean\n",
    "# #print(X.columns[:23])"
   ]
  },
  {
   "cell_type": "code",
   "execution_count": null,
   "metadata": {},
   "outputs": [],
   "source": [
    "# ## actual p-values (without log)\n",
    "# strucchange = importr(\"strucchange\")\n",
    "# strucchange.sctest(cit_model, node = 1)[1]  # p values"
   ]
  },
  {
   "cell_type": "code",
   "execution_count": 64,
   "metadata": {},
   "outputs": [
    {
     "name": "stderr",
     "output_type": "stream",
     "text": [
      "R[write to console]: Error in character_split(split_node(x), data = data, digits = digits,  : \n",
      "  unused argument (useS4 = FALSE)\n",
      "\n"
     ]
    },
    {
     "data": {
      "text/html": [
       "\n",
       "<emph>ListVector</emph> with 6 elements:\n",
       "<table class=\"rpy2_table\">\n",
       "<thead>\n",
       "</thead>\n",
       "<tbody>\n",
       "  <tr>\n",
       "    <td class=\"rpy2_rowname\">0</td>\n",
       "    <td class=\"rpy2_names\">3</td>\n",
       "    <td>[1]...</td>\n",
       "  </tr>\n",
       "  <tr>\n",
       "    <td class=\"rpy2_rowname\">1</td>\n",
       "    <td class=\"rpy2_names\">4</td>\n",
       "    <td>   ...</td>\n",
       "  </tr>\n",
       "  <tr>\n",
       "    <td class=\"rpy2_rowname\">2</td>\n",
       "    <td class=\"rpy2_names\">5</td>\n",
       "    <td>   ...</td>\n",
       "  </tr>\n",
       "  <tr>\n",
       "    <td class=\"rpy2_rowname\">3</td>\n",
       "    <td class=\"rpy2_names\">6</td>\n",
       "    <td>Target_co...</td>\n",
       "  </tr>\n",
       "  <tr>\n",
       "    <td class=\"rpy2_rowname\">4</td>\n",
       "    <td class=\"rpy2_names\">7</td>\n",
       "    <td>['3' '4'...</td>\n",
       "  </tr>\n",
       "  <tr>\n",
       "    <td class=\"rpy2_rowname\">5</td>\n",
       "    <td class=\"rpy2_names\">8</td>\n",
       "    <td>$call\n",
       "(fu...</td>\n",
       "  </tr>\n",
       "</tr>\n",
       "</tbody>\n",
       "</table>"
      ],
      "text/plain": [
       "<rpy2.robjects.vectors.ListVector object at 0x000001A44E42C400> [RTYPES.VECSXP]\n",
       "R classes: ('constparty', 'party')\n",
       "[ListS..., ListS..., ListS..., LangS..., StrSe..., ListS...]\n",
       "  3: <class 'rpy2.rinterface.ListSexpVector'>\n",
       "  <rpy2.rinterface.ListSexpVector object at 0x000001A44E511800> [RTYPES.VECSXP]\n",
       "  4: <class 'rpy2.rinterface.ListSexpVector'>\n",
       "  <rpy2.rinterface.ListSexpVector object at 0x000001A44E511B00> [RTYPES.VECSXP]\n",
       "  5: <class 'rpy2.rinterface.ListSexpVector'>\n",
       "  <rpy2.rinterface.ListSexpVector object at 0x000001A44E511800> [RTYPES.VECSXP]\n",
       "  6: <class 'rpy2.rinterface.LangSexpVector'>\n",
       "  <rpy2.rinterface.LangSexpVector object at 0x000001A44E511080> [RTYPES.LANGSXP]\n",
       "  7: <class 'rpy2.rinterface_lib.sexp.StrSexpVector'>\n",
       "  <rpy2.rinterface_lib.sexp.StrSexpVector object at 0x000001A44E511B00> [RTYPES.STRSXP]\n",
       "  8: <class 'rpy2.rinterface.ListSexpVector'>\n",
       "  <rpy2.rinterface.ListSexpVector object at 0x000001A44E511AC0> [RTYPES.VECSXP]"
      ]
     },
     "execution_count": 64,
     "metadata": {},
     "output_type": "execute_result"
    }
   ],
   "source": [
    "cit_model_p.rx(3)"
   ]
  },
  {
   "cell_type": "code",
   "execution_count": 50,
   "metadata": {},
   "outputs": [
    {
     "ename": "ValueError",
     "evalue": "setting an array element with a sequence. The requested array has an inhomogeneous shape after 1 dimensions. The detected shape was (6,) + inhomogeneous part.",
     "output_type": "error",
     "traceback": [
      "\u001b[1;31m---------------------------------------------------------------------------\u001b[0m",
      "\u001b[1;31mValueError\u001b[0m                                Traceback (most recent call last)",
      "\u001b[1;32mc:\\Users\\Anna\\Documents\\UNI\\MA_topic\\flood-loss-models-4-HCMC\\model_preprocessing\\Feature_selection\\cit_feature_selection.ipynb Cell 26\u001b[0m in \u001b[0;36m2\n\u001b[0;32m      <a href='vscode-notebook-cell:/c%3A/Users/Anna/Documents/UNI/MA_topic/flood-loss-models-4-HCMC/model_preprocessing/Feature_selection/cit_feature_selection.ipynb#X31sZmlsZQ%3D%3D?line=0'>1</a>\u001b[0m cit_model_p\u001b[39m.\u001b[39mnames\n\u001b[1;32m----> <a href='vscode-notebook-cell:/c%3A/Users/Anna/Documents/UNI/MA_topic/flood-loss-models-4-HCMC/model_preprocessing/Feature_selection/cit_feature_selection.ipynb#X31sZmlsZQ%3D%3D?line=1'>2</a>\u001b[0m cit_model_p \u001b[39m=\u001b[39m np\u001b[39m.\u001b[39;49marray(cit_model_p\u001b[39m.\u001b[39;49mrx(\u001b[39m3\u001b[39;49m))\n\u001b[0;32m      <a href='vscode-notebook-cell:/c%3A/Users/Anna/Documents/UNI/MA_topic/flood-loss-models-4-HCMC/model_preprocessing/Feature_selection/cit_feature_selection.ipynb#X31sZmlsZQ%3D%3D?line=2'>3</a>\u001b[0m cit_model_p\n",
      "\u001b[1;31mValueError\u001b[0m: setting an array element with a sequence. The requested array has an inhomogeneous shape after 1 dimensions. The detected shape was (6,) + inhomogeneous part."
     ]
    }
   ],
   "source": [
    "cit_model_p.names\n",
    "cit_model_p = np.array(cit_model_p.rx(3))\n",
    "cit_model_p"
   ]
  },
  {
   "cell_type": "code",
   "execution_count": null,
   "metadata": {},
   "outputs": [],
   "source": []
  }
 ],
 "metadata": {
  "kernelspec": {
   "display_name": "py396_c3",
   "language": "python",
   "name": "python3"
  },
  "language_info": {
   "codemirror_mode": {
    "name": "ipython",
    "version": 3
   },
   "file_extension": ".py",
   "mimetype": "text/x-python",
   "name": "python",
   "nbconvert_exporter": "python",
   "pygments_lexer": "ipython3",
   "version": "3.9.6"
  },
  "orig_nbformat": 4
 },
 "nbformat": 4,
 "nbformat_minor": 2
}
