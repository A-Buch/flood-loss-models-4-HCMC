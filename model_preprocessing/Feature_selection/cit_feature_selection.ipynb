{
 "cells": [
  {
   "cell_type": "code",
   "execution_count": 101,
   "metadata": {},
   "outputs": [],
   "source": [
    "#!/usr/bin/env python\n",
    "# -*- coding: utf-8 -*-\n",
    "\"\"\"Data preprocessing for HCMC survey dataset\"\"\"\n",
    "\n",
    "__author__ = \"Anna Buch, Heidelberg University\"\n",
    "__email__ = \"a.buch@stud.uni-heidelberg.de\"\n"
   ]
  },
  {
   "cell_type": "markdown",
   "metadata": {},
   "source": [
    "# Feature selection done by Conditional Inference Trees \n",
    "\n",
    "CIT uses p-value as one-a-split criterion instead of using homogeneity. The algorithm will pick the feature with the least p-value and will start splitting from it. Then it will keep going until it no longer finds statistically significant p-value or some other criteria have met such as minimum node size or max split. "
   ]
  },
  {
   "cell_type": "code",
   "execution_count": 102,
   "metadata": {},
   "outputs": [],
   "source": [
    "import numpy as np\n",
    "import pandas as pd\n",
    "import pickle\n",
    "\n",
    "from sklearn.preprocessing import MinMaxScaler, LabelEncoder\n",
    "from sklearn.feature_selection import SelectFromModel\n",
    "from sklearn.metrics import accuracy_score, mean_squared_error# , confusion_matrix, precision_score, recall_score, ConfusionMatrixDisplay\n",
    "from sklearn.model_selection import GridSearchCV, train_test_split, RepeatedStratifiedKFold, cross_val_score\n",
    "\n",
    "import matplotlib.pyplot as plt\n",
    "\n",
    "from utils_feature_selection import r_ctree_statistics, save_selected_features\n",
    "\n",
    "\n",
    "seed = np.random.seed(11)\n",
    "\n",
    "import warnings\n",
    "warnings.filterwarnings('ignore')\n",
    "\n",
    "\n",
    "# ruff check ./model_preprocessing/Feature_selection/utils_feature_selection.py --fix"
   ]
  },
  {
   "cell_type": "markdown",
   "metadata": {},
   "source": [
    "##### install Rpackage for ctree in python"
   ]
  },
  {
   "cell_type": "code",
   "execution_count": 103,
   "metadata": {},
   "outputs": [
    {
     "data": {
      "text/plain": [
       "rpy2.robjects.packages.Package as a <module 'partykit'>"
      ]
     },
     "execution_count": 103,
     "metadata": {},
     "output_type": "execute_result"
    }
   ],
   "source": [
    "# load r library initally, enables the %%R magic\n",
    "# %load_ext rpy2.ipython\n",
    "\n",
    "import rpy2\n",
    "import rpy2.robjects as robjects\n",
    "from rpy2.robjects.packages import importr, data\n",
    "import rpy2.robjects.packages as rpackages\n",
    "\n",
    "\n",
    "# get basic R packages\n",
    "utils = importr('utils')\n",
    "base = importr('base')\n",
    "dplyr = importr('dplyr')\n",
    "stats = importr(\"stats\")\n",
    "\n",
    "# pandas.DataFrames to R dataframes \n",
    "from rpy2.robjects import pandas2ri, Formula\n",
    "pandas2ri.activate()\n",
    "\n",
    "# print r df in html\n",
    "import rpy2.ipython.html\n",
    "rpy2.ipython.html.init_printing()\n",
    "\n",
    "\n",
    "# get partykit library containing ctree , ctree_controls etc\n",
    "partykit = importr('partykit')\n",
    "partykit\n",
    "\n"
   ]
  },
  {
   "cell_type": "markdown",
   "metadata": {},
   "source": [
    "### input data"
   ]
  },
  {
   "cell_type": "code",
   "execution_count": 104,
   "metadata": {},
   "outputs": [
    {
     "name": "stdout",
     "output_type": "stream",
     "text": [
      "(397, 61)\n"
     ]
    },
    {
     "data": {
      "text/html": [
       "<div>\n",
       "<style scoped>\n",
       "    .dataframe tbody tr th:only-of-type {\n",
       "        vertical-align: middle;\n",
       "    }\n",
       "\n",
       "    .dataframe tbody tr th {\n",
       "        vertical-align: top;\n",
       "    }\n",
       "\n",
       "    .dataframe thead th {\n",
       "        text-align: right;\n",
       "    }\n",
       "</style>\n",
       "<table border=\"1\" class=\"dataframe\">\n",
       "  <thead>\n",
       "    <tr style=\"text-align: right;\">\n",
       "      <th></th>\n",
       "      <th>Target_contentloss_euro</th>\n",
       "      <th>Target_businessreduction</th>\n",
       "      <th>inundation_duration_h</th>\n",
       "      <th>water_depth_cm</th>\n",
       "      <th>contaminations.0</th>\n",
       "      <th>contaminations.1</th>\n",
       "      <th>contaminations.2</th>\n",
       "      <th>contaminations.3</th>\n",
       "      <th>contaminations.4</th>\n",
       "      <th>flowvelocity</th>\n",
       "      <th>...</th>\n",
       "      <th>resilience_left_alone</th>\n",
       "      <th>resilience_neighbor_management</th>\n",
       "      <th>perception_who_responsible4protection.Rank1</th>\n",
       "      <th>perception_who_responsible4protection.Rank2</th>\n",
       "      <th>perception_govern_support_past</th>\n",
       "      <th>perception_govern_support_future</th>\n",
       "      <th>perception_private_economy_future</th>\n",
       "      <th>shp_content_value_euro</th>\n",
       "      <th>shp_registered_capital_euro</th>\n",
       "      <th>elevation_m</th>\n",
       "    </tr>\n",
       "  </thead>\n",
       "  <tbody>\n",
       "    <tr>\n",
       "      <th>395</th>\n",
       "      <td>0.0</td>\n",
       "      <td>NaN</td>\n",
       "      <td>4.0</td>\n",
       "      <td>70.0</td>\n",
       "      <td>0</td>\n",
       "      <td>1</td>\n",
       "      <td>0</td>\n",
       "      <td>0</td>\n",
       "      <td>1</td>\n",
       "      <td>1</td>\n",
       "      <td>...</td>\n",
       "      <td>5</td>\n",
       "      <td>1.0</td>\n",
       "      <td>2.0</td>\n",
       "      <td>2.0</td>\n",
       "      <td>NaN</td>\n",
       "      <td>1.0</td>\n",
       "      <td>3.0</td>\n",
       "      <td>NaN</td>\n",
       "      <td>11047.7</td>\n",
       "      <td>1.83886</td>\n",
       "    </tr>\n",
       "    <tr>\n",
       "      <th>396</th>\n",
       "      <td>0.0</td>\n",
       "      <td>0.0</td>\n",
       "      <td>3.0</td>\n",
       "      <td>100.0</td>\n",
       "      <td>0</td>\n",
       "      <td>1</td>\n",
       "      <td>0</td>\n",
       "      <td>0</td>\n",
       "      <td>1</td>\n",
       "      <td>1</td>\n",
       "      <td>...</td>\n",
       "      <td>5</td>\n",
       "      <td>NaN</td>\n",
       "      <td>3.0</td>\n",
       "      <td>2.0</td>\n",
       "      <td>NaN</td>\n",
       "      <td>NaN</td>\n",
       "      <td>3.0</td>\n",
       "      <td>NaN</td>\n",
       "      <td>736.5</td>\n",
       "      <td>1.87277</td>\n",
       "    </tr>\n",
       "  </tbody>\n",
       "</table>\n",
       "<p>2 rows × 61 columns</p>\n",
       "</div>"
      ],
      "text/plain": [
       "     Target_contentloss_euro  Target_businessreduction  inundation_duration_h   \n",
       "395                      0.0                       NaN                    4.0  \\\n",
       "396                      0.0                       0.0                    3.0   \n",
       "\n",
       "     water_depth_cm  contaminations.0  contaminations.1  contaminations.2   \n",
       "395            70.0                 0                 1                 0  \\\n",
       "396           100.0                 0                 1                 0   \n",
       "\n",
       "     contaminations.3  contaminations.4  flowvelocity  ...   \n",
       "395                 0                 1             1  ...  \\\n",
       "396                 0                 1             1  ...   \n",
       "\n",
       "     resilience_left_alone  resilience_neighbor_management   \n",
       "395                      5                             1.0  \\\n",
       "396                      5                             NaN   \n",
       "\n",
       "     perception_who_responsible4protection.Rank1   \n",
       "395                                          2.0  \\\n",
       "396                                          3.0   \n",
       "\n",
       "     perception_who_responsible4protection.Rank2   \n",
       "395                                          2.0  \\\n",
       "396                                          2.0   \n",
       "\n",
       "     perception_govern_support_past  perception_govern_support_future   \n",
       "395                             NaN                               1.0  \\\n",
       "396                             NaN                               NaN   \n",
       "\n",
       "     perception_private_economy_future  shp_content_value_euro   \n",
       "395                                3.0                     NaN  \\\n",
       "396                                3.0                     NaN   \n",
       "\n",
       "     shp_registered_capital_euro  elevation_m  \n",
       "395                      11047.7      1.83886  \n",
       "396                        736.5      1.87277  \n",
       "\n",
       "[2 rows x 61 columns]"
      ]
     },
     "execution_count": 104,
     "metadata": {},
     "output_type": "execute_result"
    }
   ],
   "source": [
    "df_candidates = pd.read_excel(\"../../input_survey_data/input_data_business.xlsx\")\n",
    "print(df_candidates.shape)\n",
    "df_candidates.tail(2)\n"
   ]
  },
  {
   "cell_type": "code",
   "execution_count": 133,
   "metadata": {},
   "outputs": [
    {
     "name": "stdout",
     "output_type": "stream",
     "text": [
      "(350, 61)\n"
     ]
    }
   ],
   "source": [
    "targets = [\"Target_contentloss_euro\", \"Target_businessreduction\"]\n",
    "target = targets[0]\n",
    "\n",
    "## TODO make entire wokflow as loop over both target variables\n",
    "# ## iterate over both targets and store results \n",
    "# for target in [\"Target_contentloss_euro\", \"Target_businessreduction\"]:\n",
    "\n",
    "#     print( f\"Apply Elastic Net on {target}:\\n\")\n",
    "#     y = df_candidates[target]\n",
    "\n",
    "\n",
    "## remove cases where target information is missing\n",
    "df_candidates = df_candidates[ ~df_candidates[f\"{target}\"].isna()]\n",
    "print(df_candidates.shape)\n",
    "\n",
    "X = df_candidates.drop(targets, axis=1)\n",
    "y = df_candidates[target]\n",
    "\n"
   ]
  },
  {
   "cell_type": "markdown",
   "metadata": {},
   "source": [
    "#### Split Data"
   ]
  },
  {
   "cell_type": "code",
   "execution_count": 134,
   "metadata": {},
   "outputs": [],
   "source": [
    "## test train split\n",
    "X_train, X_test, y_train, y_test = train_test_split(\n",
    "    X, y, test_size=0.25, \n",
    "    random_state=seed, shuffle=False\n",
    ")\n",
    "\n",
    "train = pd.concat([y_train, X_train], axis=1)\n",
    "test = pd.concat([y_test, X_test], axis=1)\n",
    "#print(train.head(2))\n",
    "\n"
   ]
  },
  {
   "cell_type": "markdown",
   "metadata": {},
   "source": [
    "### Model fit"
   ]
  },
  {
   "cell_type": "code",
   "execution_count": 135,
   "metadata": {},
   "outputs": [],
   "source": [
    "###############  CV with gridSearch TODO   ###################\n",
    "# ## specify model\n",
    "# cit_model = partykit.ctree(Formula('Target_contentloss_euro ~ .'),  \n",
    "#                                 data=train\n",
    "#                           )\n",
    "# ## hyperparameter tunning \n",
    "# param_dist = [{'mincriterion': 0.95}]\n",
    "# cv = RepeatedStratifiedKFold(n_splits=10, n_repeats=3, random_state=1)\n",
    "\n",
    "# cit_model_cv = GridSearchCV(estimator = cit_model, \n",
    "#                          param_grid = param_dist\n",
    "#                          )#, scoring= 'r2', cv = folds, verbose = 1,return_train_score=True)      \n",
    "\n",
    "# # # fit the model\n",
    "# cit_model_cv.fit(X_train, y_train)\n",
    "  \n",
    "\n",
    "#################### without Hyperparameter tunning  #####################\n",
    "# fit ctree\n",
    "## Minciterion = confidence level (smaller values => larger trees; e.g mincriterion=0.8, p-value must be smaller than 0.2 in order for a node to split)\n",
    "cit_model = partykit.ctree(Formula(f'{target} ~ .'),  \n",
    "                                data=train,\n",
    "                                control = partykit.ctree_control(mincriterion = 0.8)\n",
    "                          )\n",
    "\n",
    "\n",
    "## store trained model for evaluation\n",
    "filename = f'./models_trained/cit_{target}'\n",
    "pickle.dump(cit_model, open(filename, 'wb'))\n",
    "\n"
   ]
  },
  {
   "cell_type": "markdown",
   "metadata": {},
   "source": [
    "## Feature selection"
   ]
  },
  {
   "cell_type": "code",
   "execution_count": 136,
   "metadata": {},
   "outputs": [
    {
     "name": "stderr",
     "output_type": "stream",
     "text": [
      "R[write to console]: Error in character_split(split_node(x), data = data, digits = digits,  : \n",
      "  unused argument (useS4 = FALSE)\n",
      "\n"
     ]
    },
    {
     "name": "stdout",
     "output_type": "stream",
     "text": [
      "\n",
      "Model formula:\n",
      "Target_contentloss_euro ~ inundation_duration_h + water_depth_cm + \n",
      "    contaminations.0 + contaminations.1 + contaminations.2 + \n",
      "    contaminations.3 + contaminations.4 + flowvelocity + warning_time_h + \n",
      "    emergency_measures.1 + emergency_measures.2 + emergency_measures.3 + \n",
      "    emergency_measures.4 + emergency_measures.6 + emergency_measures.7 + \n",
      "    emergency_measures.8 + emergency_measures.9 + overall_problem_house + \n",
      "    protect_valuables_impl + water_barriers_impl + pumping_equipment_impl + \n",
      "    elevation_building_impl + resistant_material_building_impl + \n",
      "    electricity_higher_impl + flood_protections_impl + flood_experience + \n",
      "    elevation_building_height_cm + elevation_rel2surrounding_cat + \n",
      "    bage + b_area + hh_monthly_income_cat + shp_owner + shp_sector + \n",
      "    shp_employees + shp_avgmonthly_sale_cat + shp_finance_investments + \n",
      "    shp_suppliers_location.1 + shp_suppliers_location.2 + shp_suppliers_location.3 + \n",
      "    shp_suppliers_location.4 + shp_suppliers_location.5 + shp_profits_last5years + \n",
      "    shp_risk_tolerance + shp_monetary_resources4prevention + \n",
      "    resilience_city_protection + resilience_more_future_affected + \n",
      "    resilience_govern_warnings_helpful + resilience_govern_careing + \n",
      "    resilience_govern_careing_increases + resilience_left_alone + \n",
      "    resilience_neighbor_management + perception_who_responsible4protection.Rank1 + \n",
      "    perception_who_responsible4protection.Rank2 + perception_govern_support_past + \n",
      "    perception_govern_support_future + perception_private_economy_future + \n",
      "    shp_content_value_euro + shp_registered_capital_euro + elevation_m\n",
      "\n",
      "Fitted party:\n",
      "[1] root\n",
      "\n",
      "Model formula:\n",
      "Target_contentloss_euro ~ inundation_duration_h + water_depth_cm + \n",
      "    contaminations.0 + contaminations.1 + contaminations.2 + \n",
      "    contaminations.3 + contaminations.4 + flowvelocity + warning_time_h + \n",
      "    emergency_measures.1 + emergency_measures.2 + emergency_measures.3 + \n",
      "    emergency_measures.4 + emergency_measures.6 + emergency_measures.7 + \n",
      "    emergency_measures.8 + emergency_measures.9 + overall_problem_house + \n",
      "    protect_valuables_impl + water_barriers_impl + pumping_equipment_impl + \n",
      "    elevation_building_impl + resistant_material_building_impl + \n",
      "    electricity_higher_impl + flood_protections_impl + flood_experience + \n",
      "    elevation_building_height_cm + elevation_rel2surrounding_cat + \n",
      "    bage + b_area + hh_monthly_income_cat + shp_owner + shp_sector + \n",
      "    shp_employees + shp_avgmonthly_sale_cat + shp_finance_investments + \n",
      "    shp_suppliers_location.1 + shp_suppliers_location.2 + shp_suppliers_location.3 + \n",
      "    shp_suppliers_location.4 + shp_suppliers_location.5 + shp_profits_last5years + \n",
      "    shp_risk_tolerance + shp_monetary_resources4prevention + \n",
      "    resilience_city_protection + resilience_more_future_affected + \n",
      "    resilience_govern_warnings_helpful + resilience_govern_careing + \n",
      "    resilience_govern_careing_increases + resilience_left_alone + \n",
      "    resilience_neighbor_management + perception_who_responsible4protection.Rank1 + \n",
      "    perception_who_responsible4protection.Rank2 + perception_govern_support_past + \n",
      "    perception_govern_support_future + perception_private_economy_future + \n",
      "    shp_content_value_euro + shp_registered_capital_euro + elevation_m\n",
      "\n",
      "Fitted party:\n",
      "[1] root\n",
      "|   [2] shp_registered_capital_euro <= 18781.1\n",
      "|   |   [3] b_area <= 200\n",
      "|   |   |   [4] shp_suppliers_location.3 <= 0\n",
      "|   |   |   |   [5] shp_registered_capital_euro <= 5892.1\n",
      "|   |   |   |   |   [6] water_depth_cm <= 20\n",
      "|   |   |   |   |   |   [7] shp_finance_investments <= 0: 125.524 (n = 17, err = 2060802.8)\n",
      "|   |   |   |   |   |   [8] shp_finance_investments > 0: 18.340 (n = 104, err = 146287.7)\n",
      "|   |   |   |   |   [9] water_depth_cm > 20\n",
      "|   |   |   |   |   |   [10] resilience_govern_careing_increases <= 2: 45.841 (n = 61, err = 525797.0)\n",
      "|   |   |   |   |   |   [11] resilience_govern_careing_increases > 2\n",
      "|   |   |   |   |   |   |   [12] shp_registered_capital_euro <= 1104.8: 158.252 (n = 27, err = 2257532.6)\n",
      "|   |   |   |   |   |   |   [13] shp_registered_capital_euro > 1104.8: 505.754 (n = 13, err = 2782002.8)\n",
      "|   |   |   |   [14] shp_registered_capital_euro > 5892.1: 402.900 (n = 13, err = 7168771.3)\n",
      "|   |   |   [15] shp_suppliers_location.3 > 0: 1544.655 (n = 11, err = 97805910.9)\n",
      "|   |   [16] b_area > 200: 4956.457 (n = 7, err = 992397469.7)\n",
      "|   [17] shp_registered_capital_euro > 18781.1: 25522.544 (n = 9, err = 44415360190.2)\n",
      "\n",
      "Number of inner nodes:    8\n",
      "Number of terminal nodes: 9\n",
      "\n"
     ]
    }
   ],
   "source": [
    "# ## actual p-values (without log)\n",
    "# strucchange = importr(\"strucchange\")\n",
    "# strucchange.sctest(cit_model, node = 1)[1]  # p values\n",
    "\n",
    "print(cit_model)\n"
   ]
  },
  {
   "cell_type": "code",
   "execution_count": 137,
   "metadata": {},
   "outputs": [
    {
     "name": "stdout",
     "output_type": "stream",
     "text": [
      "           inundation_duration_h  water_depth_cm  contaminations.0   \n",
      "statistic               2.224648        9.762376          0.152779  \\\n",
      "p_value                 0.999818        0.099841          1.000000   \n",
      "criterion              -8.612724       -0.105184        -70.232222   \n",
      "\n",
      "           contaminations.1  contaminations.2  contaminations.3   \n",
      "statistic          0.156899          0.077979          0.036862  \\\n",
      "p_value            1.000000          1.000000          1.000000   \n",
      "criterion        -69.486901        -89.348214       -111.050453   \n",
      "\n",
      "           contaminations.4  flowvelocity  warning_time_h   \n",
      "statistic          1.222038      3.343878        1.976657  \\\n",
      "p_value            1.000000      0.983763        0.999965   \n",
      "criterion        -18.484021     -4.120463      -10.268805   \n",
      "\n",
      "           emergency_measures.1  ...  resilience_left_alone   \n",
      "statistic              0.476633  ...               0.277176  \\\n",
      "p_value                1.000000  ...               1.000000   \n",
      "criterion            -39.721682  ...             -53.848879   \n",
      "\n",
      "           resilience_neighbor_management   \n",
      "statistic                        0.179829  \\\n",
      "p_value                          1.000000   \n",
      "criterion                      -65.683532   \n",
      "\n",
      "           perception_who_responsible4protection.Rank1   \n",
      "statistic                                    23.574581  \\\n",
      "p_value                                       0.000071   \n",
      "criterion                                    -0.000071   \n",
      "\n",
      "           perception_who_responsible4protection.Rank2   \n",
      "statistic                                     0.044846  \\\n",
      "p_value                                       1.000000   \n",
      "criterion                                  -105.344513   \n",
      "\n",
      "           perception_govern_support_past  perception_govern_support_future   \n",
      "statistic                        1.527900                          0.211256  \\\n",
      "p_value                          0.999999                          1.000000   \n",
      "criterion                      -14.389639                        -61.233235   \n",
      "\n",
      "           perception_private_economy_future  shp_content_value_euro   \n",
      "statistic                           0.223203            9.575068e+01  \\\n",
      "p_value                             1.000000            7.687808e-21   \n",
      "criterion                         -59.724456           -7.687808e-21   \n",
      "\n",
      "           shp_registered_capital_euro  elevation_m  \n",
      "statistic                 2.149241e+02     3.004402  \n",
      "p_value                   6.831005e-47     0.993992  \n",
      "criterion                -6.831005e-47    -5.114706  \n",
      "\n",
      "[3 rows x 59 columns]\n"
     ]
    }
   ],
   "source": [
    "## get statisitcs to obtain important feautres\n",
    "\n",
    "cit_stats = r_ctree_statistics(cit_model)\n",
    "cit_stats.columns = X.columns\n",
    "print(cit_stats)"
   ]
  },
  {
   "cell_type": "code",
   "execution_count": 138,
   "metadata": {},
   "outputs": [
    {
     "data": {
      "text/html": [
       "<div>\n",
       "<style scoped>\n",
       "    .dataframe tbody tr th:only-of-type {\n",
       "        vertical-align: middle;\n",
       "    }\n",
       "\n",
       "    .dataframe tbody tr th {\n",
       "        vertical-align: top;\n",
       "    }\n",
       "\n",
       "    .dataframe thead th {\n",
       "        text-align: right;\n",
       "    }\n",
       "</style>\n",
       "<table border=\"1\" class=\"dataframe\">\n",
       "  <thead>\n",
       "    <tr style=\"text-align: right;\">\n",
       "      <th></th>\n",
       "      <th>statistic</th>\n",
       "      <th>p_value</th>\n",
       "      <th>criterion</th>\n",
       "    </tr>\n",
       "  </thead>\n",
       "  <tbody>\n",
       "    <tr>\n",
       "      <th>shp_suppliers_location.4</th>\n",
       "      <td>254.367667</td>\n",
       "      <td>1.710539e-55</td>\n",
       "      <td>-1.710539e-55</td>\n",
       "    </tr>\n",
       "    <tr>\n",
       "      <th>shp_registered_capital_euro</th>\n",
       "      <td>214.924063</td>\n",
       "      <td>6.831005e-47</td>\n",
       "      <td>-6.831005e-47</td>\n",
       "    </tr>\n",
       "    <tr>\n",
       "      <th>shp_employees</th>\n",
       "      <td>187.515152</td>\n",
       "      <td>6.540186e-41</td>\n",
       "      <td>-6.540186e-41</td>\n",
       "    </tr>\n",
       "    <tr>\n",
       "      <th>shp_content_value_euro</th>\n",
       "      <td>95.750679</td>\n",
       "      <td>7.687808e-21</td>\n",
       "      <td>-7.687808e-21</td>\n",
       "    </tr>\n",
       "    <tr>\n",
       "      <th>b_area</th>\n",
       "      <td>86.585779</td>\n",
       "      <td>7.894547e-19</td>\n",
       "      <td>-7.894547e-19</td>\n",
       "    </tr>\n",
       "  </tbody>\n",
       "</table>\n",
       "</div>"
      ],
      "text/plain": [
       "                              statistic       p_value     criterion\n",
       "shp_suppliers_location.4     254.367667  1.710539e-55 -1.710539e-55\n",
       "shp_registered_capital_euro  214.924063  6.831005e-47 -6.831005e-47\n",
       "shp_employees                187.515152  6.540186e-41 -6.540186e-41\n",
       "shp_content_value_euro        95.750679  7.687808e-21 -7.687808e-21\n",
       "b_area                        86.585779  7.894547e-19 -7.894547e-19"
      ]
     },
     "execution_count": 138,
     "metadata": {},
     "output_type": "execute_result"
    }
   ],
   "source": [
    "## select based on signifcance\n",
    "df_importance = cit_stats.loc[:, cit_stats.loc[\"p_value\",:]<= 0.05]\n",
    "\n",
    "## sort by importance\n",
    "df_importance = df_importance.T\n",
    "df_importance = df_importance.sort_values(\"statistic\", ascending=False)\n",
    "df_importance.head(5)\n",
    "# FI importance vmtl: shp_registered_capital_euro, b_area, inundation_duration_h, water_depth_cm, resilience_govern_careing_increases "
   ]
  },
  {
   "cell_type": "markdown",
   "metadata": {},
   "source": [
    "The log rather than the p-value is used because it is numerically much more stable when used for comparisons, computing the minimal value, etc. Note that the p-values can become extremely small when significant. \n",
    "\n",
    "\n",
    "statistic DEF: \n",
    "\n",
    "citrerion DEF: \n",
    "\n"
   ]
  },
  {
   "cell_type": "code",
   "execution_count": 141,
   "metadata": {},
   "outputs": [
    {
     "name": "stdout",
     "output_type": "stream",
     "text": [
      "selected features: 10\n",
      "dropped features: 49\n",
      "selected features: \n",
      "['b_area', 'hh_monthly_income_cat', 'shp_sector', 'shp_employees', 'shp_avgmonthly_sale_cat', 'shp_suppliers_location.3', 'shp_suppliers_location.4', 'perception_who_responsible4protection.Rank1', 'shp_content_value_euro', 'shp_registered_capital_euro']\n",
      "\n",
      "Saving model to disk: ../../input_survey_data/fs_cit_Target_contentloss_euro.xlsx\n"
     ]
    }
   ],
   "source": [
    "## get signifcant features\n",
    "selected_feat = cit_stats.loc[:, cit_stats.loc[\"p_value\",:]<= 0.05]\n",
    "\n",
    "## write selected predictors to disk\n",
    "save_selected_features(X_train, pd.DataFrame(y_train), selected_feat.columns, filename=f\"../../input_survey_data/fs_cit_{target}.xlsx\")\n"
   ]
  },
  {
   "cell_type": "markdown",
   "metadata": {},
   "source": [
    "### Feature importance"
   ]
  },
  {
   "cell_type": "code",
   "execution_count": 142,
   "metadata": {},
   "outputs": [
    {
     "data": {
      "image/png": "[encoded data removed]",
      "text/plain": [
       "<Figure size 1200x500 with 1 Axes>"
      ]
     },
     "metadata": {},
     "output_type": "display_data"
    }
   ],
   "source": [
    "# plot feature importance\n",
    "fig, ax = plt.subplots(figsize=(12,5))\n",
    "\n",
    "\n",
    "# drop features which dont reduce the loss\n",
    "# df_importance = df_importance.loc[df_importance.statistic > 3, : ]\n",
    "\n",
    "plt.bar(df_importance.index, df_importance.statistic)\n",
    "plt.xticks(\n",
    "    #ticks = range(len(selected_feat)),\n",
    "    #labels = X_unscaled.iloc[:,selected_feat],\n",
    "    rotation = 90\n",
    "    )\n",
    "plt.title(f\"Feature Importances for {target}\")\n",
    "\n",
    "plt.show()"
   ]
  },
  {
   "cell_type": "code",
   "execution_count": 113,
   "metadata": {},
   "outputs": [
    {
     "data": {
      "text/plain": [
       "(289,)"
      ]
     },
     "execution_count": 113,
     "metadata": {},
     "output_type": "execute_result"
    }
   ],
   "source": [
    "y_train.shape"
   ]
  },
  {
   "cell_type": "code",
   "execution_count": 114,
   "metadata": {},
   "outputs": [],
   "source": [
    "## Predict\n",
    "y_pred = stats.predict(cit_model, test, type=\"response\") #  type = \"prob\" # conditional class probabilities\n",
    "y_pred  = base.round(y_pred)\n",
    "\n",
    "## get back to python dtypes\n",
    "y_pred = np.array(y_pred)\n",
    "y_test = np.array(y_test)\n",
    "y_test = np.array(y_test)\n",
    "y_test = np.array(y_test)\n",
    "\n",
    "\n",
    "## TODO find good evaluation metrics eg R2 for training set \n",
    "## --> test via GridSearchCV and RepeatedKFold or RStatifiedKFold\n",
    "#r2 = np.corrcoef(X_train,y_train)**2 \n",
    "#print(f\"Training set score (R^2): {r2}\")\n",
    "#rmse = np.sqrt(mean_squared_error(y_test, y_pred))\n",
    "#print(\"RMSE:  {:.2f}\".format(rmse)) \n",
    "#np.mean((y_test - cit_pred)**2)\n"
   ]
  },
  {
   "cell_type": "markdown",
   "metadata": {},
   "source": [
    "## Model evaluation"
   ]
  },
  {
   "cell_type": "code",
   "execution_count": 46,
   "metadata": {},
   "outputs": [
    {
     "data": {
      "text/plain": [
       "rpy2.robjects.vectors.ListVector"
      ]
     },
     "execution_count": 46,
     "metadata": {},
     "output_type": "execute_result"
    }
   ],
   "source": [
    "cit_model_p = pickle.load(open(f\"./models_trained/cit_{target}\", 'rb'))\n",
    "type(cit_model_p)\n",
    "#cit_model_p.__dir__()"
   ]
  },
  {
   "cell_type": "code",
   "execution_count": 64,
   "metadata": {},
   "outputs": [
    {
     "name": "stderr",
     "output_type": "stream",
     "text": [
      "R[write to console]: Error in character_split(split_node(x), data = data, digits = digits,  : \n",
      "  unused argument (useS4 = FALSE)\n",
      "\n"
     ]
    },
    {
     "data": {
      "text/html": [
       "\n",
       "<emph>ListVector</emph> with 6 elements:\n",
       "<table class=\"rpy2_table\">\n",
       "<thead>\n",
       "</thead>\n",
       "<tbody>\n",
       "  <tr>\n",
       "    <td class=\"rpy2_rowname\">0</td>\n",
       "    <td class=\"rpy2_names\">3</td>\n",
       "    <td>[1]...</td>\n",
       "  </tr>\n",
       "  <tr>\n",
       "    <td class=\"rpy2_rowname\">1</td>\n",
       "    <td class=\"rpy2_names\">4</td>\n",
       "    <td>   ...</td>\n",
       "  </tr>\n",
       "  <tr>\n",
       "    <td class=\"rpy2_rowname\">2</td>\n",
       "    <td class=\"rpy2_names\">5</td>\n",
       "    <td>   ...</td>\n",
       "  </tr>\n",
       "  <tr>\n",
       "    <td class=\"rpy2_rowname\">3</td>\n",
       "    <td class=\"rpy2_names\">6</td>\n",
       "    <td>Target_co...</td>\n",
       "  </tr>\n",
       "  <tr>\n",
       "    <td class=\"rpy2_rowname\">4</td>\n",
       "    <td class=\"rpy2_names\">7</td>\n",
       "    <td>['3' '4'...</td>\n",
       "  </tr>\n",
       "  <tr>\n",
       "    <td class=\"rpy2_rowname\">5</td>\n",
       "    <td class=\"rpy2_names\">8</td>\n",
       "    <td>$call\n",
       "(fu...</td>\n",
       "  </tr>\n",
       "</tr>\n",
       "</tbody>\n",
       "</table>"
      ],
      "text/plain": [
       "<rpy2.robjects.vectors.ListVector object at 0x000001A44E42C400> [RTYPES.VECSXP]\n",
       "R classes: ('constparty', 'party')\n",
       "[ListS..., ListS..., ListS..., LangS..., StrSe..., ListS...]\n",
       "  3: <class 'rpy2.rinterface.ListSexpVector'>\n",
       "  <rpy2.rinterface.ListSexpVector object at 0x000001A44E511800> [RTYPES.VECSXP]\n",
       "  4: <class 'rpy2.rinterface.ListSexpVector'>\n",
       "  <rpy2.rinterface.ListSexpVector object at 0x000001A44E511B00> [RTYPES.VECSXP]\n",
       "  5: <class 'rpy2.rinterface.ListSexpVector'>\n",
       "  <rpy2.rinterface.ListSexpVector object at 0x000001A44E511800> [RTYPES.VECSXP]\n",
       "  6: <class 'rpy2.rinterface.LangSexpVector'>\n",
       "  <rpy2.rinterface.LangSexpVector object at 0x000001A44E511080> [RTYPES.LANGSXP]\n",
       "  7: <class 'rpy2.rinterface_lib.sexp.StrSexpVector'>\n",
       "  <rpy2.rinterface_lib.sexp.StrSexpVector object at 0x000001A44E511B00> [RTYPES.STRSXP]\n",
       "  8: <class 'rpy2.rinterface.ListSexpVector'>\n",
       "  <rpy2.rinterface.ListSexpVector object at 0x000001A44E511AC0> [RTYPES.VECSXP]"
      ]
     },
     "execution_count": 64,
     "metadata": {},
     "output_type": "execute_result"
    }
   ],
   "source": [
    "cit_model_p.rx(3)"
   ]
  },
  {
   "cell_type": "code",
   "execution_count": 50,
   "metadata": {},
   "outputs": [
    {
     "ename": "ValueError",
     "evalue": "setting an array element with a sequence. The requested array has an inhomogeneous shape after 1 dimensions. The detected shape was (6,) + inhomogeneous part.",
     "output_type": "error",
     "traceback": [
      "\u001b[1;31m---------------------------------------------------------------------------\u001b[0m",
      "\u001b[1;31mValueError\u001b[0m                                Traceback (most recent call last)",
      "\u001b[1;32mc:\\Users\\Anna\\Documents\\UNI\\MA_topic\\flood-loss-models-4-HCMC\\model_preprocessing\\Feature_selection\\cit_feature_selection.ipynb Cell 26\u001b[0m in \u001b[0;36m2\n\u001b[0;32m      <a href='vscode-notebook-cell:/c%3A/Users/Anna/Documents/UNI/MA_topic/flood-loss-models-4-HCMC/model_preprocessing/Feature_selection/cit_feature_selection.ipynb#X31sZmlsZQ%3D%3D?line=0'>1</a>\u001b[0m cit_model_p\u001b[39m.\u001b[39mnames\n\u001b[1;32m----> <a href='vscode-notebook-cell:/c%3A/Users/Anna/Documents/UNI/MA_topic/flood-loss-models-4-HCMC/model_preprocessing/Feature_selection/cit_feature_selection.ipynb#X31sZmlsZQ%3D%3D?line=1'>2</a>\u001b[0m cit_model_p \u001b[39m=\u001b[39m np\u001b[39m.\u001b[39;49marray(cit_model_p\u001b[39m.\u001b[39;49mrx(\u001b[39m3\u001b[39;49m))\n\u001b[0;32m      <a href='vscode-notebook-cell:/c%3A/Users/Anna/Documents/UNI/MA_topic/flood-loss-models-4-HCMC/model_preprocessing/Feature_selection/cit_feature_selection.ipynb#X31sZmlsZQ%3D%3D?line=2'>3</a>\u001b[0m cit_model_p\n",
      "\u001b[1;31mValueError\u001b[0m: setting an array element with a sequence. The requested array has an inhomogeneous shape after 1 dimensions. The detected shape was (6,) + inhomogeneous part."
     ]
    }
   ],
   "source": [
    "cit_model_p.names\n",
    "cit_model_p = np.array(cit_model_p.rx(3))\n",
    "cit_model_p"
   ]
  },
  {
   "cell_type": "code",
   "execution_count": 163,
   "metadata": {},
   "outputs": [
    {
     "ename": "InvalidParameterError",
     "evalue": "The 'estimator' parameter of check_scoring must be an object implementing 'fit'. Got <rpy2.robjects.vectors.ListVector object at 0x00000282FCAEBDC0> [RTYPES.VECSXP]\r\nR classes: ('constparty', 'party')\r\n[Lis..., Lis..., Lis..., Lan..., NUL..., Lis..., Sex..., Sex...]\r\n  1: <class 'rpy2.rinterface.ListSexpVector'>\r\n  <rpy2.rinterface.ListSexpVector object at 0x00000282DF5FD0C0> [RTYPES.VECSXP]\r\n  2: <class 'rpy2.rinterface.ListSexpVector'>\r\n  <rpy2.rinterface.ListSexpVector object at 0x00000282DF5FA0C0> [RTYPES.VECSXP]\r\n  3: <class 'rpy2.rinterface.ListSexpVector'>\r\n  <rpy2.rinterface.ListSexpVector object at 0x00000282DF5FD0C0> [RTYPES.VECSXP]\r\n  4: <class 'rpy2.rinterface.LangSexpVector'>\r\n  <rpy2.rinterface.LangSexpVector object at 0x00000282DF5FA0C0> [RTYPES.LANGSXP]\r\n  5: <class 'rpy2.rinterface_lib.sexp.NULLType'>\r\n  <rpy2.rinterface_lib.sexp.NULLType object at 0x00000282DEFB6780> [RTYPES.NILSXP]\r\n  6: <class 'rpy2.rinterface.ListSexpVector'>\r\n  <rpy2.rinterface.ListSexpVector object at 0x00000282DF5FA0C0> [RTYPES.VECSXP]\r\n  7: <class 'rpy2.rinterface.SexpClosure'>\r\n  <rpy2.rinterface.SexpClosure object at 0x00000282DF5FD0C0> [RTYPES.CLOSXP]\r\n  8: <class 'rpy2.rinterface.SexpClosure'>\r\n  <rpy2.rinterface.SexpClosure object at 0x00000282F202A5C0> [RTYPES.CLOSXP] instead.",
     "output_type": "error",
     "traceback": [
      "\u001b[1;31m---------------------------------------------------------------------------\u001b[0m",
      "\u001b[1;31mInvalidParameterError\u001b[0m                     Traceback (most recent call last)",
      "\u001b[1;32mc:\\Users\\Anna\\Documents\\UNI\\MA_topic\\flood-loss-models-4-HCMC\\model_preprocessing\\Feature_selection\\cit_feature_selection.ipynb Cell 20\u001b[0m in \u001b[0;36m4\n\u001b[0;32m      <a href='vscode-notebook-cell:/c%3A/Users/Anna/Documents/UNI/MA_topic/flood-loss-models-4-HCMC/model_preprocessing/Feature_selection/cit_feature_selection.ipynb#X43sZmlsZQ%3D%3D?line=1'>2</a>\u001b[0m cv \u001b[39m=\u001b[39m RepeatedStratifiedKFold(n_splits\u001b[39m=\u001b[39m\u001b[39m10\u001b[39m, n_repeats\u001b[39m=\u001b[39m\u001b[39m3\u001b[39m, random_state\u001b[39m=\u001b[39m\u001b[39m1\u001b[39m)\n\u001b[0;32m      <a href='vscode-notebook-cell:/c%3A/Users/Anna/Documents/UNI/MA_topic/flood-loss-models-4-HCMC/model_preprocessing/Feature_selection/cit_feature_selection.ipynb#X43sZmlsZQ%3D%3D?line=2'>3</a>\u001b[0m \u001b[39m# evaluate the model and collect the scores\u001b[39;00m\n\u001b[1;32m----> <a href='vscode-notebook-cell:/c%3A/Users/Anna/Documents/UNI/MA_topic/flood-loss-models-4-HCMC/model_preprocessing/Feature_selection/cit_feature_selection.ipynb#X43sZmlsZQ%3D%3D?line=3'>4</a>\u001b[0m n_scores \u001b[39m=\u001b[39m cross_val_score(cit_model, X, y, scoring\u001b[39m=\u001b[39;49m\u001b[39m'\u001b[39;49m\u001b[39maccuracy\u001b[39;49m\u001b[39m'\u001b[39;49m, cv\u001b[39m=\u001b[39;49mcv, n_jobs\u001b[39m=\u001b[39;49m\u001b[39m-\u001b[39;49m\u001b[39m1\u001b[39;49m)\n\u001b[0;32m      <a href='vscode-notebook-cell:/c%3A/Users/Anna/Documents/UNI/MA_topic/flood-loss-models-4-HCMC/model_preprocessing/Feature_selection/cit_feature_selection.ipynb#X43sZmlsZQ%3D%3D?line=5'>6</a>\u001b[0m \u001b[39mprint\u001b[39m(\u001b[39m'\u001b[39m\u001b[39mMean Accuracy: \u001b[39m\u001b[39m%.3f\u001b[39;00m\u001b[39m (\u001b[39m\u001b[39m%.3f\u001b[39;00m\u001b[39m)\u001b[39m\u001b[39m'\u001b[39m \u001b[39m%\u001b[39m (np\u001b[39m.\u001b[39mmean(n_scores), np\u001b[39m.\u001b[39mstd(n_scores)))\n",
      "File \u001b[1;32mc:\\Anaconda\\envs\\py396_c3\\lib\\site-packages\\sklearn\\model_selection\\_validation.py:560\u001b[0m, in \u001b[0;36mcross_val_score\u001b[1;34m(estimator, X, y, groups, scoring, cv, n_jobs, verbose, fit_params, pre_dispatch, error_score)\u001b[0m\n\u001b[0;32m    442\u001b[0m \u001b[39m\"\"\"Evaluate a score by cross-validation.\u001b[39;00m\n\u001b[0;32m    443\u001b[0m \n\u001b[0;32m    444\u001b[0m \u001b[39mRead more in the :ref:`User Guide <cross_validation>`.\u001b[39;00m\n\u001b[1;32m   (...)\u001b[0m\n\u001b[0;32m    557\u001b[0m \u001b[39m[0.3315057  0.08022103 0.03531816]\u001b[39;00m\n\u001b[0;32m    558\u001b[0m \u001b[39m\"\"\"\u001b[39;00m\n\u001b[0;32m    559\u001b[0m \u001b[39m# To ensure multimetric format is not supported\u001b[39;00m\n\u001b[1;32m--> 560\u001b[0m scorer \u001b[39m=\u001b[39m check_scoring(estimator, scoring\u001b[39m=\u001b[39;49mscoring)\n\u001b[0;32m    562\u001b[0m cv_results \u001b[39m=\u001b[39m cross_validate(\n\u001b[0;32m    563\u001b[0m     estimator\u001b[39m=\u001b[39mestimator,\n\u001b[0;32m    564\u001b[0m     X\u001b[39m=\u001b[39mX,\n\u001b[1;32m   (...)\u001b[0m\n\u001b[0;32m    573\u001b[0m     error_score\u001b[39m=\u001b[39merror_score,\n\u001b[0;32m    574\u001b[0m )\n\u001b[0;32m    575\u001b[0m \u001b[39mreturn\u001b[39;00m cv_results[\u001b[39m\"\u001b[39m\u001b[39mtest_score\u001b[39m\u001b[39m\"\u001b[39m]\n",
      "File \u001b[1;32mc:\\Anaconda\\envs\\py396_c3\\lib\\site-packages\\sklearn\\utils\\_param_validation.py:201\u001b[0m, in \u001b[0;36mvalidate_params.<locals>.decorator.<locals>.wrapper\u001b[1;34m(*args, **kwargs)\u001b[0m\n\u001b[0;32m    198\u001b[0m to_ignore \u001b[39m+\u001b[39m\u001b[39m=\u001b[39m [\u001b[39m\"\u001b[39m\u001b[39mself\u001b[39m\u001b[39m\"\u001b[39m, \u001b[39m\"\u001b[39m\u001b[39mcls\u001b[39m\u001b[39m\"\u001b[39m]\n\u001b[0;32m    199\u001b[0m params \u001b[39m=\u001b[39m {k: v \u001b[39mfor\u001b[39;00m k, v \u001b[39min\u001b[39;00m params\u001b[39m.\u001b[39marguments\u001b[39m.\u001b[39mitems() \u001b[39mif\u001b[39;00m k \u001b[39mnot\u001b[39;00m \u001b[39min\u001b[39;00m to_ignore}\n\u001b[1;32m--> 201\u001b[0m validate_parameter_constraints(\n\u001b[0;32m    202\u001b[0m     parameter_constraints, params, caller_name\u001b[39m=\u001b[39;49mfunc\u001b[39m.\u001b[39;49m\u001b[39m__qualname__\u001b[39;49m\n\u001b[0;32m    203\u001b[0m )\n\u001b[0;32m    205\u001b[0m \u001b[39mtry\u001b[39;00m:\n\u001b[0;32m    206\u001b[0m     \u001b[39mwith\u001b[39;00m config_context(\n\u001b[0;32m    207\u001b[0m         skip_parameter_validation\u001b[39m=\u001b[39m(\n\u001b[0;32m    208\u001b[0m             prefer_skip_nested_validation \u001b[39mor\u001b[39;00m global_skip_validation\n\u001b[0;32m    209\u001b[0m         )\n\u001b[0;32m    210\u001b[0m     ):\n",
      "File \u001b[1;32mc:\\Anaconda\\envs\\py396_c3\\lib\\site-packages\\sklearn\\utils\\_param_validation.py:95\u001b[0m, in \u001b[0;36mvalidate_parameter_constraints\u001b[1;34m(parameter_constraints, params, caller_name)\u001b[0m\n\u001b[0;32m     89\u001b[0m \u001b[39melse\u001b[39;00m:\n\u001b[0;32m     90\u001b[0m     constraints_str \u001b[39m=\u001b[39m (\n\u001b[0;32m     91\u001b[0m         \u001b[39mf\u001b[39m\u001b[39m\"\u001b[39m\u001b[39m{\u001b[39;00m\u001b[39m'\u001b[39m\u001b[39m, \u001b[39m\u001b[39m'\u001b[39m\u001b[39m.\u001b[39mjoin([\u001b[39mstr\u001b[39m(c) \u001b[39mfor\u001b[39;00m c \u001b[39min\u001b[39;00m constraints[:\u001b[39m-\u001b[39m\u001b[39m1\u001b[39m]])\u001b[39m}\u001b[39;00m\u001b[39m or\u001b[39m\u001b[39m\"\u001b[39m\n\u001b[0;32m     92\u001b[0m         \u001b[39mf\u001b[39m\u001b[39m\"\u001b[39m\u001b[39m \u001b[39m\u001b[39m{\u001b[39;00mconstraints[\u001b[39m-\u001b[39m\u001b[39m1\u001b[39m]\u001b[39m}\u001b[39;00m\u001b[39m\"\u001b[39m\n\u001b[0;32m     93\u001b[0m     )\n\u001b[1;32m---> 95\u001b[0m \u001b[39mraise\u001b[39;00m InvalidParameterError(\n\u001b[0;32m     96\u001b[0m     \u001b[39mf\u001b[39m\u001b[39m\"\u001b[39m\u001b[39mThe \u001b[39m\u001b[39m{\u001b[39;00mparam_name\u001b[39m!r}\u001b[39;00m\u001b[39m parameter of \u001b[39m\u001b[39m{\u001b[39;00mcaller_name\u001b[39m}\u001b[39;00m\u001b[39m must be\u001b[39m\u001b[39m\"\u001b[39m\n\u001b[0;32m     97\u001b[0m     \u001b[39mf\u001b[39m\u001b[39m\"\u001b[39m\u001b[39m \u001b[39m\u001b[39m{\u001b[39;00mconstraints_str\u001b[39m}\u001b[39;00m\u001b[39m. Got \u001b[39m\u001b[39m{\u001b[39;00mparam_val\u001b[39m!r}\u001b[39;00m\u001b[39m instead.\u001b[39m\u001b[39m\"\u001b[39m\n\u001b[0;32m     98\u001b[0m )\n",
      "\u001b[1;31mInvalidParameterError\u001b[0m: The 'estimator' parameter of check_scoring must be an object implementing 'fit'. Got <rpy2.robjects.vectors.ListVector object at 0x00000282FCAEBDC0> [RTYPES.VECSXP]\r\nR classes: ('constparty', 'party')\r\n[Lis..., Lis..., Lis..., Lan..., NUL..., Lis..., Sex..., Sex...]\r\n  1: <class 'rpy2.rinterface.ListSexpVector'>\r\n  <rpy2.rinterface.ListSexpVector object at 0x00000282DF5FD0C0> [RTYPES.VECSXP]\r\n  2: <class 'rpy2.rinterface.ListSexpVector'>\r\n  <rpy2.rinterface.ListSexpVector object at 0x00000282DF5FA0C0> [RTYPES.VECSXP]\r\n  3: <class 'rpy2.rinterface.ListSexpVector'>\r\n  <rpy2.rinterface.ListSexpVector object at 0x00000282DF5FD0C0> [RTYPES.VECSXP]\r\n  4: <class 'rpy2.rinterface.LangSexpVector'>\r\n  <rpy2.rinterface.LangSexpVector object at 0x00000282DF5FA0C0> [RTYPES.LANGSXP]\r\n  5: <class 'rpy2.rinterface_lib.sexp.NULLType'>\r\n  <rpy2.rinterface_lib.sexp.NULLType object at 0x00000282DEFB6780> [RTYPES.NILSXP]\r\n  6: <class 'rpy2.rinterface.ListSexpVector'>\r\n  <rpy2.rinterface.ListSexpVector object at 0x00000282DF5FA0C0> [RTYPES.VECSXP]\r\n  7: <class 'rpy2.rinterface.SexpClosure'>\r\n  <rpy2.rinterface.SexpClosure object at 0x00000282DF5FD0C0> [RTYPES.CLOSXP]\r\n  8: <class 'rpy2.rinterface.SexpClosure'>\r\n  <rpy2.rinterface.SexpClosure object at 0x00000282F202A5C0> [RTYPES.CLOSXP] instead."
     ]
    }
   ],
   "source": [
    "# define the model evaluation by k-fold CV\n",
    "cv = RepeatedStratifiedKFold(n_splits=10, n_repeats=3, random_state=1)\n",
    "# evaluate the model and collect the scores\n",
    "n_scores = cross_val_score(cit_model_p, X, y, scoring='accuracy', cv=cv, n_jobs=-1)\n",
    "\n",
    "print('Mean Accuracy: %.3f (%.3f)' % (np.mean(n_scores), np.std(n_scores)))"
   ]
  },
  {
   "cell_type": "code",
   "execution_count": null,
   "metadata": {},
   "outputs": [],
   "source": [
    "# compare r2 for train and test sets (for all polynomial fits)\n",
    "print(\"R-squared values: \\n\")\n",
    "\n",
    "for i, degree in enumerate(degrees):\n",
    "    train_r2 = round(sklearn.metrics.r2_score(y_train, y_train_pred[:, i]), 2)\n",
    "    test_r2 = round(sklearn.metrics.r2_score(y_test, y_test_pred[:, i]), 2)\n",
    "    print(\"Polynomial degree {0}: train score={1}, test score={2}\".format(degree, \n",
    "                                                                         train_r2, \n",
    "                                                                         test_r2))"
   ]
  },
  {
   "cell_type": "code",
   "execution_count": null,
   "metadata": {},
   "outputs": [
    {
     "data": {
      "text/plain": [
       "(265,)"
      ]
     },
     "metadata": {},
     "output_type": "display_data"
    }
   ],
   "source": []
  },
  {
   "cell_type": "code",
   "execution_count": null,
   "metadata": {},
   "outputs": [],
   "source": []
  }
 ],
 "metadata": {
  "kernelspec": {
   "display_name": "py396_c3",
   "language": "python",
   "name": "python3"
  },
  "language_info": {
   "codemirror_mode": {
    "name": "ipython",
    "version": 3
   },
   "file_extension": ".py",
   "mimetype": "text/x-python",
   "name": "python",
   "nbconvert_exporter": "python",
   "pygments_lexer": "ipython3",
   "version": "3.9.6"
  },
  "orig_nbformat": 4
 },
 "nbformat": 4,
 "nbformat_minor": 2
}
