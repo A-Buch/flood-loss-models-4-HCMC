{
 "cells": [
  {
   "cell_type": "code",
   "execution_count": 374,
   "metadata": {},
   "outputs": [],
   "source": [
    "#!/usr/bin/env python\n",
    "# -*- coding: utf-8 -*-\n",
    "\"\"\"Data preprocessing for HCMC survey dataset\"\"\"\n",
    "\n",
    "__author__ = \"Anna Buch, Heidelberg University\"\n",
    "__email__ = \"a.buch@stud.uni-heidelberg.de\"\n"
   ]
  },
  {
   "cell_type": "markdown",
   "metadata": {},
   "source": [
    "# Feature selection done by Conditional Inference Trees and its Random Forest adaption\n",
    "\n",
    "CIT uses p-value as one-a-split criterion instead of using homogeneity. The algorithm will pick the feature with the least p-value and will start splitting from it. Then it will keep going until it no longer finds statistically significant p-value or some other criteria have met such as minimum node size or max split. "
   ]
  },
  {
   "cell_type": "code",
   "execution_count": 375,
   "metadata": {},
   "outputs": [
    {
     "data": {
      "text/plain": [
       "<Figure size 2000x1000 with 0 Axes>"
      ]
     },
     "metadata": {},
     "output_type": "display_data"
    }
   ],
   "source": [
    "import sys\n",
    "import numpy as np\n",
    "import pandas as pd\n",
    "import pickle\n",
    "\n",
    "from sklearn.metrics import r2_score, mean_squared_error, mean_absolute_error\n",
    "from sklearn.model_selection import train_test_split\n",
    "from sklearn.pipeline import Pipeline\n",
    "\n",
    "import matplotlib.pyplot as plt\n",
    "\n",
    "sys.path.insert(0, \"../../../\")\n",
    "import utils.utils_feature_selection as fs\n",
    "import utils.settings as s\n",
    "import utils.utils_evaluation as e\n",
    "\n",
    "s.init()\n",
    "seed = s.seed\n",
    "\n",
    "\n",
    "pd.set_option('display.max_columns', None)\n",
    "plt.figure(figsize=(20, 10))\n",
    "\n",
    "import warnings\n",
    "warnings.filterwarnings('ignore')\n",
    "\n",
    "\n",
    "# ruff check ./model_preprocessing/Feature_selection/utils_feature_selection.py --fix"
   ]
  },
  {
   "cell_type": "markdown",
   "metadata": {},
   "source": [
    "## Load R packages to process Conditional Random Forest in python\n",
    "*Note 1: all needed R packages have to be previously loaded in R*\n",
    "\n",
    "*Note 2: Make sure that caret package version >= 6.0-81, otherwise caret.train() throws an error*"
   ]
  },
  {
   "cell_type": "code",
   "execution_count": 376,
   "metadata": {},
   "outputs": [],
   "source": [
    "import rpy2\n",
    "import rpy2.robjects as robjects\n",
    "from rpy2.robjects.packages import importr, data\n",
    "import rpy2.robjects.packages as rpackages\n",
    "\n",
    "\n",
    "# get basic R packages\n",
    "utils = importr('utils')\n",
    "base = importr('base')\n",
    "dplyr = importr('dplyr')\n",
    "stats = importr(\"stats\")\n",
    "\n",
    "# pandas.DataFrames to R dataframes \n",
    "from rpy2.robjects import pandas2ri, Formula\n",
    "pandas2ri.activate()\n",
    "\n",
    "# print r df in html\n",
    "import rpy2.ipython.html\n",
    "rpy2.ipython.html.init_printing()\n",
    "\n",
    "\n",
    "# get libraries for CRF processing, ctree_controls etc\n",
    "partykit = importr('partykit')\n",
    "party = importr('party')\n",
    "caret = importr('caret') # package version >=\n",
    "#stablelearner = importr('stablelearner')\n",
    "ggplot2 = importr('ggplot2')\n"
   ]
  },
  {
   "cell_type": "markdown",
   "metadata": {},
   "source": [
    "### input data"
   ]
  },
  {
   "cell_type": "code",
   "execution_count": 377,
   "metadata": {},
   "outputs": [
    {
     "name": "stdout",
     "output_type": "stream",
     "text": [
      "(397, 50)\n"
     ]
    },
    {
     "data": {
      "text/html": [
       "<div>\n",
       "<style scoped>\n",
       "    .dataframe tbody tr th:only-of-type {\n",
       "        vertical-align: middle;\n",
       "    }\n",
       "\n",
       "    .dataframe tbody tr th {\n",
       "        vertical-align: top;\n",
       "    }\n",
       "\n",
       "    .dataframe thead th {\n",
       "        text-align: right;\n",
       "    }\n",
       "</style>\n",
       "<table border=\"1\" class=\"dataframe\">\n",
       "  <thead>\n",
       "    <tr style=\"text-align: right;\">\n",
       "      <th></th>\n",
       "      <th>Target_businessreduction</th>\n",
       "      <th>inundation_duration_h</th>\n",
       "      <th>water_depth_cm</th>\n",
       "      <th>contaminations.0</th>\n",
       "      <th>flowvelocity</th>\n",
       "      <th>warning_time_h</th>\n",
       "      <th>emergency_measures.1</th>\n",
       "      <th>emergency_measures.2</th>\n",
       "      <th>emergency_measures.3</th>\n",
       "      <th>emergency_measures.4</th>\n",
       "      <th>emergency_measures.6</th>\n",
       "      <th>emergency_measures.7</th>\n",
       "      <th>emergency_measures.8</th>\n",
       "      <th>emergency_measures.9</th>\n",
       "      <th>overall_problem_house</th>\n",
       "      <th>protect_valuables_impl</th>\n",
       "      <th>water_barriers_impl</th>\n",
       "      <th>pumping_equipment_impl</th>\n",
       "      <th>elevation_building_impl</th>\n",
       "      <th>resistant_material_building_impl</th>\n",
       "      <th>electricity_higher_impl</th>\n",
       "      <th>flood_protections_impl</th>\n",
       "      <th>flood_experience</th>\n",
       "      <th>elevation_building_height_cm</th>\n",
       "      <th>elevation_rel2surrounding_cat</th>\n",
       "      <th>bage</th>\n",
       "      <th>b_area</th>\n",
       "      <th>hh_monthly_income_cat</th>\n",
       "      <th>shp_owner</th>\n",
       "      <th>shp_sector</th>\n",
       "      <th>shp_employees</th>\n",
       "      <th>shp_avgmonthly_sale_cat</th>\n",
       "      <th>shp_finance_investments</th>\n",
       "      <th>shp_profits_last5years</th>\n",
       "      <th>shp_risk_tolerance</th>\n",
       "      <th>shp_monetary_resources4prevention</th>\n",
       "      <th>resilience_city_protection</th>\n",
       "      <th>resilience_more_future_affected</th>\n",
       "      <th>resilience_govern_warnings_helpful</th>\n",
       "      <th>resilience_govern_careing</th>\n",
       "      <th>resilience_left_alone</th>\n",
       "      <th>resilience_neighbor_management</th>\n",
       "      <th>perception_who_responsible4protection.Rank1</th>\n",
       "      <th>perception_private_economy_future</th>\n",
       "      <th>contaminations_light</th>\n",
       "      <th>contaminations_heavy</th>\n",
       "      <th>shp_suppliers_HCMC</th>\n",
       "      <th>shp_content_value_euro</th>\n",
       "      <th>elevation_m</th>\n",
       "      <th>shp_registered_capital_euro</th>\n",
       "    </tr>\n",
       "  </thead>\n",
       "  <tbody>\n",
       "    <tr>\n",
       "      <th>395</th>\n",
       "      <td>NaN</td>\n",
       "      <td>4.0</td>\n",
       "      <td>70.0</td>\n",
       "      <td>0</td>\n",
       "      <td>1</td>\n",
       "      <td>NaN</td>\n",
       "      <td>1</td>\n",
       "      <td>0</td>\n",
       "      <td>1</td>\n",
       "      <td>0</td>\n",
       "      <td>1</td>\n",
       "      <td>0</td>\n",
       "      <td>0</td>\n",
       "      <td>0</td>\n",
       "      <td>1</td>\n",
       "      <td>1</td>\n",
       "      <td>5</td>\n",
       "      <td>1</td>\n",
       "      <td>1</td>\n",
       "      <td>5</td>\n",
       "      <td>5</td>\n",
       "      <td>5</td>\n",
       "      <td>5</td>\n",
       "      <td>70.0</td>\n",
       "      <td>1</td>\n",
       "      <td>NaN</td>\n",
       "      <td>130.0</td>\n",
       "      <td>NaN</td>\n",
       "      <td>1</td>\n",
       "      <td>17</td>\n",
       "      <td>2</td>\n",
       "      <td>3</td>\n",
       "      <td>1</td>\n",
       "      <td>4.0</td>\n",
       "      <td>3.0</td>\n",
       "      <td>3.0</td>\n",
       "      <td>1.0</td>\n",
       "      <td>5.0</td>\n",
       "      <td>1.0</td>\n",
       "      <td>1.0</td>\n",
       "      <td>5</td>\n",
       "      <td>1.0</td>\n",
       "      <td>2.0</td>\n",
       "      <td>3.0</td>\n",
       "      <td>1</td>\n",
       "      <td>0</td>\n",
       "      <td>1</td>\n",
       "      <td>NaN</td>\n",
       "      <td>1.83886</td>\n",
       "      <td>11047.7</td>\n",
       "    </tr>\n",
       "    <tr>\n",
       "      <th>396</th>\n",
       "      <td>0.0</td>\n",
       "      <td>3.0</td>\n",
       "      <td>100.0</td>\n",
       "      <td>0</td>\n",
       "      <td>1</td>\n",
       "      <td>NaN</td>\n",
       "      <td>1</td>\n",
       "      <td>0</td>\n",
       "      <td>1</td>\n",
       "      <td>0</td>\n",
       "      <td>0</td>\n",
       "      <td>0</td>\n",
       "      <td>0</td>\n",
       "      <td>0</td>\n",
       "      <td>0</td>\n",
       "      <td>1</td>\n",
       "      <td>5</td>\n",
       "      <td>5</td>\n",
       "      <td>5</td>\n",
       "      <td>5</td>\n",
       "      <td>5</td>\n",
       "      <td>5</td>\n",
       "      <td>4</td>\n",
       "      <td>NaN</td>\n",
       "      <td>0</td>\n",
       "      <td>5.0</td>\n",
       "      <td>33.0</td>\n",
       "      <td>1.0</td>\n",
       "      <td>1</td>\n",
       "      <td>11</td>\n",
       "      <td>2</td>\n",
       "      <td>3</td>\n",
       "      <td>1</td>\n",
       "      <td>4.0</td>\n",
       "      <td>3.0</td>\n",
       "      <td>4.0</td>\n",
       "      <td>NaN</td>\n",
       "      <td>NaN</td>\n",
       "      <td>NaN</td>\n",
       "      <td>NaN</td>\n",
       "      <td>5</td>\n",
       "      <td>NaN</td>\n",
       "      <td>3.0</td>\n",
       "      <td>3.0</td>\n",
       "      <td>1</td>\n",
       "      <td>0</td>\n",
       "      <td>1</td>\n",
       "      <td>NaN</td>\n",
       "      <td>1.87277</td>\n",
       "      <td>736.5</td>\n",
       "    </tr>\n",
       "  </tbody>\n",
       "</table>\n",
       "</div>"
      ],
      "text/plain": [
       "     Target_businessreduction  inundation_duration_h  water_depth_cm   \n",
       "395                       NaN                    4.0            70.0  \\\n",
       "396                       0.0                    3.0           100.0   \n",
       "\n",
       "     contaminations.0  flowvelocity  warning_time_h  emergency_measures.1   \n",
       "395                 0             1             NaN                     1  \\\n",
       "396                 0             1             NaN                     1   \n",
       "\n",
       "     emergency_measures.2  emergency_measures.3  emergency_measures.4   \n",
       "395                     0                     1                     0  \\\n",
       "396                     0                     1                     0   \n",
       "\n",
       "     emergency_measures.6  emergency_measures.7  emergency_measures.8   \n",
       "395                     1                     0                     0  \\\n",
       "396                     0                     0                     0   \n",
       "\n",
       "     emergency_measures.9  overall_problem_house  protect_valuables_impl   \n",
       "395                     0                      1                       1  \\\n",
       "396                     0                      0                       1   \n",
       "\n",
       "     water_barriers_impl  pumping_equipment_impl  elevation_building_impl   \n",
       "395                    5                       1                        1  \\\n",
       "396                    5                       5                        5   \n",
       "\n",
       "     resistant_material_building_impl  electricity_higher_impl   \n",
       "395                                 5                        5  \\\n",
       "396                                 5                        5   \n",
       "\n",
       "     flood_protections_impl  flood_experience  elevation_building_height_cm   \n",
       "395                       5                 5                          70.0  \\\n",
       "396                       5                 4                           NaN   \n",
       "\n",
       "     elevation_rel2surrounding_cat  bage  b_area  hh_monthly_income_cat   \n",
       "395                              1   NaN   130.0                    NaN  \\\n",
       "396                              0   5.0    33.0                    1.0   \n",
       "\n",
       "     shp_owner  shp_sector  shp_employees  shp_avgmonthly_sale_cat   \n",
       "395          1          17              2                        3  \\\n",
       "396          1          11              2                        3   \n",
       "\n",
       "     shp_finance_investments  shp_profits_last5years  shp_risk_tolerance   \n",
       "395                        1                     4.0                 3.0  \\\n",
       "396                        1                     4.0                 3.0   \n",
       "\n",
       "     shp_monetary_resources4prevention  resilience_city_protection   \n",
       "395                                3.0                         1.0  \\\n",
       "396                                4.0                         NaN   \n",
       "\n",
       "     resilience_more_future_affected  resilience_govern_warnings_helpful   \n",
       "395                              5.0                                 1.0  \\\n",
       "396                              NaN                                 NaN   \n",
       "\n",
       "     resilience_govern_careing  resilience_left_alone   \n",
       "395                        1.0                      5  \\\n",
       "396                        NaN                      5   \n",
       "\n",
       "     resilience_neighbor_management   \n",
       "395                             1.0  \\\n",
       "396                             NaN   \n",
       "\n",
       "     perception_who_responsible4protection.Rank1   \n",
       "395                                          2.0  \\\n",
       "396                                          3.0   \n",
       "\n",
       "     perception_private_economy_future  contaminations_light   \n",
       "395                                3.0                     1  \\\n",
       "396                                3.0                     1   \n",
       "\n",
       "     contaminations_heavy  shp_suppliers_HCMC  shp_content_value_euro   \n",
       "395                     0                   1                     NaN  \\\n",
       "396                     0                   1                     NaN   \n",
       "\n",
       "     elevation_m  shp_registered_capital_euro  \n",
       "395      1.83886                      11047.7  \n",
       "396      1.87277                        736.5  "
      ]
     },
     "execution_count": 377,
     "metadata": {},
     "output_type": "execute_result"
    }
   ],
   "source": [
    "#df_candidates = pd.read_excel(\"../../../input_survey_data/input_data_contentloss.xlsx\")\n",
    "df_candidates = pd.read_excel(\"../../../input_survey_data/input_data_businessreduction.xlsx\")\n",
    "print(df_candidates.shape)\n",
    "df_candidates.tail(2)\n"
   ]
  },
  {
   "cell_type": "code",
   "execution_count": 378,
   "metadata": {},
   "outputs": [],
   "source": [
    "targets = [\"Target_contentloss_euro\", \"Target_businessreduction\"]\n",
    "target = targets[1]\n",
    "\n",
    "## TODO make entire wokflow as loop over both target variables\n",
    "# ## iterate over both targets and store results \n",
    "# for target in [\"Target_contentloss_euro\", \"Target_businessreduction\"]:\n",
    "\n",
    "#     print( f\"Apply Elastic Net on {target}:\\n\")\n",
    "#     y = df_candidates[target]"
   ]
  },
  {
   "cell_type": "code",
   "execution_count": 379,
   "metadata": {},
   "outputs": [
    {
     "name": "stdout",
     "output_type": "stream",
     "text": [
      "Percentage of missing valeus per feature\n",
      " shp_content_value_euro                         0.158690\n",
      "shp_registered_capital_euro                    0.118388\n",
      "Target_businessreduction                       0.090680\n",
      "perception_who_responsible4protection.Rank1    0.070529\n",
      "shp_risk_tolerance                             0.070529\n",
      "bage                                           0.068010\n",
      "perception_private_economy_future              0.065491\n",
      "hh_monthly_income_cat                          0.060453\n",
      "resilience_govern_careing                      0.057935\n",
      "resilience_govern_warnings_helpful             0.045340\n",
      "shp_monetary_resources4prevention              0.045340\n",
      "resilience_more_future_affected                0.037783\n",
      "resilience_city_protection                     0.037783\n",
      "shp_profits_last5years                         0.037783\n",
      "resilience_neighbor_management                 0.027708\n",
      "dtype: float64\n"
     ]
    }
   ],
   "source": [
    "## delete features with more than 10% missing values\n",
    "\n",
    "# drop warning time due to 77% nan\n",
    "df_candidates = df_candidates.drop(\"warning_time_h\", axis=1)\n",
    "df_candidates = df_candidates.drop(\"emergency_measures.9\", axis=1)\n",
    "df_candidates = df_candidates.drop(\"contaminations_light\", axis=1)\n",
    "df_candidates = df_candidates.drop(\"elevation_building_height_cm\", axis=1)\n",
    "\n",
    "print(\"Percentage of missing valeus per feature\\n\", df_candidates.isna().mean().sort_values(ascending=False)[:15] ) \n"
   ]
  },
  {
   "cell_type": "code",
   "execution_count": 380,
   "metadata": {},
   "outputs": [],
   "source": [
    "## drop records with nan\n",
    "# df_candidates = df_candidates.dropna()"
   ]
  },
  {
   "cell_type": "markdown",
   "metadata": {},
   "source": [
    "### select only damage cases"
   ]
  },
  {
   "cell_type": "code",
   "execution_count": 381,
   "metadata": {},
   "outputs": [
    {
     "name": "stdout",
     "output_type": "stream",
     "text": [
      "Removing 149 zero loss records\n",
      "Keeping (248, 46) damage cases for model training and evaluation\n"
     ]
    }
   ],
   "source": [
    "print(f\"Removing {df_candidates.loc[df_candidates[target]==0.00,:].shape[0]} zero loss records\")\n",
    "df_candidates = df_candidates.loc[df_candidates[target]!=0.00,:]\n",
    "\n",
    "print(f\"Keeping {df_candidates.shape} damage cases for model training and evaluation\")"
   ]
  },
  {
   "cell_type": "markdown",
   "metadata": {},
   "source": [
    "## Split Data"
   ]
  },
  {
   "cell_type": "code",
   "execution_count": 394,
   "metadata": {},
   "outputs": [
    {
     "name": "stdout",
     "output_type": "stream",
     "text": [
      "(212, 46)\n"
     ]
    }
   ],
   "source": [
    "## remove records where target information is missing\n",
    "df_candidates = df_candidates[ ~df_candidates[f\"{target}\"].isna()]\n",
    "print(df_candidates.shape)\n",
    "\n",
    "X = df_candidates.drop(target, axis=1)\n",
    "y = df_candidates[target]\n",
    "\n",
    "\n",
    "## TEST: replace nan with median of each variable\n",
    "for c in X.columns:\n",
    "   X[c].fillna(X[c].mean(), inplace=True)"
   ]
  },
  {
   "cell_type": "code",
   "execution_count": 395,
   "metadata": {},
   "outputs": [
    {
     "name": "stdout",
     "output_type": "stream",
     "text": [
      "Training size (190, 45)\n",
      "Test size (22, 45)\n"
     ]
    }
   ],
   "source": [
    "## test train split\n",
    "X_train, X_test, y_train, y_test = train_test_split(\n",
    "    X, y, test_size=0.10, \n",
    "    random_state=seed, shuffle=True\n",
    ")\n",
    "\n",
    "# normlaize via MinMaxScaler, transform X_train ,then use the fitted scaler for X_test\n",
    "X_train, X_test = fs.normalize_X(X_train, X_test)\n",
    "\n",
    "print(\"Training size\", X_train.shape)\n",
    "print(\"Test size\", X_test.shape)\n",
    "\n",
    "train = pd.concat([y_train.reset_index(), X_train], axis=1).drop(\"index\", axis=1)\n",
    "test = pd.concat([y_test.reset_index(), X_test], axis=1).drop(\"index\", axis=1)"
   ]
  },
  {
   "cell_type": "markdown",
   "metadata": {},
   "source": [
    "### Model fit"
   ]
  },
  {
   "cell_type": "code",
   "execution_count": 396,
   "metadata": {},
   "outputs": [],
   "source": [
    "# ## try out expand.grid() func\n",
    "\n",
    "# base.set_seed(seed)\n",
    "\n",
    "# train_control = caret.trainControl(\n",
    "#   method = \"repeatedcv\",\n",
    "#   number = 3,  \n",
    "#   repeats = 2,\n",
    "#   savePredictions = \"final\"  # saves predictions from optimal tuning parameters\n",
    "# )\n",
    "# robjects.r('''\n",
    "#     r_grid <- function(verbose=FALSE) {\n",
    "#       expand.grid(\n",
    "#         mtry = seq(0, 1, length.out = 4)\n",
    "#       )\n",
    "#     }\n",
    "#   ''')\n",
    "# r_grid = robjects.globalenv['r_grid']\n",
    "\n",
    "# crf_cv = caret.train(\n",
    "#   Formula(f'{target} ~ .'), \n",
    "#         data = train,\n",
    "#   method = \"cforest\",\n",
    "#   metric = \"RMSE\",\n",
    "#   tuneGrid = r_grid,\n",
    "#   ## TODO test tuneGrid in RStudio\n",
    "#   # tuneGrid = base.expand_grid(\n",
    "#   #   mtry = range(1, 40, 1),#seq(0, 1, length.out = 10),\n",
    "#   # ),\n",
    "# )\n",
    "# # controls = party.cforest_control( \n",
    "# #             #party.cforest_unbiased(\n",
    "# #             # only mtry gets tuned by grid\n",
    "# #             ntree = 100,  # didnt improved with 200 or 500 trees\n",
    "# #             #mincriterion = 0.5\n",
    "# #         ), \n",
    "\n",
    "# print(crf_cv)"
   ]
  },
  {
   "cell_type": "code",
   "execution_count": 397,
   "metadata": {},
   "outputs": [],
   "source": [
    "# ###############  CV with gridSearch TODO   ###################\n",
    "# # ## specify model\n",
    "# # cit_model = partykit.ctree(Formula('Target_contentloss_euro ~ .'),  \n",
    "# #                                 data=train\n",
    "# #                           )\n",
    "# # ## hyperparameter tunning \n",
    "# # param_dist = [{'mincriterion': 0.95}]\n",
    "# # cv = RepeatedStratifiedKFold(n_splits=10, n_repeats=3, random_state=1)\n",
    "\n",
    "# # cit_model_cv = GridSearchCV(estimator = cit_model, \n",
    "# #                          param_grid = param_dist\n",
    "# #                          )#, scoring= 'r2', cv = folds, verbose = 1,return_train_score=True)      \n",
    "\n",
    "# # # # fit the model\n",
    "# # cit_model_cv.fit(X_train, y_train)\n",
    "  \n",
    "\n",
    "# #################### without Hyperparameter tunning  #####################\n",
    "# base.set_seed(seed)\n",
    "\n",
    "# ## CV method\n",
    "# fitControl = caret.trainControl(\n",
    "#     method = \"repeatedcv\",  # \"oob\" - then no repeats are needed\n",
    "#     number = 10,   ## = K-folds\n",
    "#     repeats = 3,  # number of tried values for mtry\n",
    "#     savePredictions = \"final\"  # saves predictions from optimal tuning parameters\n",
    "#     )\n",
    "\n",
    "\n",
    "# # fit ctree\n",
    "# ## Minciterion = confidence level (smaller values => larger trees; e.g mincriterion=0.8, p-value must be smaller than 0.2 in order for a node to split)\n",
    "# cit_model = partykit.ctree(Formula(f'{target} ~ .'),  \n",
    "#                                 data=train,\n",
    "#                                 metric='MAE',#'RMSE',  # RMSE unit of target or use MAE due that more robust than RMSE further metrics options Rsquared, RMSE, MAE \n",
    "#                                 # RMSE penalizes large gaps more harshly than MAE\n",
    "#                                 maximize=False,\n",
    "#                                 control = partykit.ctree_control(mincriterion = 0.2),\n",
    "#                                 trcontrol=fitControl\n",
    "#                            )\n",
    "\n",
    "\n",
    "# ## store trained model for evaluation\n",
    "# filename = f'./models_trained/cit_{target}'\n",
    "# pickle.dump(cit_model, open(filename, 'wb'))\n",
    "\n",
    "#print(cit_model)"
   ]
  },
  {
   "cell_type": "code",
   "execution_count": 398,
   "metadata": {},
   "outputs": [],
   "source": [
    "# ## Predict\n",
    "# y_pred = stats.predict(cit_model, newdata=X_test)#, OOB=True, type=\"response\") #  type = \"prob\" # conditional class probabilities extractPrediction(\n",
    "# y_pred  = base.round(y_pred)\n",
    "\n",
    "# ## get back to python dtypes\n",
    "# y_pred = np.array(y_pred)\n",
    "# y_test = np.array(y_test)\n",
    "\n",
    "# ## print evaluation report + check for overfitting \n",
    "# y_pred_train = np.round(stats.predict(cit_model, newdata=X_train), 1)#.reshape(-1)\n",
    "# print(\"\\nTraining set\")\n",
    "# e.evaluation_report(y_train, y_pred_train, X_train.shape[1])\n",
    "\n",
    "# print(\"\\nTesting set\")\n",
    "# e.evaluation_report(y_test, y_pred, X_train.shape[1])  # 1590, 1306.9"
   ]
  },
  {
   "cell_type": "code",
   "execution_count": null,
   "metadata": {},
   "outputs": [],
   "source": []
  },
  {
   "cell_type": "code",
   "execution_count": 399,
   "metadata": {},
   "outputs": [
    {
     "name": "stdout",
     "output_type": "stream",
     "text": [
      "Conditional Inference Random Forest \n",
      "\n",
      "190 samples\n",
      " 45 predictor\n",
      "\n",
      "No pre-processing\n",
      "Resampling: Cross-Validated (10 fold, repeated 3 times) \n",
      "Summary of sample sizes: 172, 171, 172, 171, 171, 172, ... \n",
      "Resampling results across tuning parameters:\n",
      "\n",
      "  mtry  RMSE      Rsquared   MAE     \n",
      "   2    25.48330  0.2425026  20.53663\n",
      "  23    23.93954  0.2388424  18.95642\n",
      "  45    24.06058  0.2182478  19.02821\n",
      "\n",
      "MAE was used to select the optimal model using the smallest value.\n",
      "The final value used for the model was mtry = 23.\n",
      "\n"
     ]
    },
    {
     "data": {
      "text/plain": [
       "<rpy2.rinterface_lib.sexp.NULLType object at 0x00000221A0E6AC00> [RTYPES.NILSXP]"
      ]
     },
     "execution_count": 399,
     "metadata": {},
     "output_type": "execute_result"
    }
   ],
   "source": [
    "##  CV with gridSearch from R \n",
    "## Due that cforest is a R package it only accepts other R functions for tunning and cross validation  \n",
    "## CIT handles by default missing values in response, while CRF doesnt accept missing vlaues in response\n",
    "\n",
    "# ## Define the hyperparamters\n",
    "## NOTE: cant define hyperparameter ranges for cforest, caret.train(method=\"cforest\") is doing this by itself\n",
    "## train() Doc: https://search.r-project.org/CRAN/refmans/caret/html/train.html\n",
    "\n",
    "\n",
    "base.set_seed(seed)\n",
    "## CV method\n",
    "fitControl = caret.trainControl(\n",
    "    method = \"repeatedcv\",  # \"oob\" - then no repeats are needed\n",
    "    number = 10,   ## = K-folds\n",
    "    repeats = 3,  # number of tried values for mtry\n",
    "    savePredictions = \"final\"  # saves predictions from optimal tuning parameters\n",
    "    )\n",
    "\n",
    "# robjects.r('''\n",
    "#         r_grid <- function(verbose=FALSE) {\n",
    "#             expand.grid(ntree=10)\n",
    "#         }\n",
    "#     ''')\n",
    "# f = robjects.globalenv['r_grid']\n",
    "# createCfGrid = base.expand_grid(controls = party.cforest_control(mtry=3, ntree=200)) #qnorm() =90th percentile\n",
    "# mincriterion=stats.qnorm(0.9) # = default\n",
    "# \" train() will generate the grid for you. If you want to specify ntree you just pass a controls object in as another argument to train but leave out mtry:\"\"\n",
    "# https://stackoverflow.com/questions/20337137/run-cforest-with-controls-cforest-unbiased-using-caret-package?rq=4\n",
    "\n",
    "\n",
    "## CIT handles by default missing values in response, while CRF doesnt accept missing vlaues in response\n",
    "base.set_seed(seed)\n",
    "crf_cv = caret.train(\n",
    "        Formula(f'{target} ~ .'), \n",
    "        data = train,\n",
    "        method = \"cforest\",\n",
    "        metric='MAE',#'RMSE',  # RMSE unit of target or use MAE due that more robust than RMSE further metrics options Rsquared, RMSE, MAE \n",
    "        # RMSE penalizes large gaps more harshly than MAE\n",
    "        maximize=False,\n",
    "        #na_action =  stats.na_pass,\n",
    "        controls = party.cforest_control( \n",
    "           # party.cforest_unbiased(\n",
    "            # only mtry gets tuned by grid\n",
    "            mtry=2,  # mtry=0 =Bagging without random input var sampling\n",
    "            ntree = 500,  # didnt improved with 200 or 500 trees\n",
    "           # mincriterion = 0.05,   # the value of the test statistic (for testtype == \"Teststatistic\"), or 1 - p-value (for other values of testtype) that must be exceeded in order to implement a split.\n",
    "            #replace = True,\n",
    "            #fraction = 0.632,   # fraction of number of observations to draw without replacement (only relevant if replace = FALSE).\n",
    "        ),  # cforest_unbiased= subsampling without replacement repalce=False a\n",
    "        trControl = fitControl,\n",
    "        #tuneGrid = #params_grid, # createCfGrid\n",
    "        #verbose = False\n",
    "    )\n",
    "print(crf_cv) # 5687.575\n",
    "\n",
    "base.warnings()\n",
    "\n",
    "## cforest_control\n",
    "# kein mcriterion,tree=100:                            5452.801  0.1379846  1577.973\n",
    "#  mcriterion=0.5, tree=500:                           5462.640  0.1377202  1591.361\n",
    "# mtry=0, tree=500  replace = False , mtry = 2.       9694.786  0.1819220  4411.304\n",
    "## --> repalce=True deosnt necessary gives better results\n",
    "## --> mincriterion=0.5  \n",
    "\n",
    "## cforest_unbiased\n",
    "# no mcritierion possible, mtry=2, tree=500:             5452.889  0.1316165  1604.568\n",
    "#   \"\" same as above, just mtry=5 -> but used mtry=2:    5452.889  0.1316165  1604.568\n",
    "#   \"\" same as above, just mtry=0 (Bagging):               6807.178  0.1802000  1686.821\n",
    "# mtry was set to 0 -> but used mtry=42, tree=100 :                                   11517.79  0.1972586  4454.590\n"
   ]
  },
  {
   "cell_type": "code",
   "execution_count": 400,
   "metadata": {},
   "outputs": [
    {
     "data": {
      "text/html": [
       "\n",
       "<emph>DataFrame</emph> with 3 rows and\n",
       "  7 columns:\n",
       "<table class=\"rpy2_table\">\n",
       "  <thead>\n",
       "    <tr class=\"rpy2_names\">\n",
       "      <th></th>\n",
       "      <th></th>\n",
       "      <th>mtry</th>\n",
       "      <th>RMSE</th>\n",
       "      <th>Rsquared</th>\n",
       "      <th>MAE</th>\n",
       "      <th>...</th>\n",
       "      <th>RsquaredSD</th>\n",
       "      <th>MAESD</th>\n",
       "    </tr>\n",
       "  </thead>\n",
       "  <tbody>\n",
       "    <tr>\n",
       "      <td class=\"rpy2_rowname\">0</td>\n",
       "        <td class=\"rpy2_names\">1</td>\n",
       "      <td>2.0</td>\n",
       "      <td>25.48330461083507</td>\n",
       "      <td>0.24250259681507538</td>\n",
       "      <td>20.536625085899317</td>\n",
       "       <td>...</td>\n",
       "      <td>0.14339755914084396</td>\n",
       "      <td>1.529774909978735</td>\n",
       "    </tr>\n",
       "    <tr>\n",
       "      <td class=\"rpy2_rowname\">1</td>\n",
       "        <td class=\"rpy2_names\">2</td>\n",
       "      <td>23.0</td>\n",
       "      <td>23.939538267519293</td>\n",
       "      <td>0.23884237156159133</td>\n",
       "      <td>18.956418823971614</td>\n",
       "       <td>...</td>\n",
       "      <td>0.15722679073950155</td>\n",
       "      <td>1.4394468281118735</td>\n",
       "    </tr>\n",
       "    <tr>\n",
       "      <td class=\"rpy2_rowname\">2</td>\n",
       "        <td class=\"rpy2_names\">3</td>\n",
       "      <td>45.0</td>\n",
       "      <td>24.060580557983144</td>\n",
       "      <td>0.21824783822609783</td>\n",
       "      <td>19.02820656378757</td>\n",
       "       <td>...</td>\n",
       "      <td>0.1539817537193684</td>\n",
       "      <td>1.5206261339646008</td>\n",
       "    </tr>\n",
       "  </tbody>\n",
       "</table>"
      ],
      "text/plain": [
       "<rpy2.robjects.vectors.DataFrame object at 0x00000221B79F5940> [RTYPES.VECSXP]\n",
       "R classes: ('data.frame',)\n",
       "[Floa..., Floa..., Floa..., Floa..., Floa..., Floa..., Floa...]\n",
       "  mtry: <class 'rpy2.rinterface.FloatSexpVector'>\n",
       "  <rpy2.rinterface.FloatSexpVector object at 0x0000022193117400> [RTYPES.REALSXP]\n",
       "  RMSE: <class 'rpy2.rinterface.FloatSexpVector'>\n",
       "  <rpy2.rinterface.FloatSexpVector object at 0x0000022183030980> [RTYPES.REALSXP]\n",
       "  Rsquared: <class 'rpy2.rinterface.FloatSexpVector'>\n",
       "  <rpy2.rinterface.FloatSexpVector object at 0x00000221BC3C7540> [RTYPES.REALSXP]\n",
       "  MAE: <class 'rpy2.rinterface.FloatSexpVector'>\n",
       "  <rpy2.rinterface.FloatSexpVector object at 0x00000221BDA85400> [RTYPES.REALSXP]\n",
       "  RMSESD: <class 'rpy2.rinterface.FloatSexpVector'>\n",
       "  <rpy2.rinterface.FloatSexpVector object at 0x000002219194B280> [RTYPES.REALSXP]\n",
       "  RsquaredSD: <class 'rpy2.rinterface.FloatSexpVector'>\n",
       "  <rpy2.rinterface.FloatSexpVector object at 0x00000221BC30C700> [RTYPES.REALSXP]\n",
       "  MAESD: <class 'rpy2.rinterface.FloatSexpVector'>\n",
       "  <rpy2.rinterface.FloatSexpVector object at 0x00000221B7968840> [RTYPES.REALSXP]"
      ]
     },
     "execution_count": 400,
     "metadata": {},
     "output_type": "execute_result"
    }
   ],
   "source": [
    "## evalution results of the three tested models during CV and tunning\n",
    "fs.r_models_cv_results(crf_cv)\n"
   ]
  },
  {
   "cell_type": "code",
   "execution_count": 401,
   "metadata": {},
   "outputs": [],
   "source": [
    "## store trained model for evaluation\n",
    "filename = f'./models_trained/crf_{target}'\n",
    "pickle.dump(crf_cv, open(filename, 'wb'))\n"
   ]
  },
  {
   "cell_type": "code",
   "execution_count": 402,
   "metadata": {},
   "outputs": [
    {
     "name": "stdout",
     "output_type": "stream",
     "text": [
      "   mtry\n",
      "2  23.0\n"
     ]
    }
   ],
   "source": [
    "## get best model\n",
    "\n",
    "#print(crf_cv.names)#$param\n",
    "best_hyperparameters = fs.r_best_hyperparamters(crf_cv)\n",
    "best_hyperparameters = fs.r_dataframe_to_pandas(best_hyperparameters)\n",
    "print(best_hyperparameters)"
   ]
  },
  {
   "cell_type": "code",
   "execution_count": 403,
   "metadata": {},
   "outputs": [
    {
     "name": "stdout",
     "output_type": "stream",
     "text": [
      "\n",
      "\t Random Forest using Conditional Inference Trees\n",
      "\n",
      "Number of trees:  100 \n",
      "\n",
      "Response:  Target_businessreduction \n",
      "Inputs:  inundation_duration_h, water_depth_cm, contaminations.0, flowvelocity, emergency_measures.1, emergency_measures.2, emergency_measures.3, emergency_measures.4, emergency_measures.6, emergency_measures.7, emergency_measures.8, overall_problem_house, protect_valuables_impl, water_barriers_impl, pumping_equipment_impl, elevation_building_impl, resistant_material_building_impl, electricity_higher_impl, flood_protections_impl, flood_experience, elevation_rel2surrounding_cat, bage, b_area, hh_monthly_income_cat, shp_owner, shp_sector, shp_employees, shp_avgmonthly_sale_cat, shp_finance_investments, shp_profits_last5years, shp_risk_tolerance, shp_monetary_resources4prevention, resilience_city_protection, resilience_more_future_affected, resilience_govern_warnings_helpful, resilience_govern_careing, resilience_left_alone, resilience_neighbor_management, perception_who_responsible4protection.Rank1, perception_private_economy_future, contaminations_heavy, shp_suppliers_HCMC, shp_content_value_euro, elevation_m, shp_registered_capital_euro \n",
      "Number of observations:  190 \n",
      "\n",
      "\n"
     ]
    }
   ],
   "source": [
    "## refit model with best hyperparamters\n",
    "#cit_model = partykit.ctree(Formula(f'{target} ~ .'),  \n",
    "crf_model = party.cforest(Formula(f'{target} ~ .'),  \n",
    "                                data=train,\n",
    "                                #weights=1,\n",
    "                                control= party.cforest_control(mtry=best_hyperparameters.mtry, ntree=100)\n",
    "                                #control= party.cforest_unbiased(mtry=best_hyperparameters.mtry, ntree=150)\n",
    "                                #control = partykit.ctree_control(mincriterion = 0.8)\n",
    "                          )\n",
    "print(crf_model)"
   ]
  },
  {
   "cell_type": "markdown",
   "metadata": {},
   "source": [
    "## Model evaluation"
   ]
  },
  {
   "cell_type": "code",
   "execution_count": 404,
   "metadata": {},
   "outputs": [
    {
     "data": {
      "text/plain": [
       "rpy2.robjects.vectors.ListVector"
      ]
     },
     "execution_count": 404,
     "metadata": {},
     "output_type": "execute_result"
    }
   ],
   "source": [
    "crf_model_eval = pickle.load(open(f\"./models_trained/cit_{target}\", 'rb'))\n",
    "\n",
    "#crf_model_eval = pickle.load(open(f\"./models_trained/crf_{target}\", 'rb'))\n",
    "type(crf_model_eval)\n"
   ]
  },
  {
   "cell_type": "code",
   "execution_count": 405,
   "metadata": {},
   "outputs": [
    {
     "name": "stdout",
     "output_type": "stream",
     "text": [
      "\n",
      "Training set\n",
      "\n",
      "    Model Performance:\n",
      "        Mean Squared Error: 403.8\n",
      "        Root Mean Square Error: 20.1\n",
      "        Mean Absolute Error: 15.3\n",
      "        Mean Absolute Percentage Error: 116.4\n",
      "        R²-Score: 0.42\n",
      "        Adjusted R²-Score: 0.24\n",
      "    \n",
      "\n",
      "Testing set\n",
      "\n",
      "    Model Performance:\n",
      "        Mean Squared Error: 808.5\n",
      "        Root Mean Square Error: 28.4\n",
      "        Mean Absolute Error: 20.9\n",
      "        Mean Absolute Percentage Error: 114.1\n",
      "        R²-Score: -0.69\n",
      "        Adjusted R²-Score: 2.48\n",
      "    \n"
     ]
    },
    {
     "data": {
      "text/html": [
       "<div>\n",
       "<style scoped>\n",
       "    .dataframe tbody tr th:only-of-type {\n",
       "        vertical-align: middle;\n",
       "    }\n",
       "\n",
       "    .dataframe tbody tr th {\n",
       "        vertical-align: top;\n",
       "    }\n",
       "\n",
       "    .dataframe thead th {\n",
       "        text-align: right;\n",
       "    }\n",
       "</style>\n",
       "<table border=\"1\" class=\"dataframe\">\n",
       "  <thead>\n",
       "    <tr style=\"text-align: right;\">\n",
       "      <th></th>\n",
       "      <th>mse</th>\n",
       "      <th>rmse</th>\n",
       "      <th>mae</th>\n",
       "      <th>mape</th>\n",
       "      <th>r2</th>\n",
       "      <th>adjusted_r2</th>\n",
       "    </tr>\n",
       "  </thead>\n",
       "  <tbody>\n",
       "    <tr>\n",
       "      <th>0</th>\n",
       "      <td>808.454545</td>\n",
       "      <td>28.433335</td>\n",
       "      <td>20.909091</td>\n",
       "      <td>114.060606</td>\n",
       "      <td>-0.687738</td>\n",
       "      <td>2.476771</td>\n",
       "    </tr>\n",
       "  </tbody>\n",
       "</table>\n",
       "</div>"
      ],
      "text/plain": [
       "          mse       rmse        mae        mape        r2  adjusted_r2\n",
       "0  808.454545  28.433335  20.909091  114.060606 -0.687738     2.476771"
      ]
     },
     "execution_count": 405,
     "metadata": {},
     "output_type": "execute_result"
    }
   ],
   "source": [
    "## Predict\n",
    "y_pred = stats.predict(crf_model_eval, newdata=X_test)#, OOB=True, type=\"response\") #  type = \"prob\" # conditional class probabilities extractPrediction(\n",
    "y_pred  = base.round(y_pred)\n",
    "\n",
    "## get back to python dtypes\n",
    "y_pred = np.array(y_pred)\n",
    "y_test = np.array(y_test)\n",
    "\n",
    "## print evaluation report + check for overfitting \n",
    "y_pred_train = np.round(stats.predict(crf_model_eval, newdata=X_train), 1)#.reshape(-1)\n",
    "print(\"\\nTraining set\")\n",
    "e.evaluation_report(y_train, y_pred_train, X_train.shape[1])\n",
    "\n",
    "print(\"\\nTesting set\")\n",
    "e.evaluation_report(y_test, y_pred, X_train.shape[1])  # 1590, 1306.9"
   ]
  },
  {
   "cell_type": "markdown",
   "metadata": {},
   "source": [
    "## Feature importance"
   ]
  },
  {
   "cell_type": "code",
   "execution_count": 191,
   "metadata": {},
   "outputs": [],
   "source": [
    "## Code snippet from Danielas CRF script and from https://cran.r-project.org/web/packages/stablelearner/vignettes/forests.html\n",
    "\n",
    "## Calculate variance importance based on selection frequency\n",
    "# varimp = party.varimp(model, measures=[\"freq\"])\n",
    "# varimp_df = pd.DataFrame({'Variable': varimp.names, 'Importance': varimp})\n",
    "## Sort the variable importance in descending order\n",
    "# varimp_df = varimp_df.sort_values(by='freq', ascending=False)\n",
    "## Plot the variance importance\n",
    "# varimp_df.plot(kind='bar', x='term', y='freq', figsize=(10, 6))\n",
    "\n",
    "# Extract variable importance values from the model\n",
    "varimp = party.varimp(crf_model, conditional = True )  # compute conditional variable importance scores\n",
    "# t = caret.varImp(crf_model)#, conditional=True) # caret derives FI a bit differently than party package\n",
    "# pd.DataFrame({\"names\":X.columns.to_list(), \"importances\":pd.Series(t)[0]}).sort_values(\"importances\", ascending=False).head(5)\n"
   ]
  },
  {
   "cell_type": "code",
   "execution_count": 192,
   "metadata": {},
   "outputs": [
    {
     "name": "stdout",
     "output_type": "stream",
     "text": [
      "215651.2277861349\n",
      "215651.2277861349\n"
     ]
    }
   ],
   "source": [
    "## define threshold according to Hilpert 2020: \"The rule of thumb is to take the absolute minimum value as a cutoff point.\"\" \n",
    "fi_threshold = np.abs(np.min(varimp))\n",
    "fi_threshold\n",
    "print(fi_threshold)\n",
    "\n",
    "## this is to high set to fi_threshold = fi_threshold /10\n",
    "fi_threshold = fi_threshold # / 5\n",
    "print(fi_threshold)"
   ]
  },
  {
   "cell_type": "code",
   "execution_count": 193,
   "metadata": {},
   "outputs": [
    {
     "name": "stdout",
     "output_type": "stream",
     "text": [
      "5 most important features:\n"
     ]
    },
    {
     "data": {
      "text/plain": [
       "(10, 1)"
      ]
     },
     "execution_count": 193,
     "metadata": {},
     "output_type": "execute_result"
    }
   ],
   "source": [
    "fi_threshold = 20000\n",
    "df_importance = df_importance.loc[df_importance.importances > fi_threshold, : ]      # drop features which dont reduce the loss\n",
    "\n",
    "df_importance = df_importance.sort_values(\"importances\", ascending=True)\n",
    "print(\"5 most important features:\")\n",
    "df_importance.shape"
   ]
  },
  {
   "cell_type": "code",
   "execution_count": 194,
   "metadata": {},
   "outputs": [
    {
     "data": {
      "image/png": "[encoded data removed]",
      "text/plain": [
       "<Figure size 1200x500 with 1 Axes>"
      ]
     },
     "metadata": {},
     "output_type": "display_data"
    }
   ],
   "source": [
    "# plot feature importance\n",
    "fig, ax = plt.subplots(figsize=(12,5))\n",
    "\n",
    "\n",
    "# keep only features which reduce the loss\n",
    "#df_importance = df_importance.loc[df_importance.importances > 0, : ]\n",
    "\n",
    "plt.barh(df_importance.index, df_importance.importances)\n",
    "plt.xticks(\n",
    "    #ticks = range(len(selected_feat)),\n",
    "    #labels = X_unscaled.iloc[:,selected_feat],\n",
    "    rotation = 90\n",
    "    )\n",
    "plt.title(f\"Feature Importances for {target}\")\n",
    "\n",
    "plt.show()"
   ]
  },
  {
   "cell_type": "code",
   "execution_count": null,
   "metadata": {},
   "outputs": [],
   "source": [
    "### Save to disk"
   ]
  },
  {
   "cell_type": "code",
   "execution_count": null,
   "metadata": {},
   "outputs": [],
   "source": [
    "##Feature selection\n",
    "selected_feat = df_importance.T.columns\n",
    "\n",
    "## write selected predictors to disk\n",
    "fs.save_selected_features(X_train, pd.DataFrame(y_train), selected_feat, filename=f\"../../input_survey_data/fs_crf_{target}.xlsx\")\n"
   ]
  },
  {
   "cell_type": "code",
   "execution_count": null,
   "metadata": {},
   "outputs": [],
   "source": []
  },
  {
   "cell_type": "markdown",
   "metadata": {},
   "source": [
    "#### Statistics related to CIT and CRF"
   ]
  },
  {
   "cell_type": "markdown",
   "metadata": {},
   "source": [
    "The log rather than the p-value is used because it is numerically much more stable when used for comparisons, computing the minimal value, etc. Note that the p-values can become extremely small when significant. \n",
    "\n",
    "\n",
    "statistic DEF: \n",
    "\n",
    "citrerion DEF: \n",
    "\n"
   ]
  },
  {
   "cell_type": "code",
   "execution_count": null,
   "metadata": {},
   "outputs": [],
   "source": [
    "# ## get signifcant features\n",
    "# selected_feat = cit_stats.loc[:, cit_stats.loc[\"p_value\",:]<= 0.05]\n"
   ]
  },
  {
   "cell_type": "code",
   "execution_count": null,
   "metadata": {},
   "outputs": [],
   "source": [
    "## Snippet from: https://cran.r-project.org/web/packages/stablelearner/vignettes/forests.html\n",
    "# cf_stablelearner = stablelearner.stabletree(cit_model,\n",
    "#   sampler = stablelearner.subsampling, savetrees = True, B = 100, v = 0.632)\n",
    "# #Internally, stablelearner::stabletree() does the following: For each of the 100 trees to be generated, the dataset is resampled according to the resampling method specified (in our case subsampling with a fraction of v = 0.632) and the function call of our initial tree (which we labeled ct_partykit) is updated with respect to this resampled data and reevaluated, resulting in a new tree. All the 100 trees together then build the forest.\n",
    "\n",
    "# #2.2 Gaining insight into the forest\n",
    "# #The following summary prints the variable selection frequency (freq) as well as the average number of splits in each variable (mean) over all 100 trees. As we do not want to focus on our initial tree (remember that we just grew a forest, where all trees are of equal interest), we set original = FALSE, as already mentioned in the introduction:\n",
    "# t = base.summary(cf_stablelearner, original = False)\n",
    "\n",
    "# ## Variable selection overview:\n",
    "# ## Note: n python we can see the R df.index which contains the variable names, therefore it is not very usefull\n",
    "# #pd.DataFrame(t).iloc[3,:][0] # frequency\n",
    "# #pd.DataFrame(t).iloc[3,:][1] # mean\n",
    "# #print(X.columns[:23])"
   ]
  },
  {
   "cell_type": "code",
   "execution_count": null,
   "metadata": {},
   "outputs": [],
   "source": [
    "# ## actual p-values (without log)\n",
    "# strucchange = importr(\"strucchange\")\n",
    "# strucchange.sctest(cit_model, node = 1)[1]  # p values"
   ]
  },
  {
   "cell_type": "code",
   "execution_count": null,
   "metadata": {},
   "outputs": [],
   "source": [
    "cit_model_p.rx(3)"
   ]
  },
  {
   "cell_type": "code",
   "execution_count": null,
   "metadata": {},
   "outputs": [],
   "source": [
    "cit_model_p.names\n",
    "cit_model_p = np.array(cit_model_p.rx(3))\n",
    "cit_model_p"
   ]
  },
  {
   "cell_type": "code",
   "execution_count": null,
   "metadata": {},
   "outputs": [],
   "source": []
  }
 ],
 "metadata": {
  "kernelspec": {
   "display_name": "py396_c3",
   "language": "python",
   "name": "python3"
  },
  "language_info": {
   "codemirror_mode": {
    "name": "ipython",
    "version": 3
   },
   "file_extension": ".py",
   "mimetype": "text/x-python",
   "name": "python",
   "nbconvert_exporter": "python",
   "pygments_lexer": "ipython3",
   "version": "3.9.6"
  },
  "orig_nbformat": 4
 },
 "nbformat": 4,
 "nbformat_minor": 2
}
