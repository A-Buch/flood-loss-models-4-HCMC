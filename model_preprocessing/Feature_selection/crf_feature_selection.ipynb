{
 "cells": [
  {
   "cell_type": "code",
   "execution_count": 83,
   "metadata": {},
   "outputs": [],
   "source": [
    "#!/usr/bin/env python\n",
    "# -*- coding: utf-8 -*-\n",
    "\"\"\"Data preprocessing for HCMC survey dataset\"\"\"\n",
    "\n",
    "__author__ = \"Anna Buch, Heidelberg University\"\n",
    "__email__ = \"a.buch@stud.uni-heidelberg.de\"\n"
   ]
  },
  {
   "cell_type": "markdown",
   "metadata": {},
   "source": [
    "# Feature selection done by Conditional Inference Trees and its Random Forest adaption\n",
    "\n",
    "CIT uses p-value as one-a-split criterion instead of using homogeneity. The algorithm will pick the feature with the least p-value and will start splitting from it. Then it will keep going until it no longer finds statistically significant p-value or some other criteria have met such as minimum node size or max split. "
   ]
  },
  {
   "cell_type": "code",
   "execution_count": 84,
   "metadata": {},
   "outputs": [
    {
     "data": {
      "text/plain": [
       "<Figure size 2000x1000 with 0 Axes>"
      ]
     },
     "metadata": {},
     "output_type": "display_data"
    }
   ],
   "source": [
    "import sys\n",
    "import numpy as np\n",
    "import pandas as pd\n",
    "import pickle\n",
    "\n",
    "from sklearn.metrics import r2_score, mean_squared_error, mean_absolute_error\n",
    "from sklearn.model_selection import train_test_split\n",
    "from sklearn.pipeline import Pipeline\n",
    "\n",
    "import matplotlib.pyplot as plt\n",
    "\n",
    "sys.path.insert(0, \"../../../\")\n",
    "import utils.utils_feature_selection as fs\n",
    "import utils.settings as s\n",
    "import utils.utils_evaluation as e\n",
    "\n",
    "s.init()\n",
    "seed = s.seed\n",
    "\n",
    "\n",
    "pd.set_option('display.max_columns', None)\n",
    "plt.figure(figsize=(20, 10))\n",
    "\n",
    "import warnings\n",
    "warnings.filterwarnings('ignore')\n",
    "\n",
    "\n",
    "# ruff check ./model_preprocessing/Feature_selection/utils_feature_selection.py --fix"
   ]
  },
  {
   "cell_type": "markdown",
   "metadata": {},
   "source": [
    "## Load R packages to process Conditional Random Forest in python\n",
    "*Note 1: all needed R packages have to be previously loaded in R*\n",
    "\n",
    "*Note 2: Make sure that caret package version >= 6.0-81, otherwise caret.train() throws an error*"
   ]
  },
  {
   "cell_type": "code",
   "execution_count": 85,
   "metadata": {},
   "outputs": [],
   "source": [
    "import rpy2\n",
    "import rpy2.robjects as robjects\n",
    "from rpy2.robjects.packages import importr, data\n",
    "import rpy2.robjects.packages as rpackages\n",
    "\n",
    "\n",
    "# get basic R packages\n",
    "utils = importr('utils')\n",
    "base = importr('base')\n",
    "dplyr = importr('dplyr')\n",
    "stats = importr(\"stats\")\n",
    "\n",
    "# pandas.DataFrames to R dataframes \n",
    "from rpy2.robjects import pandas2ri, Formula\n",
    "pandas2ri.activate()\n",
    "\n",
    "# print r df in html\n",
    "import rpy2.ipython.html\n",
    "rpy2.ipython.html.init_printing()\n",
    "\n",
    "\n",
    "# get libraries for CRF processing, ctree_controls etc\n",
    "partykit = importr('partykit')\n",
    "party = importr('party')\n",
    "caret = importr('caret') # package version >=\n",
    "#stablelearner = importr('stablelearner')\n",
    "ggplot2 = importr('ggplot2')\n"
   ]
  },
  {
   "cell_type": "markdown",
   "metadata": {},
   "source": [
    "### input data"
   ]
  },
  {
   "cell_type": "code",
   "execution_count": 86,
   "metadata": {},
   "outputs": [
    {
     "name": "stdout",
     "output_type": "stream",
     "text": [
      "(397, 42)\n"
     ]
    },
    {
     "data": {
      "text/html": [
       "<div>\n",
       "<style scoped>\n",
       "    .dataframe tbody tr th:only-of-type {\n",
       "        vertical-align: middle;\n",
       "    }\n",
       "\n",
       "    .dataframe tbody tr th {\n",
       "        vertical-align: top;\n",
       "    }\n",
       "\n",
       "    .dataframe thead th {\n",
       "        text-align: right;\n",
       "    }\n",
       "</style>\n",
       "<table border=\"1\" class=\"dataframe\">\n",
       "  <thead>\n",
       "    <tr style=\"text-align: right;\">\n",
       "      <th></th>\n",
       "      <th>Target_contentloss_euro</th>\n",
       "      <th>inundation_duration_h</th>\n",
       "      <th>water_depth_cm</th>\n",
       "      <th>contaminations.0</th>\n",
       "      <th>flowvelocity</th>\n",
       "      <th>emergency_measures.1</th>\n",
       "      <th>emergency_measures.2</th>\n",
       "      <th>emergency_measures.3</th>\n",
       "      <th>emergency_measures.4</th>\n",
       "      <th>emergency_measures.6</th>\n",
       "      <th>emergency_measures.7</th>\n",
       "      <th>emergency_measures.8</th>\n",
       "      <th>emergency_measures.9</th>\n",
       "      <th>overall_problem_house</th>\n",
       "      <th>protect_valuables_impl</th>\n",
       "      <th>water_barriers_impl</th>\n",
       "      <th>pumping_equipment_impl</th>\n",
       "      <th>elevation_building_impl</th>\n",
       "      <th>resistant_material_building_impl</th>\n",
       "      <th>electricity_higher_impl</th>\n",
       "      <th>flood_protections_impl</th>\n",
       "      <th>flood_experience</th>\n",
       "      <th>elevation_building_height_cm</th>\n",
       "      <th>elevation_rel2surrounding_cat</th>\n",
       "      <th>bage</th>\n",
       "      <th>b_area</th>\n",
       "      <th>hh_monthly_income_cat</th>\n",
       "      <th>shp_owner</th>\n",
       "      <th>shp_sector</th>\n",
       "      <th>shp_employees</th>\n",
       "      <th>shp_avgmonthly_sale_cat</th>\n",
       "      <th>shp_finance_investments</th>\n",
       "      <th>shp_risk_tolerance</th>\n",
       "      <th>shp_monetary_resources4prevention</th>\n",
       "      <th>resilience_city_protection</th>\n",
       "      <th>resilience_left_alone</th>\n",
       "      <th>resilience_neighbor_management</th>\n",
       "      <th>perception_who_responsible4protection.Rank1</th>\n",
       "      <th>contaminations_light</th>\n",
       "      <th>contaminations_heavy</th>\n",
       "      <th>shp_content_value_euro</th>\n",
       "      <th>shp_registered_capital_euro</th>\n",
       "    </tr>\n",
       "  </thead>\n",
       "  <tbody>\n",
       "    <tr>\n",
       "      <th>395</th>\n",
       "      <td>0.0</td>\n",
       "      <td>4.0</td>\n",
       "      <td>70.0</td>\n",
       "      <td>0</td>\n",
       "      <td>1</td>\n",
       "      <td>1</td>\n",
       "      <td>0</td>\n",
       "      <td>1</td>\n",
       "      <td>0</td>\n",
       "      <td>1</td>\n",
       "      <td>0</td>\n",
       "      <td>0</td>\n",
       "      <td>0</td>\n",
       "      <td>1</td>\n",
       "      <td>1</td>\n",
       "      <td>5</td>\n",
       "      <td>1</td>\n",
       "      <td>1</td>\n",
       "      <td>5</td>\n",
       "      <td>5</td>\n",
       "      <td>5</td>\n",
       "      <td>5</td>\n",
       "      <td>70.0</td>\n",
       "      <td>1</td>\n",
       "      <td>NaN</td>\n",
       "      <td>130.0</td>\n",
       "      <td>NaN</td>\n",
       "      <td>1</td>\n",
       "      <td>17</td>\n",
       "      <td>2</td>\n",
       "      <td>3</td>\n",
       "      <td>1</td>\n",
       "      <td>3.0</td>\n",
       "      <td>3.0</td>\n",
       "      <td>1.0</td>\n",
       "      <td>5</td>\n",
       "      <td>1.0</td>\n",
       "      <td>2.0</td>\n",
       "      <td>1</td>\n",
       "      <td>0</td>\n",
       "      <td>NaN</td>\n",
       "      <td>11047.7</td>\n",
       "    </tr>\n",
       "    <tr>\n",
       "      <th>396</th>\n",
       "      <td>0.0</td>\n",
       "      <td>3.0</td>\n",
       "      <td>100.0</td>\n",
       "      <td>0</td>\n",
       "      <td>1</td>\n",
       "      <td>1</td>\n",
       "      <td>0</td>\n",
       "      <td>1</td>\n",
       "      <td>0</td>\n",
       "      <td>0</td>\n",
       "      <td>0</td>\n",
       "      <td>0</td>\n",
       "      <td>0</td>\n",
       "      <td>0</td>\n",
       "      <td>1</td>\n",
       "      <td>5</td>\n",
       "      <td>5</td>\n",
       "      <td>5</td>\n",
       "      <td>5</td>\n",
       "      <td>5</td>\n",
       "      <td>5</td>\n",
       "      <td>4</td>\n",
       "      <td>NaN</td>\n",
       "      <td>0</td>\n",
       "      <td>5.0</td>\n",
       "      <td>33.0</td>\n",
       "      <td>1.0</td>\n",
       "      <td>1</td>\n",
       "      <td>11</td>\n",
       "      <td>2</td>\n",
       "      <td>3</td>\n",
       "      <td>1</td>\n",
       "      <td>3.0</td>\n",
       "      <td>4.0</td>\n",
       "      <td>NaN</td>\n",
       "      <td>5</td>\n",
       "      <td>NaN</td>\n",
       "      <td>3.0</td>\n",
       "      <td>1</td>\n",
       "      <td>0</td>\n",
       "      <td>NaN</td>\n",
       "      <td>736.5</td>\n",
       "    </tr>\n",
       "  </tbody>\n",
       "</table>\n",
       "</div>"
      ],
      "text/plain": [
       "     Target_contentloss_euro  inundation_duration_h  water_depth_cm   \n",
       "395                      0.0                    4.0            70.0  \\\n",
       "396                      0.0                    3.0           100.0   \n",
       "\n",
       "     contaminations.0  flowvelocity  emergency_measures.1   \n",
       "395                 0             1                     1  \\\n",
       "396                 0             1                     1   \n",
       "\n",
       "     emergency_measures.2  emergency_measures.3  emergency_measures.4   \n",
       "395                     0                     1                     0  \\\n",
       "396                     0                     1                     0   \n",
       "\n",
       "     emergency_measures.6  emergency_measures.7  emergency_measures.8   \n",
       "395                     1                     0                     0  \\\n",
       "396                     0                     0                     0   \n",
       "\n",
       "     emergency_measures.9  overall_problem_house  protect_valuables_impl   \n",
       "395                     0                      1                       1  \\\n",
       "396                     0                      0                       1   \n",
       "\n",
       "     water_barriers_impl  pumping_equipment_impl  elevation_building_impl   \n",
       "395                    5                       1                        1  \\\n",
       "396                    5                       5                        5   \n",
       "\n",
       "     resistant_material_building_impl  electricity_higher_impl   \n",
       "395                                 5                        5  \\\n",
       "396                                 5                        5   \n",
       "\n",
       "     flood_protections_impl  flood_experience  elevation_building_height_cm   \n",
       "395                       5                 5                          70.0  \\\n",
       "396                       5                 4                           NaN   \n",
       "\n",
       "     elevation_rel2surrounding_cat  bage  b_area  hh_monthly_income_cat   \n",
       "395                              1   NaN   130.0                    NaN  \\\n",
       "396                              0   5.0    33.0                    1.0   \n",
       "\n",
       "     shp_owner  shp_sector  shp_employees  shp_avgmonthly_sale_cat   \n",
       "395          1          17              2                        3  \\\n",
       "396          1          11              2                        3   \n",
       "\n",
       "     shp_finance_investments  shp_risk_tolerance   \n",
       "395                        1                 3.0  \\\n",
       "396                        1                 3.0   \n",
       "\n",
       "     shp_monetary_resources4prevention  resilience_city_protection   \n",
       "395                                3.0                         1.0  \\\n",
       "396                                4.0                         NaN   \n",
       "\n",
       "     resilience_left_alone  resilience_neighbor_management   \n",
       "395                      5                             1.0  \\\n",
       "396                      5                             NaN   \n",
       "\n",
       "     perception_who_responsible4protection.Rank1  contaminations_light   \n",
       "395                                          2.0                     1  \\\n",
       "396                                          3.0                     1   \n",
       "\n",
       "     contaminations_heavy  shp_content_value_euro  shp_registered_capital_euro  \n",
       "395                     0                     NaN                      11047.7  \n",
       "396                     0                     NaN                        736.5  "
      ]
     },
     "execution_count": 86,
     "metadata": {},
     "output_type": "execute_result"
    }
   ],
   "source": [
    "df_candidates = pd.read_excel(\"../../../input_survey_data/input_data_contentloss.xlsx\")\n",
    "#df_candidates = pd.read_excel(\"../../../input_survey_data/input_data_businessreduction.xlsx\")\n",
    "\n",
    "targets = [\"Target_contentloss_euro\", \"Target_businessreduction\"]\n",
    "target = targets[0]\n",
    "\n",
    "print(df_candidates.shape)\n",
    "df_candidates.tail(2)\n"
   ]
  },
  {
   "cell_type": "code",
   "execution_count": 87,
   "metadata": {},
   "outputs": [],
   "source": [
    "\n",
    "## TODO make entire wokflow as loop over both target variables\n",
    "# ## iterate over both targets and store results \n",
    "# for target in [\"Target_contentloss_euro\", \"Target_businessreduction\"]:\n",
    "\n",
    "#     print( f\"Apply Elastic Net on {target}:\\n\")\n",
    "#     y = df_candidates[target]"
   ]
  },
  {
   "cell_type": "code",
   "execution_count": 88,
   "metadata": {},
   "outputs": [
    {
     "name": "stdout",
     "output_type": "stream",
     "text": [
      "Percentage of missing valeus per feature\n",
      " shp_risk_tolerance                             0.070529\n",
      "perception_who_responsible4protection.Rank1    0.070529\n",
      "bage                                           0.068010\n",
      "hh_monthly_income_cat                          0.060453\n",
      "shp_monetary_resources4prevention              0.045340\n",
      "Target_contentloss_euro                        0.037783\n",
      "resilience_city_protection                     0.037783\n",
      "resilience_neighbor_management                 0.027708\n",
      "inundation_duration_h                          0.022670\n",
      "b_area                                         0.005038\n",
      "water_depth_cm                                 0.002519\n",
      "flood_experience                               0.000000\n",
      "shp_avgmonthly_sale_cat                        0.000000\n",
      "shp_employees                                  0.000000\n",
      "shp_sector                                     0.000000\n",
      "dtype: float64\n"
     ]
    }
   ],
   "source": [
    "## delete features with more than 10% missing values\n",
    "\n",
    "# drop warning time due to 77% nan\n",
    "df_candidates = df_candidates.drop(\"emergency_measures.9\", axis=1)\n",
    "df_candidates = df_candidates.drop(\"contaminations_light\", axis=1)\n",
    "df_candidates = df_candidates.drop(\"elevation_building_height_cm\", axis=1)\n",
    "df_candidates = df_candidates.drop(\"shp_content_value_euro\", axis=1)\n",
    "df_candidates = df_candidates.drop(\"shp_registered_capital_euro\", axis=1)\n",
    "\n",
    "\n",
    "print(\"Percentage of missing valeus per feature\\n\", df_candidates.isna().mean().sort_values(ascending=False)[:15] ) \n"
   ]
  },
  {
   "cell_type": "code",
   "execution_count": 89,
   "metadata": {},
   "outputs": [],
   "source": [
    "# df_candidates.columns\n",
    "# df_candidates = df_candidates[[\n",
    "#     'Target_contentloss_euro', 'inundation_duration_h', 'water_depth_cm',\n",
    "#     'contaminations.0', 'flowvelocity', \n",
    "#     'emergency_measures.1','emergency_measures.2', \n",
    "#     'emergency_measures.3', 'emergency_measures.4',\n",
    "#     'emergency_measures.6', 'emergency_measures.7', 'emergency_measures.8',\n",
    "#     #'emergency_measures.9', \n",
    "#     'overall_problem_house',\n",
    "#     #'protect_valuables_impl', 'water_barriers_impl',\n",
    "#     'pumping_equipment_impl', 'elevation_building_impl',\n",
    "#     'resistant_material_building_impl', 'electricity_higher_impl',\n",
    "#     'flood_protections_impl', \n",
    "#     #'flood_experience',\n",
    "#     #'elevation_building_height_cm', \n",
    "#     'elevation_rel2surrounding_cat', 'bage',\n",
    "#     'b_area', 'hh_monthly_income_cat', 'shp_owner', 'shp_sector',\n",
    "#     'shp_employees', 'shp_avgmonthly_sale_cat', \n",
    "#     #'shp_finance_investments',\n",
    "#     #'shp_risk_tolerance', 'shp_monetary_resources4prevention',\n",
    "#     #'resilience_city_protection', 'resilience_left_alone',\n",
    "#     #'resilience_neighbor_management',\n",
    "#     #'perception_who_responsible4protection.Rank1', 'contaminations_light',\n",
    "#     #'contaminations_heavy', '\n",
    "#     # 'shp_content_value_euro',\n",
    "#     #'shp_registered_capital_euro'\n",
    "# ]]\n",
    "\n",
    "df_candidates = df_candidates.drop([\n",
    "       # - \"contaminations_light\", \"contaminations_heavy\", \"emergency_measures.9\",\n",
    "       # \"shp_finance_investments\",  \"shp_monetary_resources4prevention\",\n",
    "       # - \"emergency_measures.6\", # BETTER DROP test rmv da nur binary\n",
    "        #\"elevation_rel2surrounding_cat\",  # TEST\n",
    "        #\"shp_profits_last5years\", # TEST\n",
    "        #\"shp_monetary_resources4prevention\", # TEST \n",
    "         'shp_finance_investments',\n",
    "        'shp_risk_tolerance', 'shp_monetary_resources4prevention',\n",
    "        'resilience_city_protection', 'resilience_left_alone',\n",
    "        'resilience_neighbor_management', \n",
    "        # already in d_cleaning RM 'resilience_more_future_affected','resilience_govern_careing', 'resilience_govern_careing_increases',\n",
    "        'perception_who_responsible4protection.Rank1',\n",
    "        ], axis=1)"
   ]
  },
  {
   "cell_type": "markdown",
   "metadata": {},
   "source": [
    "### select only damage cases"
   ]
  },
  {
   "cell_type": "code",
   "execution_count": 90,
   "metadata": {},
   "outputs": [
    {
     "name": "stdout",
     "output_type": "stream",
     "text": [
      "Removing 226 zero loss records\n",
      "Keeping (171, 30) damage cases for model training and evaluation\n"
     ]
    }
   ],
   "source": [
    "print(f\"Removing {df_candidates.loc[df_candidates[target]==0.00,:].shape[0]} zero loss records\")\n",
    "df_candidates = df_candidates.loc[df_candidates[target]!=0.00,:]\n",
    "\n",
    "print(f\"Keeping {df_candidates.shape} damage cases for model training and evaluation\")"
   ]
  },
  {
   "cell_type": "code",
   "execution_count": 91,
   "metadata": {},
   "outputs": [],
   "source": [
    "# df_candidates.plot.scatter(\"shp_content_value_euro\", target)\n",
    "# plt.xlim(0,50000)\n",
    "# plt.ylim(-100, 5000)"
   ]
  },
  {
   "cell_type": "markdown",
   "metadata": {},
   "source": [
    "## Split Data"
   ]
  },
  {
   "cell_type": "code",
   "execution_count": 92,
   "metadata": {},
   "outputs": [],
   "source": [
    "## Handle nan values in X\n",
    "\n",
    "## drop records with nan\n",
    "df_candidates = df_candidates.dropna()\n"
   ]
  },
  {
   "cell_type": "code",
   "execution_count": 93,
   "metadata": {},
   "outputs": [
    {
     "name": "stdout",
     "output_type": "stream",
     "text": [
      "(132, 30)\n"
     ]
    }
   ],
   "source": [
    "## remove records where target information is missing\n",
    "df_candidates = df_candidates[ ~df_candidates[f\"{target}\"].isna()]\n",
    "print(df_candidates.shape)\n",
    "\n",
    "X = df_candidates.drop(target, axis=1)\n",
    "y = df_candidates[target]\n",
    "\n",
    "\n",
    "# # TEST: replace nan with median of each variable\n",
    "# for c in X.columns:\n",
    "#    X[c].fillna(X[c].median(), inplace=True)"
   ]
  },
  {
   "cell_type": "code",
   "execution_count": 94,
   "metadata": {},
   "outputs": [
    {
     "name": "stdout",
     "output_type": "stream",
     "text": [
      "Training size (118, 29)\n",
      "Test size (14, 29)\n"
     ]
    }
   ],
   "source": [
    "## test train split\n",
    "X_train, X_test, y_train, y_test = train_test_split(\n",
    "    X, y, test_size=0.10, \n",
    "    random_state=seed, shuffle=True\n",
    ")\n",
    "\n",
    "# normlaize via MinMaxScaler, transform X_train ,then use the fitted scaler for X_test\n",
    "X_train, X_test = fs.normalize_X(X_train, X_test)\n",
    "\n",
    "print(\"Training size\", X_train.shape)\n",
    "print(\"Test size\", X_test.shape)\n",
    "\n",
    "train = pd.concat([y_train.reset_index(), X_train], axis=1).drop(\"index\", axis=1)\n",
    "test = pd.concat([y_test.reset_index(), X_test], axis=1).drop(\"index\", axis=1)"
   ]
  },
  {
   "cell_type": "markdown",
   "metadata": {},
   "source": [
    "## Model fit"
   ]
  },
  {
   "cell_type": "code",
   "execution_count": 95,
   "metadata": {},
   "outputs": [],
   "source": [
    "# ###############  CV with gridSearch TODO   ###################\n",
    "# # ## specify model\n",
    "# # cit_model = partykit.ctree(Formula('Target_contentloss_euro ~ .'),  \n",
    "# #                                 data=train\n",
    "# #                           )\n",
    "# # ## hyperparameter tunning \n",
    "# # param_dist = [{'mincriterion': 0.95}]\n",
    "# # cv = RepeatedStratifiedKFold(n_splits=10, n_repeats=3, random_state=1)\n",
    "\n",
    "# # cit_model_cv = GridSearchCV(estimator = cit_model, \n",
    "# #                          param_grid = param_dist\n",
    "# #                          )#, scoring= 'r2', cv = folds, verbose = 1,return_train_score=True)      \n",
    "\n",
    "# # # # fit the model\n",
    "# # cit_model_cv.fit(X_train, y_train)\n",
    "  \n",
    "\n",
    "# #################### without Hyperparameter tunning  #####################\n",
    "# base.set_seed(seed)\n",
    "\n",
    "# ## CV method\n",
    "# fitControl = caret.trainControl(\n",
    "#     method = \"repeatedcv\",  # \"oob\" - then no repeats are needed\n",
    "#     number = 10,   ## = K-folds\n",
    "#     repeats = 3,  # number of tried values for mtry\n",
    "#     savePredictions = \"final\"  # saves predictions from optimal tuning parameters\n",
    "#     )\n",
    "\n",
    "\n",
    "# # fit ctree\n",
    "# ## Minciterion = confidence level (smaller values => larger trees; e.g mincriterion=0.8, p-value must be smaller than 0.2 in order for a node to split)\n",
    "# cit_model = partykit.ctree(Formula(f'{target} ~ .'),  \n",
    "#                                 data=train,\n",
    "#                                 metric='MAE',#'RMSE',  # RMSE unit of target or use MAE due that more robust than RMSE further metrics options Rsquared, RMSE, MAE \n",
    "#                                 # RMSE penalizes large gaps more harshly than MAE\n",
    "#                                 maximize=False,\n",
    "#                                 control = partykit.ctree_control(mincriterion = 0.2),\n",
    "#                                 trcontrol=fitControl\n",
    "#                            )\n",
    "\n",
    "\n",
    "# ## store trained model for evaluation\n",
    "# filename = f'./models_trained/cit_{target}'\n",
    "# pickle.dump(cit_model, open(filename, 'wb'))\n",
    "# print(train.shape)\n",
    "# #print(cit_model)"
   ]
  },
  {
   "cell_type": "code",
   "execution_count": 96,
   "metadata": {},
   "outputs": [],
   "source": [
    "# ## Predict\n",
    "# print(target)\n",
    "# y_pred = stats.predict(cit_model, newdata=X_test)#, OOB=True, type=\"response\") #  type = \"prob\" # conditional class probabilities extractPrediction(\n",
    "# y_pred  = base.round(y_pred)\n",
    "\n",
    "# ## get back to python dtypes\n",
    "# y_pred = np.array(y_pred)\n",
    "# y_test = np.array(y_test)\n",
    "\n",
    "# ## print evaluation report + check for overfitting \n",
    "# y_pred_train = np.round(stats.predict(cit_model, newdata=X_train), 1)#.reshape(-1)\n",
    "# print(\"\\nTraining set\")\n",
    "# e.evaluation_report(y_train, y_pred_train, X_train.shape[1])\n",
    "\n",
    "# print(\"\\nTesting set\")\n",
    "# e.evaluation_report(y_test, y_pred, X_train.shape[1])  # 1590, 1306.9"
   ]
  },
  {
   "cell_type": "code",
   "execution_count": null,
   "metadata": {},
   "outputs": [],
   "source": []
  },
  {
   "cell_type": "code",
   "execution_count": 97,
   "metadata": {},
   "outputs": [
    {
     "name": "stdout",
     "output_type": "stream",
     "text": [
      "Conditional Inference Random Forest \n",
      "\n",
      "118 samples\n",
      " 29 predictor\n",
      "\n",
      "No pre-processing\n",
      "Resampling: Cross-Validated (10 fold, repeated 5 times) \n",
      "Summary of sample sizes: 106, 106, 106, 107, 106, 106, ... \n",
      "Resampling results across tuning parameters:\n",
      "\n",
      "  mtry  RMSE       Rsquared   MAE     \n",
      "   2     9320.274  0.1661548  4298.205\n",
      "  15    10168.907  0.1847214  4202.588\n",
      "  29    10701.540  0.1790707  4141.982\n",
      "\n",
      "MAE was used to select the optimal model using the largest value.\n",
      "The final value used for the model was mtry = 2.\n",
      "\n"
     ]
    },
    {
     "data": {
      "text/plain": [
       "<rpy2.rinterface_lib.sexp.NULLType object at 0x0000027172070D00> [RTYPES.NILSXP]"
      ]
     },
     "execution_count": 97,
     "metadata": {},
     "output_type": "execute_result"
    }
   ],
   "source": [
    "##  CV with gridSearch from R \n",
    "## Due that cforest is a R package it only accepts other R functions for tunning and cross validation  \n",
    "## CIT handles by default missing values in response, while CRF doesnt accept missing vlaues in response\n",
    "\n",
    "# ## Define the hyperparamters\n",
    "## NOTE: cant define hyperparameter ranges for cforest, caret.train(method=\"cforest\") is doing this by itself\n",
    "## train() Doc: https://search.r-project.org/CRAN/refmans/caret/html/train.html\n",
    "\n",
    "\n",
    "base.set_seed(seed)\n",
    "## CV method\n",
    "fitControl = caret.trainControl(\n",
    "    method = \"repeatedcv\",  # \"oob\" - then no repeats are needed\n",
    "    number = 10,   ## = K-folds\n",
    "    repeats = 5,  # number of tried values for mtry\n",
    "    #savePredictions = \"final\"  # saves predictions from optimal tuning parameters\n",
    "    )\n",
    "\n",
    "# robjects.r('''\n",
    "#         r_grid <- function(verbose=FALSE) {\n",
    "#             expand.grid(ntree=10)\n",
    "#         }\n",
    "#     ''')\n",
    "# f = robjects.globalenv['r_grid']\n",
    "# createCfGrid = base.expand_grid(controls = party.cforest_control(mtry=3, ntree=200)) #qnorm() =90th percentile\n",
    "# mincriterion=stats.qnorm(0.9) # = default\n",
    "# \" train() will generate the grid for you. If you want to specify ntree you just pass a controls object in as another argument to train but leave out mtry:\"\"\n",
    "# https://stackoverflow.com/questions/20337137/run-cforest-with-controls-cforest-unbiased-using-caret-package?rq=4\n",
    "\n",
    "\n",
    "## CIT handles by default missing values in response, while CRF doesnt accept missing vlaues in response\n",
    "base.set_seed(seed)\n",
    "crf_cv = caret.train(\n",
    "        Formula(f'{target} ~ .'), \n",
    "        data = train,\n",
    "        method = \"cforest\",\n",
    "        metric='MAE',#'RMSE',  # RMSE unit of target or use MAE due that more robust than RMSE further metrics options Rsquared, RMSE, MAE \n",
    "        # RMSE penalizes large gaps more harshly than MAE\n",
    "        maximize=True,\n",
    "        #na_action =  stats.na_pass,\n",
    "        controls = party.cforest_control( \n",
    "            #party.cforest_unbiased(\n",
    "            # only mtry gets tuned by grid\n",
    "            mtry=2,  # mtry=0 =Bagging without random input var sampling\n",
    "            ntree = 100,  # didnt improved with 200 or 500 trees\n",
    "           # mincriterion = 0.05,   # the value of the test statistic (for testtype == \"Teststatistic\"), or 1 - p-value (for other values of testtype) that must be exceeded in order to implement a split.\n",
    "            replace = False,\n",
    "            #fraction = 0.632,   # fraction of number of observations to draw without replacement (only relevant if replace = FALSE).\n",
    "        ),  # cforest_unbiased= subsampling without replacement repalce=False a\n",
    "        trControl = fitControl,\n",
    "        #tuneGrid = #params_grid, # createCfGrid\n",
    "        #verbose = False\n",
    "    )\n",
    "print(crf_cv) # 5687.575\n",
    "\n",
    "base.warnings()\n",
    "\n",
    "## cforest_control\n",
    "# kein mcriterion,tree=100:                            5452.801  0.1379846  1577.973\n",
    "#  mcriterion=0.5, tree=500:                           5462.640  0.1377202  1591.361\n",
    "# mtry=0, tree=500  replace = False , mtry = 2.       9694.786  0.1819220  4411.304\n",
    "## --> repalce=True deosnt necessary gives better results\n",
    "## --> mincriterion=0.5  \n",
    "\n",
    "## cforest_unbiased\n",
    "# no mcritierion possible, mtry=2, tree=500:             5452.889  0.1316165  1604.568\n",
    "#   \"\" same as above, just mtry=5 -> but used mtry=2:    5452.889  0.1316165  1604.568\n",
    "#   \"\" same as above, just mtry=0 (Bagging):               6807.178  0.1802000  1686.821\n",
    "# mtry was set to 0 -> but used mtry=42, tree=100 :                                   11517.79  0.1972586  4454.590\n"
   ]
  },
  {
   "cell_type": "code",
   "execution_count": 98,
   "metadata": {},
   "outputs": [
    {
     "name": "stdout",
     "output_type": "stream",
     "text": [
      "\n",
      "Training set\n",
      "Model Performance:\n",
      "        Root Mean Square Error: 19855.52\n",
      "        Normalized Root Mean Square Error: 14.67\n",
      "        Mean Absolute Error: 4095.58\n",
      "        Mean Bias Error: 38.88\n",
      "        R²-Score: 0.075\n",
      "    \n",
      "\n",
      "Testing set\n",
      "Model Performance:\n",
      "        Root Mean Square Error: 8600.8\n",
      "        Normalized Root Mean Square Error: 9.82\n",
      "        Mean Absolute Error: 3933.96\n",
      "        Mean Bias Error: 548.47\n",
      "        R²-Score: 0.013\n",
      "    \n"
     ]
    },
    {
     "data": {
      "text/html": [
       "<div>\n",
       "<style scoped>\n",
       "    .dataframe tbody tr th:only-of-type {\n",
       "        vertical-align: middle;\n",
       "    }\n",
       "\n",
       "    .dataframe tbody tr th {\n",
       "        vertical-align: top;\n",
       "    }\n",
       "\n",
       "    .dataframe thead th {\n",
       "        text-align: right;\n",
       "    }\n",
       "</style>\n",
       "<table border=\"1\" class=\"dataframe\">\n",
       "  <thead>\n",
       "    <tr style=\"text-align: right;\">\n",
       "      <th></th>\n",
       "      <th>mse</th>\n",
       "      <th>rmse</th>\n",
       "      <th>nrmse</th>\n",
       "      <th>mae</th>\n",
       "      <th>mbe</th>\n",
       "      <th>r2</th>\n",
       "    </tr>\n",
       "  </thead>\n",
       "  <tbody>\n",
       "    <tr>\n",
       "      <th>0</th>\n",
       "      <td>73973764.8</td>\n",
       "      <td>8600.800242</td>\n",
       "      <td>9.820836</td>\n",
       "      <td>3933.957143</td>\n",
       "      <td>548.471429</td>\n",
       "      <td>0.012932</td>\n",
       "    </tr>\n",
       "  </tbody>\n",
       "</table>\n",
       "</div>"
      ],
      "text/plain": [
       "          mse         rmse     nrmse          mae         mbe        r2\n",
       "0  73973764.8  8600.800242  9.820836  3933.957143  548.471429  0.012932"
      ]
     },
     "execution_count": 98,
     "metadata": {},
     "output_type": "execute_result"
    }
   ],
   "source": [
    "## Predict\n",
    "y_pred = stats.predict(crf_cv, newdata=X_test)#, OOB=True, type=\"response\") #  type = \"prob\" # conditional class probabilities extractPrediction(\n",
    "y_pred  = base.round(y_pred)\n",
    "\n",
    "## get back to python dtypes\n",
    "y_pred = np.array(y_pred)\n",
    "y_test = np.array(y_test)\n",
    "\n",
    "## print evaluation report + check for overfitting \n",
    "y_pred_train = np.round(stats.predict(crf_cv, newdata=X_train), 1)#.reshape(-1)\n",
    "print(\"\\nTraining set\")\n",
    "e.evaluation_report(y_train, y_pred_train, \n",
    "                        filepath=f\"./models_evaluation/conditional_random_forest/eval_train_{target.split('_')[1]}.csv\")\n",
    "\n",
    "\n",
    "print(\"\\nTesting set\")\n",
    "e.evaluation_report(y_test, y_pred,   # 1590, 1306.9\n",
    "                        filepath=f\"./models_evaluation/conditional_random_forest/eval_test_{target.split('_')[1]}.csv\")\n"
   ]
  },
  {
   "cell_type": "code",
   "execution_count": 99,
   "metadata": {},
   "outputs": [
    {
     "data": {
      "text/html": [
       "\n",
       "<emph>DataFrame</emph> with 3 rows and\n",
       "  7 columns:\n",
       "<table class=\"rpy2_table\">\n",
       "  <thead>\n",
       "    <tr class=\"rpy2_names\">\n",
       "      <th></th>\n",
       "      <th></th>\n",
       "      <th>mtry</th>\n",
       "      <th>RMSE</th>\n",
       "      <th>Rsquared</th>\n",
       "      <th>MAE</th>\n",
       "      <th>...</th>\n",
       "      <th>RsquaredSD</th>\n",
       "      <th>MAESD</th>\n",
       "    </tr>\n",
       "  </thead>\n",
       "  <tbody>\n",
       "    <tr>\n",
       "      <td class=\"rpy2_rowname\">0</td>\n",
       "        <td class=\"rpy2_names\">1</td>\n",
       "      <td>2.0</td>\n",
       "      <td>9320.274030983599</td>\n",
       "      <td>0.16615479859412857</td>\n",
       "      <td>4298.205269477795</td>\n",
       "       <td>...</td>\n",
       "      <td>0.20473631978739287</td>\n",
       "      <td>4931.758247328737</td>\n",
       "    </tr>\n",
       "    <tr>\n",
       "      <td class=\"rpy2_rowname\">1</td>\n",
       "        <td class=\"rpy2_names\">2</td>\n",
       "      <td>15.0</td>\n",
       "      <td>10168.906962216392</td>\n",
       "      <td>0.18472140915376015</td>\n",
       "      <td>4202.588008026805</td>\n",
       "       <td>...</td>\n",
       "      <td>0.23777240727594434</td>\n",
       "      <td>5025.011861569958</td>\n",
       "    </tr>\n",
       "    <tr>\n",
       "      <td class=\"rpy2_rowname\">2</td>\n",
       "        <td class=\"rpy2_names\">3</td>\n",
       "      <td>29.0</td>\n",
       "      <td>10701.539733194923</td>\n",
       "      <td>0.17907068075131471</td>\n",
       "      <td>4141.982260361537</td>\n",
       "       <td>...</td>\n",
       "      <td>0.2548379876137533</td>\n",
       "      <td>5125.84448570872</td>\n",
       "    </tr>\n",
       "  </tbody>\n",
       "</table>"
      ],
      "text/plain": [
       "<rpy2.robjects.vectors.DataFrame object at 0x000002710EA90400> [RTYPES.VECSXP]\n",
       "R classes: ('data.frame',)\n",
       "[Floa..., Floa..., Floa..., Floa..., Floa..., Floa..., Floa...]\n",
       "  mtry: <class 'rpy2.rinterface.FloatSexpVector'>\n",
       "  <rpy2.rinterface.FloatSexpVector object at 0x000002712CECC200> [RTYPES.REALSXP]\n",
       "  RMSE: <class 'rpy2.rinterface.FloatSexpVector'>\n",
       "  <rpy2.rinterface.FloatSexpVector object at 0x0000027115388C80> [RTYPES.REALSXP]\n",
       "  Rsquared: <class 'rpy2.rinterface.FloatSexpVector'>\n",
       "  <rpy2.rinterface.FloatSexpVector object at 0x0000027108C088C0> [RTYPES.REALSXP]\n",
       "  MAE: <class 'rpy2.rinterface.FloatSexpVector'>\n",
       "  <rpy2.rinterface.FloatSexpVector object at 0x00000271091BF240> [RTYPES.REALSXP]\n",
       "  RMSESD: <class 'rpy2.rinterface.FloatSexpVector'>\n",
       "  <rpy2.rinterface.FloatSexpVector object at 0x000002710A855940> [RTYPES.REALSXP]\n",
       "  RsquaredSD: <class 'rpy2.rinterface.FloatSexpVector'>\n",
       "  <rpy2.rinterface.FloatSexpVector object at 0x0000027108C088C0> [RTYPES.REALSXP]\n",
       "  MAESD: <class 'rpy2.rinterface.FloatSexpVector'>\n",
       "  <rpy2.rinterface.FloatSexpVector object at 0x000002710D9CF780> [RTYPES.REALSXP]"
      ]
     },
     "execution_count": 99,
     "metadata": {},
     "output_type": "execute_result"
    }
   ],
   "source": [
    "# evalution results of the three tested models during CV and tunning\n",
    "fs.r_models_cv_results(crf_cv)\n"
   ]
  },
  {
   "cell_type": "code",
   "execution_count": 100,
   "metadata": {},
   "outputs": [],
   "source": [
    "## store trained model for evaluation\n",
    "filename = f'./models_trained/crf_{target}'\n",
    "pickle.dump(crf_cv, open(filename, 'wb'))\n"
   ]
  },
  {
   "cell_type": "code",
   "execution_count": 101,
   "metadata": {},
   "outputs": [
    {
     "name": "stdout",
     "output_type": "stream",
     "text": [
      "   mtry\n",
      "1   2.0\n"
     ]
    }
   ],
   "source": [
    "## get best model\n",
    "\n",
    "#print(crf_cv.names)#$param\n",
    "best_hyperparameters = fs.r_best_hyperparamters(crf_cv)\n",
    "best_hyperparameters = fs.r_dataframe_to_pandas(best_hyperparameters)\n",
    "print(best_hyperparameters)"
   ]
  },
  {
   "cell_type": "code",
   "execution_count": 102,
   "metadata": {},
   "outputs": [
    {
     "name": "stdout",
     "output_type": "stream",
     "text": [
      "\n",
      "\t Random Forest using Conditional Inference Trees\n",
      "\n",
      "Number of trees:  300 \n",
      "\n",
      "Response:  Target_contentloss_euro \n",
      "Inputs:  inundation_duration_h, water_depth_cm, contaminations.0, flowvelocity, emergency_measures.1, emergency_measures.2, emergency_measures.3, emergency_measures.4, emergency_measures.6, emergency_measures.7, emergency_measures.8, overall_problem_house, protect_valuables_impl, water_barriers_impl, pumping_equipment_impl, elevation_building_impl, resistant_material_building_impl, electricity_higher_impl, flood_protections_impl, flood_experience, elevation_rel2surrounding_cat, bage, b_area, hh_monthly_income_cat, shp_owner, shp_sector, shp_employees, shp_avgmonthly_sale_cat, contaminations_heavy \n",
      "Number of observations:  118 \n",
      "\n",
      "\n"
     ]
    }
   ],
   "source": [
    "## refit model with best hyperparamters\n",
    "#cit_model = partykit.ctree(Formula(f'{target} ~ .'),  \n",
    "crf_model = party.cforest(Formula(f'{target} ~ .'),  \n",
    "                                data=train,\n",
    "                                #weights=1,\n",
    "                                #control= party.cforest_control(mtry=best_hyperparameters.mtry, ntree=300)\n",
    "                                control= party.cforest_unbiased(mtry=best_hyperparameters.mtry, ntree=300)\n",
    "                                #control = partykit.ctree_control(mincriterion = 0.8)\n",
    "                          )\n",
    "print(crf_model)"
   ]
  },
  {
   "cell_type": "markdown",
   "metadata": {},
   "source": [
    "## Model evaluation"
   ]
  },
  {
   "cell_type": "code",
   "execution_count": 103,
   "metadata": {},
   "outputs": [
    {
     "data": {
      "text/plain": [
       "rpy2.robjects.vectors.ListVector"
      ]
     },
     "execution_count": 103,
     "metadata": {},
     "output_type": "execute_result"
    }
   ],
   "source": [
    "crf_model_eval = pickle.load(open(f\"./models_trained/crf_{target}\", 'rb'))\n",
    "\n",
    "#crf_model_eval = pickle.load(open(f\"./models_trained/crf_{target}\", 'rb'))\n",
    "type(crf_model_eval)\n"
   ]
  },
  {
   "cell_type": "code",
   "execution_count": 104,
   "metadata": {},
   "outputs": [
    {
     "name": "stdout",
     "output_type": "stream",
     "text": [
      "Target_contentloss_euro\n"
     ]
    },
    {
     "name": "stdout",
     "output_type": "stream",
     "text": [
      "\n",
      "Training set\n",
      "Model Performance:\n",
      "        Root Mean Square Error: 19855.52\n",
      "        Normalized Root Mean Square Error: 14.67\n",
      "        Mean Absolute Error: 4095.58\n",
      "        Mean Bias Error: 38.88\n",
      "        R²-Score: 0.075\n",
      "    \n",
      "\n",
      "Testing set\n",
      "Model Performance:\n",
      "        Root Mean Square Error: 8600.8\n",
      "        Normalized Root Mean Square Error: 9.82\n",
      "        Mean Absolute Error: 3933.96\n",
      "        Mean Bias Error: 548.47\n",
      "        R²-Score: 0.013\n",
      "    \n"
     ]
    },
    {
     "data": {
      "text/html": [
       "<div>\n",
       "<style scoped>\n",
       "    .dataframe tbody tr th:only-of-type {\n",
       "        vertical-align: middle;\n",
       "    }\n",
       "\n",
       "    .dataframe tbody tr th {\n",
       "        vertical-align: top;\n",
       "    }\n",
       "\n",
       "    .dataframe thead th {\n",
       "        text-align: right;\n",
       "    }\n",
       "</style>\n",
       "<table border=\"1\" class=\"dataframe\">\n",
       "  <thead>\n",
       "    <tr style=\"text-align: right;\">\n",
       "      <th></th>\n",
       "      <th>mse</th>\n",
       "      <th>rmse</th>\n",
       "      <th>nrmse</th>\n",
       "      <th>mae</th>\n",
       "      <th>mbe</th>\n",
       "      <th>r2</th>\n",
       "    </tr>\n",
       "  </thead>\n",
       "  <tbody>\n",
       "    <tr>\n",
       "      <th>0</th>\n",
       "      <td>73973764.8</td>\n",
       "      <td>8600.800242</td>\n",
       "      <td>9.820836</td>\n",
       "      <td>3933.957143</td>\n",
       "      <td>548.471429</td>\n",
       "      <td>0.012932</td>\n",
       "    </tr>\n",
       "  </tbody>\n",
       "</table>\n",
       "</div>"
      ],
      "text/plain": [
       "          mse         rmse     nrmse          mae         mbe        r2\n",
       "0  73973764.8  8600.800242  9.820836  3933.957143  548.471429  0.012932"
      ]
     },
     "execution_count": 104,
     "metadata": {},
     "output_type": "execute_result"
    }
   ],
   "source": [
    "## Predict\n",
    "\n",
    "print(target)\n",
    "\n",
    "y_pred = stats.predict(crf_model_eval, newdata=X_test)#, OOB=True, type=\"response\") #  type = \"prob\" # conditional class probabilities extractPrediction(\n",
    "y_pred  = base.round(y_pred)\n",
    "\n",
    "## get back to python dtypes\n",
    "y_pred = np.array(y_pred)\n",
    "y_test = np.array(y_test)\n",
    "\n",
    "## print evaluation report + check for overfitting \n",
    "y_pred_train = np.round(stats.predict(crf_model_eval, newdata=X_train), 1)#.reshape(-1)\n",
    "print(\"\\nTraining set\")\n",
    "e.evaluation_report(y_train, y_pred_train)\n",
    "\n",
    "print(\"\\nTesting set\")\n",
    "e.evaluation_report(y_test, y_pred)  # 1590, 1306.9"
   ]
  },
  {
   "cell_type": "code",
   "execution_count": null,
   "metadata": {},
   "outputs": [],
   "source": []
  },
  {
   "cell_type": "markdown",
   "metadata": {},
   "source": [
    "## Feature importance"
   ]
  },
  {
   "cell_type": "code",
   "execution_count": 105,
   "metadata": {},
   "outputs": [
    {
     "name": "stderr",
     "output_type": "stream",
     "text": [
      "Exception ignored from cffi callback <function _callback at 0x00000271724C1AF0>:\n",
      "Traceback (most recent call last):\n",
      "  File \"c:\\Anaconda\\envs\\py396_c3\\lib\\site-packages\\rpy2\\rinterface_lib\\callbacks.py\", line 329, in _callback\n",
      "    try:\n",
      "KeyboardInterrupt: \n"
     ]
    }
   ],
   "source": [
    "## Code snippet from Danielas CRF script and from https://cran.r-project.org/web/packages/stablelearner/vignettes/forests.html\n",
    "\n",
    "## Calculate variance importance based on selection frequency\n",
    "# varimp = party.varimp(model, measures=[\"freq\"])\n",
    "# varimp_df = pd.DataFrame({'Variable': varimp.names, 'Importance': varimp})\n",
    "## Sort the variable importance in descending order\n",
    "# varimp_df = varimp_df.sort_values(by='freq', ascending=False)\n",
    "## Plot the variance importance\n",
    "# varimp_df.plot(kind='bar', x='term', y='freq', figsize=(10, 6))\n",
    "\n",
    "# Extract variable importance values from the model\n",
    "varimp = party.varimp(crf_model, conditional = True )  # compute conditional variable importance scores\n",
    "# t = caret.varImp(crf_model)#, conditional=True) # caret derives FI a bit differently than party package\n",
    "# pd.DataFrame({\"names\":X.columns.to_list(), \"importances\":pd.Series(t)[0]}).sort_values(\"importances\", ascending=False).head(5)\n"
   ]
  },
  {
   "cell_type": "code",
   "execution_count": null,
   "metadata": {},
   "outputs": [
    {
     "data": {
      "text/plain": [
       "array([-5.19997089e+05,  2.23055806e+05,  0.00000000e+00,  3.97822201e+05,\n",
       "        1.23512119e+04, -6.12748497e+04, -3.82051254e+04, -3.18881921e+05,\n",
       "        7.70345205e+04,  1.45679200e+05,  0.00000000e+00, -1.39186059e+02,\n",
       "       -4.24174029e+05,  2.75498702e+05, -2.27007553e+03, -1.46943839e+05,\n",
       "       -3.19491218e+03, -5.40854200e+04,  0.00000000e+00,  1.05465621e+05,\n",
       "        2.94141327e+04, -2.34927585e+05, -4.95047254e+04,  1.77174178e+05,\n",
       "        7.06148940e+03, -1.99461282e+05,  3.35327042e+05,  9.28430465e+04,\n",
       "       -5.73933234e+01])"
      ]
     },
     "execution_count": 72,
     "metadata": {},
     "output_type": "execute_result"
    }
   ],
   "source": [
    "varimp"
   ]
  },
  {
   "cell_type": "code",
   "execution_count": null,
   "metadata": {},
   "outputs": [
    {
     "data": {
      "text/plain": [
       "(118,)"
      ]
     },
     "execution_count": 79,
     "metadata": {},
     "output_type": "execute_result"
    }
   ],
   "source": [
    "y_train.shape"
   ]
  },
  {
   "cell_type": "code",
   "execution_count": null,
   "metadata": {},
   "outputs": [
    {
     "data": {
      "text/html": [
       "<div>\n",
       "<style scoped>\n",
       "    .dataframe tbody tr th:only-of-type {\n",
       "        vertical-align: middle;\n",
       "    }\n",
       "\n",
       "    .dataframe tbody tr th {\n",
       "        vertical-align: top;\n",
       "    }\n",
       "\n",
       "    .dataframe thead th {\n",
       "        text-align: right;\n",
       "    }\n",
       "</style>\n",
       "<table border=\"1\" class=\"dataframe\">\n",
       "  <thead>\n",
       "    <tr style=\"text-align: right;\">\n",
       "      <th></th>\n",
       "      <th>name</th>\n",
       "      <th>importances</th>\n",
       "    </tr>\n",
       "  </thead>\n",
       "  <tbody>\n",
       "    <tr>\n",
       "      <th>3</th>\n",
       "      <td>flowvelocity</td>\n",
       "      <td>397822.200668</td>\n",
       "    </tr>\n",
       "    <tr>\n",
       "      <th>26</th>\n",
       "      <td>shp_employees</td>\n",
       "      <td>335327.041844</td>\n",
       "    </tr>\n",
       "    <tr>\n",
       "      <th>13</th>\n",
       "      <td>water_barriers_impl</td>\n",
       "      <td>275498.701596</td>\n",
       "    </tr>\n",
       "    <tr>\n",
       "      <th>1</th>\n",
       "      <td>water_depth_cm</td>\n",
       "      <td>223055.805529</td>\n",
       "    </tr>\n",
       "    <tr>\n",
       "      <th>23</th>\n",
       "      <td>hh_monthly_income_cat</td>\n",
       "      <td>177174.178024</td>\n",
       "    </tr>\n",
       "  </tbody>\n",
       "</table>\n",
       "</div>"
      ],
      "text/plain": [
       "                     name    importances\n",
       "3            flowvelocity  397822.200668\n",
       "26          shp_employees  335327.041844\n",
       "13    water_barriers_impl  275498.701596\n",
       "1          water_depth_cm  223055.805529\n",
       "23  hh_monthly_income_cat  177174.178024"
      ]
     },
     "execution_count": 73,
     "metadata": {},
     "output_type": "execute_result"
    }
   ],
   "source": [
    "# # ## Feature importance \n",
    "\n",
    "df_importance = pd.DataFrame({\n",
    "    \"name\" : X_train.columns.to_list(),\n",
    "    \"importances\" : varimp,\n",
    "     }) \n",
    "df_importance = df_importance.sort_values(\"importances\", ascending=False)  # get most important features to the top\n",
    "df_importance.head(5)\n"
   ]
  },
  {
   "cell_type": "code",
   "execution_count": null,
   "metadata": {},
   "outputs": [
    {
     "name": "stdout",
     "output_type": "stream",
     "text": [
      "519997.0891648732\n",
      "519997.0891648732\n"
     ]
    }
   ],
   "source": [
    "## define threshold according to Hilpert 2020: \"The rule of thumb is to take the absolute minimum value as a cutoff point.\"\" \n",
    "fi_threshold = np.abs(np.min(varimp))\n",
    "fi_threshold\n",
    "print(fi_threshold)\n",
    "\n",
    "## this is to high set to fi_threshold = fi_threshold /10\n",
    "fi_threshold = fi_threshold # / 5\n",
    "print(fi_threshold)"
   ]
  },
  {
   "cell_type": "code",
   "execution_count": null,
   "metadata": {},
   "outputs": [
    {
     "name": "stdout",
     "output_type": "stream",
     "text": [
      "5 most important features:\n"
     ]
    },
    {
     "data": {
      "text/plain": [
       "(12, 2)"
      ]
     },
     "execution_count": 75,
     "metadata": {},
     "output_type": "execute_result"
    }
   ],
   "source": [
    "fi_threshold = 20000\n",
    "df_importance = df_importance.loc[df_importance.importances > 0.000, : ]      # drop features which dont reduce the loss\n",
    "#df_importance = df_importance.loc[df_importance.importances > fi_threshold, : ]      # drop features which dont reduce the loss\n",
    "\n",
    "df_importance = df_importance.sort_values(\"importances\", ascending=True)\n",
    "print(\"5 most important features:\")\n",
    "df_importance.shape"
   ]
  },
  {
   "cell_type": "code",
   "execution_count": null,
   "metadata": {},
   "outputs": [
    {
     "data": {
      "image/png": "[encoded data removed]",
      "text/plain": [
       "<Figure size 1200x1000 with 1 Axes>"
      ]
     },
     "metadata": {},
     "output_type": "display_data"
    }
   ],
   "source": [
    "# plot feature importance\n",
    "fig, ax = plt.subplots(figsize=(12,10))\n",
    "\n",
    "\n",
    "# keep only features which reduce the loss\n",
    "df_importance = df_importance.loc[df_importance.importances > 0, : ]\n",
    "\n",
    "plt.barh(df_importance.name[-8:], df_importance.importances[-8:])\n",
    "plt.xticks(\n",
    "    #ticks = range(len(selected_feat)),\n",
    "    #labels = X_unscaled.iloc[:,selected_feat],\n",
    "    rotation = 90\n",
    "    )\n",
    "plt.title(f\"Feature Importances for {target}\")\n",
    "\n",
    "plt.show()"
   ]
  },
  {
   "cell_type": "code",
   "execution_count": 77,
   "metadata": {},
   "outputs": [],
   "source": [
    "### Save to disk"
   ]
  },
  {
   "cell_type": "code",
   "execution_count": 78,
   "metadata": {},
   "outputs": [
    {
     "ename": "KeyError",
     "evalue": "\"None of [Index([24, 4, 20, 8, 27, 19, 9, 23, 1, 13, 26, 3], dtype='int64')] are in the [columns]\"",
     "output_type": "error",
     "traceback": [
      "\u001b[1;31m---------------------------------------------------------------------------\u001b[0m",
      "\u001b[1;31mKeyError\u001b[0m                                  Traceback (most recent call last)",
      "\u001b[1;32mc:\\Users\\Anna\\Documents\\UNI\\MA_topic\\flood-loss-models-4-HCMC\\feature-selection-from-remote-fs\\model_preprocessing\\Feature_selection\\crf_feature_selection.ipynb Cell 40\u001b[0m in \u001b[0;36m5\n\u001b[0;32m      <a href='vscode-notebook-cell:/c%3A/Users/Anna/Documents/UNI/MA_topic/flood-loss-models-4-HCMC/feature-selection-from-remote-fs/model_preprocessing/Feature_selection/crf_feature_selection.ipynb#X50sZmlsZQ%3D%3D?line=1'>2</a>\u001b[0m selected_feat \u001b[39m=\u001b[39m df_importance\u001b[39m.\u001b[39mT\u001b[39m.\u001b[39mcolumns\n\u001b[0;32m      <a href='vscode-notebook-cell:/c%3A/Users/Anna/Documents/UNI/MA_topic/flood-loss-models-4-HCMC/feature-selection-from-remote-fs/model_preprocessing/Feature_selection/crf_feature_selection.ipynb#X50sZmlsZQ%3D%3D?line=3'>4</a>\u001b[0m \u001b[39m## write selected predictors to disk\u001b[39;00m\n\u001b[1;32m----> <a href='vscode-notebook-cell:/c%3A/Users/Anna/Documents/UNI/MA_topic/flood-loss-models-4-HCMC/feature-selection-from-remote-fs/model_preprocessing/Feature_selection/crf_feature_selection.ipynb#X50sZmlsZQ%3D%3D?line=4'>5</a>\u001b[0m fs\u001b[39m.\u001b[39;49msave_selected_features(X_train, pd\u001b[39m.\u001b[39;49mDataFrame(y_train), selected_feat, filename\u001b[39m=\u001b[39;49m\u001b[39mf\u001b[39;49m\u001b[39m\"\u001b[39;49m\u001b[39m../../input_survey_data/fs_crf_\u001b[39;49m\u001b[39m{\u001b[39;49;00mtarget\u001b[39m}\u001b[39;49;00m\u001b[39m.xlsx\u001b[39;49m\u001b[39m\"\u001b[39;49m)\n",
      "File \u001b[1;32mc:\\Users\\Anna\\Documents\\UNI\\MA_topic\\flood-loss-models-4-HCMC\\feature-selection-from-remote-fs\\model_preprocessing\\Feature_selection\\../../..\\utils\\utils_feature_selection.py:164\u001b[0m, in \u001b[0;36msave_selected_features\u001b[1;34m(X_train, y_train, selected_feat_cols, filename)\u001b[0m\n\u001b[0;32m    157\u001b[0m \u001b[39mdef\u001b[39;00m \u001b[39msave_selected_features\u001b[39m(X_train, y_train, selected_feat_cols, filename\u001b[39m=\u001b[39m\u001b[39mf\u001b[39m\u001b[39m\"\u001b[39m\u001b[39mfs_model.xlsx\u001b[39m\u001b[39m\"\u001b[39m):\n\u001b[0;32m    158\u001b[0m     \u001b[39m\"\"\"\u001b[39;00m\n\u001b[0;32m    159\u001b[0m \u001b[39m    Selects feautres from training set and saves them in excel file\u001b[39;00m\n\u001b[0;32m    160\u001b[0m \u001b[39m    X_train (df): X training set with predictors\u001b[39;00m\n\u001b[0;32m    161\u001b[0m \u001b[39m    y_train (df): y training set with target\u001b[39;00m\n\u001b[0;32m    162\u001b[0m \u001b[39m    selected_feat_cols (list): column names of selected features\u001b[39;00m\n\u001b[0;32m    163\u001b[0m \u001b[39m    \"\"\"\u001b[39;00m\n\u001b[1;32m--> 164\u001b[0m     selected_feat \u001b[39m=\u001b[39m X_train\u001b[39m.\u001b[39;49mloc[:,selected_feat_cols]\n\u001b[0;32m    165\u001b[0m     not_selected_feat \u001b[39m=\u001b[39m X_train\u001b[39m.\u001b[39mdrop( selected_feat, axis\u001b[39m=\u001b[39m\u001b[39m1\u001b[39m)\n\u001b[0;32m    167\u001b[0m     \u001b[39mprint\u001b[39m(\u001b[39m\"\u001b[39m\u001b[39mtotal features: \u001b[39m\u001b[39m{}\u001b[39;00m\u001b[39m\"\u001b[39m\u001b[39m.\u001b[39mformat((X_train\u001b[39m.\u001b[39mshape[\u001b[39m1\u001b[39m])))\n",
      "File \u001b[1;32mc:\\Anaconda\\envs\\py396_c3\\lib\\site-packages\\pandas\\core\\indexing.py:1097\u001b[0m, in \u001b[0;36m_LocationIndexer.__getitem__\u001b[1;34m(self, key)\u001b[0m\n\u001b[0;32m   1095\u001b[0m     \u001b[39mif\u001b[39;00m \u001b[39mself\u001b[39m\u001b[39m.\u001b[39m_is_scalar_access(key):\n\u001b[0;32m   1096\u001b[0m         \u001b[39mreturn\u001b[39;00m \u001b[39mself\u001b[39m\u001b[39m.\u001b[39mobj\u001b[39m.\u001b[39m_get_value(\u001b[39m*\u001b[39mkey, takeable\u001b[39m=\u001b[39m\u001b[39mself\u001b[39m\u001b[39m.\u001b[39m_takeable)\n\u001b[1;32m-> 1097\u001b[0m     \u001b[39mreturn\u001b[39;00m \u001b[39mself\u001b[39;49m\u001b[39m.\u001b[39;49m_getitem_tuple(key)\n\u001b[0;32m   1098\u001b[0m \u001b[39melse\u001b[39;00m:\n\u001b[0;32m   1099\u001b[0m     \u001b[39m# we by definition only have the 0th axis\u001b[39;00m\n\u001b[0;32m   1100\u001b[0m     axis \u001b[39m=\u001b[39m \u001b[39mself\u001b[39m\u001b[39m.\u001b[39maxis \u001b[39mor\u001b[39;00m \u001b[39m0\u001b[39m\n",
      "File \u001b[1;32mc:\\Anaconda\\envs\\py396_c3\\lib\\site-packages\\pandas\\core\\indexing.py:1289\u001b[0m, in \u001b[0;36m_LocIndexer._getitem_tuple\u001b[1;34m(self, tup)\u001b[0m\n\u001b[0;32m   1286\u001b[0m \u001b[39mif\u001b[39;00m \u001b[39mself\u001b[39m\u001b[39m.\u001b[39m_multi_take_opportunity(tup):\n\u001b[0;32m   1287\u001b[0m     \u001b[39mreturn\u001b[39;00m \u001b[39mself\u001b[39m\u001b[39m.\u001b[39m_multi_take(tup)\n\u001b[1;32m-> 1289\u001b[0m \u001b[39mreturn\u001b[39;00m \u001b[39mself\u001b[39;49m\u001b[39m.\u001b[39;49m_getitem_tuple_same_dim(tup)\n",
      "File \u001b[1;32mc:\\Anaconda\\envs\\py396_c3\\lib\\site-packages\\pandas\\core\\indexing.py:955\u001b[0m, in \u001b[0;36m_LocationIndexer._getitem_tuple_same_dim\u001b[1;34m(self, tup)\u001b[0m\n\u001b[0;32m    952\u001b[0m \u001b[39mif\u001b[39;00m com\u001b[39m.\u001b[39mis_null_slice(key):\n\u001b[0;32m    953\u001b[0m     \u001b[39mcontinue\u001b[39;00m\n\u001b[1;32m--> 955\u001b[0m retval \u001b[39m=\u001b[39m \u001b[39mgetattr\u001b[39;49m(retval, \u001b[39mself\u001b[39;49m\u001b[39m.\u001b[39;49mname)\u001b[39m.\u001b[39;49m_getitem_axis(key, axis\u001b[39m=\u001b[39;49mi)\n\u001b[0;32m    956\u001b[0m \u001b[39m# We should never have retval.ndim < self.ndim, as that should\u001b[39;00m\n\u001b[0;32m    957\u001b[0m \u001b[39m#  be handled by the _getitem_lowerdim call above.\u001b[39;00m\n\u001b[0;32m    958\u001b[0m \u001b[39massert\u001b[39;00m retval\u001b[39m.\u001b[39mndim \u001b[39m==\u001b[39m \u001b[39mself\u001b[39m\u001b[39m.\u001b[39mndim\n",
      "File \u001b[1;32mc:\\Anaconda\\envs\\py396_c3\\lib\\site-packages\\pandas\\core\\indexing.py:1332\u001b[0m, in \u001b[0;36m_LocIndexer._getitem_axis\u001b[1;34m(self, key, axis)\u001b[0m\n\u001b[0;32m   1329\u001b[0m     \u001b[39mif\u001b[39;00m \u001b[39mhasattr\u001b[39m(key, \u001b[39m\"\u001b[39m\u001b[39mndim\u001b[39m\u001b[39m\"\u001b[39m) \u001b[39mand\u001b[39;00m key\u001b[39m.\u001b[39mndim \u001b[39m>\u001b[39m \u001b[39m1\u001b[39m:\n\u001b[0;32m   1330\u001b[0m         \u001b[39mraise\u001b[39;00m \u001b[39mValueError\u001b[39;00m(\u001b[39m\"\u001b[39m\u001b[39mCannot index with multidimensional key\u001b[39m\u001b[39m\"\u001b[39m)\n\u001b[1;32m-> 1332\u001b[0m     \u001b[39mreturn\u001b[39;00m \u001b[39mself\u001b[39;49m\u001b[39m.\u001b[39;49m_getitem_iterable(key, axis\u001b[39m=\u001b[39;49maxis)\n\u001b[0;32m   1334\u001b[0m \u001b[39m# nested tuple slicing\u001b[39;00m\n\u001b[0;32m   1335\u001b[0m \u001b[39mif\u001b[39;00m is_nested_tuple(key, labels):\n",
      "File \u001b[1;32mc:\\Anaconda\\envs\\py396_c3\\lib\\site-packages\\pandas\\core\\indexing.py:1272\u001b[0m, in \u001b[0;36m_LocIndexer._getitem_iterable\u001b[1;34m(self, key, axis)\u001b[0m\n\u001b[0;32m   1269\u001b[0m \u001b[39mself\u001b[39m\u001b[39m.\u001b[39m_validate_key(key, axis)\n\u001b[0;32m   1271\u001b[0m \u001b[39m# A collection of keys\u001b[39;00m\n\u001b[1;32m-> 1272\u001b[0m keyarr, indexer \u001b[39m=\u001b[39m \u001b[39mself\u001b[39;49m\u001b[39m.\u001b[39;49m_get_listlike_indexer(key, axis)\n\u001b[0;32m   1273\u001b[0m \u001b[39mreturn\u001b[39;00m \u001b[39mself\u001b[39m\u001b[39m.\u001b[39mobj\u001b[39m.\u001b[39m_reindex_with_indexers(\n\u001b[0;32m   1274\u001b[0m     {axis: [keyarr, indexer]}, copy\u001b[39m=\u001b[39m\u001b[39mTrue\u001b[39;00m, allow_dups\u001b[39m=\u001b[39m\u001b[39mTrue\u001b[39;00m\n\u001b[0;32m   1275\u001b[0m )\n",
      "File \u001b[1;32mc:\\Anaconda\\envs\\py396_c3\\lib\\site-packages\\pandas\\core\\indexing.py:1462\u001b[0m, in \u001b[0;36m_LocIndexer._get_listlike_indexer\u001b[1;34m(self, key, axis)\u001b[0m\n\u001b[0;32m   1459\u001b[0m ax \u001b[39m=\u001b[39m \u001b[39mself\u001b[39m\u001b[39m.\u001b[39mobj\u001b[39m.\u001b[39m_get_axis(axis)\n\u001b[0;32m   1460\u001b[0m axis_name \u001b[39m=\u001b[39m \u001b[39mself\u001b[39m\u001b[39m.\u001b[39mobj\u001b[39m.\u001b[39m_get_axis_name(axis)\n\u001b[1;32m-> 1462\u001b[0m keyarr, indexer \u001b[39m=\u001b[39m ax\u001b[39m.\u001b[39;49m_get_indexer_strict(key, axis_name)\n\u001b[0;32m   1464\u001b[0m \u001b[39mreturn\u001b[39;00m keyarr, indexer\n",
      "File \u001b[1;32mc:\\Anaconda\\envs\\py396_c3\\lib\\site-packages\\pandas\\core\\indexes\\base.py:5876\u001b[0m, in \u001b[0;36mIndex._get_indexer_strict\u001b[1;34m(self, key, axis_name)\u001b[0m\n\u001b[0;32m   5873\u001b[0m \u001b[39melse\u001b[39;00m:\n\u001b[0;32m   5874\u001b[0m     keyarr, indexer, new_indexer \u001b[39m=\u001b[39m \u001b[39mself\u001b[39m\u001b[39m.\u001b[39m_reindex_non_unique(keyarr)\n\u001b[1;32m-> 5876\u001b[0m \u001b[39mself\u001b[39;49m\u001b[39m.\u001b[39;49m_raise_if_missing(keyarr, indexer, axis_name)\n\u001b[0;32m   5878\u001b[0m keyarr \u001b[39m=\u001b[39m \u001b[39mself\u001b[39m\u001b[39m.\u001b[39mtake(indexer)\n\u001b[0;32m   5879\u001b[0m \u001b[39mif\u001b[39;00m \u001b[39misinstance\u001b[39m(key, Index):\n\u001b[0;32m   5880\u001b[0m     \u001b[39m# GH 42790 - Preserve name from an Index\u001b[39;00m\n",
      "File \u001b[1;32mc:\\Anaconda\\envs\\py396_c3\\lib\\site-packages\\pandas\\core\\indexes\\base.py:5935\u001b[0m, in \u001b[0;36mIndex._raise_if_missing\u001b[1;34m(self, key, indexer, axis_name)\u001b[0m\n\u001b[0;32m   5933\u001b[0m     \u001b[39mif\u001b[39;00m use_interval_msg:\n\u001b[0;32m   5934\u001b[0m         key \u001b[39m=\u001b[39m \u001b[39mlist\u001b[39m(key)\n\u001b[1;32m-> 5935\u001b[0m     \u001b[39mraise\u001b[39;00m \u001b[39mKeyError\u001b[39;00m(\u001b[39mf\u001b[39m\u001b[39m\"\u001b[39m\u001b[39mNone of [\u001b[39m\u001b[39m{\u001b[39;00mkey\u001b[39m}\u001b[39;00m\u001b[39m] are in the [\u001b[39m\u001b[39m{\u001b[39;00maxis_name\u001b[39m}\u001b[39;00m\u001b[39m]\u001b[39m\u001b[39m\"\u001b[39m)\n\u001b[0;32m   5937\u001b[0m not_found \u001b[39m=\u001b[39m \u001b[39mlist\u001b[39m(ensure_index(key)[missing_mask\u001b[39m.\u001b[39mnonzero()[\u001b[39m0\u001b[39m]]\u001b[39m.\u001b[39munique())\n\u001b[0;32m   5938\u001b[0m \u001b[39mraise\u001b[39;00m \u001b[39mKeyError\u001b[39;00m(\u001b[39mf\u001b[39m\u001b[39m\"\u001b[39m\u001b[39m{\u001b[39;00mnot_found\u001b[39m}\u001b[39;00m\u001b[39m not in index\u001b[39m\u001b[39m\"\u001b[39m)\n",
      "\u001b[1;31mKeyError\u001b[0m: \"None of [Index([24, 4, 20, 8, 27, 19, 9, 23, 1, 13, 26, 3], dtype='int64')] are in the [columns]\""
     ]
    }
   ],
   "source": [
    "##Feature selection\n",
    "selected_feat = df_importance.T.columns\n",
    "\n",
    "## write selected predictors to disk\n",
    "fs.save_selected_features(X_train, pd.DataFrame(y_train), selected_feat, filename=f\"../../input_survey_data/fs_crf_{target}.xlsx\")\n"
   ]
  },
  {
   "cell_type": "code",
   "execution_count": null,
   "metadata": {},
   "outputs": [],
   "source": []
  },
  {
   "cell_type": "markdown",
   "metadata": {},
   "source": [
    "#### Statistics related to CIT and CRF"
   ]
  },
  {
   "cell_type": "markdown",
   "metadata": {},
   "source": [
    "The log rather than the p-value is used because it is numerically much more stable when used for comparisons, computing the minimal value, etc. Note that the p-values can become extremely small when significant. \n",
    "\n",
    "\n",
    "statistic DEF: \n",
    "\n",
    "citrerion DEF: \n",
    "\n"
   ]
  },
  {
   "cell_type": "code",
   "execution_count": null,
   "metadata": {},
   "outputs": [],
   "source": [
    "# ## get signifcant features\n",
    "# selected_feat = cit_stats.loc[:, cit_stats.loc[\"p_value\",:]<= 0.05]\n"
   ]
  },
  {
   "cell_type": "code",
   "execution_count": null,
   "metadata": {},
   "outputs": [],
   "source": [
    "## Snippet from: https://cran.r-project.org/web/packages/stablelearner/vignettes/forests.html\n",
    "# cf_stablelearner = stablelearner.stabletree(cit_model,\n",
    "#   sampler = stablelearner.subsampling, savetrees = True, B = 100, v = 0.632)\n",
    "# #Internally, stablelearner::stabletree() does the following: For each of the 100 trees to be generated, the dataset is resampled according to the resampling method specified (in our case subsampling with a fraction of v = 0.632) and the function call of our initial tree (which we labeled ct_partykit) is updated with respect to this resampled data and reevaluated, resulting in a new tree. All the 100 trees together then build the forest.\n",
    "\n",
    "# #2.2 Gaining insight into the forest\n",
    "# #The following summary prints the variable selection frequency (freq) as well as the average number of splits in each variable (mean) over all 100 trees. As we do not want to focus on our initial tree (remember that we just grew a forest, where all trees are of equal interest), we set original = FALSE, as already mentioned in the introduction:\n",
    "# t = base.summary(cf_stablelearner, original = False)\n",
    "\n",
    "# ## Variable selection overview:\n",
    "# ## Note: n python we can see the R df.index which contains the variable names, therefore it is not very usefull\n",
    "# #pd.DataFrame(t).iloc[3,:][0] # frequency\n",
    "# #pd.DataFrame(t).iloc[3,:][1] # mean\n",
    "# #print(X.columns[:23])"
   ]
  },
  {
   "cell_type": "code",
   "execution_count": null,
   "metadata": {},
   "outputs": [],
   "source": [
    "# ## actual p-values (without log)\n",
    "# strucchange = importr(\"strucchange\")\n",
    "# strucchange.sctest(cit_model, node = 1)[1]  # p values"
   ]
  },
  {
   "cell_type": "code",
   "execution_count": null,
   "metadata": {},
   "outputs": [],
   "source": [
    "cit_model_p.rx(3)"
   ]
  },
  {
   "cell_type": "code",
   "execution_count": null,
   "metadata": {},
   "outputs": [],
   "source": [
    "cit_model_p.names\n",
    "cit_model_p = np.array(cit_model_p.rx(3))\n",
    "cit_model_p"
   ]
  },
  {
   "cell_type": "code",
   "execution_count": null,
   "metadata": {},
   "outputs": [],
   "source": []
  }
 ],
 "metadata": {
  "kernelspec": {
   "display_name": "py396_c3",
   "language": "python",
   "name": "python3"
  },
  "language_info": {
   "codemirror_mode": {
    "name": "ipython",
    "version": 3
   },
   "file_extension": ".py",
   "mimetype": "text/x-python",
   "name": "python",
   "nbconvert_exporter": "python",
   "pygments_lexer": "ipython3",
   "version": "3.9.6"
  },
  "orig_nbformat": 4
 },
 "nbformat": 4,
 "nbformat_minor": 2
}
