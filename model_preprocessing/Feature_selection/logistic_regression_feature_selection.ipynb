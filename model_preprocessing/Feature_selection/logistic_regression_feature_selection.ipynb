{
 "cells": [
  {
   "cell_type": "code",
   "execution_count": 70,
   "metadata": {},
   "outputs": [],
   "source": [
    "#!/usr/bin/env python\n",
    "# -*- coding: utf-8 -*-\n",
    "\"\"\"Data preprocessing for HCMC survey dataset\"\"\"\n",
    "\n",
    "__author__ = \"Anna Buch, Heidelberg University\"\n",
    "__email__ = \"a.buch@stud.uni-heidelberg.de\"\n"
   ]
  },
  {
   "cell_type": "markdown",
   "metadata": {},
   "source": [
    "# Feature selection for content losses done by Logistic Regression\n",
    "\n",
    "Due to many zero losses especially in content losses, a binary regression was tested to distinguish between occured losses and no losses. The before applied elastic net result showed that the elastic net algorithm might be a bit too complex for the moderate size of training set and the imbalnced distribution with in the response (many zero losses compared to only a very a left skewed distribution of occured content losses)  \n",
    "\n",
    "*Sources*\n",
    "Geron 2019: https://learning.oreilly.com/library/view/hands-on-machine-learning/9781492032632/ch04.html#idm45022190228392"
   ]
  },
  {
   "cell_type": "code",
   "execution_count": 71,
   "metadata": {},
   "outputs": [
    {
     "data": {
      "text/plain": [
       "<Figure size 2000x1000 with 0 Axes>"
      ]
     },
     "metadata": {},
     "output_type": "display_data"
    }
   ],
   "source": [
    "import sys\n",
    "import numpy as np\n",
    "import pandas as pd\n",
    "\n",
    "import pickle\n",
    "import joblib\n",
    "\n",
    "from sklearn.linear_model import LogisticRegression\n",
    "from sklearn.preprocessing import MinMaxScaler\n",
    "from sklearn.metrics import make_scorer, f1_score, confusion_matrix, classification_report\n",
    "from sklearn.model_selection import RandomizedSearchCV, GridSearchCV, train_test_split, KFold, RepeatedStratifiedKFold, RepeatedKFold, cross_validate, cross_val_predict\n",
    "from sklearn.pipeline import Pipeline\n",
    "\n",
    "from scipy import stats\n",
    "\n",
    "import matplotlib.pyplot as plt\n",
    "import matplotlib.patches as mpatches\n",
    "import seaborn as sns\n",
    "\n",
    "\n",
    "sys.path.insert(0, \"../../../\")\n",
    "import utils.utils_feature_selection as fs\n",
    "import utils.utils_evaluation as e\n",
    "import utils.utils_figures as f\n",
    "import utils.settings as s\n",
    "import utils.pipelines as p\n",
    "import utils.utils_processing as pp\n",
    "\n",
    "\n",
    "p.main()  # create/update model settings\n",
    "#s.init()\n",
    "seed = s.seed\n",
    "\n",
    "pd.set_option('display.max_columns', None)\n",
    "plt.figure(figsize=(20, 10))\n",
    "\n",
    "import warnings\n",
    "warnings.filterwarnings('ignore')\n",
    "\n",
    "\n",
    "target = \"Target_relative_contentloss_euro\"\n"
   ]
  },
  {
   "cell_type": "code",
   "execution_count": 72,
   "metadata": {},
   "outputs": [
    {
     "name": "stdout",
     "output_type": "stream",
     "text": [
      "(397, 32)\n"
     ]
    },
    {
     "data": {
      "text/html": [
       "<div>\n",
       "<style scoped>\n",
       "    .dataframe tbody tr th:only-of-type {\n",
       "        vertical-align: middle;\n",
       "    }\n",
       "\n",
       "    .dataframe tbody tr th {\n",
       "        vertical-align: top;\n",
       "    }\n",
       "\n",
       "    .dataframe thead th {\n",
       "        text-align: right;\n",
       "    }\n",
       "</style>\n",
       "<table border=\"1\" class=\"dataframe\">\n",
       "  <thead>\n",
       "    <tr style=\"text-align: right;\">\n",
       "      <th></th>\n",
       "      <th>Target_relative_contentloss_euro</th>\n",
       "      <th>inundation_duration_h</th>\n",
       "      <th>water_depth_cm</th>\n",
       "      <th>contaminations.0</th>\n",
       "      <th>flowvelocity</th>\n",
       "      <th>emergency_measures.1</th>\n",
       "      <th>emergency_measures.2</th>\n",
       "      <th>emergency_measures.3</th>\n",
       "      <th>emergency_measures.4</th>\n",
       "      <th>emergency_measures.7</th>\n",
       "      <th>emergency_measures.8</th>\n",
       "      <th>overall_problem_house</th>\n",
       "      <th>protect_valuables_impl</th>\n",
       "      <th>water_barriers_impl</th>\n",
       "      <th>pumping_equipment_impl</th>\n",
       "      <th>elevation_building_impl</th>\n",
       "      <th>resistant_material_building_impl</th>\n",
       "      <th>electricity_higher_impl</th>\n",
       "      <th>flood_protections_impl</th>\n",
       "      <th>flood_experience</th>\n",
       "      <th>elevation_building_height_cm</th>\n",
       "      <th>bage</th>\n",
       "      <th>b_area</th>\n",
       "      <th>hh_monthly_income_cat</th>\n",
       "      <th>shp_owner</th>\n",
       "      <th>shp_sector</th>\n",
       "      <th>shp_employees</th>\n",
       "      <th>shp_avgmonthly_sale_cat</th>\n",
       "      <th>resilience_govern_careing_increases</th>\n",
       "      <th>contaminations_light</th>\n",
       "      <th>contaminations_heavy</th>\n",
       "      <th>shp_registered_capital_euro</th>\n",
       "    </tr>\n",
       "  </thead>\n",
       "  <tbody>\n",
       "    <tr>\n",
       "      <th>395</th>\n",
       "      <td>NaN</td>\n",
       "      <td>4.0</td>\n",
       "      <td>70.0</td>\n",
       "      <td>0</td>\n",
       "      <td>1</td>\n",
       "      <td>1</td>\n",
       "      <td>0</td>\n",
       "      <td>1</td>\n",
       "      <td>0</td>\n",
       "      <td>0</td>\n",
       "      <td>0</td>\n",
       "      <td>1</td>\n",
       "      <td>1</td>\n",
       "      <td>5</td>\n",
       "      <td>1</td>\n",
       "      <td>1</td>\n",
       "      <td>5</td>\n",
       "      <td>5</td>\n",
       "      <td>5</td>\n",
       "      <td>5</td>\n",
       "      <td>70.0</td>\n",
       "      <td>NaN</td>\n",
       "      <td>130.0</td>\n",
       "      <td>NaN</td>\n",
       "      <td>1</td>\n",
       "      <td>17</td>\n",
       "      <td>2</td>\n",
       "      <td>3</td>\n",
       "      <td>1.0</td>\n",
       "      <td>1</td>\n",
       "      <td>0</td>\n",
       "      <td>11047.7</td>\n",
       "    </tr>\n",
       "    <tr>\n",
       "      <th>396</th>\n",
       "      <td>NaN</td>\n",
       "      <td>3.0</td>\n",
       "      <td>100.0</td>\n",
       "      <td>0</td>\n",
       "      <td>1</td>\n",
       "      <td>1</td>\n",
       "      <td>0</td>\n",
       "      <td>1</td>\n",
       "      <td>0</td>\n",
       "      <td>0</td>\n",
       "      <td>0</td>\n",
       "      <td>0</td>\n",
       "      <td>1</td>\n",
       "      <td>5</td>\n",
       "      <td>5</td>\n",
       "      <td>5</td>\n",
       "      <td>5</td>\n",
       "      <td>5</td>\n",
       "      <td>5</td>\n",
       "      <td>4</td>\n",
       "      <td>NaN</td>\n",
       "      <td>5.0</td>\n",
       "      <td>33.0</td>\n",
       "      <td>1.0</td>\n",
       "      <td>1</td>\n",
       "      <td>11</td>\n",
       "      <td>2</td>\n",
       "      <td>3</td>\n",
       "      <td>NaN</td>\n",
       "      <td>1</td>\n",
       "      <td>0</td>\n",
       "      <td>736.5</td>\n",
       "    </tr>\n",
       "  </tbody>\n",
       "</table>\n",
       "</div>"
      ],
      "text/plain": [
       "     Target_relative_contentloss_euro  inundation_duration_h  water_depth_cm   \n",
       "395                               NaN                    4.0            70.0  \\\n",
       "396                               NaN                    3.0           100.0   \n",
       "\n",
       "     contaminations.0  flowvelocity  emergency_measures.1   \n",
       "395                 0             1                     1  \\\n",
       "396                 0             1                     1   \n",
       "\n",
       "     emergency_measures.2  emergency_measures.3  emergency_measures.4   \n",
       "395                     0                     1                     0  \\\n",
       "396                     0                     1                     0   \n",
       "\n",
       "     emergency_measures.7  emergency_measures.8  overall_problem_house   \n",
       "395                     0                     0                      1  \\\n",
       "396                     0                     0                      0   \n",
       "\n",
       "     protect_valuables_impl  water_barriers_impl  pumping_equipment_impl   \n",
       "395                       1                    5                       1  \\\n",
       "396                       1                    5                       5   \n",
       "\n",
       "     elevation_building_impl  resistant_material_building_impl   \n",
       "395                        1                                 5  \\\n",
       "396                        5                                 5   \n",
       "\n",
       "     electricity_higher_impl  flood_protections_impl  flood_experience   \n",
       "395                        5                       5                 5  \\\n",
       "396                        5                       5                 4   \n",
       "\n",
       "     elevation_building_height_cm  bage  b_area  hh_monthly_income_cat   \n",
       "395                          70.0   NaN   130.0                    NaN  \\\n",
       "396                           NaN   5.0    33.0                    1.0   \n",
       "\n",
       "     shp_owner  shp_sector  shp_employees  shp_avgmonthly_sale_cat   \n",
       "395          1          17              2                        3  \\\n",
       "396          1          11              2                        3   \n",
       "\n",
       "     resilience_govern_careing_increases  contaminations_light   \n",
       "395                                  1.0                     1  \\\n",
       "396                                  NaN                     1   \n",
       "\n",
       "     contaminations_heavy  shp_registered_capital_euro  \n",
       "395                     0                      11047.7  \n",
       "396                     0                        736.5  "
      ]
     },
     "execution_count": 72,
     "metadata": {},
     "output_type": "execute_result"
    }
   ],
   "source": [
    "## load DS for relative content loss\n",
    "df_candidates = pd.read_excel(\"../../../input_survey_data/input_data_contentloss_tueb.xlsx\")\n",
    "\n",
    "df_candidates = df_candidates.drop([\"Target_contentloss_euro\", \"shp_content_value_euro\"], axis=1)\n",
    "\n",
    "print(df_candidates.shape)\n",
    "df_candidates.tail(2)\n"
   ]
  },
  {
   "cell_type": "code",
   "execution_count": 73,
   "metadata": {},
   "outputs": [
    {
     "name": "stdout",
     "output_type": "stream",
     "text": [
      "(397, 29)\n"
     ]
    },
    {
     "data": {
      "text/html": [
       "<div>\n",
       "<style scoped>\n",
       "    .dataframe tbody tr th:only-of-type {\n",
       "        vertical-align: middle;\n",
       "    }\n",
       "\n",
       "    .dataframe tbody tr th {\n",
       "        vertical-align: top;\n",
       "    }\n",
       "\n",
       "    .dataframe thead th {\n",
       "        text-align: right;\n",
       "    }\n",
       "</style>\n",
       "<table border=\"1\" class=\"dataframe\">\n",
       "  <thead>\n",
       "    <tr style=\"text-align: right;\">\n",
       "      <th></th>\n",
       "      <th>Target_relative_contentloss_euro</th>\n",
       "      <th>inundation_duration_h</th>\n",
       "      <th>water_depth_cm</th>\n",
       "      <th>contaminations.0</th>\n",
       "      <th>flowvelocity</th>\n",
       "      <th>emergency_measures.1</th>\n",
       "      <th>emergency_measures.2</th>\n",
       "      <th>emergency_measures.3</th>\n",
       "      <th>emergency_measures.4</th>\n",
       "      <th>emergency_measures.7</th>\n",
       "      <th>emergency_measures.8</th>\n",
       "      <th>overall_problem_house</th>\n",
       "      <th>protect_valuables_impl</th>\n",
       "      <th>water_barriers_impl</th>\n",
       "      <th>pumping_equipment_impl</th>\n",
       "      <th>elevation_building_impl</th>\n",
       "      <th>resistant_material_building_impl</th>\n",
       "      <th>electricity_higher_impl</th>\n",
       "      <th>flood_protections_impl</th>\n",
       "      <th>flood_experience</th>\n",
       "      <th>bage</th>\n",
       "      <th>b_area</th>\n",
       "      <th>hh_monthly_income_cat</th>\n",
       "      <th>shp_owner</th>\n",
       "      <th>shp_sector</th>\n",
       "      <th>shp_employees</th>\n",
       "      <th>shp_avgmonthly_sale_cat</th>\n",
       "      <th>resilience_govern_careing_increases</th>\n",
       "      <th>shp_registered_capital_euro</th>\n",
       "    </tr>\n",
       "  </thead>\n",
       "  <tbody>\n",
       "    <tr>\n",
       "      <th>395</th>\n",
       "      <td>NaN</td>\n",
       "      <td>4.0</td>\n",
       "      <td>70.0</td>\n",
       "      <td>0</td>\n",
       "      <td>1</td>\n",
       "      <td>1</td>\n",
       "      <td>0</td>\n",
       "      <td>1</td>\n",
       "      <td>0</td>\n",
       "      <td>0</td>\n",
       "      <td>0</td>\n",
       "      <td>1</td>\n",
       "      <td>1</td>\n",
       "      <td>5</td>\n",
       "      <td>1</td>\n",
       "      <td>1</td>\n",
       "      <td>5</td>\n",
       "      <td>5</td>\n",
       "      <td>5</td>\n",
       "      <td>5</td>\n",
       "      <td>NaN</td>\n",
       "      <td>130.0</td>\n",
       "      <td>NaN</td>\n",
       "      <td>1</td>\n",
       "      <td>17</td>\n",
       "      <td>2</td>\n",
       "      <td>3</td>\n",
       "      <td>1.0</td>\n",
       "      <td>11047.7</td>\n",
       "    </tr>\n",
       "    <tr>\n",
       "      <th>396</th>\n",
       "      <td>NaN</td>\n",
       "      <td>3.0</td>\n",
       "      <td>100.0</td>\n",
       "      <td>0</td>\n",
       "      <td>1</td>\n",
       "      <td>1</td>\n",
       "      <td>0</td>\n",
       "      <td>1</td>\n",
       "      <td>0</td>\n",
       "      <td>0</td>\n",
       "      <td>0</td>\n",
       "      <td>0</td>\n",
       "      <td>1</td>\n",
       "      <td>5</td>\n",
       "      <td>5</td>\n",
       "      <td>5</td>\n",
       "      <td>5</td>\n",
       "      <td>5</td>\n",
       "      <td>5</td>\n",
       "      <td>4</td>\n",
       "      <td>5.0</td>\n",
       "      <td>33.0</td>\n",
       "      <td>1.0</td>\n",
       "      <td>1</td>\n",
       "      <td>11</td>\n",
       "      <td>2</td>\n",
       "      <td>3</td>\n",
       "      <td>NaN</td>\n",
       "      <td>736.5</td>\n",
       "    </tr>\n",
       "  </tbody>\n",
       "</table>\n",
       "</div>"
      ],
      "text/plain": [
       "     Target_relative_contentloss_euro  inundation_duration_h  water_depth_cm   \n",
       "395                               NaN                    4.0            70.0  \\\n",
       "396                               NaN                    3.0           100.0   \n",
       "\n",
       "     contaminations.0  flowvelocity  emergency_measures.1   \n",
       "395                 0             1                     1  \\\n",
       "396                 0             1                     1   \n",
       "\n",
       "     emergency_measures.2  emergency_measures.3  emergency_measures.4   \n",
       "395                     0                     1                     0  \\\n",
       "396                     0                     1                     0   \n",
       "\n",
       "     emergency_measures.7  emergency_measures.8  overall_problem_house   \n",
       "395                     0                     0                      1  \\\n",
       "396                     0                     0                      0   \n",
       "\n",
       "     protect_valuables_impl  water_barriers_impl  pumping_equipment_impl   \n",
       "395                       1                    5                       1  \\\n",
       "396                       1                    5                       5   \n",
       "\n",
       "     elevation_building_impl  resistant_material_building_impl   \n",
       "395                        1                                 5  \\\n",
       "396                        5                                 5   \n",
       "\n",
       "     electricity_higher_impl  flood_protections_impl  flood_experience  bage   \n",
       "395                        5                       5                 5   NaN  \\\n",
       "396                        5                       5                 4   5.0   \n",
       "\n",
       "     b_area  hh_monthly_income_cat  shp_owner  shp_sector  shp_employees   \n",
       "395   130.0                    NaN          1          17              2  \\\n",
       "396    33.0                    1.0          1          11              2   \n",
       "\n",
       "     shp_avgmonthly_sale_cat  resilience_govern_careing_increases   \n",
       "395                        3                                  1.0  \\\n",
       "396                        3                                  NaN   \n",
       "\n",
       "     shp_registered_capital_euro  \n",
       "395                      11047.7  \n",
       "396                        736.5  "
      ]
     },
     "execution_count": 73,
     "metadata": {},
     "output_type": "execute_result"
    }
   ],
   "source": [
    "## impl in data_cleaning\n",
    "#print(df_candidates.floors.describe())\n",
    "try: \n",
    "    df_candidates = df_candidates[df_candidates.floors < 3, : ]\n",
    "except:\n",
    "    pass\n",
    "\n",
    "\n",
    "### TODO impl this cell in data_cleaning\n",
    "try:\n",
    "    #if target==\"Target_relative_contentloss_euro\": \n",
    "    df_candidates = df_candidates.drop(\"floors\", axis=1 )  # remove if still in ds due that it's used for shp_content_value and relative content loss\n",
    "    df_candidates = df_candidates.drop(\"buildingtype_moon\", axis=1)  # remove due to 64 % missing values   \n",
    "except:\n",
    "    pass\n",
    "try:\n",
    "    df_candidates = df_candidates.drop(\"elevation_building_height_cm\", axis=1)\n",
    "    df_candidates = df_candidates.drop([\"contaminations_light\",\"contaminations_heavy\"], axis=1)\n",
    "    #df_candidates = df_candidates.drop(\"resilience_govern_careing_increases\", axis=1)\n",
    "except:\n",
    "    pass\n",
    "\n",
    "\n",
    "print(df_candidates.shape)\n",
    "df_candidates.tail(2)"
   ]
  },
  {
   "cell_type": "code",
   "execution_count": 74,
   "metadata": {},
   "outputs": [
    {
     "name": "stdout",
     "output_type": "stream",
     "text": [
      "Percentage of missing values per feature [%]\n",
      " Target_relative_contentloss_euro       18.0\n",
      "resilience_govern_careing_increases    14.0\n",
      "shp_registered_capital_euro            12.0\n",
      "bage                                    7.0\n",
      "hh_monthly_income_cat                   6.0\n",
      "inundation_duration_h                   2.0\n",
      "b_area                                  1.0\n",
      "water_depth_cm                          0.0\n",
      "contaminations.0                        0.0\n",
      "electricity_higher_impl                 0.0\n",
      "shp_avgmonthly_sale_cat                 0.0\n",
      "shp_employees                           0.0\n",
      "shp_sector                              0.0\n",
      "shp_owner                               0.0\n",
      "flood_experience                        0.0\n",
      "dtype: float64 2\n"
     ]
    }
   ],
   "source": [
    "## delete features with more than 10% missing values\n",
    "print(\"Percentage of missing values per feature [%]\\n\", round(df_candidates.isna().mean().sort_values(ascending=False)[:15]  * 100), 2) \n"
   ]
  },
  {
   "cell_type": "code",
   "execution_count": 75,
   "metadata": {},
   "outputs": [],
   "source": [
    "df_candidates = df_candidates.loc[:,df_candidates.filter(regex=\"^(?!resilience_*)\").columns]\n",
    "df_candidates = df_candidates.loc[:,df_candidates.filter(regex=\"^(?!perception_*)\").columns]\n"
   ]
  },
  {
   "cell_type": "markdown",
   "metadata": {},
   "source": [
    "## Fit model "
   ]
  },
  {
   "cell_type": "code",
   "execution_count": 76,
   "metadata": {},
   "outputs": [],
   "source": [
    "# "
   ]
  },
  {
   "cell_type": "code",
   "execution_count": 77,
   "metadata": {},
   "outputs": [
    {
     "name": "stdout",
     "output_type": "stream",
     "text": [
      "\n",
      "Apply Logistic regression on Target_relative_contentloss_euro:\n",
      "Amount of missing target values should be zero:  0\n",
      "Uses  268  records, from those have  {158}  records zero relative\n"
     ]
    },
    {
     "name": "stdout",
     "output_type": "stream",
     "text": [
      "outer CV: ACC: 0.576 (0.075)\n",
      "outer CV: precision: 0.495 (0.092)\n",
      "outer CV: recall: 0.593 (0.155)\n",
      "outer CV: F1: 0.528 (0.090)\n",
      "\n",
      "Evaluation of logreg\n",
      "Best hyperparams: {'name__estimator__tol': 0.001, 'name__estimator__solver': 'saga', 'name__estimator__random_state': 42, 'name__estimator__penalty': 'elasticnet', 'name__estimator__max_iter': 3, 'name__estimator__l1_ratio': 0.25, 'name__estimator__class_weight': 'balanced', 'name__estimator__C': 8}\n",
      "Acc Score : 0.690\n",
      "\n",
      "Select features based on absoulte coefficient values\n",
      "5 most important features: ['emergency_measures.4', 'flowvelocity', 'pumping_equipment_impl', 'elevation_building_impl', 'electricity_higher_impl']\n"
     ]
    }
   ],
   "source": [
    "## iterate over both targets and store results \n",
    "pipe_name = \"pipe_logreg\"\n",
    "#pipe_name = \"pipe_logreg_bag\"\n",
    "\n",
    "\n",
    "eval_set_list = []\n",
    "models_trained = {}\n",
    "model_coef = {}\n",
    "df_feature_importances = pd.DataFrame(index=df_candidates.drop(target, axis=1).columns.to_list())\n",
    "models_scores = {}\n",
    "\n",
    "# Load set of hyperparamters\n",
    "hyperparams_set = pp.load_config(\"../../../utils/hyperparameter_sets.json\")\n",
    "\n",
    "\n",
    "model_name = pipe_name.split('_', 1)[1]\n",
    "print( f\"\\nApply Logistic regression on {target}:\")\n",
    "\n",
    "## set target as binary class\n",
    "df_candidates_t = df_candidates\n",
    "df_candidates[target][df_candidates[target] > 0] = 1\n",
    "df_candidates[target] = df_candidates[target].astype(\"Int64\")\n",
    "\n",
    "## clean df from remaining records containg nan\n",
    "df_candidates_t.dropna(inplace=True)\n",
    "## TODO test with only nan in target removed\n",
    "\n",
    "print(\"Amount of missing target values should be zero: \", df_candidates_t[target].isna().sum())\n",
    "print(\"Uses \", df_candidates_t.shape[0], \" records, from those have \", \n",
    "        { (df_candidates_t[target][df_candidates_t[target]==0.0]).count() }, f\" records zero {target.split('_')[1]}\")\n",
    "\n",
    "        \n",
    "X = df_candidates_t.drop(target, axis=1)  # remove bth targets from X\n",
    "y = df_candidates_t[target]\n",
    "\n",
    "\n",
    "from sklearn.ensemble import BaggingClassifier  \n",
    "param_grid = {\n",
    "    \"name__estimator__penalty\": [\"elasticnet\"],      # alpha: constant mulitplies penality term, alpha = 0 is equivalent to an OLS solved by the LinearRegression\n",
    "    \"name__estimator__C\": [1,2,3,4,5, 6, 7, 8, 9],  # inverse reularization strength\n",
    "    \"name__estimator__max_iter\": [1,2,3,4],\n",
    "    \"name__estimator__l1_ratio\": np.arange(0.0, 1.01, 0.25),     # r = 0, equivalent to Ridge Regression (=L2),  r = 1 equivalent to Lasso Regression (=L1) \n",
    "    \"name__estimator__tol\": [0.0001, 0.001, 0.01, 0.1, 0.5,],\n",
    "    \"name__estimator__solver\": [\"saga\"],\n",
    "    \"name__estimator__class_weight\": [\"balanced\"],\n",
    "    \"name__estimator__random_state\": [seed],\n",
    "}\n",
    "model = {'model': BaggingClassifier,   # default bootstrap=True\n",
    "    'kwargs': {'estimator': LogisticRegression()},  # TODO: pass 'random_state':seed to baggingregressor\n",
    "    'parameters': param_grid,\n",
    "    }\n",
    "pipeline = Pipeline( steps = [('name', model['model'] (**model['kwargs']) ) ]  )  # pipeline for Bagging method\n",
    "     # --> access params in pipline via <estimator>__<parameter> syntax , eg hyperParams for ElasticNet have to start with \"name__estimator__<HyperParamName>\"\"\n",
    "\n",
    "## load pipe for non-transfomred model\n",
    "pipe = joblib.load(f'./pipelines/{pipe_name}.pkl')\n",
    "\n",
    "## Hyperparmater and cv setting       \n",
    "param_grid = hyperparams_set[f\"{model_name}_hyperparameters\"]\n",
    "\n",
    "# ## test train split\n",
    "# X_train, X_test, y_train, y_test = train_test_split(\n",
    "#     X_unscaled, y, test_size=0.15, \n",
    "#     random_state=seed, shuffle=True\n",
    "# )\n",
    "# ## normalize X data \n",
    "# scaler_for_X = MinMaxScaler().fit(X_train)\n",
    "# X_train = scaler_for_X.transform(pd.DataFrame(X_train))\n",
    "# X_test = scaler_for_X.transform(pd.DataFrame(X_test))\n",
    "\n",
    "\n",
    "## set cv for classification task        \n",
    "cv = RepeatedStratifiedKFold(n_splits=5, n_repeats=5, random_state=seed)\n",
    "\n",
    "## inner cv with hyperparameter tuning \n",
    "model = RandomizedSearchCV(\n",
    "    estimator= pipeline,  #pipe\n",
    "    param_distributions=model['parameters'], #param_grid\n",
    "    cv=cv, \n",
    "    scoring=\"accuracy\",#\"f1\",  # accuracy, f1_macro\n",
    "    ##\"\", #\"neg_mean_squared_error\",#\"r2\" #TODO classifcation: test also e.g \"f1\" or recall or \"f1_micro\", \"neg_mean_absolute_error\",\n",
    "    refit=True,   \n",
    "    random_state=seed\n",
    ")\n",
    "model.fit(X, y)\n",
    "\n",
    "## get coefficient of each predictor\n",
    "try: \n",
    "    model_coefs = model.best_estimator_.named_steps['model'].coef_\n",
    "    model_intercept = model.best_estimator_.named_steps['model'].intercept_\n",
    "    #model_pvalue = model.best_estimator_.named_steps['model']. \n",
    "    print(f\"Intercept for {model_name}: {model_intercept}\")\n",
    "    model_coef[f\"{model_name}\"] = pd.DataFrame(zip(X_unscaled.columns, model_coefs), columns=['features', 'coef']) \n",
    "except:\n",
    "    pass\n",
    "\n",
    "        \n",
    "## outer cv for evaluation metrics (averaged across outer folds)\n",
    "scores = cross_validate(   # allows specifying multiple metrics for evaluation comparated to cross_val_score\n",
    "    model, \n",
    "    X, y, \n",
    "    scoring=[\"accuracy\", \"precision\", \"recall\", \"f1\"],  # Strategy to evaluate the performance of the cross-validated model on the test set.\n",
    "    cv=cv, \n",
    ") \n",
    "print(\"outer CV: ACC: %.3f (%.3f)\"%(scores[\"test_accuracy\"].mean(), np.std(scores[\"test_accuracy\"])))\n",
    "print(\"outer CV: precision: %.3f (%.3f)\"%(scores[\"test_precision\"].mean(), np.std(scores[\"test_precision\"])))\n",
    "print(\"outer CV: recall: %.3f (%.3f)\"%(scores[\"test_recall\"].mean(), np.std(scores[\"test_recall\"])))\n",
    "print(\"outer CV: F1: %.3f (%.3f)\"%(scores[\"test_f1\"].mean(), np.std(scores[\"test_f1\"])))\n",
    "models_scores[f\"{model_name}\"] = scores ## store scores for FI weighting\n",
    "\n",
    "\n",
    "## outer cv for predictions (n == sample number of entire dataset)\n",
    "y_pred = cross_val_predict(\n",
    "    model, \n",
    "    X, y, \n",
    "    cv=10, # StartifiedKFold without repeats to have for each sample one predicted value \n",
    "    method=\"predict_proba\"\n",
    "    #method=\"predict_log_proba\"\n",
    ")\n",
    "## store highest predicted probabilities and respective empirical values\n",
    "y_pred_value = np.argmax(y_pred, axis=1)\n",
    "y_pred_max = np.take_along_axis(\n",
    "    y_pred, \n",
    "    np.expand_dims(\n",
    "        y_pred_value, \n",
    "        axis=1\n",
    "    ), \n",
    "    axis=1\n",
    ")\n",
    "predicted_probabilities = pd.DataFrame(\n",
    "    {\n",
    "        \"y_empirical\": y, \n",
    "        \"y_pred_value\":y_pred_value, \n",
    "        \"y_pred_value_proba\": y_pred_max.flatten()\n",
    "    }\n",
    ")\n",
    "\n",
    "\n",
    "## store best trained model\n",
    "models_trained[f\"trained_{model_name}\"] = model.best_estimator_\n",
    "\n",
    "print(f\"\\nEvaluation of {model_name}\")\n",
    "#y_pred = model.predict_log_proba(X)\n",
    "\n",
    "#logistic_reg = logistic_reg_cv.best_estimator_\n",
    "\n",
    "## store trained model for evaluation\n",
    "filename = f'./models_trained/logisticreg_{target}.sav'\n",
    "pickle.dump(model, open(filename, 'wb'))\n",
    "\n",
    "\n",
    "print(f\"Best hyperparams: {model.best_params_}\")\n",
    "print('Acc Score : %.3f'%model.best_estimator_.score(X, y)) # how well did the model on the training set\n",
    "#print('Test Acc Score : %.3f'%logistic_reg.score(X_test, y_test)) # .. compared to the unseen test set for overfitting \n",
    "#print(\"MAE of best model: %.3f\" % elastic_net_cv.best_score_)  # TODO check why MAE nan \n",
    "\n",
    "## Evaluate model\n",
    "## get significant features based on absolute coeff values\n",
    "print(\"\\nSelect features based on absoulte coefficient values\")\n",
    "\n",
    "# # select significant features by using coefs (= linear relationship between features ~ target, adjusted by the regularization terms)\n",
    "# df_importance = pd.DataFrame({\n",
    "#     \"importances\" : np.abs(logistic_reg.coef_)[0], # larger absolute coef value == more important feature\n",
    "#     }, index= X_unscaled.columns.to_list())\n",
    "# df_importance = df_importance.loc[df_importance.importances > importances_threshold[target], : ].T      # drop features which dont reduce the loss\n",
    "\n",
    "importances = e.permutation_feature_importance(model.best_estimator_, X, y, repeats=5, seed=seed)\n",
    "df_importance = pd.DataFrame(\n",
    "    {f\"{model_name}_importances\" : importances[0]},\n",
    "    index=X_unscaled.columns.to_list(),\n",
    ") \n",
    "\n",
    "df_importance = df_importance.sort_values(f\"{model_name}_importances\", ascending=False)  # get most important features to the top\n",
    "print(\"5 most important features:\", df_importance.iloc[:5].index.to_list())\n",
    "#df_importance = df_importance.loc[df_importance[f\"{model_name}_importances\"] >= 0.000000, : ]\n",
    "\n",
    "df_feature_importances = df_feature_importances.merge(\n",
    "    df_importance[f\"{model_name}_importances\"], \n",
    "    left_index=True, right_index=True, how=\"outer\"\n",
    ") \n",
    "\n",
    "# ## write selected predictors and response to disk\n",
    "# X_train = pd.DataFrame(X_train)\n",
    "# X_train.columns = X_unscaled.columns\n",
    "# y_train = pd.DataFrame(y_train)\n",
    "# y_train.columns = [target]\n",
    "# fs.save_selected_features(X_train, y_train, df_importance.columns, filename=f\"../../input_survey_data/fs_logisticreg_{target.split('_')[1]}.xlsx\")\n",
    "\n",
    "\n",
    "## evaluate\n",
    "# scores = cross_validate(elastic_net, X_train, y_train, scoring='neg_mean_absolute_error', cv=cv, n_jobs=-1) # neg_mean_absolute_error\n",
    "# print(scores)\n",
    "# # force scores to be positive\n",
    "#scores = np.abs(logistic_reg.coef_)\n",
    "#print('Mean MAE: %.3f (%.3f)' % (np.mean(scores), np.std(scores)))\n"
   ]
  },
  {
   "cell_type": "code",
   "execution_count": null,
   "metadata": {},
   "outputs": [],
   "source": []
  },
  {
   "cell_type": "code",
   "execution_count": 78,
   "metadata": {},
   "outputs": [
    {
     "name": "stdout",
     "output_type": "stream",
     "text": [
      "              precision    recall  f1-score   support\n",
      "\n",
      "         0.0       0.66      0.56      0.61       158\n",
      "         1.0       0.49      0.59      0.53       110\n",
      "\n",
      "    accuracy                           0.57       268\n",
      "   macro avg       0.57      0.58      0.57       268\n",
      "weighted avg       0.59      0.57      0.58       268\n",
      "\n"
     ]
    }
   ],
   "source": [
    "# ValueError: Classification metrics can't handle a mix of binary and continuous targets\n",
    "predicted_probabilities\n",
    "#pd.Series(y_pred).describe()\n",
    "# from sklearn.metrics import classification_report\n",
    "print(classification_report(predicted_probabilities[\"y_empirical\"], predicted_probabilities[\"y_pred_value\"]))\n",
    "              "
   ]
  },
  {
   "cell_type": "code",
   "execution_count": 79,
   "metadata": {},
   "outputs": [],
   "source": [
    "## bagging\n",
    "#         precision    recall  f1-score   support\n",
    "\n",
    "#          0.0       0.65      0.49      0.56       158\n",
    "#          1.0       0.46      0.62      0.53       110\n",
    "\n",
    "#     accuracy                           0.54       268\n",
    "#    macro avg       0.55      0.55      0.54       268\n",
    "# weighted avg       0.57      0.54      0.54       268"
   ]
  },
  {
   "cell_type": "code",
   "execution_count": null,
   "metadata": {},
   "outputs": [],
   "source": []
  },
  {
   "cell_type": "code",
   "execution_count": 80,
   "metadata": {},
   "outputs": [
    {
     "data": {
      "text/plain": [
       "Target_relative_contentloss_euro\n",
       "0    158\n",
       "1    110\n",
       "Name: count, dtype: Int64"
      ]
     },
     "execution_count": 80,
     "metadata": {},
     "output_type": "execute_result"
    }
   ],
   "source": [
    "## without Bagging:\n",
    "# Train ACC Score : 0.634\n",
    "# Test ACC Score : 0.512\n",
    "\n",
    "# with bagging\n",
    "# Train Acc Score : 0.626\n",
    "# Test Acc Score : 0.610\n",
    "\n",
    "df_candidates_t[target].value_counts()\n",
    "#logistic_reg_cv\n",
    "# ?logistic_reg\n",
    "# ?KFold\n"
   ]
  },
  {
   "cell_type": "code",
   "execution_count": null,
   "metadata": {},
   "outputs": [],
   "source": []
  },
  {
   "cell_type": "markdown",
   "metadata": {},
   "source": [
    "## Evaluation"
   ]
  },
  {
   "cell_type": "markdown",
   "metadata": {},
   "source": [
    "#### Coefficients of Logistic Regression \n",
    "\n",
    "LogReg:  The algorithm estimates the probability of an event occurring by fitting a logistic function to a set of input variables. The coefficients for logistic regression are used to measure the strength of the relationship between the input variables and the output variable.\n",
    "\n",
    "sklearn:\n",
    "odds_ratio = exp(coef)\n",
    "where exp is the exponential function and coef is the coefficient for the input variable. The odds_ratio represents the change in the odds of the output variable for a one-unit increase in the input variable. A value greater than 1 indicates that the odds of the output variable increase with an increase in the input variable"
   ]
  },
  {
   "cell_type": "code",
   "execution_count": 81,
   "metadata": {},
   "outputs": [
    {
     "name": "stdout",
     "output_type": "stream",
     "text": [
      "dict_keys([])\n"
     ]
    },
    {
     "data": {
      "text/plain": [
       "{}"
      ]
     },
     "execution_count": 81,
     "metadata": {},
     "output_type": "execute_result"
    }
   ],
   "source": [
    "import statsmodels.api as sm\n",
    "\n",
    "#import statsmodels.api as sm\n",
    "print(model_coef.keys())\n",
    "model_coef#[\"logreg\"]"
   ]
  },
  {
   "cell_type": "code",
   "execution_count": 35,
   "metadata": {},
   "outputs": [
    {
     "ename": "AttributeError",
     "evalue": "'RandomizedSearchCV' object has no attribute 'coef_'",
     "output_type": "error",
     "traceback": [
      "\u001b[1;31m---------------------------------------------------------------------------\u001b[0m",
      "\u001b[1;31mAttributeError\u001b[0m                            Traceback (most recent call last)",
      "\u001b[1;32mc:\\Users\\Anna\\Documents\\UNI\\MA_topic\\flood-loss-models-4-HCMC\\feature-selection-from-remote-fs\\model_preprocessing\\Feature_selection\\logistic_regression_feature_selection.ipynb Cell 19\u001b[0m line \u001b[0;36m1\n\u001b[1;32m----> <a href='vscode-notebook-cell:/c%3A/Users/Anna/Documents/UNI/MA_topic/flood-loss-models-4-HCMC/feature-selection-from-remote-fs/model_preprocessing/Feature_selection/logistic_regression_feature_selection.ipynb#X44sZmlsZQ%3D%3D?line=0'>1</a>\u001b[0m model\u001b[39m.\u001b[39;49mcoef_\n",
      "\u001b[1;31mAttributeError\u001b[0m: 'RandomizedSearchCV' object has no attribute 'coef_'"
     ]
    }
   ],
   "source": [
    "model.best_estimator_.c\n",
    "#models_trained[\"trained_en\"].intercept_"
   ]
  },
  {
   "cell_type": "code",
   "execution_count": null,
   "metadata": {},
   "outputs": [
    {
     "ename": "AttributeError",
     "evalue": "'Pipeline' object has no attribute 'coef_'",
     "output_type": "error",
     "traceback": [
      "\u001b[1;31m---------------------------------------------------------------------------\u001b[0m",
      "\u001b[1;31mAttributeError\u001b[0m                            Traceback (most recent call last)",
      "\u001b[1;32mc:\\Users\\Anna\\Documents\\UNI\\MA_topic\\flood-loss-models-4-HCMC\\feature-selection-from-remote-fs\\model_preprocessing\\Feature_selection\\logistic_regression_feature_selection.ipynb Cell 20\u001b[0m line \u001b[0;36m1\n\u001b[1;32m----> <a href='vscode-notebook-cell:/c%3A/Users/Anna/Documents/UNI/MA_topic/flood-loss-models-4-HCMC/feature-selection-from-remote-fs/model_preprocessing/Feature_selection/logistic_regression_feature_selection.ipynb#X45sZmlsZQ%3D%3D?line=0'>1</a>\u001b[0m pd\u001b[39m.\u001b[39mDataFrame(\u001b[39mzip\u001b[39m(pd\u001b[39m.\u001b[39mDataFrame(X)\u001b[39m.\u001b[39mcolumns, np\u001b[39m.\u001b[39mtranspose(models_trained[\u001b[39m\"\u001b[39;49m\u001b[39mtrained_logreg\u001b[39;49m\u001b[39m\"\u001b[39;49m]\u001b[39m.\u001b[39;49mcoef_)), columns\u001b[39m=\u001b[39m[\u001b[39m'\u001b[39m\u001b[39mfeatures\u001b[39m\u001b[39m'\u001b[39m, \u001b[39m'\u001b[39m\u001b[39mcoef\u001b[39m\u001b[39m'\u001b[39m])\n",
      "\u001b[1;31mAttributeError\u001b[0m: 'Pipeline' object has no attribute 'coef_'"
     ]
    }
   ],
   "source": [
    "pd.DataFrame(zip(pd.DataFrame(X).columns, np.transpose(models_trained[\"trained_logreg\"].coef_)), columns=['features', 'coef']) \n"
   ]
  },
  {
   "cell_type": "code",
   "execution_count": null,
   "metadata": {},
   "outputs": [
    {
     "ename": "NameError",
     "evalue": "name 'y1' is not defined",
     "output_type": "error",
     "traceback": [
      "\u001b[1;31m---------------------------------------------------------------------------\u001b[0m\n",
      "\u001b[1;31mNameError\u001b[0m                                 Traceback (most recent call last)\n",
      "\u001b[1;32mc:\\Users\\Anna\\Documents\\UNI\\MA_topic\\flood-loss-models-4-HCMC\\feature-selection-from-remote-fs\\model_preprocessing\\Feature_selection\\entire_feature_selection.ipynb Cell 36\u001b[0m line \u001b[0;36m1\n",
      "\u001b[1;32m----> <a href='vscode-notebook-cell:/c%3A/Users/Anna/Documents/UNI/MA_topic/flood-loss-models-4-HCMC/feature-selection-from-remote-fs/model_preprocessing/Feature_selection/entire_feature_selection.ipynb#Y130sZmlsZQ%3D%3D?line=0'>1</a>\u001b[0m logit_model\u001b[39m=\u001b[39msm\u001b[39m.\u001b[39mLogit(y1,x1)\n",
      "\u001b[0;32m      <a href='vscode-notebook-cell:/c%3A/Users/Anna/Documents/UNI/MA_topic/flood-loss-models-4-HCMC/feature-selection-from-remote-fs/model_preprocessing/Feature_selection/entire_feature_selection.ipynb#Y130sZmlsZQ%3D%3D?line=1'>2</a>\u001b[0m result\u001b[39m=\u001b[39mlogit_model\u001b[39m.\u001b[39mfit()\n",
      "\u001b[0;32m      <a href='vscode-notebook-cell:/c%3A/Users/Anna/Documents/UNI/MA_topic/flood-loss-models-4-HCMC/feature-selection-from-remote-fs/model_preprocessing/Feature_selection/entire_feature_selection.ipynb#Y130sZmlsZQ%3D%3D?line=2'>3</a>\u001b[0m \u001b[39mprint\u001b[39m(result\u001b[39m.\u001b[39msummary())\n",
      "\n",
      "\u001b[1;31mNameError\u001b[0m: name 'y1' is not defined"
     ]
    }
   ],
   "source": [
    "logit_model=sm.Logit(y1,x1)\n",
    "result=logit_model.fit()\n",
    "print(result.summary())"
   ]
  },
  {
   "cell_type": "markdown",
   "metadata": {},
   "source": [
    "### Confusion matrix"
   ]
  },
  {
   "cell_type": "code",
   "execution_count": 37,
   "metadata": {},
   "outputs": [
    {
     "data": {
      "text/html": [
       "<div>\n",
       "<style scoped>\n",
       "    .dataframe tbody tr th:only-of-type {\n",
       "        vertical-align: middle;\n",
       "    }\n",
       "\n",
       "    .dataframe tbody tr th {\n",
       "        vertical-align: top;\n",
       "    }\n",
       "\n",
       "    .dataframe thead th {\n",
       "        text-align: right;\n",
       "    }\n",
       "</style>\n",
       "<table border=\"1\" class=\"dataframe\">\n",
       "  <thead>\n",
       "    <tr style=\"text-align: right;\">\n",
       "      <th></th>\n",
       "      <th>0</th>\n",
       "      <th>1</th>\n",
       "    </tr>\n",
       "  </thead>\n",
       "  <tbody>\n",
       "    <tr>\n",
       "      <th>0</th>\n",
       "      <td>97</td>\n",
       "      <td>61</td>\n",
       "    </tr>\n",
       "    <tr>\n",
       "      <th>1</th>\n",
       "      <td>54</td>\n",
       "      <td>56</td>\n",
       "    </tr>\n",
       "  </tbody>\n",
       "</table>\n",
       "</div>"
      ],
      "text/plain": [
       "    0   1\n",
       "0  97  61\n",
       "1  54  56"
      ]
     },
     "execution_count": 37,
     "metadata": {},
     "output_type": "execute_result"
    },
    {
     "data": {
      "image/png": "[encoded data removed]",
      "text/plain": [
       "<Figure size 600x600 with 1 Axes>"
      ]
     },
     "metadata": {},
     "output_type": "display_data"
    }
   ],
   "source": [
    "## based on neste cv\n",
    "f.plot_confusion_matrix(\n",
    "    predicted_probabilities[\"y_empirical\"],\n",
    "    predicted_probabilities[\"y_pred_value\"],\n",
    "    model_name=\"Logistic_Regression\", target_name=target)"
   ]
  },
  {
   "cell_type": "markdown",
   "metadata": {},
   "source": [
    "### Empirical median ~ predicted median\n",
    "\n",
    "And further statitics compared to their empirical counterpart.\n",
    "-  mean / variance / std  compared to empirical distribution"
   ]
  },
  {
   "cell_type": "code",
   "execution_count": 38,
   "metadata": {},
   "outputs": [
    {
     "name": "stdout",
     "output_type": "stream",
     "text": [
      "Logistic Reg (binary classification):  Target_relative_contentloss_euro\n"
     ]
    },
    {
     "data": {
      "text/html": [
       "<div>\n",
       "<style scoped>\n",
       "    .dataframe tbody tr th:only-of-type {\n",
       "        vertical-align: middle;\n",
       "    }\n",
       "\n",
       "    .dataframe tbody tr th {\n",
       "        vertical-align: top;\n",
       "    }\n",
       "\n",
       "    .dataframe thead th {\n",
       "        text-align: right;\n",
       "    }\n",
       "</style>\n",
       "<table border=\"1\" class=\"dataframe\">\n",
       "  <thead>\n",
       "    <tr style=\"text-align: right;\">\n",
       "      <th></th>\n",
       "      <th>nobs</th>\n",
       "      <th>median</th>\n",
       "      <th>mean</th>\n",
       "      <th>min max</th>\n",
       "      <th>variance</th>\n",
       "    </tr>\n",
       "  </thead>\n",
       "  <tbody>\n",
       "    <tr>\n",
       "      <th>0</th>\n",
       "      <td>268</td>\n",
       "      <td>0</td>\n",
       "      <td>0</td>\n",
       "      <td>[0, 1]</td>\n",
       "      <td>0.36</td>\n",
       "    </tr>\n",
       "    <tr>\n",
       "      <th>1</th>\n",
       "      <td>268</td>\n",
       "      <td>0</td>\n",
       "      <td>0</td>\n",
       "      <td>[0, 1]</td>\n",
       "      <td>0.43</td>\n",
       "    </tr>\n",
       "  </tbody>\n",
       "</table>\n",
       "</div>"
      ],
      "text/plain": [
       "   nobs  median  mean min max  variance\n",
       "0   268       0     0  [0, 1]      0.36\n",
       "1   268       0     0  [0, 1]      0.43"
      ]
     },
     "execution_count": 38,
     "metadata": {},
     "output_type": "execute_result"
    }
   ],
   "source": [
    "print(\"Logistic Reg (binary classification): \", target)\n",
    "e.empirical_vs_predicted(\n",
    "    X, y.astype(int),\n",
    "    models_list=[model]    \n",
    "    #models_list=[model, model_log, model_quantile, model_boxcox, model_sqrt]    \n",
    ")\n",
    "\n",
    "## TODO idea: make a median/mean etc of best model as boxplots 8one (3 models for each target)\n"
   ]
  },
  {
   "cell_type": "code",
   "execution_count": null,
   "metadata": {},
   "outputs": [
    {
     "ename": "KeyError",
     "evalue": "\"['param_name__estimator__C', 'param_name__estimator__penalty', 'param_name__estimator__l1_ratio', 'param_name__estimator__max_iter'] not in index\"",
     "output_type": "error",
     "traceback": [
      "\u001b[1;31m---------------------------------------------------------------------------\u001b[0m",
      "\u001b[1;31mKeyError\u001b[0m                                  Traceback (most recent call last)",
      "\u001b[1;32mc:\\Users\\Anna\\Documents\\UNI\\MA_topic\\flood-loss-models-4-HCMC\\feature-selection-from-remote-fs\\model_preprocessing\\Feature_selection\\logistic_regression_feature_selection.ipynb Cell 26\u001b[0m line \u001b[0;36m6\n\u001b[0;32m      <a href='vscode-notebook-cell:/c%3A/Users/Anna/Documents/UNI/MA_topic/flood-loss-models-4-HCMC/feature-selection-from-remote-fs/model_preprocessing/Feature_selection/logistic_regression_feature_selection.ipynb#X21sZmlsZQ%3D%3D?line=0'>1</a>\u001b[0m \u001b[39m#scores = cross_validate(elastic_net, X_train, y_train, scoring='neg_mean_absolute_error', cv=cv, n_jobs=-1)\u001b[39;00m\n\u001b[0;32m      <a href='vscode-notebook-cell:/c%3A/Users/Anna/Documents/UNI/MA_topic/flood-loss-models-4-HCMC/feature-selection-from-remote-fs/model_preprocessing/Feature_selection/logistic_regression_feature_selection.ipynb#X21sZmlsZQ%3D%3D?line=1'>2</a>\u001b[0m \u001b[39m#pd.DataFrame(scores).set_index(\"test_score\").sort_index().T\u001b[39;00m\n\u001b[0;32m      <a href='vscode-notebook-cell:/c%3A/Users/Anna/Documents/UNI/MA_topic/flood-loss-models-4-HCMC/feature-selection-from-remote-fs/model_preprocessing/Feature_selection/logistic_regression_feature_selection.ipynb#X21sZmlsZQ%3D%3D?line=2'>3</a>\u001b[0m \n\u001b[0;32m      <a href='vscode-notebook-cell:/c%3A/Users/Anna/Documents/UNI/MA_topic/flood-loss-models-4-HCMC/feature-selection-from-remote-fs/model_preprocessing/Feature_selection/logistic_regression_feature_selection.ipynb#X21sZmlsZQ%3D%3D?line=3'>4</a>\u001b[0m \u001b[39m# #Snippet from: https://ubc-cs.github.io/cpsc330/lectures/08_hyperparameter-optimization.html#exhaustive-grid-search-sklearn-model-selection-gridsearchcv\u001b[39;00m\n\u001b[0;32m      <a href='vscode-notebook-cell:/c%3A/Users/Anna/Documents/UNI/MA_topic/flood-loss-models-4-HCMC/feature-selection-from-remote-fs/model_preprocessing/Feature_selection/logistic_regression_feature_selection.ipynb#X21sZmlsZQ%3D%3D?line=4'>5</a>\u001b[0m \u001b[39m#pd.DataFrame(elastic_net_cv.cv_results_).set_index(\"rank_test_score\").sort_index().T\u001b[39;00m\n\u001b[1;32m----> <a href='vscode-notebook-cell:/c%3A/Users/Anna/Documents/UNI/MA_topic/flood-loss-models-4-HCMC/feature-selection-from-remote-fs/model_preprocessing/Feature_selection/logistic_regression_feature_selection.ipynb#X21sZmlsZQ%3D%3D?line=5'>6</a>\u001b[0m pd\u001b[39m.\u001b[39;49mDataFrame(model\u001b[39m.\u001b[39;49mcv_results_)[\n\u001b[0;32m      <a href='vscode-notebook-cell:/c%3A/Users/Anna/Documents/UNI/MA_topic/flood-loss-models-4-HCMC/feature-selection-from-remote-fs/model_preprocessing/Feature_selection/logistic_regression_feature_selection.ipynb#X21sZmlsZQ%3D%3D?line=6'>7</a>\u001b[0m         [                                   \u001b[39m# only important cv evaluation metrics \u001b[39;49;00m\n\u001b[0;32m      <a href='vscode-notebook-cell:/c%3A/Users/Anna/Documents/UNI/MA_topic/flood-loss-models-4-HCMC/feature-selection-from-remote-fs/model_preprocessing/Feature_selection/logistic_regression_feature_selection.ipynb#X21sZmlsZQ%3D%3D?line=7'>8</a>\u001b[0m             \u001b[39m\"\u001b[39;49m\u001b[39mmean_test_score\u001b[39;49m\u001b[39m\"\u001b[39;49m,\n\u001b[0;32m      <a href='vscode-notebook-cell:/c%3A/Users/Anna/Documents/UNI/MA_topic/flood-loss-models-4-HCMC/feature-selection-from-remote-fs/model_preprocessing/Feature_selection/logistic_regression_feature_selection.ipynb#X21sZmlsZQ%3D%3D?line=8'>9</a>\u001b[0m             \u001b[39m\"\u001b[39;49m\u001b[39mmean_fit_time\u001b[39;49m\u001b[39m\"\u001b[39;49m,\n\u001b[0;32m     <a href='vscode-notebook-cell:/c%3A/Users/Anna/Documents/UNI/MA_topic/flood-loss-models-4-HCMC/feature-selection-from-remote-fs/model_preprocessing/Feature_selection/logistic_regression_feature_selection.ipynb#X21sZmlsZQ%3D%3D?line=9'>10</a>\u001b[0m             \u001b[39m\"\u001b[39;49m\u001b[39mrank_test_score\u001b[39;49m\u001b[39m\"\u001b[39;49m,\n\u001b[0;32m     <a href='vscode-notebook-cell:/c%3A/Users/Anna/Documents/UNI/MA_topic/flood-loss-models-4-HCMC/feature-selection-from-remote-fs/model_preprocessing/Feature_selection/logistic_regression_feature_selection.ipynb#X21sZmlsZQ%3D%3D?line=10'>11</a>\u001b[0m             \u001b[39m\"\u001b[39;49m\u001b[39mparam_name__estimator__C\u001b[39;49m\u001b[39m\"\u001b[39;49m,\n\u001b[0;32m     <a href='vscode-notebook-cell:/c%3A/Users/Anna/Documents/UNI/MA_topic/flood-loss-models-4-HCMC/feature-selection-from-remote-fs/model_preprocessing/Feature_selection/logistic_regression_feature_selection.ipynb#X21sZmlsZQ%3D%3D?line=11'>12</a>\u001b[0m             \u001b[39m\"\u001b[39;49m\u001b[39mparam_name__estimator__penalty\u001b[39;49m\u001b[39m\"\u001b[39;49m,\n\u001b[0;32m     <a href='vscode-notebook-cell:/c%3A/Users/Anna/Documents/UNI/MA_topic/flood-loss-models-4-HCMC/feature-selection-from-remote-fs/model_preprocessing/Feature_selection/logistic_regression_feature_selection.ipynb#X21sZmlsZQ%3D%3D?line=12'>13</a>\u001b[0m             \u001b[39m\"\u001b[39;49m\u001b[39mparam_name__estimator__l1_ratio\u001b[39;49m\u001b[39m\"\u001b[39;49m,\n\u001b[0;32m     <a href='vscode-notebook-cell:/c%3A/Users/Anna/Documents/UNI/MA_topic/flood-loss-models-4-HCMC/feature-selection-from-remote-fs/model_preprocessing/Feature_selection/logistic_regression_feature_selection.ipynb#X21sZmlsZQ%3D%3D?line=13'>14</a>\u001b[0m             \u001b[39m\"\u001b[39;49m\u001b[39mparam_name__estimator__max_iter\u001b[39;49m\u001b[39m\"\u001b[39;49m\n\u001b[0;32m     <a href='vscode-notebook-cell:/c%3A/Users/Anna/Documents/UNI/MA_topic/flood-loss-models-4-HCMC/feature-selection-from-remote-fs/model_preprocessing/Feature_selection/logistic_regression_feature_selection.ipynb#X21sZmlsZQ%3D%3D?line=14'>15</a>\u001b[0m         ]\n\u001b[0;32m     <a href='vscode-notebook-cell:/c%3A/Users/Anna/Documents/UNI/MA_topic/flood-loss-models-4-HCMC/feature-selection-from-remote-fs/model_preprocessing/Feature_selection/logistic_regression_feature_selection.ipynb#X21sZmlsZQ%3D%3D?line=15'>16</a>\u001b[0m     ]\u001b[39m.\u001b[39mset_index(\u001b[39m\"\u001b[39m\u001b[39mrank_test_score\u001b[39m\u001b[39m\"\u001b[39m)\u001b[39m.\u001b[39msort_index()\u001b[39m.\u001b[39mT\n",
      "File \u001b[1;32mc:\\Anaconda\\envs\\py396_c3\\lib\\site-packages\\pandas\\core\\frame.py:3767\u001b[0m, in \u001b[0;36mDataFrame.__getitem__\u001b[1;34m(self, key)\u001b[0m\n\u001b[0;32m   3765\u001b[0m     \u001b[39mif\u001b[39;00m is_iterator(key):\n\u001b[0;32m   3766\u001b[0m         key \u001b[39m=\u001b[39m \u001b[39mlist\u001b[39m(key)\n\u001b[1;32m-> 3767\u001b[0m     indexer \u001b[39m=\u001b[39m \u001b[39mself\u001b[39;49m\u001b[39m.\u001b[39;49mcolumns\u001b[39m.\u001b[39;49m_get_indexer_strict(key, \u001b[39m\"\u001b[39;49m\u001b[39mcolumns\u001b[39;49m\u001b[39m\"\u001b[39;49m)[\u001b[39m1\u001b[39m]\n\u001b[0;32m   3769\u001b[0m \u001b[39m# take() does not accept boolean indexers\u001b[39;00m\n\u001b[0;32m   3770\u001b[0m \u001b[39mif\u001b[39;00m \u001b[39mgetattr\u001b[39m(indexer, \u001b[39m\"\u001b[39m\u001b[39mdtype\u001b[39m\u001b[39m\"\u001b[39m, \u001b[39mNone\u001b[39;00m) \u001b[39m==\u001b[39m \u001b[39mbool\u001b[39m:\n",
      "File \u001b[1;32mc:\\Anaconda\\envs\\py396_c3\\lib\\site-packages\\pandas\\core\\indexes\\base.py:5876\u001b[0m, in \u001b[0;36mIndex._get_indexer_strict\u001b[1;34m(self, key, axis_name)\u001b[0m\n\u001b[0;32m   5873\u001b[0m \u001b[39melse\u001b[39;00m:\n\u001b[0;32m   5874\u001b[0m     keyarr, indexer, new_indexer \u001b[39m=\u001b[39m \u001b[39mself\u001b[39m\u001b[39m.\u001b[39m_reindex_non_unique(keyarr)\n\u001b[1;32m-> 5876\u001b[0m \u001b[39mself\u001b[39;49m\u001b[39m.\u001b[39;49m_raise_if_missing(keyarr, indexer, axis_name)\n\u001b[0;32m   5878\u001b[0m keyarr \u001b[39m=\u001b[39m \u001b[39mself\u001b[39m\u001b[39m.\u001b[39mtake(indexer)\n\u001b[0;32m   5879\u001b[0m \u001b[39mif\u001b[39;00m \u001b[39misinstance\u001b[39m(key, Index):\n\u001b[0;32m   5880\u001b[0m     \u001b[39m# GH 42790 - Preserve name from an Index\u001b[39;00m\n",
      "File \u001b[1;32mc:\\Anaconda\\envs\\py396_c3\\lib\\site-packages\\pandas\\core\\indexes\\base.py:5938\u001b[0m, in \u001b[0;36mIndex._raise_if_missing\u001b[1;34m(self, key, indexer, axis_name)\u001b[0m\n\u001b[0;32m   5935\u001b[0m     \u001b[39mraise\u001b[39;00m \u001b[39mKeyError\u001b[39;00m(\u001b[39mf\u001b[39m\u001b[39m\"\u001b[39m\u001b[39mNone of [\u001b[39m\u001b[39m{\u001b[39;00mkey\u001b[39m}\u001b[39;00m\u001b[39m] are in the [\u001b[39m\u001b[39m{\u001b[39;00maxis_name\u001b[39m}\u001b[39;00m\u001b[39m]\u001b[39m\u001b[39m\"\u001b[39m)\n\u001b[0;32m   5937\u001b[0m not_found \u001b[39m=\u001b[39m \u001b[39mlist\u001b[39m(ensure_index(key)[missing_mask\u001b[39m.\u001b[39mnonzero()[\u001b[39m0\u001b[39m]]\u001b[39m.\u001b[39munique())\n\u001b[1;32m-> 5938\u001b[0m \u001b[39mraise\u001b[39;00m \u001b[39mKeyError\u001b[39;00m(\u001b[39mf\u001b[39m\u001b[39m\"\u001b[39m\u001b[39m{\u001b[39;00mnot_found\u001b[39m}\u001b[39;00m\u001b[39m not in index\u001b[39m\u001b[39m\"\u001b[39m)\n",
      "\u001b[1;31mKeyError\u001b[0m: \"['param_name__estimator__C', 'param_name__estimator__penalty', 'param_name__estimator__l1_ratio', 'param_name__estimator__max_iter'] not in index\""
     ]
    }
   ],
   "source": [
    "#scores = cross_validate(elastic_net, X_train, y_train, scoring='neg_mean_absolute_error', cv=cv, n_jobs=-1)\n",
    "#pd.DataFrame(scores).set_index(\"test_score\").sort_index().T\n",
    "\n",
    "# #Snippet from: https://ubc-cs.github.io/cpsc330/lectures/08_hyperparameter-optimization.html#exhaustive-grid-search-sklearn-model-selection-gridsearchcv\n",
    "#pd.DataFrame(elastic_net_cv.cv_results_).set_index(\"rank_test_score\").sort_index().T\n",
    "pd.DataFrame(model.cv_results_)[\n",
    "        [                                   # only important cv evaluation metrics \n",
    "            \"mean_test_score\",\n",
    "            \"mean_fit_time\",\n",
    "            \"rank_test_score\",\n",
    "            \"param_name__estimator__C\",\n",
    "            \"param_name__estimator__penalty\",\n",
    "            \"param_name__estimator__l1_ratio\",\n",
    "            \"param_name__estimator__max_iter\"\n",
    "        ]\n",
    "    ].set_index(\"rank_test_score\").sort_index().T\n"
   ]
  },
  {
   "cell_type": "code",
   "execution_count": null,
   "metadata": {},
   "outputs": [],
   "source": []
  },
  {
   "cell_type": "code",
   "execution_count": null,
   "metadata": {},
   "outputs": [
    {
     "name": "stdout",
     "output_type": "stream",
     "text": [
      "['Target_contentloss_euro', 'Target_businessreduction']\n"
     ]
    }
   ],
   "source": [
    "## reload models\n",
    "\n",
    "print(targets)\n",
    "target = targets[0]\n",
    "\n",
    "logistic_reg_eval = pickle.load(open(f\"./models_trained/logisticreg_{target}.sav\", 'rb'))\n",
    "#elastic_net_eval.get_params()\n"
   ]
  },
  {
   "cell_type": "markdown",
   "metadata": {},
   "source": [
    "### Feature importance"
   ]
  },
  {
   "cell_type": "code",
   "execution_count": 39,
   "metadata": {},
   "outputs": [
    {
     "name": "stdout",
     "output_type": "stream",
     "text": [
      "penalty term: L1=lasso, L2= rigde or elastic_net :  elasticnet\n"
     ]
    }
   ],
   "source": [
    "print(\"penalty term: L1=lasso, L2= rigde or elastic_net : \" , model.best_params_[\"model__penalty\"])\n"
   ]
  },
  {
   "cell_type": "code",
   "execution_count": 40,
   "metadata": {},
   "outputs": [],
   "source": [
    "## TODO test to get std of FI _ C:\\Users\\Anna\\Documents\\UNI\\MA_topic\\recycling\\sm2t-traffic-speed-model-partial-dependence\\SM2T\\sm2t-traffic-speed-model_partialDep\\traffic_speed_model\\modelling.py\n",
    "#    std = np.std([tree.feature_importances_ for tree in model.estimators_], axis=0)  # based on RF_fi_ \n",
    "\n",
    "#plt.rcParams['axes.grid'] = 'none'\n",
    "#s"
   ]
  },
  {
   "cell_type": "code",
   "execution_count": 56,
   "metadata": {},
   "outputs": [
    {
     "data": {
      "text/plain": [
       "<Figure size 3000x2200 with 0 Axes>"
      ]
     },
     "metadata": {},
     "output_type": "display_data"
    },
    {
     "data": {
      "image/png": "[encoded data removed]",
      "text/plain": [
       "<Figure size 640x480 with 1 Axes>"
      ]
     },
     "metadata": {},
     "output_type": "display_data"
    }
   ],
   "source": [
    "### drop features which dont reduce the loss\n",
    "#df_feature_importances = s\n",
    "df_feature_importances = df_feature_importances.loc[df_feature_importances.logreg_importances > 0.001, : ] \n",
    "df_feature_importances = df_feature_importances.sort_values(\"logreg_importances\", ascending=True)\n",
    "\n",
    "plt.figure(figsize=(30, 22), facecolor=\"w\")\n",
    "df_feature_importances.plot.barh(\n",
    "    color=\"darkblue\",\n",
    "    width=0.5,\n",
    "    # #errorbar=\"sd\",\n",
    "    # errorbar=(\"pi\", 50), \n",
    "    # capsize=.1, errcolor=\".5\",\n",
    "    # linewidth=3,\n",
    "    )\n",
    "plt.xlabel(\"Importance\")\n",
    "plt.ylabel(\"\")\n",
    "plt.title(f\"Feature Importances for {target.replace('_',' ')}\")\n",
    "\n",
    "\n",
    "top_bar = mpatches.Patch(color=\"darkblue\", label=\"logistic regression\")\n",
    "plt.tick_params(axis='x', which='major', labelsize=12)\n",
    "plt.tick_params(axis='y', which='major', labelsize=8)\n",
    "plt.legend(handles=[top_bar], loc=\"lower right\")\n",
    "plt.tight_layout()\n",
    "#plt.axes().set_facecolor(\"w\")\n",
    "plt.grid(False)\n",
    "#plt.show()\n",
    "\n",
    "#sns.despine(left=True, bottom=True)\n",
    "## save importance scores and figure\n",
    "#filepath = f'./models_evaluation/best_xgb_importance_scores_{target}_{pipe_name}'\n",
    "#if not glob(filepath):\n",
    "#    df_importance.to_csv(filename, index = False)\n",
    "#plt.savefig(f'../../../figures/best_en_feature_importance_{target}_{pipe_name}.png', bbox_inches='tight')\n",
    "\n"
   ]
  },
  {
   "cell_type": "code",
   "execution_count": 42,
   "metadata": {},
   "outputs": [],
   "source": [
    "# coef = pd.Series(elastic_net.coef_, index = X_train.columns)\n",
    "# important_features = pd.concat([coef.sort_values().head(10),\n",
    "#                      coef.sort_values().tail(10)])\n",
    "# important_features.plot(kind = \"barh\")\n",
    "# plt.title(\"Coefficients in the ElasticNet Model\")"
   ]
  },
  {
   "cell_type": "markdown",
   "metadata": {},
   "source": [
    "### Plot optimal number of features"
   ]
  },
  {
   "cell_type": "code",
   "execution_count": null,
   "metadata": {},
   "outputs": [],
   "source": [
    "elastic_net_eval.c"
   ]
  },
  {
   "cell_type": "code",
   "execution_count": null,
   "metadata": {},
   "outputs": [
    {
     "ename": "AttributeError",
     "evalue": "'ElasticNet' object has no attribute 'cv_results_'",
     "output_type": "error",
     "traceback": [
      "\u001b[1;31m---------------------------------------------------------------------------\u001b[0m\n",
      "\u001b[1;31mAttributeError\u001b[0m                            Traceback (most recent call last)\n",
      "\u001b[1;32mc:\\Users\\Anna\\Documents\\UNI\\MA_topic\\flood-loss-models-4-HCMC\\model_preprocessing\\Feature_selection\\elastic_net_feature_selection.ipynb Cell 26\u001b[0m in \u001b[0;36m2\n",
      "\u001b[0;32m      <a href='vscode-notebook-cell:/c%3A/Users/Anna/Documents/UNI/MA_topic/flood-loss-models-4-HCMC/model_preprocessing/Feature_selection/elastic_net_feature_selection.ipynb#X35sZmlsZQ%3D%3D?line=0'>1</a>\u001b[0m \u001b[39m# cv results\u001b[39;00m\n",
      "\u001b[1;32m----> <a href='vscode-notebook-cell:/c%3A/Users/Anna/Documents/UNI/MA_topic/flood-loss-models-4-HCMC/model_preprocessing/Feature_selection/elastic_net_feature_selection.ipynb#X35sZmlsZQ%3D%3D?line=1'>2</a>\u001b[0m cv_results \u001b[39m=\u001b[39m pd\u001b[39m.\u001b[39mDataFrame(elastic_net_eval\u001b[39m.\u001b[39;49mcv_results_)\n",
      "\u001b[0;32m      <a href='vscode-notebook-cell:/c%3A/Users/Anna/Documents/UNI/MA_topic/flood-loss-models-4-HCMC/model_preprocessing/Feature_selection/elastic_net_feature_selection.ipynb#X35sZmlsZQ%3D%3D?line=2'>3</a>\u001b[0m cv_results\n",
      "\n",
      "\u001b[1;31mAttributeError\u001b[0m: 'ElasticNet' object has no attribute 'cv_results_'"
     ]
    }
   ],
   "source": [
    "# cv results\n",
    "cv_results = pd.DataFrame(elastic_net_eval.cv_results_)\n",
    "cv_results\n"
   ]
  },
  {
   "cell_type": "code",
   "execution_count": null,
   "metadata": {},
   "outputs": [],
   "source": [
    "\n",
    "# plotting cv results\n",
    "plt.figure(figsize=(16,6))\n",
    "\n",
    "plt.plot(cv_results[\"param_n_features_to_select\"], cv_results[\"mean_test_score\"])\n",
    "plt.plot(cv_results[\"param_n_features_to_select\"], cv_results[\"mean_train_score\"])\n",
    "plt.xlabel('number of features')\n",
    "plt.ylabel('r-squared')\n",
    "plt.title(\"Optimal Number of Features\")\n",
    "plt.legend(['test score', 'train score'], loc='upper left')\n"
   ]
  },
  {
   "cell_type": "code",
   "execution_count": null,
   "metadata": {},
   "outputs": [],
   "source": []
  }
 ],
 "metadata": {
  "kernelspec": {
   "display_name": "py396_c3",
   "language": "python",
   "name": "python3"
  },
  "language_info": {
   "codemirror_mode": {
    "name": "ipython",
    "version": 3
   },
   "file_extension": ".py",
   "mimetype": "text/x-python",
   "name": "python",
   "nbconvert_exporter": "python",
   "pygments_lexer": "ipython3",
   "version": "3.9.6"
  },
  "orig_nbformat": 4
 },
 "nbformat": 4,
 "nbformat_minor": 2
}
