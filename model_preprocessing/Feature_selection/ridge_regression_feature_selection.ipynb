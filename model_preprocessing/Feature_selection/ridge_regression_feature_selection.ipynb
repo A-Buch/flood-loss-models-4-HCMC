{
 "cells": [
  {
   "attachments": {},
   "cell_type": "markdown",
   "metadata": {},
   "source": [
    "## Feature selection done by testing ridge regression  and lasso regression \n",
    "Compare both outputs of feature selections\n",
    "\n",
    "Ridge regression has benefits when dealing with large ds and overfittign might be a porblem during model training. \n",
    "Ridge regression - in contrast to other models - doesnt directly nullify the inlfuence of less important feautres - good to determine variables with zero effects\n",
    "\n",
    "\"\"\"\n",
    "  https://medium.com/@sabarirajan.kumarappan/feature-selection-by-lasso-and-ridge-regression-python-code-examples-1e8ab451b94b\n",
    "key difference however, between Ridge and Lasso regression is that Lasso Regression has the ability to nullify the impact of an irrelevant feature in the data, meaning that it can reduce the coefficient of a feature to zero thus completely eliminating it and hence is better at reducing the variance when the data consists of many insignificant features. Ridge regression, however, can not reduce the coefficients to absolute zero.\n",
    "Ridge regression performs better when the data consists of features which are sure to be more relevant and useful.\n",
    "\n",
    "\"\"\"\n",
    "\n",
    "Code idea maily from: https://medium.com/@sabarirajan.kumarappan/feature-selection-by-lasso-and-ridge-regression-python-code-examples-1e8ab451b94b"
   ]
  },
  {
   "cell_type": "code",
   "execution_count": 1,
   "metadata": {},
   "outputs": [],
   "source": [
    "import numpy as np\n",
    "import pandas as pd\n",
    "import geopandas as gpd\n",
    "\n",
    "from sklearn.linear_model import LogisticRegression, Ridge, Lasso\n",
    "from sklearn.preprocessing import MinMaxScaler, LabelEncoder\n",
    "from sklearn.feature_selection import SelectFromModel\n",
    "\n",
    "\n",
    "\n",
    "from sklearn.metrics import accuracy_score# , confusion_matrix, precision_score, recall_score, ConfusionMatrixDisplay\n",
    "from sklearn.model_selection import RandomizedSearchCV, train_test_split, RepeatedStratifiedKFold, cross_val_score\n",
    "\n",
    "import matplotlib.pyplot as plt\n",
    "\n",
    "\n",
    "seed = np.random.seed(11)\n"
   ]
  },
  {
   "cell_type": "code",
   "execution_count": 2,
   "metadata": {},
   "outputs": [
    {
     "data": {
      "text/html": [
       "<div>\n",
       "<style scoped>\n",
       "    .dataframe tbody tr th:only-of-type {\n",
       "        vertical-align: middle;\n",
       "    }\n",
       "\n",
       "    .dataframe tbody tr th {\n",
       "        vertical-align: top;\n",
       "    }\n",
       "\n",
       "    .dataframe thead th {\n",
       "        text-align: right;\n",
       "    }\n",
       "</style>\n",
       "<table border=\"1\" class=\"dataframe\">\n",
       "  <thead>\n",
       "    <tr style=\"text-align: right;\">\n",
       "      <th></th>\n",
       "      <th>Target_direct</th>\n",
       "      <th>business_reduction</th>\n",
       "      <th>inundation_duration_h</th>\n",
       "      <th>water_depth_cm</th>\n",
       "      <th>warning_time_h</th>\n",
       "      <th>shp_damage_level_furniture</th>\n",
       "      <th>shp_damage_level_electronics</th>\n",
       "      <th>shp_damage_level_equipment</th>\n",
       "      <th>shp_damage_level_products</th>\n",
       "      <th>shp_damage_level_others</th>\n",
       "      <th>...</th>\n",
       "      <th>shp_employees</th>\n",
       "      <th>shp_avgmonthly_sale_mVND</th>\n",
       "      <th>shp_capital_mVND</th>\n",
       "      <th>shp_risk_behaviour</th>\n",
       "      <th>shp_monetary_resources_prenvention</th>\n",
       "      <th>building_floor</th>\n",
       "      <th>lat</th>\n",
       "      <th>lon</th>\n",
       "      <th>geometry</th>\n",
       "      <th>elevation_m</th>\n",
       "    </tr>\n",
       "  </thead>\n",
       "  <tbody>\n",
       "    <tr>\n",
       "      <th>502</th>\n",
       "      <td>2.0</td>\n",
       "      <td>70.0</td>\n",
       "      <td>2.0</td>\n",
       "      <td>10</td>\n",
       "      <td>0.0</td>\n",
       "      <td>2</td>\n",
       "      <td>2</td>\n",
       "      <td>4</td>\n",
       "      <td>2</td>\n",
       "      <td>0</td>\n",
       "      <td>...</td>\n",
       "      <td>1</td>\n",
       "      <td>1</td>\n",
       "      <td>10.0</td>\n",
       "      <td>2</td>\n",
       "      <td>1</td>\n",
       "      <td>1</td>\n",
       "      <td>106.628290</td>\n",
       "      <td>10.723266</td>\n",
       "      <td>POINT (106.62829 10.723266)</td>\n",
       "      <td>4.0</td>\n",
       "    </tr>\n",
       "    <tr>\n",
       "      <th>503</th>\n",
       "      <td>0.0</td>\n",
       "      <td>100.0</td>\n",
       "      <td>5.0</td>\n",
       "      <td>20</td>\n",
       "      <td>0.0</td>\n",
       "      <td>2</td>\n",
       "      <td>1</td>\n",
       "      <td>1</td>\n",
       "      <td>1</td>\n",
       "      <td>0</td>\n",
       "      <td>...</td>\n",
       "      <td>1</td>\n",
       "      <td>2</td>\n",
       "      <td>50.0</td>\n",
       "      <td>3</td>\n",
       "      <td>3</td>\n",
       "      <td>0</td>\n",
       "      <td>106.626656</td>\n",
       "      <td>10.716209</td>\n",
       "      <td>POINT (106.626656 10.716209)</td>\n",
       "      <td>3.0</td>\n",
       "    </tr>\n",
       "  </tbody>\n",
       "</table>\n",
       "<p>2 rows × 38 columns</p>\n",
       "</div>"
      ],
      "text/plain": [
       "     Target_direct  business_reduction  inundation_duration_h  water_depth_cm   \n",
       "502            2.0                70.0                    2.0              10  \\\n",
       "503            0.0               100.0                    5.0              20   \n",
       "\n",
       "     warning_time_h  shp_damage_level_furniture  shp_damage_level_electronics   \n",
       "502             0.0                           2                             2  \\\n",
       "503             0.0                           2                             1   \n",
       "\n",
       "     shp_damage_level_equipment  shp_damage_level_products   \n",
       "502                           4                          2  \\\n",
       "503                           1                          1   \n",
       "\n",
       "     shp_damage_level_others  ...  shp_employees  shp_avgmonthly_sale_mVND   \n",
       "502                        0  ...              1                         1  \\\n",
       "503                        0  ...              1                         2   \n",
       "\n",
       "     shp_capital_mVND  shp_risk_behaviour  shp_monetary_resources_prenvention   \n",
       "502              10.0                   2                                   1  \\\n",
       "503              50.0                   3                                   3   \n",
       "\n",
       "     building_floor         lat        lon                      geometry   \n",
       "502               1  106.628290  10.723266   POINT (106.62829 10.723266)  \\\n",
       "503               0  106.626656  10.716209  POINT (106.626656 10.716209)   \n",
       "\n",
       "     elevation_m  \n",
       "502          4.0  \n",
       "503          3.0  \n",
       "\n",
       "[2 rows x 38 columns]"
      ]
     },
     "execution_count": 2,
     "metadata": {},
     "output_type": "execute_result"
    }
   ],
   "source": [
    "df_candidates = pd.read_excel(\"../../input_survey_data/survey_data_candidates_coords.xlsx\")\n",
    "df_candidates.tail(2)\n"
   ]
  },
  {
   "attachments": {},
   "cell_type": "markdown",
   "metadata": {},
   "source": [
    "#### Split Data and Normalize variables \n",
    "- due that most bariables dont have a gaussian distribution, donwside is that distance to outliers is decreased so outliers have influence on the loss calculation (smaller standard deviations when using normaization)\n"
   ]
  },
  {
   "cell_type": "code",
   "execution_count": 3,
   "metadata": {},
   "outputs": [
    {
     "name": "stdout",
     "output_type": "stream",
     "text": [
      "Target_direct                               0\n",
      "business_reduction                          1\n",
      "inundation_duration_h                       0\n",
      "water_depth_cm                              0\n",
      "warning_time_h                              0\n",
      "shp_damage_level_furniture                  0\n",
      "shp_damage_level_electronics                0\n",
      "shp_damage_level_equipment                  0\n",
      "shp_damage_level_products                   0\n",
      "shp_damage_level_others                     0\n",
      "shp_closed_d                                0\n",
      "shp_duration_back2normal                    0\n",
      "contaminations                              0\n",
      "emergency_measures                          0\n",
      "Q0.1                                        0\n",
      "shp_damage_level_others_r.specify         504\n",
      "shp_damage_level_others_s.specify         504\n",
      "protect_valuables_impl                      0\n",
      "water_barries_impl                          0\n",
      "pumping_equipment_impl                      0\n",
      "elevation_building_impl                     0\n",
      "resistant_material_building_impl            0\n",
      "electricity_higher_impl                     0\n",
      "flood_protections_impl                      0\n",
      "elevation_building_height_cm                0\n",
      "insurance_business                          0\n",
      "building_elevation_rel2surrounding_cat      0\n",
      "shp_sector                                  0\n",
      "shp_employees                               0\n",
      "shp_avgmonthly_sale_mVND                    0\n",
      "shp_capital_mVND                            0\n",
      "shp_risk_behaviour                          0\n",
      "shp_monetary_resources_prenvention          0\n",
      "building_floor                              0\n",
      "lat                                         4\n",
      "lon                                         4\n",
      "geometry                                    4\n",
      "elevation_m                                 4\n",
      "dtype: int64\n"
     ]
    }
   ],
   "source": [
    "# ## clean df from few nan values\n",
    "\n",
    "print(df_candidates.isna().sum())\n",
    "df_candidates = df_candidates.replace(np.nan, 0)\n",
    "\n",
    "\n"
   ]
  },
  {
   "cell_type": "code",
   "execution_count": 4,
   "metadata": {},
   "outputs": [],
   "source": [
    "X_unscaled = df_candidates.drop([\"Target_direct\",\n",
    "                        \"shp_damage_level_others_r.specify\", \"shp_damage_level_others_s.specify\",\n",
    "                        #\"shp_sector.specify\",   # fix this variable and make as numerbs\n",
    "                        \"Q0.1\",\n",
    "                        \"geometry\",\"lat\",\"lon\"\n",
    "                        ], axis=1)\n",
    "y = df_candidates.Target_direct.astype(\"int64\")\n",
    "\n",
    "\n",
    "## normalize data \n",
    "scaler = MinMaxScaler() \n",
    "X = scaler.fit_transform(pd.DataFrame(X_unscaled))\n",
    "y = scaler.fit_transform(pd.DataFrame(y))#.reshape(-1, 1))\n"
   ]
  },
  {
   "cell_type": "code",
   "execution_count": 5,
   "metadata": {},
   "outputs": [
    {
     "name": "stderr",
     "output_type": "stream",
     "text": [
      "c:\\Anaconda\\envs\\py396_c3\\lib\\site-packages\\sklearn\\preprocessing\\_label.py:116: DataConversionWarning: A column-vector y was passed when a 1d array was expected. Please change the shape of y to (n_samples, ), for example using ravel().\n",
      "  y = column_or_1d(y, warn=True)\n"
     ]
    }
   ],
   "source": [
    "X_train, X_test, y_train, y_test = train_test_split(X, y, test_size=0.33, random_state=seed, shuffle=True)\n",
    "\n",
    "\n",
    "# classes have to start from zero on for XGB, make contious var as categorical \n",
    "le = LabelEncoder()\n",
    "y_train = le.fit_transform(y_train)\n"
   ]
  },
  {
   "cell_type": "code",
   "execution_count": 6,
   "metadata": {},
   "outputs": [],
   "source": [
    "# param_dist = {'n_estimators': [10, 100, 200, 500],\n",
    "#               'max_depth': [1, 3, 5, 10,20],\n",
    "#               'colsample_bynode': [0.1, 0.3] # nbr of feautres for each split point\n",
    "#               #'subsample': 0.8  # define subsample of train st, xgb has not bootstrapping\n",
    "#               }\n"
   ]
  },
  {
   "cell_type": "code",
   "execution_count": 7,
   "metadata": {},
   "outputs": [],
   "source": [
    "\n",
    "ridge_ = SelectFromModel(LogisticRegression(C=1, penalty=\"l2\", solver=\"liblinear\", random_state=seed))  # L2 = Strafterm = Ridge Regularizationridge_.fit(X_train, y) #np.ravel(y_train,order=\"C\"))\n",
    "ridge_.fit(X_train, y_train)\n",
    "ridge_.get_support()\n",
    "\n",
    "lasso_ = SelectFromModel(LogisticRegression(C=1, penalty=\"l1\", solver=\"liblinear\", random_state=seed))  # L1 =lasso Regression\n",
    "lasso_.fit(X_train, y_train) #np.ravel(y_train,order=\"C\"))\n",
    "lasso_.get_support()\n",
    "\n",
    "X_train = pd.DataFrame(X_train)\n",
    "\n",
    "\n",
    "# ## predict unseen X_test set\n",
    "# y_ridge_pred = ridge_.predict(X_test)\n",
    "# y_lasso_pred = lasso_.predict(X_test)\n"
   ]
  },
  {
   "cell_type": "code",
   "execution_count": 8,
   "metadata": {},
   "outputs": [
    {
     "name": "stdout",
     "output_type": "stream",
     "text": [
      "total features: 31\n",
      "selected features: 12\n",
      "features with coefficients shrank to zero: 48\n"
     ]
    }
   ],
   "source": [
    "selected_feat = X_train.columns[(ridge_.get_support())]\n",
    "print(\"total features: {}\".format((X_train.shape[1])))\n",
    "print(\"selected features: {}\".format(len(selected_feat)))\n",
    "print(\"features with coefficients shrank to zero: {}\".format(\n",
    "np.sum(ridge_.estimator_.coef_ == 0)))\n"
   ]
  },
  {
   "cell_type": "code",
   "execution_count": 9,
   "metadata": {},
   "outputs": [
    {
     "name": "stdout",
     "output_type": "stream",
     "text": [
      "total features: 31\n",
      "selected features: 24\n",
      "features with coefficients shrank to zero: 648\n"
     ]
    }
   ],
   "source": [
    "selected_feat = X_train.columns[(lasso_.get_support())]\n",
    "print(\"total features: {}\".format((X_train.shape[1])))\n",
    "print(\"selected features: {}\".format(len(selected_feat)))\n",
    "print(\"features with coefficients shrank to zero: {}\".format(\n",
    "np.sum(lasso_.estimator_.coef_ == 0)))\n"
   ]
  },
  {
   "attachments": {},
   "cell_type": "markdown",
   "metadata": {},
   "source": [
    "### Evaluation"
   ]
  },
  {
   "cell_type": "code",
   "execution_count": 10,
   "metadata": {},
   "outputs": [
    {
     "ename": "AttributeError",
     "evalue": "'SelectFromModel' object has no attribute 'best'",
     "output_type": "error",
     "traceback": [
      "\u001b[1;31m---------------------------------------------------------------------------\u001b[0m",
      "\u001b[1;31mAttributeError\u001b[0m                            Traceback (most recent call last)",
      "\u001b[1;32mc:\\Users\\Anna\\Documents\\UNI\\MA_topic\\flood-loss-models-4-HCMC\\explorative-data-analysis\\Feature_selection\\ridge_regression_feature_selection.ipynb Cell 13\u001b[0m in \u001b[0;36m3\n\u001b[0;32m      <a href='vscode-notebook-cell:/c%3A/Users/Anna/Documents/UNI/MA_topic/flood-loss-models-4-HCMC/explorative-data-analysis/Feature_selection/ridge_regression_feature_selection.ipynb#X15sZmlsZQ%3D%3D?line=0'>1</a>\u001b[0m \u001b[39m# np.sum(ridge_.coef_ >= 0)\u001b[39;00m\n\u001b[1;32m----> <a href='vscode-notebook-cell:/c%3A/Users/Anna/Documents/UNI/MA_topic/flood-loss-models-4-HCMC/explorative-data-analysis/Feature_selection/ridge_regression_feature_selection.ipynb#X15sZmlsZQ%3D%3D?line=2'>3</a>\u001b[0m lasso_\u001b[39m.\u001b[39;49mbest\n",
      "\u001b[1;31mAttributeError\u001b[0m: 'SelectFromModel' object has no attribute 'best'"
     ]
    }
   ],
   "source": [
    "# np.sum(ridge_.coef_ >= 0)\n",
    "\n",
    "lasso_.best"
   ]
  },
  {
   "cell_type": "code",
   "execution_count": 135,
   "metadata": {},
   "outputs": [
    {
     "data": {
      "image/png": "[encoded data removed]",
      "text/plain": [
       "<Figure size 640x480 with 1 Axes>"
      ]
     },
     "metadata": {},
     "output_type": "display_data"
    }
   ],
   "source": [
    "# plot feature importance\n",
    "\n",
    "importance = ridge_.estimator_.coef_[0]\n",
    "plt.bar([x for x in range(len(importance))], importance)\n",
    "plt.title(\"Ridge Regression: Feature Importance\")\n",
    "plt.show()"
   ]
  },
  {
   "cell_type": "code",
   "execution_count": 136,
   "metadata": {},
   "outputs": [
    {
     "data": {
      "image/png": "[encoded data removed]",
      "text/plain": [
       "<Figure size 640x480 with 1 Axes>"
      ]
     },
     "metadata": {},
     "output_type": "display_data"
    }
   ],
   "source": [
    "# plot feature importance\n",
    "importance = lasso_.estimator_.coef_[0]\n",
    "plt.title(\"Ridge Regression: Feature Importance\")\n",
    "plt.bar([x for x in range(len(importance))], importance)\n",
    "plt.title(\"Lasso Regression: Feature Importance\")\n",
    "plt.show()"
   ]
  },
  {
   "cell_type": "code",
   "execution_count": 137,
   "metadata": {},
   "outputs": [],
   "source": [
    "# # define the model evaluation by k-fold CV\n",
    "# cv = RepeatedStratifiedKFold(n_splits=10, n_repeats=3, random_state=1)\n",
    "# # evaluate the model and collect the scores\n",
    "# n_scores = cross_val_score(model, X, y, scoring='accuracy', cv=cv, n_jobs=-1)\n",
    "\n",
    "# print('Mean Accuracy: %.3f (%.3f)' % (np.mean(n_scores), np.std(n_scores)))"
   ]
  },
  {
   "cell_type": "code",
   "execution_count": 140,
   "metadata": {},
   "outputs": [
    {
     "name": "stdout",
     "output_type": "stream",
     "text": [
      "[ True False  True False False False  True False False False False False\n",
      " False  True  True  True  True  True  True  True  True False False False\n",
      " False False False False False  True False]\n",
      "Index(['business_reduction', 'water_depth_cm', 'shp_damage_level_equipment',\n",
      "       'protect_valuables_impl', 'water_barries_impl',\n",
      "       'pumping_equipment_impl', 'elevation_building_impl',\n",
      "       'resistant_material_building_impl', 'electricity_higher_impl',\n",
      "       'flood_protections_impl', 'elevation_building_height_cm',\n",
      "       'building_floor'],\n",
      "      dtype='object')\n"
     ]
    }
   ],
   "source": [
    "#importance.shape\n",
    "t = ridge_.get_support()\n",
    "print(t)\n",
    "print(X_unscaled.columns[t])\n",
    "#X_unscaled.columns[ridge_.get_support()\n",
    "#X_train[(ridge_.estimator_.coef_ == 0)#]"
   ]
  },
  {
   "attachments": {},
   "cell_type": "markdown",
   "metadata": {},
   "source": [
    "## Write selected features to disk\n"
   ]
  },
  {
   "cell_type": "code",
   "execution_count": 164,
   "metadata": {},
   "outputs": [
    {
     "name": "stdout",
     "output_type": "stream",
     "text": [
      "<class 'pandas.core.frame.DataFrame'>\n",
      "RangeIndex: 504 entries, 0 to 503\n",
      "Data columns (total 13 columns):\n",
      " #   Column                            Non-Null Count  Dtype  \n",
      "---  ------                            --------------  -----  \n",
      " 0   business_reduction                504 non-null    float64\n",
      " 1   water_depth_cm                    504 non-null    int64  \n",
      " 2   shp_damage_level_equipment        504 non-null    int64  \n",
      " 3   protect_valuables_impl            504 non-null    int64  \n",
      " 4   water_barries_impl                504 non-null    int64  \n",
      " 5   pumping_equipment_impl            504 non-null    int64  \n",
      " 6   elevation_building_impl           504 non-null    int64  \n",
      " 7   resistant_material_building_impl  504 non-null    int64  \n",
      " 8   electricity_higher_impl           504 non-null    int64  \n",
      " 9   flood_protections_impl            504 non-null    int64  \n",
      " 10  elevation_building_height_cm      504 non-null    int64  \n",
      " 11  building_floor                    504 non-null    int64  \n",
      " 12  Target_direct                     504 non-null    float64\n",
      "dtypes: float64(2), int64(11)\n",
      "memory usage: 51.3 KB\n"
     ]
    }
   ],
   "source": [
    "#print(X_unscaled.columns[t].to_list())\n",
    "#print()\n",
    "df_ridge = df_candidates[X_unscaled.columns[ridge_.get_support()].to_list()+[\"Target_direct\"]]\n",
    "df_lasso = df_candidates[X_unscaled.columns[lasso_.get_support()].to_list()+[\"Target_direct\"]]\n",
    "df_ridge.info()\n",
    "df_ridge.to_excel(\"../../input_survey_data/survey_data_candidates_ridge.xlsx\", index=False)\n",
    "df_lasso.to_excel(\"../../input_survey_data/survey_data_candidates_lasso.xlsx\", index=False)\n"
   ]
  },
  {
   "cell_type": "code",
   "execution_count": 139,
   "metadata": {},
   "outputs": [
    {
     "ename": "IndexError",
     "evalue": "boolean index did not match indexed array along dimension 0; dimension is 31 but corresponding boolean dimension is 744",
     "output_type": "error",
     "traceback": [
      "\u001b[1;31m---------------------------------------------------------------------------\u001b[0m",
      "\u001b[1;31mIndexError\u001b[0m                                Traceback (most recent call last)",
      "\u001b[1;32mc:\\Users\\Anna\\Documents\\UNI\\MA_topic\\flood-loss-models-4-HCMC\\explorative-data-analysis\\Feature_selection\\ridge_regression_feature_selection copy.ipynb Cell 19\u001b[0m in \u001b[0;36m1\n\u001b[1;32m----> <a href='vscode-notebook-cell:/c%3A/Users/Anna/Documents/UNI/MA_topic/flood-loss-models-4-HCMC/explorative-data-analysis/Feature_selection/ridge_regression_feature_selection%20copy.ipynb#X30sZmlsZQ%3D%3D?line=0'>1</a>\u001b[0m removed_feats \u001b[39m=\u001b[39m X_train\u001b[39m.\u001b[39;49mcolumns[(ridge_\u001b[39m.\u001b[39;49mestimator_\u001b[39m.\u001b[39;49mcoef_ \u001b[39m==\u001b[39;49m \u001b[39m0\u001b[39;49m)\u001b[39m.\u001b[39;49mravel()\u001b[39m.\u001b[39;49mtolist()]\n\u001b[0;32m      <a href='vscode-notebook-cell:/c%3A/Users/Anna/Documents/UNI/MA_topic/flood-loss-models-4-HCMC/explorative-data-analysis/Feature_selection/ridge_regression_feature_selection%20copy.ipynb#X30sZmlsZQ%3D%3D?line=1'>2</a>\u001b[0m removed_feats\n\u001b[0;32m      <a href='vscode-notebook-cell:/c%3A/Users/Anna/Documents/UNI/MA_topic/flood-loss-models-4-HCMC/explorative-data-analysis/Feature_selection/ridge_regression_feature_selection%20copy.ipynb#X30sZmlsZQ%3D%3D?line=3'>4</a>\u001b[0m X_train_selected \u001b[39m=\u001b[39m ridge_\u001b[39m.\u001b[39mtransform(X_train)\n",
      "File \u001b[1;32mc:\\Anaconda\\envs\\py396_c3\\lib\\site-packages\\pandas\\core\\indexes\\range.py:924\u001b[0m, in \u001b[0;36mRangeIndex.__getitem__\u001b[1;34m(self, key)\u001b[0m\n\u001b[0;32m    917\u001b[0m \u001b[39melif\u001b[39;00m is_scalar(key):\n\u001b[0;32m    918\u001b[0m     \u001b[39mraise\u001b[39;00m \u001b[39mIndexError\u001b[39;00m(\n\u001b[0;32m    919\u001b[0m         \u001b[39m\"\u001b[39m\u001b[39monly integers, slices (`:`), \u001b[39m\u001b[39m\"\u001b[39m\n\u001b[0;32m    920\u001b[0m         \u001b[39m\"\u001b[39m\u001b[39mellipsis (`...`), numpy.newaxis (`None`) \u001b[39m\u001b[39m\"\u001b[39m\n\u001b[0;32m    921\u001b[0m         \u001b[39m\"\u001b[39m\u001b[39mand integer or boolean \u001b[39m\u001b[39m\"\u001b[39m\n\u001b[0;32m    922\u001b[0m         \u001b[39m\"\u001b[39m\u001b[39marrays are valid indices\u001b[39m\u001b[39m\"\u001b[39m\n\u001b[0;32m    923\u001b[0m     )\n\u001b[1;32m--> 924\u001b[0m \u001b[39mreturn\u001b[39;00m \u001b[39msuper\u001b[39;49m()\u001b[39m.\u001b[39;49m\u001b[39m__getitem__\u001b[39;49m(key)\n",
      "File \u001b[1;32mc:\\Anaconda\\envs\\py396_c3\\lib\\site-packages\\pandas\\core\\indexes\\base.py:5195\u001b[0m, in \u001b[0;36mIndex.__getitem__\u001b[1;34m(self, key)\u001b[0m\n\u001b[0;32m   5192\u001b[0m     \u001b[39melse\u001b[39;00m:\n\u001b[0;32m   5193\u001b[0m         key \u001b[39m=\u001b[39m np\u001b[39m.\u001b[39masarray(key, dtype\u001b[39m=\u001b[39m\u001b[39mbool\u001b[39m)\n\u001b[1;32m-> 5195\u001b[0m result \u001b[39m=\u001b[39m getitem(key)\n\u001b[0;32m   5196\u001b[0m \u001b[39m# Because we ruled out integer above, we always get an arraylike here\u001b[39;00m\n\u001b[0;32m   5197\u001b[0m \u001b[39mif\u001b[39;00m result\u001b[39m.\u001b[39mndim \u001b[39m>\u001b[39m \u001b[39m1\u001b[39m:\n",
      "\u001b[1;31mIndexError\u001b[0m: boolean index did not match indexed array along dimension 0; dimension is 31 but corresponding boolean dimension is 744"
     ]
    }
   ],
   "source": [
    "removed_feats = X_train.columns[(ridge_.estimator_.coef_ == 0).ravel().tolist()]\n",
    "removed_feats\n",
    "\n",
    "X_train_selected = ridge_.transform(X_train)\n",
    "X_test_selected = ridge_.transform(X_test)\n",
    "X_train_selected.shape, X_test_selected.shape"
   ]
  },
  {
   "cell_type": "code",
   "execution_count": 97,
   "metadata": {},
   "outputs": [
    {
     "name": "stdout",
     "output_type": "stream",
     "text": [
      "features with coefficients shrank to zero: 617\n"
     ]
    }
   ],
   "source": [
    "#X.columns#[(lasso_.estimator_.coef_ == 0).ravel().tolist()]\n",
    "X_train.columns[(lasso_.get_support())]\n",
    "print(\"features with coefficients shrank to zero: {}\".format(\n",
    "np.sum(lasso_.estimator_.coef_ == 0)))"
   ]
  },
  {
   "cell_type": "code",
   "execution_count": 82,
   "metadata": {},
   "outputs": [
    {
     "ename": "IndexError",
     "evalue": "too many indices for array: array is 1-dimensional, but 2 were indexed",
     "output_type": "error",
     "traceback": [
      "\u001b[1;31m---------------------------------------------------------------------------\u001b[0m",
      "\u001b[1;31mIndexError\u001b[0m                                Traceback (most recent call last)",
      "\u001b[1;32mc:\\Users\\Anna\\Documents\\UNI\\MA_topic\\flood-loss-models-4-HCMC\\explorative-data-analysis\\Feature_selection\\ridge_regression_feature_selection copy.ipynb Cell 22\u001b[0m in \u001b[0;36m1\n\u001b[1;32m----> <a href='vscode-notebook-cell:/c%3A/Users/Anna/Documents/UNI/MA_topic/flood-loss-models-4-HCMC/explorative-data-analysis/Feature_selection/ridge_regression_feature_selection%20copy.ipynb#X31sZmlsZQ%3D%3D?line=0'>1</a>\u001b[0m removed_feats \u001b[39m=\u001b[39m X_train\u001b[39m.\u001b[39;49mcolumns[(lasso_\u001b[39m.\u001b[39;49mestimator_\u001b[39m.\u001b[39;49mcoef_ \u001b[39m==\u001b[39;49m \u001b[39m0\u001b[39;49m)\u001b[39m.\u001b[39;49mtolist()]\n\u001b[0;32m      <a href='vscode-notebook-cell:/c%3A/Users/Anna/Documents/UNI/MA_topic/flood-loss-models-4-HCMC/explorative-data-analysis/Feature_selection/ridge_regression_feature_selection%20copy.ipynb#X31sZmlsZQ%3D%3D?line=1'>2</a>\u001b[0m removed_feats\n\u001b[0;32m      <a href='vscode-notebook-cell:/c%3A/Users/Anna/Documents/UNI/MA_topic/flood-loss-models-4-HCMC/explorative-data-analysis/Feature_selection/ridge_regression_feature_selection%20copy.ipynb#X31sZmlsZQ%3D%3D?line=3'>4</a>\u001b[0m X_train_selected \u001b[39m=\u001b[39m lasso_\u001b[39m.\u001b[39mtransform(X_train)\n",
      "File \u001b[1;32mc:\\Anaconda\\envs\\py396_c3\\lib\\site-packages\\pandas\\core\\indexes\\range.py:924\u001b[0m, in \u001b[0;36mRangeIndex.__getitem__\u001b[1;34m(self, key)\u001b[0m\n\u001b[0;32m    917\u001b[0m \u001b[39melif\u001b[39;00m is_scalar(key):\n\u001b[0;32m    918\u001b[0m     \u001b[39mraise\u001b[39;00m \u001b[39mIndexError\u001b[39;00m(\n\u001b[0;32m    919\u001b[0m         \u001b[39m\"\u001b[39m\u001b[39monly integers, slices (`:`), \u001b[39m\u001b[39m\"\u001b[39m\n\u001b[0;32m    920\u001b[0m         \u001b[39m\"\u001b[39m\u001b[39mellipsis (`...`), numpy.newaxis (`None`) \u001b[39m\u001b[39m\"\u001b[39m\n\u001b[0;32m    921\u001b[0m         \u001b[39m\"\u001b[39m\u001b[39mand integer or boolean \u001b[39m\u001b[39m\"\u001b[39m\n\u001b[0;32m    922\u001b[0m         \u001b[39m\"\u001b[39m\u001b[39marrays are valid indices\u001b[39m\u001b[39m\"\u001b[39m\n\u001b[0;32m    923\u001b[0m     )\n\u001b[1;32m--> 924\u001b[0m \u001b[39mreturn\u001b[39;00m \u001b[39msuper\u001b[39;49m()\u001b[39m.\u001b[39;49m\u001b[39m__getitem__\u001b[39;49m(key)\n",
      "File \u001b[1;32mc:\\Anaconda\\envs\\py396_c3\\lib\\site-packages\\pandas\\core\\indexes\\base.py:5195\u001b[0m, in \u001b[0;36mIndex.__getitem__\u001b[1;34m(self, key)\u001b[0m\n\u001b[0;32m   5192\u001b[0m     \u001b[39melse\u001b[39;00m:\n\u001b[0;32m   5193\u001b[0m         key \u001b[39m=\u001b[39m np\u001b[39m.\u001b[39masarray(key, dtype\u001b[39m=\u001b[39m\u001b[39mbool\u001b[39m)\n\u001b[1;32m-> 5195\u001b[0m result \u001b[39m=\u001b[39m getitem(key)\n\u001b[0;32m   5196\u001b[0m \u001b[39m# Because we ruled out integer above, we always get an arraylike here\u001b[39;00m\n\u001b[0;32m   5197\u001b[0m \u001b[39mif\u001b[39;00m result\u001b[39m.\u001b[39mndim \u001b[39m>\u001b[39m \u001b[39m1\u001b[39m:\n",
      "\u001b[1;31mIndexError\u001b[0m: too many indices for array: array is 1-dimensional, but 2 were indexed"
     ]
    }
   ],
   "source": [
    "removed_feats = X_train.columns[(lasso_.estimator_.coef_ == 0).ravel().tolist()]\n",
    "removed_feats\n",
    "\n",
    "X_train_selected = lasso_.transform(X_train)\n",
    "X_test_selected = lasso_.transform(X_test)\n",
    "X_train_selected.shape, X_test_selected.shape"
   ]
  },
  {
   "cell_type": "code",
   "execution_count": null,
   "metadata": {},
   "outputs": [],
   "source": []
  }
 ],
 "metadata": {
  "kernelspec": {
   "display_name": "py396_c3",
   "language": "python",
   "name": "python3"
  },
  "language_info": {
   "codemirror_mode": {
    "name": "ipython",
    "version": 3
   },
   "file_extension": ".py",
   "mimetype": "text/x-python",
   "name": "python",
   "nbconvert_exporter": "python",
   "pygments_lexer": "ipython3",
   "version": "3.9.6"
  },
  "orig_nbformat": 4
 },
 "nbformat": 4,
 "nbformat_minor": 2
}
