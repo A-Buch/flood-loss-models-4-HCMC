{
 "cells": [
  {
   "cell_type": "code",
   "execution_count": 196,
   "metadata": {},
   "outputs": [],
   "source": [
    "#!/usr/bin/env python\n",
    "# -*- coding: utf-8 -*-\n",
    "\"\"\"Data preprocessing for HCMC survey dataset\"\"\"\n",
    "\n",
    "__author__ = \"Anna Buch, Heidelberg University\"\n",
    "__email__ = \"a.buch@stud.uni-heidelberg.de\"\n"
   ]
  },
  {
   "attachments": {},
   "cell_type": "markdown",
   "metadata": {},
   "source": [
    "# Feature selection done by testing lasso regression \n",
    "\n",
    "Compare outputs of feature selections done by lasso regresion, CIT, xgboos\n",
    "\n",
    "Ridge regression has benefits when dealing with large ds and overfitting might be a problem during model training. \n",
    "Ridge regression - in contrast to other models - doesnt directly nullify the inlfuence of less important features - good to determine variables with zero effects\n",
    "\n",
    "\"\"\"\n",
    "  https://medium.com/@sabarirajan.kumarappan/feature-selection-by-lasso-and-ridge-regression-python-code-examples-1e8ab451b94b\n",
    "key difference however, between Ridge and Lasso regression is that Lasso Regression has the ability to nullify the impact of an irrelevant feature in the data, meaning that it can reduce the coefficient of a feature to zero thus completely eliminating it and hence is better at reducing the variance when the data consists of many insignificant features. Ridge regression, however, can not reduce the coefficients to absolute zero.\n",
    "Ridge regression performs better when the data consists of features which are sure to be more relevant and useful.\n",
    "\n",
    "\"\"\"\n",
    "\n",
    "Code idea maily from: https://medium.com/@sabarirajan.kumarappan/feature-selection-by-lasso-and-ridge-regression-python-code-examples-1e8ab451b94b"
   ]
  },
  {
   "cell_type": "code",
   "execution_count": 197,
   "metadata": {},
   "outputs": [],
   "source": [
    "import numpy as np\n",
    "import pandas as pd\n",
    "\n",
    "import pickle\n",
    "\n",
    "from sklearn.linear_model import LogisticRegression, Lasso\n",
    "from sklearn.preprocessing import MinMaxScaler, LabelEncoder\n",
    "from sklearn.feature_selection import SelectFromModel\n",
    "\n",
    "\n",
    "\n",
    "from sklearn.metrics import accuracy_score# , confusion_matrix, precision_score, recall_score, ConfusionMatrixDisplay\n",
    "from sklearn.model_selection import RandomizedSearchCV, train_test_split, RepeatedStratifiedKFold, cross_val_score\n",
    "\n",
    "import matplotlib.pyplot as plt\n",
    "\n",
    "\n",
    "seed = np.random.seed(11)\n",
    "\n",
    "import warnings\n",
    "warnings.filterwarnings('ignore')\n",
    "\n"
   ]
  },
  {
   "cell_type": "code",
   "execution_count": 198,
   "metadata": {},
   "outputs": [
    {
     "name": "stdout",
     "output_type": "stream",
     "text": [
      "(397, 60)\n"
     ]
    },
    {
     "data": {
      "text/html": [
       "<div>\n",
       "<style scoped>\n",
       "    .dataframe tbody tr th:only-of-type {\n",
       "        vertical-align: middle;\n",
       "    }\n",
       "\n",
       "    .dataframe tbody tr th {\n",
       "        vertical-align: top;\n",
       "    }\n",
       "\n",
       "    .dataframe thead th {\n",
       "        text-align: right;\n",
       "    }\n",
       "</style>\n",
       "<table border=\"1\" class=\"dataframe\">\n",
       "  <thead>\n",
       "    <tr style=\"text-align: right;\">\n",
       "      <th></th>\n",
       "      <th>Target_contentloss_euro</th>\n",
       "      <th>Target_businessreduction</th>\n",
       "      <th>inundation_duration_h</th>\n",
       "      <th>water_depth_cm</th>\n",
       "      <th>contaminations.0</th>\n",
       "      <th>contaminations.1</th>\n",
       "      <th>contaminations.2</th>\n",
       "      <th>contaminations.3</th>\n",
       "      <th>contaminations.4</th>\n",
       "      <th>flowvelocity</th>\n",
       "      <th>...</th>\n",
       "      <th>resilience_govern_careing</th>\n",
       "      <th>resilience_govern_careing_increases</th>\n",
       "      <th>resilience_left_alone</th>\n",
       "      <th>resilience_neighbor_management</th>\n",
       "      <th>perception_who_responsible4protection.Rank1</th>\n",
       "      <th>perception_govern_support_future</th>\n",
       "      <th>perception_private_economy_future</th>\n",
       "      <th>shp_content_value_euro</th>\n",
       "      <th>shp_registered_capital_euro</th>\n",
       "      <th>elevation_m</th>\n",
       "    </tr>\n",
       "  </thead>\n",
       "  <tbody>\n",
       "    <tr>\n",
       "      <th>395</th>\n",
       "      <td>0.0</td>\n",
       "      <td>NaN</td>\n",
       "      <td>4.0</td>\n",
       "      <td>70.0</td>\n",
       "      <td>0</td>\n",
       "      <td>1</td>\n",
       "      <td>0</td>\n",
       "      <td>0</td>\n",
       "      <td>1</td>\n",
       "      <td>1</td>\n",
       "      <td>...</td>\n",
       "      <td>1.0</td>\n",
       "      <td>1.0</td>\n",
       "      <td>5</td>\n",
       "      <td>1.0</td>\n",
       "      <td>2.0</td>\n",
       "      <td>1.0</td>\n",
       "      <td>3.0</td>\n",
       "      <td>NaN</td>\n",
       "      <td>11047.7</td>\n",
       "      <td>1.83886</td>\n",
       "    </tr>\n",
       "    <tr>\n",
       "      <th>396</th>\n",
       "      <td>0.0</td>\n",
       "      <td>0.0</td>\n",
       "      <td>3.0</td>\n",
       "      <td>100.0</td>\n",
       "      <td>0</td>\n",
       "      <td>1</td>\n",
       "      <td>0</td>\n",
       "      <td>0</td>\n",
       "      <td>1</td>\n",
       "      <td>1</td>\n",
       "      <td>...</td>\n",
       "      <td>NaN</td>\n",
       "      <td>NaN</td>\n",
       "      <td>5</td>\n",
       "      <td>NaN</td>\n",
       "      <td>3.0</td>\n",
       "      <td>NaN</td>\n",
       "      <td>3.0</td>\n",
       "      <td>NaN</td>\n",
       "      <td>736.5</td>\n",
       "      <td>1.87277</td>\n",
       "    </tr>\n",
       "  </tbody>\n",
       "</table>\n",
       "<p>2 rows × 60 columns</p>\n",
       "</div>"
      ],
      "text/plain": [
       "     Target_contentloss_euro  Target_businessreduction  inundation_duration_h   \n",
       "395                      0.0                       NaN                    4.0  \\\n",
       "396                      0.0                       0.0                    3.0   \n",
       "\n",
       "     water_depth_cm  contaminations.0  contaminations.1  contaminations.2   \n",
       "395            70.0                 0                 1                 0  \\\n",
       "396           100.0                 0                 1                 0   \n",
       "\n",
       "     contaminations.3  contaminations.4  flowvelocity  ...   \n",
       "395                 0                 1             1  ...  \\\n",
       "396                 0                 1             1  ...   \n",
       "\n",
       "     resilience_govern_careing  resilience_govern_careing_increases   \n",
       "395                        1.0                                  1.0  \\\n",
       "396                        NaN                                  NaN   \n",
       "\n",
       "     resilience_left_alone  resilience_neighbor_management   \n",
       "395                      5                             1.0  \\\n",
       "396                      5                             NaN   \n",
       "\n",
       "     perception_who_responsible4protection.Rank1   \n",
       "395                                          2.0  \\\n",
       "396                                          3.0   \n",
       "\n",
       "     perception_govern_support_future  perception_private_economy_future   \n",
       "395                               1.0                                3.0  \\\n",
       "396                               NaN                                3.0   \n",
       "\n",
       "     shp_content_value_euro  shp_registered_capital_euro  elevation_m  \n",
       "395                     NaN                      11047.7      1.83886  \n",
       "396                     NaN                        736.5      1.87277  \n",
       "\n",
       "[2 rows x 60 columns]"
      ]
     },
     "execution_count": 198,
     "metadata": {},
     "output_type": "execute_result"
    }
   ],
   "source": [
    "df_candidates = pd.read_excel(\"../../input_survey_data/input_data_business_2.xlsx\")\n",
    "print(df_candidates.shape)\n",
    "df_candidates.tail(2)\n"
   ]
  },
  {
   "attachments": {},
   "cell_type": "markdown",
   "metadata": {},
   "source": [
    "#### Split Data and Normalize variables \n",
    "- due that most variables dont have a gaussian distribution, donwside is that distance to outliers is decreased so outliers have influence on the loss calculation (smaller standard deviations when using normaization)\n"
   ]
  },
  {
   "cell_type": "code",
   "execution_count": 199,
   "metadata": {},
   "outputs": [
    {
     "name": "stdout",
     "output_type": "stream",
     "text": [
      "Target_contentloss_euro                         11\n",
      "Target_businessreduction                        36\n",
      "inundation_duration_h                            9\n",
      "water_depth_cm                                   1\n",
      "contaminations.0                                 0\n",
      "contaminations.1                                 0\n",
      "contaminations.2                                 0\n",
      "contaminations.3                                 0\n",
      "contaminations.4                                 0\n",
      "flowvelocity                                     0\n",
      "warning_time_h                                 308\n",
      "emergency_measures.1                             0\n",
      "emergency_measures.2                             0\n",
      "emergency_measures.3                             0\n",
      "emergency_measures.4                             0\n",
      "emergency_measures.6                             0\n",
      "emergency_measures.7                             0\n",
      "emergency_measures.8                             0\n",
      "emergency_measures.9                             0\n",
      "overall_problem_house                            0\n",
      "contaminations_visible                           0\n",
      "protect_valuables_impl                           0\n",
      "water_barriers_impl                              0\n",
      "pumping_equipment_impl                           0\n",
      "elevation_building_impl                          0\n",
      "resistant_material_building_impl                 0\n",
      "electricity_higher_impl                          0\n",
      "flood_protections_impl                           0\n",
      "flood_experience                                 0\n",
      "elevation_building_height_cm                    63\n",
      "elevation_rel2surrounding_cat                    0\n",
      "bage                                            27\n",
      "b_area                                           2\n",
      "hh_monthly_income_cat                           24\n",
      "shp_owner                                        0\n",
      "shp_sector                                       0\n",
      "shp_employees                                    0\n",
      "shp_avgmonthly_sale_cat                          0\n",
      "shp_finance_investments                          0\n",
      "shp_suppliers_location.1                         0\n",
      "shp_suppliers_location.2                         0\n",
      "shp_suppliers_location.3                         0\n",
      "shp_suppliers_location.4                         0\n",
      "shp_suppliers_location.5                         0\n",
      "shp_profits_last5years                          15\n",
      "shp_risk_tolerance                              28\n",
      "shp_monetary_resources4prevention               18\n",
      "resilience_city_protection                      15\n",
      "resilience_more_future_affected                 15\n",
      "resilience_govern_warnings_helpful              18\n",
      "resilience_govern_careing                       23\n",
      "resilience_govern_careing_increases             54\n",
      "resilience_left_alone                            0\n",
      "resilience_neighbor_management                  11\n",
      "perception_who_responsible4protection.Rank1     28\n",
      "perception_govern_support_future               136\n",
      "perception_private_economy_future               26\n",
      "shp_content_value_euro                          62\n",
      "shp_registered_capital_euro                     47\n",
      "elevation_m                                      4\n",
      "dtype: int64\n"
     ]
    }
   ],
   "source": [
    "# ## clean df from few nan values\n",
    "\n",
    "# print(df_candidates.isna().sum())\n",
    "# df_candidates = df_candidates.dropna()\n",
    "# print(df_candidates.shape)\n",
    "\n",
    "\n",
    "# # ## clean df from few nan values\n",
    "print(df_candidates.isna().sum())\n",
    "df_candidates = df_candidates.replace(np.nan, 0)\n",
    "\n",
    "\n",
    "## TODO fix missing values by filling or rmeoving them:\n",
    "## Idea: remove nan in targets (->get 2 ds) and fill missing values in candidate predictors\n",
    "## or think about to remove predictors with very many missing values , even they are significant correlated to target eg. warning time\n",
    "\n"
   ]
  },
  {
   "cell_type": "code",
   "execution_count": 200,
   "metadata": {},
   "outputs": [
    {
     "data": {
      "text/plain": [
       "(397,)"
      ]
     },
     "execution_count": 200,
     "metadata": {},
     "output_type": "execute_result"
    }
   ],
   "source": [
    "df_candidates[\"Target_contentloss_euro\"].shape"
   ]
  },
  {
   "cell_type": "code",
   "execution_count": 201,
   "metadata": {},
   "outputs": [],
   "source": [
    "targets = [\"Target_contentloss_euro\", \"Target_businessreduction\"]\n",
    "\n",
    "X_unscaled = df_candidates.drop(targets, axis=1)\n"
   ]
  },
  {
   "cell_type": "code",
   "execution_count": 202,
   "metadata": {},
   "outputs": [
    {
     "data": {
      "text/plain": [
       "(265,)"
      ]
     },
     "execution_count": 202,
     "metadata": {},
     "output_type": "execute_result"
    }
   ],
   "source": [
    "# param_dist = {'n_estimators': [10, 100, 200, 500],\n",
    "#               'max_depth': [1, 3, 5, 10,20],\n",
    "#               'colsample_bynode': [0.1, 0.3] # nbr of feautres for each split point\n",
    "#               #'subsample': 0.8  # define subsample of train st, xgb has not bootstrapping\n",
    "#               }\n",
    "\n",
    "y_train.shape"
   ]
  },
  {
   "cell_type": "code",
   "execution_count": 236,
   "metadata": {},
   "outputs": [
    {
     "name": "stdout",
     "output_type": "stream",
     "text": [
      "Lasso regression:\n",
      "total features: 58\n",
      "selected features: 44\n",
      "dropped features: \n",
      "['inundation_duration_h', 'contaminations.3', 'warning_time_h', 'bage', 'b_area', 'hh_monthly_income_cat', 'shp_owner', 'shp_sector', 'shp_employees', 'shp_avgmonthly_sale_cat', 'shp_monetary_resources4prevention', 'perception_who_responsible4protection.Rank1', 'shp_content_value_euro', 'shp_registered_capital_euro']\n",
      "\n",
      "Selected features: \n",
      "Index(['water_depth_cm', 'contaminations.0', 'contaminations.1',\n",
      "       'contaminations.2', 'contaminations.4', 'flowvelocity',\n",
      "       'emergency_measures.1', 'emergency_measures.2', 'emergency_measures.3',\n",
      "       'emergency_measures.4', 'emergency_measures.6', 'emergency_measures.7',\n",
      "       'emergency_measures.8', 'emergency_measures.9', 'overall_problem_house',\n",
      "       'contaminations_visible', 'protect_valuables_impl',\n",
      "       'water_barriers_impl', 'pumping_equipment_impl',\n",
      "       'elevation_building_impl', 'resistant_material_building_impl',\n",
      "       'electricity_higher_impl', 'flood_protections_impl', 'flood_experience',\n",
      "       'elevation_building_height_cm', 'elevation_rel2surrounding_cat',\n",
      "       'shp_finance_investments', 'shp_suppliers_location.1',\n",
      "       'shp_suppliers_location.2', 'shp_suppliers_location.3',\n",
      "       'shp_suppliers_location.4', 'shp_suppliers_location.5',\n",
      "       'shp_profits_last5years', 'shp_risk_tolerance',\n",
      "       'resilience_city_protection', 'resilience_more_future_affected',\n",
      "       'resilience_govern_warnings_helpful', 'resilience_govern_careing',\n",
      "       'resilience_govern_careing_increases', 'resilience_left_alone',\n",
      "       'resilience_neighbor_management', 'perception_govern_support_future',\n",
      "       'perception_private_economy_future', 'elevation_m'],\n",
      "      dtype='object')\n",
      "Lasso regression:\n",
      "total features: 58\n",
      "selected features: 49\n",
      "dropped features: \n",
      "['inundation_duration_h', 'elevation_building_height_cm', 'b_area', 'shp_owner', 'shp_employees', 'shp_suppliers_location.4', 'shp_suppliers_location.5', 'shp_content_value_euro', 'shp_registered_capital_euro']\n",
      "\n",
      "Selected features: \n",
      "Index(['water_depth_cm', 'contaminations.0', 'contaminations.1',\n",
      "       'contaminations.2', 'contaminations.3', 'contaminations.4',\n",
      "       'flowvelocity', 'warning_time_h', 'emergency_measures.1',\n",
      "       'emergency_measures.2', 'emergency_measures.3', 'emergency_measures.4',\n",
      "       'emergency_measures.6', 'emergency_measures.7', 'emergency_measures.8',\n",
      "       'emergency_measures.9', 'overall_problem_house',\n",
      "       'contaminations_visible', 'protect_valuables_impl',\n",
      "       'water_barriers_impl', 'pumping_equipment_impl',\n",
      "       'elevation_building_impl', 'resistant_material_building_impl',\n",
      "       'electricity_higher_impl', 'flood_protections_impl', 'flood_experience',\n",
      "       'elevation_rel2surrounding_cat', 'bage', 'hh_monthly_income_cat',\n",
      "       'shp_sector', 'shp_avgmonthly_sale_cat', 'shp_finance_investments',\n",
      "       'shp_suppliers_location.1', 'shp_suppliers_location.2',\n",
      "       'shp_suppliers_location.3', 'shp_profits_last5years',\n",
      "       'shp_risk_tolerance', 'shp_monetary_resources4prevention',\n",
      "       'resilience_city_protection', 'resilience_more_future_affected',\n",
      "       'resilience_govern_warnings_helpful', 'resilience_govern_careing',\n",
      "       'resilience_govern_careing_increases', 'resilience_left_alone',\n",
      "       'resilience_neighbor_management',\n",
      "       'perception_who_responsible4protection.Rank1',\n",
      "       'perception_govern_support_future', 'perception_private_economy_future',\n",
      "       'elevation_m'],\n",
      "      dtype='object')\n"
     ]
    }
   ],
   "source": [
    "## iterate over both targets and store results \n",
    "\n",
    "for target in [\"Target_contentloss_euro\", \"Target_businessreduction\"]:\n",
    "\n",
    "    y = df_candidates[target]\n",
    "    \n",
    "    ## normalize data \n",
    "    scaler = MinMaxScaler() \n",
    "    X = scaler.fit_transform(pd.DataFrame(X_unscaled))\n",
    "    y = scaler.fit_transform(pd.DataFrame(y))\n",
    "    \n",
    "    ## test train split\n",
    "    X_train, X_test, y_train, y_test = train_test_split(X, y, test_size=0.33, random_state=seed, shuffle=True)\n",
    "\n",
    "    # classes have to start from zero on for lasso regression, make continous variables as categorical \n",
    "    le = LabelEncoder()\n",
    "    y_train = le.fit_transform(y_train)\n",
    "\n",
    "    ## set up model\n",
    "    lasso_ = SelectFromModel(LogisticRegression(C=1, penalty=\"l1\", solver=\"liblinear\", random_state=seed)) # L1 =lasso Regression\n",
    "    lasso_.fit(X_train, y_train) #np.ravel(y_train,order=\"C\"))\n",
    "\n",
    "    X_train = pd.DataFrame(X_train)\n",
    "\n",
    "    ## store trained model for evaluation\n",
    "    filename = f'./models_trained/lasso_{target}.sav'\n",
    "    pickle.dump(lasso_, open(filename, 'wb'))\n",
    "\n",
    "\n",
    "    ## Select features\n",
    "    print(\"Lasso regression:\")\n",
    "    selected_feat = X_train.columns[(lasso_.get_support())]\n",
    "    not_selected_feat = X_train.columns[~(lasso_.get_support())]\n",
    "\n",
    "    print(\"total features: {}\".format((X_train.shape[1])))\n",
    "    print(\"selected features: {}\".format(len(selected_feat)))\n",
    "    print(\"dropped features: \\n{}\\n\".format(X_unscaled.columns[not_selected_feat].to_list()))\n",
    "    #print(\"features with coefficients shrank to zero: {}\".format(np.sum(lasso_.estimator_.coef_ == 0)))\n",
    "    print(f\"Selected features: \\n{X_unscaled.columns[selected_feat]}\")\n",
    "    #X_train[(ridge_.estimator_.coef_ == 0)#]\n",
    "\n",
    "\n",
    "    ## write selected features to disk\n",
    "    df_lasso = df_candidates[[target] + X_unscaled.columns[lasso_.get_support()].to_list()]\n",
    "    #df_lasso.info()\n",
    "    df_lasso.to_excel(f\"../../input_survey_data/fs_lasso_{target}.xlsx\", index=False)\n",
    "\n",
    "\n",
    "    # ## predict unseen X_test set\n",
    "    # y_lasso_pred = lasso_.predict(X_test)\n"
   ]
  },
  {
   "cell_type": "code",
   "execution_count": null,
   "metadata": {},
   "outputs": [],
   "source": []
  },
  {
   "attachments": {},
   "cell_type": "markdown",
   "metadata": {},
   "source": [
    "### Evaluation"
   ]
  },
  {
   "cell_type": "code",
   "execution_count": 239,
   "metadata": {},
   "outputs": [
    {
     "name": "stdout",
     "output_type": "stream",
     "text": [
      "['Target_contentloss_euro', 'Target_businessreduction']\n"
     ]
    },
    {
     "data": {
      "text/plain": [
       "{'estimator__C': 1,\n",
       " 'estimator__class_weight': None,\n",
       " 'estimator__dual': False,\n",
       " 'estimator__fit_intercept': True,\n",
       " 'estimator__intercept_scaling': 1,\n",
       " 'estimator__l1_ratio': None,\n",
       " 'estimator__max_iter': 100,\n",
       " 'estimator__multi_class': 'auto',\n",
       " 'estimator__n_jobs': None,\n",
       " 'estimator__penalty': 'l1',\n",
       " 'estimator__random_state': None,\n",
       " 'estimator__solver': 'liblinear',\n",
       " 'estimator__tol': 0.0001,\n",
       " 'estimator__verbose': 0,\n",
       " 'estimator__warm_start': False,\n",
       " 'estimator': LogisticRegression(C=1, penalty='l1', solver='liblinear'),\n",
       " 'importance_getter': 'auto',\n",
       " 'max_features': None,\n",
       " 'norm_order': 1,\n",
       " 'prefit': False,\n",
       " 'threshold': None}"
      ]
     },
     "execution_count": 239,
     "metadata": {},
     "output_type": "execute_result"
    }
   ],
   "source": [
    "## reload models\n",
    "\n",
    "print(targets)\n",
    "lasso_model = pickle.load(open(f\"./models_trained/lasso_{targets[0]}.sav\", 'rb'))\n",
    "\n",
    "#result = lasso_model.score(X_test, y_test)\n",
    "#lasso_model\n",
    "lasso_model.get_params()"
   ]
  },
  {
   "cell_type": "code",
   "execution_count": null,
   "metadata": {},
   "outputs": [],
   "source": []
  },
  {
   "cell_type": "markdown",
   "metadata": {},
   "source": [
    "#### Feature importance"
   ]
  },
  {
   "cell_type": "code",
   "execution_count": null,
   "metadata": {},
   "outputs": [],
   "source": []
  },
  {
   "cell_type": "code",
   "execution_count": 240,
   "metadata": {},
   "outputs": [
    {
     "data": {
      "image/png": "[encoded data removed]",
      "text/plain": [
       "<Figure size 640x480 with 1 Axes>"
      ]
     },
     "metadata": {},
     "output_type": "display_data"
    }
   ],
   "source": [
    "# plot feature importance\n",
    "importance = lasso_.estimator_.coef_[0]\n",
    "plt.title(\"Ridge Regression: Feature Importance\")\n",
    "plt.bar([x for x in range(len(importance))], importance)\n",
    "plt.title(\"Lasso Regression: Feature Importance\")\n",
    "plt.show()"
   ]
  },
  {
   "cell_type": "code",
   "execution_count": 58,
   "metadata": {},
   "outputs": [],
   "source": [
    "# # define the model evaluation by k-fold CV\n",
    "# cv = RepeatedStratifiedKFold(n_splits=10, n_repeats=3, random_state=1)\n",
    "# # evaluate the model and collect the scores\n",
    "# n_scores = cross_val_score(model, X, y, scoring='accuracy', cv=cv, n_jobs=-1)\n",
    "\n",
    "# print('Mean Accuracy: %.3f (%.3f)' % (np.mean(n_scores), np.std(n_scores)))"
   ]
  },
  {
   "cell_type": "code",
   "execution_count": 145,
   "metadata": {},
   "outputs": [
    {
     "name": "stdout",
     "output_type": "stream",
     "text": [
      "[False False False  True False False  True  True False  True  True  True\n",
      "  True  True  True  True  True  True False  True  True  True  True  True\n",
      "  True  True  True False  True False False  True False False False  True\n",
      "  True  True  True  True  True False  True  True  True  True  True  True\n",
      "  True  True  True  True False  True  True False False  True]\n",
      "Index(['contaminations.1', 'contaminations.4', 'flowvelocity',\n",
      "       'emergency_measures.1', 'emergency_measures.2', 'emergency_measures.3',\n",
      "       'emergency_measures.4', 'emergency_measures.6', 'emergency_measures.7',\n",
      "       'emergency_measures.8', 'emergency_measures.9', 'overall_problem_house',\n",
      "       'protect_valuables_impl', 'water_barriers_impl',\n",
      "       'pumping_equipment_impl', 'elevation_building_impl',\n",
      "       'resistant_material_building_impl', 'electricity_higher_impl',\n",
      "       'flood_protections_impl', 'flood_experience',\n",
      "       'elevation_rel2surrounding_cat', 'hh_monthly_income_cat',\n",
      "       'shp_avgmonthly_sale_cat', 'shp_finance_investments',\n",
      "       'shp_suppliers_location.1', 'shp_suppliers_location.2',\n",
      "       'shp_suppliers_location.3', 'shp_suppliers_location.4',\n",
      "       'shp_profits_last5years', 'shp_risk_tolerance',\n",
      "       'shp_monetary_resources4prevention', 'resilience_city_protection',\n",
      "       'resilience_more_future_affected', 'resilience_govern_warnings_helpful',\n",
      "       'resilience_govern_careing', 'resilience_govern_careing_increases',\n",
      "       'resilience_left_alone', 'resilience_neighbor_management',\n",
      "       'perception_govern_support_future', 'perception_private_economy_future',\n",
      "       'elevation_m'],\n",
      "      dtype='object')\n"
     ]
    }
   ],
   "source": []
  },
  {
   "attachments": {},
   "cell_type": "markdown",
   "metadata": {},
   "source": [
    "## Write selected features to disk\n"
   ]
  },
  {
   "cell_type": "code",
   "execution_count": 149,
   "metadata": {},
   "outputs": [
    {
     "name": "stdout",
     "output_type": "stream",
     "text": [
      "<class 'pandas.core.frame.DataFrame'>\n",
      "RangeIndex: 397 entries, 0 to 396\n",
      "Data columns (total 42 columns):\n",
      " #   Column                               Non-Null Count  Dtype  \n",
      "---  ------                               --------------  -----  \n",
      " 0   contaminations.1                     397 non-null    int64  \n",
      " 1   contaminations.4                     397 non-null    int64  \n",
      " 2   flowvelocity                         397 non-null    int64  \n",
      " 3   emergency_measures.1                 397 non-null    int64  \n",
      " 4   emergency_measures.2                 397 non-null    int64  \n",
      " 5   emergency_measures.3                 397 non-null    int64  \n",
      " 6   emergency_measures.4                 397 non-null    int64  \n",
      " 7   emergency_measures.6                 397 non-null    int64  \n",
      " 8   emergency_measures.7                 397 non-null    int64  \n",
      " 9   emergency_measures.8                 397 non-null    int64  \n",
      " 10  emergency_measures.9                 397 non-null    int64  \n",
      " 11  overall_problem_house                397 non-null    int64  \n",
      " 12  protect_valuables_impl               397 non-null    int64  \n",
      " 13  water_barriers_impl                  397 non-null    int64  \n",
      " 14  pumping_equipment_impl               397 non-null    int64  \n",
      " 15  elevation_building_impl              397 non-null    int64  \n",
      " 16  resistant_material_building_impl     397 non-null    int64  \n",
      " 17  electricity_higher_impl              397 non-null    int64  \n",
      " 18  flood_protections_impl               397 non-null    int64  \n",
      " 19  flood_experience                     397 non-null    int64  \n",
      " 20  elevation_rel2surrounding_cat        397 non-null    int64  \n",
      " 21  hh_monthly_income_cat                397 non-null    float64\n",
      " 22  shp_avgmonthly_sale_cat              397 non-null    int64  \n",
      " 23  shp_finance_investments              397 non-null    int64  \n",
      " 24  shp_suppliers_location.1             397 non-null    int64  \n",
      " 25  shp_suppliers_location.2             397 non-null    int64  \n",
      " 26  shp_suppliers_location.3             397 non-null    int64  \n",
      " 27  shp_suppliers_location.4             397 non-null    int64  \n",
      " 28  shp_profits_last5years               397 non-null    float64\n",
      " 29  shp_risk_tolerance                   397 non-null    float64\n",
      " 30  shp_monetary_resources4prevention    397 non-null    float64\n",
      " 31  resilience_city_protection           397 non-null    float64\n",
      " 32  resilience_more_future_affected      397 non-null    float64\n",
      " 33  resilience_govern_warnings_helpful   397 non-null    float64\n",
      " 34  resilience_govern_careing            397 non-null    float64\n",
      " 35  resilience_govern_careing_increases  397 non-null    float64\n",
      " 36  resilience_left_alone                397 non-null    int64  \n",
      " 37  resilience_neighbor_management       397 non-null    float64\n",
      " 38  perception_govern_support_future     397 non-null    float64\n",
      " 39  perception_private_economy_future    397 non-null    float64\n",
      " 40  elevation_m                          397 non-null    float64\n",
      " 41  Target_contentloss_euro              397 non-null    float64\n",
      "dtypes: float64(14), int64(28)\n",
      "memory usage: 130.4 KB\n"
     ]
    }
   ],
   "source": []
  },
  {
   "cell_type": "code",
   "execution_count": 150,
   "metadata": {},
   "outputs": [
    {
     "ename": "IndexError",
     "evalue": "boolean index did not match indexed array along dimension 0; dimension is 58 but corresponding boolean dimension is 3480",
     "output_type": "error",
     "traceback": [
      "\u001b[1;31m---------------------------------------------------------------------------\u001b[0m",
      "\u001b[1;31mIndexError\u001b[0m                                Traceback (most recent call last)",
      "\u001b[1;32mc:\\Users\\Anna\\Documents\\UNI\\MA_topic\\flood-loss-models-4-HCMC\\model_preprocessing\\Feature_selection\\lasso_regression_feature_selection.ipynb Cell 20\u001b[0m in \u001b[0;36m1\n\u001b[1;32m----> <a href='vscode-notebook-cell:/c%3A/Users/Anna/Documents/UNI/MA_topic/flood-loss-models-4-HCMC/model_preprocessing/Feature_selection/lasso_regression_feature_selection.ipynb#X26sZmlsZQ%3D%3D?line=0'>1</a>\u001b[0m removed_feats \u001b[39m=\u001b[39m X_train\u001b[39m.\u001b[39;49mcolumns[(lasso_\u001b[39m.\u001b[39;49mestimator_\u001b[39m.\u001b[39;49mcoef_ \u001b[39m==\u001b[39;49m \u001b[39m0\u001b[39;49m)\u001b[39m.\u001b[39;49mravel()\u001b[39m.\u001b[39;49mtolist()]\n\u001b[0;32m      <a href='vscode-notebook-cell:/c%3A/Users/Anna/Documents/UNI/MA_topic/flood-loss-models-4-HCMC/model_preprocessing/Feature_selection/lasso_regression_feature_selection.ipynb#X26sZmlsZQ%3D%3D?line=1'>2</a>\u001b[0m removed_feats\n\u001b[0;32m      <a href='vscode-notebook-cell:/c%3A/Users/Anna/Documents/UNI/MA_topic/flood-loss-models-4-HCMC/model_preprocessing/Feature_selection/lasso_regression_feature_selection.ipynb#X26sZmlsZQ%3D%3D?line=3'>4</a>\u001b[0m X_train_selected \u001b[39m=\u001b[39m lasso_\u001b[39m.\u001b[39mtransform(X_train)\n",
      "File \u001b[1;32mc:\\Anaconda\\envs\\py396_c3\\lib\\site-packages\\pandas\\core\\indexes\\range.py:924\u001b[0m, in \u001b[0;36mRangeIndex.__getitem__\u001b[1;34m(self, key)\u001b[0m\n\u001b[0;32m    917\u001b[0m \u001b[39melif\u001b[39;00m is_scalar(key):\n\u001b[0;32m    918\u001b[0m     \u001b[39mraise\u001b[39;00m \u001b[39mIndexError\u001b[39;00m(\n\u001b[0;32m    919\u001b[0m         \u001b[39m\"\u001b[39m\u001b[39monly integers, slices (`:`), \u001b[39m\u001b[39m\"\u001b[39m\n\u001b[0;32m    920\u001b[0m         \u001b[39m\"\u001b[39m\u001b[39mellipsis (`...`), numpy.newaxis (`None`) \u001b[39m\u001b[39m\"\u001b[39m\n\u001b[0;32m    921\u001b[0m         \u001b[39m\"\u001b[39m\u001b[39mand integer or boolean \u001b[39m\u001b[39m\"\u001b[39m\n\u001b[0;32m    922\u001b[0m         \u001b[39m\"\u001b[39m\u001b[39marrays are valid indices\u001b[39m\u001b[39m\"\u001b[39m\n\u001b[0;32m    923\u001b[0m     )\n\u001b[1;32m--> 924\u001b[0m \u001b[39mreturn\u001b[39;00m \u001b[39msuper\u001b[39;49m()\u001b[39m.\u001b[39;49m\u001b[39m__getitem__\u001b[39;49m(key)\n",
      "File \u001b[1;32mc:\\Anaconda\\envs\\py396_c3\\lib\\site-packages\\pandas\\core\\indexes\\base.py:5195\u001b[0m, in \u001b[0;36mIndex.__getitem__\u001b[1;34m(self, key)\u001b[0m\n\u001b[0;32m   5192\u001b[0m     \u001b[39melse\u001b[39;00m:\n\u001b[0;32m   5193\u001b[0m         key \u001b[39m=\u001b[39m np\u001b[39m.\u001b[39masarray(key, dtype\u001b[39m=\u001b[39m\u001b[39mbool\u001b[39m)\n\u001b[1;32m-> 5195\u001b[0m result \u001b[39m=\u001b[39m getitem(key)\n\u001b[0;32m   5196\u001b[0m \u001b[39m# Because we ruled out integer above, we always get an arraylike here\u001b[39;00m\n\u001b[0;32m   5197\u001b[0m \u001b[39mif\u001b[39;00m result\u001b[39m.\u001b[39mndim \u001b[39m>\u001b[39m \u001b[39m1\u001b[39m:\n",
      "\u001b[1;31mIndexError\u001b[0m: boolean index did not match indexed array along dimension 0; dimension is 58 but corresponding boolean dimension is 3480"
     ]
    }
   ],
   "source": [
    "removed_feats = X_train.columns[(lasso_.estimator_.coef_ == 0).ravel().tolist()]\n",
    "removed_feats\n",
    "\n",
    "X_train_selected = lasso_.transform(X_train)\n",
    "X_test_selected = lasso_.transform(X_test)\n",
    "X_train_selected.shape, X_test_selected.shape"
   ]
  },
  {
   "cell_type": "code",
   "execution_count": 151,
   "metadata": {},
   "outputs": [
    {
     "name": "stdout",
     "output_type": "stream",
     "text": [
      "features with coefficients shrank to zero: 3163\n"
     ]
    }
   ],
   "source": [
    "#X.columns#[(lasso_.estimator_.coef_ == 0).ravel().tolist()]\n",
    "X_train.columns[(lasso_.get_support())]\n",
    "print(\"features with coefficients shrank to zero: {}\".format(\n",
    "np.sum(lasso_.estimator_.coef_ == 0)))"
   ]
  },
  {
   "cell_type": "code",
   "execution_count": 82,
   "metadata": {},
   "outputs": [
    {
     "ename": "IndexError",
     "evalue": "too many indices for array: array is 1-dimensional, but 2 were indexed",
     "output_type": "error",
     "traceback": [
      "\u001b[1;31m---------------------------------------------------------------------------\u001b[0m",
      "\u001b[1;31mIndexError\u001b[0m                                Traceback (most recent call last)",
      "\u001b[1;32mc:\\Users\\Anna\\Documents\\UNI\\MA_topic\\flood-loss-models-4-HCMC\\explorative-data-analysis\\Feature_selection\\ridge_regression_feature_selection copy.ipynb Cell 22\u001b[0m in \u001b[0;36m1\n\u001b[1;32m----> <a href='vscode-notebook-cell:/c%3A/Users/Anna/Documents/UNI/MA_topic/flood-loss-models-4-HCMC/explorative-data-analysis/Feature_selection/ridge_regression_feature_selection%20copy.ipynb#X31sZmlsZQ%3D%3D?line=0'>1</a>\u001b[0m removed_feats \u001b[39m=\u001b[39m X_train\u001b[39m.\u001b[39;49mcolumns[(lasso_\u001b[39m.\u001b[39;49mestimator_\u001b[39m.\u001b[39;49mcoef_ \u001b[39m==\u001b[39;49m \u001b[39m0\u001b[39;49m)\u001b[39m.\u001b[39;49mtolist()]\n\u001b[0;32m      <a href='vscode-notebook-cell:/c%3A/Users/Anna/Documents/UNI/MA_topic/flood-loss-models-4-HCMC/explorative-data-analysis/Feature_selection/ridge_regression_feature_selection%20copy.ipynb#X31sZmlsZQ%3D%3D?line=1'>2</a>\u001b[0m removed_feats\n\u001b[0;32m      <a href='vscode-notebook-cell:/c%3A/Users/Anna/Documents/UNI/MA_topic/flood-loss-models-4-HCMC/explorative-data-analysis/Feature_selection/ridge_regression_feature_selection%20copy.ipynb#X31sZmlsZQ%3D%3D?line=3'>4</a>\u001b[0m X_train_selected \u001b[39m=\u001b[39m lasso_\u001b[39m.\u001b[39mtransform(X_train)\n",
      "File \u001b[1;32mc:\\Anaconda\\envs\\py396_c3\\lib\\site-packages\\pandas\\core\\indexes\\range.py:924\u001b[0m, in \u001b[0;36mRangeIndex.__getitem__\u001b[1;34m(self, key)\u001b[0m\n\u001b[0;32m    917\u001b[0m \u001b[39melif\u001b[39;00m is_scalar(key):\n\u001b[0;32m    918\u001b[0m     \u001b[39mraise\u001b[39;00m \u001b[39mIndexError\u001b[39;00m(\n\u001b[0;32m    919\u001b[0m         \u001b[39m\"\u001b[39m\u001b[39monly integers, slices (`:`), \u001b[39m\u001b[39m\"\u001b[39m\n\u001b[0;32m    920\u001b[0m         \u001b[39m\"\u001b[39m\u001b[39mellipsis (`...`), numpy.newaxis (`None`) \u001b[39m\u001b[39m\"\u001b[39m\n\u001b[0;32m    921\u001b[0m         \u001b[39m\"\u001b[39m\u001b[39mand integer or boolean \u001b[39m\u001b[39m\"\u001b[39m\n\u001b[0;32m    922\u001b[0m         \u001b[39m\"\u001b[39m\u001b[39marrays are valid indices\u001b[39m\u001b[39m\"\u001b[39m\n\u001b[0;32m    923\u001b[0m     )\n\u001b[1;32m--> 924\u001b[0m \u001b[39mreturn\u001b[39;00m \u001b[39msuper\u001b[39;49m()\u001b[39m.\u001b[39;49m\u001b[39m__getitem__\u001b[39;49m(key)\n",
      "File \u001b[1;32mc:\\Anaconda\\envs\\py396_c3\\lib\\site-packages\\pandas\\core\\indexes\\base.py:5195\u001b[0m, in \u001b[0;36mIndex.__getitem__\u001b[1;34m(self, key)\u001b[0m\n\u001b[0;32m   5192\u001b[0m     \u001b[39melse\u001b[39;00m:\n\u001b[0;32m   5193\u001b[0m         key \u001b[39m=\u001b[39m np\u001b[39m.\u001b[39masarray(key, dtype\u001b[39m=\u001b[39m\u001b[39mbool\u001b[39m)\n\u001b[1;32m-> 5195\u001b[0m result \u001b[39m=\u001b[39m getitem(key)\n\u001b[0;32m   5196\u001b[0m \u001b[39m# Because we ruled out integer above, we always get an arraylike here\u001b[39;00m\n\u001b[0;32m   5197\u001b[0m \u001b[39mif\u001b[39;00m result\u001b[39m.\u001b[39mndim \u001b[39m>\u001b[39m \u001b[39m1\u001b[39m:\n",
      "\u001b[1;31mIndexError\u001b[0m: too many indices for array: array is 1-dimensional, but 2 were indexed"
     ]
    }
   ],
   "source": [
    "removed_feats = X_train.columns[(lasso_.estimator_.coef_ == 0).ravel().tolist()]\n",
    "removed_feats\n",
    "\n",
    "X_train_selected = lasso_.transform(X_train)\n",
    "X_test_selected = lasso_.transform(X_test)\n",
    "X_train_selected.shape, X_test_selected.shape"
   ]
  },
  {
   "cell_type": "code",
   "execution_count": null,
   "metadata": {},
   "outputs": [],
   "source": []
  }
 ],
 "metadata": {
  "kernelspec": {
   "display_name": "py396_c3",
   "language": "python",
   "name": "python3"
  },
  "language_info": {
   "codemirror_mode": {
    "name": "ipython",
    "version": 3
   },
   "file_extension": ".py",
   "mimetype": "text/x-python",
   "name": "python",
   "nbconvert_exporter": "python",
   "pygments_lexer": "ipython3",
   "version": "3.9.6"
  },
  "orig_nbformat": 4
 },
 "nbformat": 4,
 "nbformat_minor": 2
}
