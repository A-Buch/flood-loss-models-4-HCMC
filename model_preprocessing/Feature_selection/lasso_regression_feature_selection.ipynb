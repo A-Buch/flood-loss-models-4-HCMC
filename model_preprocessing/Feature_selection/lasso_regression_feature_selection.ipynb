{
 "cells": [
  {
   "cell_type": "code",
   "execution_count": 35,
   "metadata": {},
   "outputs": [],
   "source": [
    "#!/usr/bin/env python\n",
    "# -*- coding: utf-8 -*-\n",
    "\"\"\"Data preprocessing for HCMC survey dataset\"\"\"\n",
    "\n",
    "__author__ = \"Anna Buch, Heidelberg University\"\n",
    "__email__ = \"a.buch@stud.uni-heidelberg.de\"\n"
   ]
  },
  {
   "attachments": {},
   "cell_type": "markdown",
   "metadata": {},
   "source": [
    "# Feature selection done by testing lasso regression \n",
    "\n",
    "Compare outputs of feature selections done by lasso regresion, CIT, xgboos\n",
    "\n",
    "Ridge regression has benefits when dealing with large ds and overfitting might be a problem during model training. \n",
    "Ridge regression - in contrast to other models - doesnt directly nullify the inlfuence of less important features - good to determine variables with zero effects\n",
    "\n",
    "\"\"\"\n",
    "  https://medium.com/@sabarirajan.kumarappan/feature-selection-by-lasso-and-ridge-regression-python-code-examples-1e8ab451b94b\n",
    "key difference however, between Ridge and Lasso regression is that Lasso Regression has the ability to nullify the impact of an irrelevant feature in the data, meaning that it can reduce the coefficient of a feature to zero thus completely eliminating it and hence is better at reducing the variance when the data consists of many insignificant features. Ridge regression, however, can not reduce the coefficients to absolute zero.\n",
    "Ridge regression performs better when the data consists of features which are sure to be more relevant and useful.\n",
    "\n",
    "\"\"\"\n",
    "\n",
    "Code idea maily from: https://medium.com/@sabarirajan.kumarappan/feature-selection-by-lasso-and-ridge-regression-python-code-examples-1e8ab451b94b"
   ]
  },
  {
   "cell_type": "code",
   "execution_count": 36,
   "metadata": {},
   "outputs": [],
   "source": [
    "import numpy as np\n",
    "import pandas as pd\n",
    "\n",
    "import pickle\n",
    "\n",
    "from sklearn.linear_model import Lasso\n",
    "from sklearn.preprocessing import MinMaxScaler, LabelEncoder\n",
    "from sklearn.feature_selection import SelectFromModel\n",
    "\n",
    "\n",
    "from sklearn.metrics import accuracy_score# , confusion_matrix, precision_score, recall_score, ConfusionMatrixDisplay\n",
    "from sklearn.model_selection import RandomizedSearchCV, train_test_split, RepeatedStratifiedKFold, cross_val_score\n",
    "\n",
    "import matplotlib.pyplot as plt\n",
    "\n",
    "\n",
    "seed = np.random.seed(11)\n",
    "\n",
    "import warnings\n",
    "warnings.filterwarnings('ignore')\n",
    "\n"
   ]
  },
  {
   "cell_type": "code",
   "execution_count": 37,
   "metadata": {},
   "outputs": [
    {
     "name": "stdout",
     "output_type": "stream",
     "text": [
      "(397, 60)\n"
     ]
    },
    {
     "data": {
      "text/html": [
       "<div>\n",
       "<style scoped>\n",
       "    .dataframe tbody tr th:only-of-type {\n",
       "        vertical-align: middle;\n",
       "    }\n",
       "\n",
       "    .dataframe tbody tr th {\n",
       "        vertical-align: top;\n",
       "    }\n",
       "\n",
       "    .dataframe thead th {\n",
       "        text-align: right;\n",
       "    }\n",
       "</style>\n",
       "<table border=\"1\" class=\"dataframe\">\n",
       "  <thead>\n",
       "    <tr style=\"text-align: right;\">\n",
       "      <th></th>\n",
       "      <th>Target_contentloss_euro</th>\n",
       "      <th>Target_businessreduction</th>\n",
       "      <th>inundation_duration_h</th>\n",
       "      <th>water_depth_cm</th>\n",
       "      <th>contaminations.0</th>\n",
       "      <th>contaminations.1</th>\n",
       "      <th>contaminations.2</th>\n",
       "      <th>contaminations.3</th>\n",
       "      <th>contaminations.4</th>\n",
       "      <th>flowvelocity</th>\n",
       "      <th>...</th>\n",
       "      <th>resilience_govern_careing</th>\n",
       "      <th>resilience_govern_careing_increases</th>\n",
       "      <th>resilience_left_alone</th>\n",
       "      <th>resilience_neighbor_management</th>\n",
       "      <th>perception_who_responsible4protection.Rank1</th>\n",
       "      <th>perception_govern_support_future</th>\n",
       "      <th>perception_private_economy_future</th>\n",
       "      <th>shp_content_value_euro</th>\n",
       "      <th>shp_registered_capital_euro</th>\n",
       "      <th>elevation_m</th>\n",
       "    </tr>\n",
       "  </thead>\n",
       "  <tbody>\n",
       "    <tr>\n",
       "      <th>395</th>\n",
       "      <td>0.0</td>\n",
       "      <td>NaN</td>\n",
       "      <td>4.0</td>\n",
       "      <td>70.0</td>\n",
       "      <td>0</td>\n",
       "      <td>1</td>\n",
       "      <td>0</td>\n",
       "      <td>0</td>\n",
       "      <td>1</td>\n",
       "      <td>1</td>\n",
       "      <td>...</td>\n",
       "      <td>1.0</td>\n",
       "      <td>1.0</td>\n",
       "      <td>5</td>\n",
       "      <td>1.0</td>\n",
       "      <td>2.0</td>\n",
       "      <td>1.0</td>\n",
       "      <td>3.0</td>\n",
       "      <td>NaN</td>\n",
       "      <td>11047.7</td>\n",
       "      <td>1.83886</td>\n",
       "    </tr>\n",
       "    <tr>\n",
       "      <th>396</th>\n",
       "      <td>0.0</td>\n",
       "      <td>0.0</td>\n",
       "      <td>3.0</td>\n",
       "      <td>100.0</td>\n",
       "      <td>0</td>\n",
       "      <td>1</td>\n",
       "      <td>0</td>\n",
       "      <td>0</td>\n",
       "      <td>1</td>\n",
       "      <td>1</td>\n",
       "      <td>...</td>\n",
       "      <td>NaN</td>\n",
       "      <td>NaN</td>\n",
       "      <td>5</td>\n",
       "      <td>NaN</td>\n",
       "      <td>3.0</td>\n",
       "      <td>NaN</td>\n",
       "      <td>3.0</td>\n",
       "      <td>NaN</td>\n",
       "      <td>736.5</td>\n",
       "      <td>1.87277</td>\n",
       "    </tr>\n",
       "  </tbody>\n",
       "</table>\n",
       "<p>2 rows × 60 columns</p>\n",
       "</div>"
      ],
      "text/plain": [
       "     Target_contentloss_euro  Target_businessreduction  inundation_duration_h   \n",
       "395                      0.0                       NaN                    4.0  \\\n",
       "396                      0.0                       0.0                    3.0   \n",
       "\n",
       "     water_depth_cm  contaminations.0  contaminations.1  contaminations.2   \n",
       "395            70.0                 0                 1                 0  \\\n",
       "396           100.0                 0                 1                 0   \n",
       "\n",
       "     contaminations.3  contaminations.4  flowvelocity  ...   \n",
       "395                 0                 1             1  ...  \\\n",
       "396                 0                 1             1  ...   \n",
       "\n",
       "     resilience_govern_careing  resilience_govern_careing_increases   \n",
       "395                        1.0                                  1.0  \\\n",
       "396                        NaN                                  NaN   \n",
       "\n",
       "     resilience_left_alone  resilience_neighbor_management   \n",
       "395                      5                             1.0  \\\n",
       "396                      5                             NaN   \n",
       "\n",
       "     perception_who_responsible4protection.Rank1   \n",
       "395                                          2.0  \\\n",
       "396                                          3.0   \n",
       "\n",
       "     perception_govern_support_future  perception_private_economy_future   \n",
       "395                               1.0                                3.0  \\\n",
       "396                               NaN                                3.0   \n",
       "\n",
       "     shp_content_value_euro  shp_registered_capital_euro  elevation_m  \n",
       "395                     NaN                      11047.7      1.83886  \n",
       "396                     NaN                        736.5      1.87277  \n",
       "\n",
       "[2 rows x 60 columns]"
      ]
     },
     "execution_count": 37,
     "metadata": {},
     "output_type": "execute_result"
    }
   ],
   "source": [
    "df_candidates = pd.read_excel(\"../../input_survey_data/input_data_business_2.xlsx\")\n",
    "print(df_candidates.shape)\n",
    "df_candidates.tail(2)\n"
   ]
  },
  {
   "attachments": {},
   "cell_type": "markdown",
   "metadata": {},
   "source": [
    "#### Split Data and Normalize variables \n",
    "- due that most variables dont have a gaussian distribution, donwside is that distance to outliers is decreased so outliers have influence on the loss calculation (smaller standard deviations when using normaization)\n"
   ]
  },
  {
   "cell_type": "code",
   "execution_count": 38,
   "metadata": {},
   "outputs": [
    {
     "name": "stdout",
     "output_type": "stream",
     "text": [
      "Target_contentloss_euro                         11\n",
      "Target_businessreduction                        36\n",
      "inundation_duration_h                            9\n",
      "water_depth_cm                                   1\n",
      "contaminations.0                                 0\n",
      "contaminations.1                                 0\n",
      "contaminations.2                                 0\n",
      "contaminations.3                                 0\n",
      "contaminations.4                                 0\n",
      "flowvelocity                                     0\n",
      "warning_time_h                                 308\n",
      "emergency_measures.1                             0\n",
      "emergency_measures.2                             0\n",
      "emergency_measures.3                             0\n",
      "emergency_measures.4                             0\n",
      "emergency_measures.6                             0\n",
      "emergency_measures.7                             0\n",
      "emergency_measures.8                             0\n",
      "emergency_measures.9                             0\n",
      "overall_problem_house                            0\n",
      "contaminations_visible                           0\n",
      "protect_valuables_impl                           0\n",
      "water_barriers_impl                              0\n",
      "pumping_equipment_impl                           0\n",
      "elevation_building_impl                          0\n",
      "resistant_material_building_impl                 0\n",
      "electricity_higher_impl                          0\n",
      "flood_protections_impl                           0\n",
      "flood_experience                                 0\n",
      "elevation_building_height_cm                    63\n",
      "elevation_rel2surrounding_cat                    0\n",
      "bage                                            27\n",
      "b_area                                           2\n",
      "hh_monthly_income_cat                           24\n",
      "shp_owner                                        0\n",
      "shp_sector                                       0\n",
      "shp_employees                                    0\n",
      "shp_avgmonthly_sale_cat                          0\n",
      "shp_finance_investments                          0\n",
      "shp_suppliers_location.1                         0\n",
      "shp_suppliers_location.2                         0\n",
      "shp_suppliers_location.3                         0\n",
      "shp_suppliers_location.4                         0\n",
      "shp_suppliers_location.5                         0\n",
      "shp_profits_last5years                          15\n",
      "shp_risk_tolerance                              28\n",
      "shp_monetary_resources4prevention               18\n",
      "resilience_city_protection                      15\n",
      "resilience_more_future_affected                 15\n",
      "resilience_govern_warnings_helpful              18\n",
      "resilience_govern_careing                       23\n",
      "resilience_govern_careing_increases             54\n",
      "resilience_left_alone                            0\n",
      "resilience_neighbor_management                  11\n",
      "perception_who_responsible4protection.Rank1     28\n",
      "perception_govern_support_future               136\n",
      "perception_private_economy_future               26\n",
      "shp_content_value_euro                          62\n",
      "shp_registered_capital_euro                     47\n",
      "elevation_m                                      4\n",
      "dtype: int64\n"
     ]
    }
   ],
   "source": [
    "# ## clean df from few nan values\n",
    "\n",
    "# print(df_candidates.isna().sum())\n",
    "# df_candidates = df_candidates.dropna()\n",
    "# print(df_candidates.shape)\n",
    "\n",
    "\n",
    "# # ## clean df from few nan values\n",
    "print(df_candidates.isna().sum())\n",
    "df_candidates = df_candidates.replace(np.nan, 0)\n",
    "\n",
    "\n",
    "## TODO fix missing values by filling or rmeoving them:\n",
    "## Idea: remove nan in targets (->get 2 ds) and fill missing values in candidate predictors\n",
    "## or think about to remove predictors with very many missing values , even they are significant correlated to target eg. warning time\n",
    "\n"
   ]
  },
  {
   "cell_type": "code",
   "execution_count": 39,
   "metadata": {},
   "outputs": [
    {
     "data": {
      "text/plain": [
       "(397,)"
      ]
     },
     "execution_count": 39,
     "metadata": {},
     "output_type": "execute_result"
    }
   ],
   "source": [
    "df_candidates[\"Target_contentloss_euro\"].shape"
   ]
  },
  {
   "cell_type": "code",
   "execution_count": 40,
   "metadata": {},
   "outputs": [],
   "source": [
    "targets = [\"Target_contentloss_euro\", \"Target_businessreduction\"]\n",
    "\n",
    "X_unscaled = df_candidates.drop(targets, axis=1)\n"
   ]
  },
  {
   "cell_type": "code",
   "execution_count": 41,
   "metadata": {},
   "outputs": [
    {
     "data": {
      "text/plain": [
       "(265,)"
      ]
     },
     "execution_count": 41,
     "metadata": {},
     "output_type": "execute_result"
    }
   ],
   "source": [
    "# param_dist = {'n_estimators': [10, 100, 200, 500],\n",
    "#               'max_depth': [1, 3, 5, 10,20],\n",
    "#               'colsample_bynode': [0.1, 0.3] # nbr of feautres for each split point\n",
    "#               #'subsample': 0.8  # define subsample of train st, xgb has not bootstrapping\n",
    "#               }\n",
    "\n",
    "y_train.shape"
   ]
  },
  {
   "cell_type": "markdown",
   "metadata": {},
   "source": [
    "The goal is to reduce the dimensionality of the data to use with another classifier, they can be used along with SelectFromModel to select the non-zero coefficients. In particular, sparse estimators useful for this purpose are the Lasso for regression\n",
    "\n",
    ". In particular, the number of samples should be “sufficiently large”, or L1 models will perform at random, where “sufficiently large” depends on the number of non-zero coefficients, the logarithm of the number of features, the amount of noise, the smallest absolute value of non-zero coefficients, and the structure of the design matrix X\n"
   ]
  },
  {
   "cell_type": "code",
   "execution_count": 48,
   "metadata": {},
   "outputs": [
    {
     "name": "stdout",
     "output_type": "stream",
     "text": [
      "Apply lasso regression on Target_contentloss_euro:\n",
      "\n",
      "Lasso regression:\n",
      "total features: 58\n",
      "selected features: 24\n",
      "dropped features: \n",
      "['inundation_duration_h', 'contaminations.0', 'contaminations.1', 'contaminations.2', 'contaminations.3', 'warning_time_h', 'emergency_measures.1', 'emergency_measures.3', 'emergency_measures.4', 'emergency_measures.6', 'emergency_measures.8', 'contaminations_visible', 'resistant_material_building_impl', 'electricity_higher_impl', 'flood_protections_impl', 'elevation_building_height_cm', 'bage', 'b_area', 'hh_monthly_income_cat', 'shp_owner', 'shp_sector', 'shp_employees', 'shp_suppliers_location.4', 'shp_suppliers_location.5', 'shp_profits_last5years', 'shp_risk_tolerance', 'shp_monetary_resources4prevention', 'resilience_city_protection', 'resilience_left_alone', 'resilience_neighbor_management', 'perception_who_responsible4protection.Rank1', 'perception_govern_support_future', 'shp_content_value_euro', 'shp_registered_capital_euro']\n",
      "\n",
      "Apply lasso regression on Target_businessreduction:\n",
      "\n",
      "Lasso regression:\n",
      "total features: 58\n",
      "selected features: 11\n",
      "dropped features: \n",
      "['inundation_duration_h', 'contaminations.0', 'contaminations.1', 'contaminations.2', 'contaminations.3', 'contaminations.4', 'warning_time_h', 'emergency_measures.1', 'emergency_measures.3', 'emergency_measures.4', 'emergency_measures.6', 'emergency_measures.8', 'emergency_measures.9', 'contaminations_visible', 'water_barriers_impl', 'pumping_equipment_impl', 'elevation_building_impl', 'resistant_material_building_impl', 'electricity_higher_impl', 'flood_protections_impl', 'flood_experience', 'elevation_building_height_cm', 'elevation_rel2surrounding_cat', 'bage', 'b_area', 'hh_monthly_income_cat', 'shp_owner', 'shp_sector', 'shp_employees', 'shp_avgmonthly_sale_cat', 'shp_finance_investments', 'shp_suppliers_location.3', 'shp_suppliers_location.4', 'shp_suppliers_location.5', 'shp_profits_last5years', 'shp_monetary_resources4prevention', 'resilience_city_protection', 'resilience_more_future_affected', 'resilience_govern_warnings_helpful', 'resilience_govern_careing_increases', 'resilience_left_alone', 'resilience_neighbor_management', 'perception_who_responsible4protection.Rank1', 'perception_private_economy_future', 'shp_content_value_euro', 'shp_registered_capital_euro', 'elevation_m']\n",
      "\n"
     ]
    }
   ],
   "source": [
    "## iterate over both targets and store results \n",
    "\n",
    "for target in [\"Target_contentloss_euro\", \"Target_businessreduction\"]:\n",
    "\n",
    "    print( f\"Apply lasso regression on {target}:\\n\")\n",
    "    y = df_candidates[target]\n",
    "\n",
    "    ## normalize data \n",
    "    scaler = MinMaxScaler() \n",
    "    X = scaler.fit_transform(pd.DataFrame(X_unscaled))\n",
    "    y = scaler.fit_transform(pd.DataFrame(y))\n",
    "    \n",
    "    ## test train split\n",
    "    X_train, X_test, y_train, y_test = train_test_split(X, y, test_size=0.33, random_state=seed, shuffle=True)\n",
    "    X_train = pd.DataFrame(X_train)\n",
    "\n",
    "    # classes have to start from zero on for lasso regression, make continous variables as categorical \n",
    "    le = LabelEncoder()\n",
    "    y_train = le.fit_transform(y_train)\n",
    "\n",
    "    ## set up model\n",
    "    #  higher alpha - less features are selected\n",
    "    lasso_ = Lasso(alpha=0.2)\n",
    "    lasso_ = SelectFromModel(lasso_) \n",
    "    #lasso_ = SelectFromModel(LogisticRegression(C=1, penalty=\"l1\", solver=\"liblinear\", random_state=seed)) \n",
    "    lasso_.fit(X_train, y_train) #np.ravel(y_train,order=\"C\"))\n",
    "\n",
    "\n",
    "    print(\"Lasso regression:\")\n",
    "    selected_feat = X_train.columns[(lasso_.get_support())]\n",
    "    not_selected_feat = X_train.columns[~(lasso_.get_support())]\n",
    "\n",
    "    print(\"total features: {}\".format((X_train.shape[1])))\n",
    "    print(\"selected features: {}\".format(len(selected_feat)))\n",
    "    print(\"dropped features: \\n{}\\n\".format(X_unscaled.columns[not_selected_feat].to_list()))\n",
    "    ## print(\"features with coefficients shrank to zero: {}\".format(np.sum(lasso_.estimator_.coef_ == 0)))\n",
    "    #print(f\"Selected features: \\n{X_unscaled.columns[selected_feat]}\")\n",
    "    #X_train[(ridge_.estimator_.coef_ == 0)#]\n",
    "\n",
    "    ## store trained model for evaluation\n",
    "    filename = f'./models_trained/lasso_{target}.sav'\n",
    "    pickle.dump(lasso_, open(filename, 'wb'))\n",
    "\n",
    "    ## write selected features to disk\n",
    "    selected_feat = X_unscaled.columns[selected_feat]\n",
    "    df_lasso = df_candidates[[target] + selected_feat.to_list()]\n",
    "    #df_lasso.info()\n",
    "    df_lasso.to_excel(f\"../../input_survey_data/fs_lasso_{target}.xlsx\", index=False)\n",
    "\n",
    "\n",
    "    # ## predict unseen X_test set\n",
    "    # y_lasso_pred = lasso_.predict(X_test)\n"
   ]
  },
  {
   "cell_type": "code",
   "execution_count": null,
   "metadata": {},
   "outputs": [],
   "source": []
  },
  {
   "attachments": {},
   "cell_type": "markdown",
   "metadata": {},
   "source": [
    "### Evaluation"
   ]
  },
  {
   "cell_type": "code",
   "execution_count": 50,
   "metadata": {},
   "outputs": [
    {
     "name": "stdout",
     "output_type": "stream",
     "text": [
      "['Target_contentloss_euro', 'Target_businessreduction']\n"
     ]
    },
    {
     "data": {
      "text/plain": [
       "{'estimator__alpha': 0.2,\n",
       " 'estimator__copy_X': True,\n",
       " 'estimator__fit_intercept': True,\n",
       " 'estimator__max_iter': 1000,\n",
       " 'estimator__positive': False,\n",
       " 'estimator__precompute': False,\n",
       " 'estimator__random_state': None,\n",
       " 'estimator__selection': 'cyclic',\n",
       " 'estimator__tol': 0.0001,\n",
       " 'estimator__warm_start': False,\n",
       " 'estimator': Lasso(alpha=0.2),\n",
       " 'importance_getter': 'auto',\n",
       " 'max_features': None,\n",
       " 'norm_order': 1,\n",
       " 'prefit': False,\n",
       " 'threshold': None}"
      ]
     },
     "execution_count": 50,
     "metadata": {},
     "output_type": "execute_result"
    }
   ],
   "source": [
    "## reload models\n",
    "\n",
    "print(targets)\n",
    "target = targets[0]\n",
    "lasso_model = pickle.load(open(f\"./models_trained/lasso_{target}.sav\", 'rb'))\n",
    "\n",
    "#result = lasso_model.score(X_test, y_test)\n",
    "#lasso_model\n",
    "lasso_model.get_params()"
   ]
  },
  {
   "cell_type": "code",
   "execution_count": null,
   "metadata": {},
   "outputs": [],
   "source": []
  },
  {
   "cell_type": "markdown",
   "metadata": {},
   "source": [
    "#### Feature importance"
   ]
  },
  {
   "cell_type": "code",
   "execution_count": null,
   "metadata": {},
   "outputs": [],
   "source": []
  },
  {
   "cell_type": "code",
   "execution_count": 55,
   "metadata": {},
   "outputs": [
    {
     "data": {
      "image/png": "[encoded data removed]",
      "text/plain": [
       "<Figure size 1200x500 with 1 Axes>"
      ]
     },
     "metadata": {},
     "output_type": "display_data"
    }
   ],
   "source": [
    "# plot feature importance\n",
    "fig, ax = plt.subplots(figsize=(12,5))\n",
    "\n",
    "## coef of feature importances\n",
    "importance = lasso_model.estimator_.coef_[0]\n",
    "\n",
    "df_importance = pd.DataFrame({\n",
    "    \"name\" : X_unscaled.columns.to_list(),\n",
    "    \"importances\" : lasso_model.estimator_.coef_,\n",
    "     }) \n",
    "\n",
    "# drop features which dont reduce the loss\n",
    "df_importance = df_importance.loc[df_importance.importances > 0.0, : ] \n",
    "\n",
    "plt.bar(df_importance.name, df_importance.importances)\n",
    "plt.xticks(\n",
    "    #ticks = range(len(selected_feat)),\n",
    "    #labels = X_unscaled.iloc[:,selected_feat],\n",
    "    rotation = 90\n",
    "    )\n",
    "plt.title(f\"Feature Importances for {target}\")\n",
    "\n",
    "plt.show()"
   ]
  },
  {
   "cell_type": "code",
   "execution_count": 58,
   "metadata": {},
   "outputs": [],
   "source": [
    "# # define the model evaluation by k-fold CV\n",
    "# cv = RepeatedStratifiedKFold(n_splits=10, n_repeats=3, random_state=1)\n",
    "# # evaluate the model and collect the scores\n",
    "# n_scores = cross_val_score(model, X, y, scoring='accuracy', cv=cv, n_jobs=-1)\n",
    "\n",
    "# print('Mean Accuracy: %.3f (%.3f)' % (np.mean(n_scores), np.std(n_scores)))"
   ]
  },
  {
   "cell_type": "code",
   "execution_count": 364,
   "metadata": {},
   "outputs": [],
   "source": [
    "# removed_feats = X_train.columns[(lasso_.estimator_.coef_ == 0).ravel().tolist()]\n",
    "# removed_feats\n",
    "\n",
    "# X_train_selected = lasso_.transform(X_train)\n",
    "# X_test_selected = lasso_.transform(X_test)\n",
    "# X_train_selected.shape, X_test_selected.shape"
   ]
  },
  {
   "cell_type": "code",
   "execution_count": null,
   "metadata": {},
   "outputs": [],
   "source": []
  }
 ],
 "metadata": {
  "kernelspec": {
   "display_name": "py396_c3",
   "language": "python",
   "name": "python3"
  },
  "language_info": {
   "codemirror_mode": {
    "name": "ipython",
    "version": 3
   },
   "file_extension": ".py",
   "mimetype": "text/x-python",
   "name": "python",
   "nbconvert_exporter": "python",
   "pygments_lexer": "ipython3",
   "version": "3.9.6"
  },
  "orig_nbformat": 4
 },
 "nbformat": 4,
 "nbformat_minor": 2
}
