{
 "cells": [
  {
   "cell_type": "code",
   "execution_count": 439,
   "metadata": {},
   "outputs": [],
   "source": [
    "#!/usr/bin/env python\n",
    "# -*- coding: utf-8 -*-\n",
    "\"\"\"Data preprocessing for HCMC survey dataset\"\"\"\n",
    "\n",
    "__author__ = \"Anna Buch, Heidelberg University\"\n",
    "__email__ = \"a.buch@stud.uni-heidelberg.de\"\n"
   ]
  },
  {
   "cell_type": "markdown",
   "metadata": {},
   "source": [
    "# Feature selection done by elastic net \n",
    "\n",
    "Before a lasso regression was applied, but lead to not profound set of predictors, each model run lead to a nearly complete new selection of feautres. Therefore and in regard to strong multicollinearity (see pearson Correlation plot) a Elastic Net is tested.\n",
    "\n",
    "Elastic Net combines feature elimination from Lasso and feature coefficient reduction from the Ridge model to improve your model’s predictions.\n",
    "\n",
    "*Sources*\n",
    "Geron 2019: https://learning.oreilly.com/library/view/hands-on-machine-learning/9781492032632/ch04.html#idm45022190228392"
   ]
  },
  {
   "cell_type": "code",
   "execution_count": 440,
   "metadata": {},
   "outputs": [],
   "source": [
    "import sys, os\n",
    "from glob import glob\n",
    "import numpy as np\n",
    "import pandas as pd\n",
    "\n",
    "import pickle\n",
    "import joblib\n",
    "\n",
    "from sklearn.linear_model import ElasticNet\n",
    "from sklearn.preprocessing import QuantileTransformer, quantile_transform, PowerTransformer, power_transform\n",
    "from sklearn.ensemble import BaggingRegressor\n",
    "from sklearn.metrics import r2_score, mean_squared_error, median_absolute_error\n",
    "from sklearn.model_selection import RandomizedSearchCV, GridSearchCV, train_test_split, RepeatedStratifiedKFold, RepeatedKFold, cross_val_score, cross_validate\n",
    "from sklearn.compose import TransformedTargetRegressor\n",
    "# TransformedTargetRegressor = for log transformed target , =QuantileTransformer=robut against outliers\n",
    "from sklearn.metrics import PredictionErrorDisplay # for evaluation with and without transfomred target\n",
    "from sklearn.pipeline import Pipeline\n",
    "from scipy import stats\n",
    "\n",
    "import matplotlib.pyplot as plt\n",
    "\n",
    "sys.path.insert(0, \"../../../\")\n",
    "import utils.utils_feature_selection as fs\n",
    "import utils.utils_evaluation as e\n",
    "import utils.utils_figures as f\n",
    "import utils.settings as s\n",
    "import utils.pipelines_continous as p\n",
    "\n",
    "s.init()\n",
    "seed = s.seed\n",
    "\n",
    "import warnings\n",
    "warnings.filterwarnings('ignore')\n",
    "\n",
    "\n",
    "transformation = True ##False\n",
    "targets = [\"Target_contentloss_euro\", \"Target_relative_contentloss_euro\", \"Target_businessreduction\"]\n",
    "target = targets[0]"
   ]
  },
  {
   "cell_type": "code",
   "execution_count": 441,
   "metadata": {},
   "outputs": [
    {
     "data": {
      "text/plain": [
       "'c:\\\\Users\\\\Anna\\\\Documents\\\\UNI\\\\MA_topic\\\\flood-loss-models-4-HCMC\\\\feature-selection-from-remote-fs\\\\model_preprocessing\\\\Feature_selection'"
      ]
     },
     "execution_count": 441,
     "metadata": {},
     "output_type": "execute_result"
    }
   ],
   "source": [
    "os.getcwd()\n",
    "#f.plot_spearman_rank()"
   ]
  },
  {
   "cell_type": "code",
   "execution_count": 442,
   "metadata": {},
   "outputs": [],
   "source": [
    "df_candidates = pd.read_excel(\"../../../input_survey_data/input_data_contentloss.xlsx\")\n",
    "#df_candidates = pd.read_excel(\"../../../input_survey_data/input_data_businessreduction.xlsx\")\n",
    "\n",
    "\n"
   ]
  },
  {
   "cell_type": "code",
   "execution_count": 443,
   "metadata": {},
   "outputs": [],
   "source": [
    "# ### use only relative loss as target or only absolute loss as target\n",
    "#df_candidates = df_candidates.drop([\"Target_contentloss_euro\", \"shp_content_value_euro\"], axis=1)\n",
    "df_candidates = df_candidates.drop([\"Target_relative_contentloss_euro\"], axis=1)\n",
    "\n",
    "# print(df_candidates.shape)\n",
    "# df_candidates.tail(2)\n"
   ]
  },
  {
   "cell_type": "code",
   "execution_count": null,
   "metadata": {},
   "outputs": [],
   "source": []
  },
  {
   "cell_type": "markdown",
   "metadata": {},
   "source": [
    "## Fit model and select features"
   ]
  },
  {
   "cell_type": "code",
   "execution_count": 444,
   "metadata": {},
   "outputs": [],
   "source": [
    "## Hyperparameter ranges to test\n",
    "\n",
    "param_grid = {\n",
    "    \"model__alpha\": [ 0.1, 1, 2, 3, 4, 5, 6],      # alpha: constant mulitplies penality term, alpha = 0 is equivalent to an OLS solved by the LinearRegression\n",
    "    \"model__max_iter\": [1,2,3,4,5, 8, 10],\n",
    "    \"model__l1_ratio\": [0.0, 0.25, 0.5, 0.75, 1.0],     # r = 0, equivalent to Ridge Regression (=L2),  r = 1 equivalent to Lasso Regression (=L1) \n",
    "    \"model__tol\": [0.5, 0.7, 1.0, 2.0 ,5.0, 10.0],\n",
    "     \"model__selection\": [\"cyclic\", \"random\"],\n",
    "    # \"model__positive\": [True],\n",
    "    \"model__random_state\": [seed],\n",
    "}\n",
    "\n",
    "\n",
    "param_grid_transform = {\n",
    "    \"model__regressor__alpha\": [ 0.1, 1, 2, 3, 4, 5, 6],      # alpha: constant mulitplies penality term, alpha = 0 is equivalent to an OLS solved by the LinearRegression\n",
    "    \"model__regressor__max_iter\": [1,2,3,4,5, 8, 10],\n",
    "    \"model__regressor__l1_ratio\": [0.0, 0.25, 0.5, 0.75, 1.0],     # r = 0, equivalent to Ridge Regression (=L2),  r = 1 equivalent to Lasso Regression (=L1) \n",
    "    \"model__regressor__tol\": [0.5, 0.7, 1.0, 2.0 ,5.0, 10.0],\n",
    "    \"model__regressor__selection\": [\"cyclic\", \"random\"],\n",
    "    \"model__regressor__positive\": [True],\n",
    "    \"model__regressor__random_state\": [seed],\n",
    "}\n",
    "\n",
    "## paramter names when bootstrapping mehtod is applied\n",
    "param_bag_grid = { k.replace('model', 'bagging__estimator') : v for (k, v) in param_grid.items()}\n",
    "\n",
    "\n",
    "\n",
    "param_bagging = {\n",
    "    'bootstrap': [True, False],\n",
    "    'random_state': [seed]\n",
    "    # 'bootstrap_features': [True, False],\n",
    "    # 'n_estimators': [20,50,100],\n",
    "    # 'max_samples': [0.5,1.0, X_train.shape[0]//2,],\n",
    "    # 'max_features': [0.5,1.0, X_train.shape[1]//2,],\n",
    "    # oob_score\n",
    "}\n",
    "## TODO add hyperparams for Bagging: \n",
    "## current defaults: n_estimators=10, *, max_samples=1.0, max_features=1.0, bootstrap=True, bootstrap_features=False, oob_score=False\n"
   ]
  },
  {
   "cell_type": "code",
   "execution_count": 446,
   "metadata": {},
   "outputs": [
    {
     "name": "stdout",
     "output_type": "stream",
     "text": [
      "Target_contentloss_euro\n",
      "\n",
      "Apply Elastic Net on Target_contentloss_euro, with pipeline pipe_en:\n",
      "Training size (149, 42)\n",
      "Test size (50, 42)\n",
      "\n",
      "Evaluation without transformed target:\n",
      "\n",
      "Training set\n",
      "Model Performance:\n",
      "        Root Mean Square Error: 2742.92\n",
      "        Normalized Root Mean Square Error: 23.1\n",
      "        Mean Absolute Error: 552.25\n",
      "        Mean Bias Error: 0.0\n",
      "        R²-Score: 0.039\n",
      "    \n",
      "\n",
      "Testing set\n",
      "Model Performance:\n",
      "        Root Mean Square Error: 31812.37\n",
      "        Normalized Root Mean Square Error: 281.65\n",
      "        Mean Absolute Error: 5339.3\n",
      "        Mean Bias Error: 4795.39\n",
      "        R²-Score: -0.021\n",
      "    \n",
      "\n",
      "Evaluation with natural log-transfomred target:\n",
      "\n",
      "Training set\n",
      "Model Performance:\n",
      "        Root Mean Square Error: 2817.34\n",
      "        Normalized Root Mean Square Error: 352.13\n",
      "        Mean Absolute Error: 351.47\n",
      "        Mean Bias Error: 344.27\n",
      "        R²-Score: -0.014\n",
      "    \n",
      "\n",
      "Testing set\n",
      "Model Performance:\n",
      "        Root Mean Square Error: 31903.12\n",
      "        Normalized Root Mean Square Error: 5449.35\n",
      "        Mean Absolute Error: 5165.72\n",
      "        Mean Bias Error: 5155.83\n",
      "        R²-Score: -0.027\n",
      "    \n",
      "\n",
      "Evaluation with quantile-transfomred target:\n",
      "\n",
      "Training set\n",
      "Model Performance:\n",
      "        Root Mean Square Error: 2819.86\n",
      "        Normalized Root Mean Square Error: 2.0806925962024024e+23\n",
      "        Mean Absolute Error: 353.43\n",
      "        Mean Bias Error: 353.43\n",
      "        R²-Score: -0.016\n",
      "    \n",
      "\n",
      "Testing set\n",
      "Model Performance:\n",
      "        Root Mean Square Error: 31905.07\n",
      "        Normalized Root Mean Square Error: 2.3541789889261638e+24\n",
      "        Mean Absolute Error: 5165.04\n",
      "        Mean Bias Error: 5165.04\n",
      "        R²-Score: -0.027\n",
      "    \n",
      "\n",
      "Evaluation with box-cox-transfomred target:\n",
      "\n",
      "Training set\n",
      "Model Performance:\n",
      "        Root Mean Square Error: 2819.81\n",
      "        Normalized Root Mean Square Error: 5018.78\n",
      "        Mean Absolute Error: 353.3\n",
      "        Mean Bias Error: 353.28\n",
      "        R²-Score: -0.016\n",
      "    \n",
      "\n",
      "Testing set\n",
      "Model Performance:\n",
      "        Root Mean Square Error: 31905.05\n",
      "        Normalized Root Mean Square Error: 261186.0\n",
      "        Mean Absolute Error: 5165.05\n",
      "        Mean Bias Error: 5164.98\n",
      "        R²-Score: -0.027\n",
      "    \n",
      "\n",
      "Evaluation with sqrt-transfomred target:\n",
      "\n",
      "Training set\n",
      "Model Performance:\n",
      "        Root Mean Square Error: 2807.65\n",
      "        Normalized Root Mean Square Error: 126.82\n",
      "        Mean Absolute Error: 358.59\n",
      "        Mean Bias Error: 302.16\n",
      "        R²-Score: -0.007\n",
      "    \n",
      "\n",
      "Testing set\n",
      "Model Performance:\n",
      "        Root Mean Square Error: 31891.04\n",
      "        Normalized Root Mean Square Error: 1575.79\n",
      "        Mean Absolute Error: 5172.95\n",
      "        Mean Bias Error: 5113.1\n",
      "        R²-Score: -0.026\n",
      "    \n"
     ]
    }
   ],
   "source": [
    "## iterate over both targets and store results \n",
    "\n",
    "eval_set_list = []\n",
    "\n",
    "print(target)\n",
    "\n",
    "## iterate over piplines. Each piplines contains precrosseing methods and several  classifier\n",
    "#pipelines = [\"pipe_bag_en\"]#, \n",
    "pipelines = [\"pipe_en\" ]#, \"pipe_ximput_logr\"]\n",
    "\n",
    "\n",
    "for pipe_name in pipelines:\n",
    "\n",
    "    print( f\"\\nApply Elastic Net on {target}, with pipeline {pipe_name}:\")\n",
    "\n",
    "    ## load sinlge pipeline\n",
    "    pipe = joblib.load(f'./pipelines/{pipe_name}.pkl')\n",
    "        \n",
    "\n",
    "    df_candidates_t = df_candidates\n",
    "    df_candidates_t[target] = df_candidates_t[target] + 0.0001\n",
    "\n",
    "\n",
    "    # # ##impute nans in X\n",
    "    # for c in df_candidates_t.drop(target, axis=1): \n",
    "    #     #df_candidates_t[f\"{c}\"].fillna(value=np.nanmedian(df_candidates_t[f\"{c}\"]), inplace=True)\n",
    "    #     df_candidates_t[c].fillna(df_candidates_t[c].median(), inplace=True)\n",
    " \n",
    "     # print(\"Uses \", df_candidates_t.shape[0], \" records, from those have \", \n",
    "    #       { (df_candidates_t[target][df_candidates_t[target]==0.0]).count() }, f\" records zero {target.split('_')[1]}\")\n",
    "\n",
    "    ## clean df from all records containg nan\n",
    "    df_candidates_t = df_candidates_t.dropna()\n",
    "    ## clean df from nan in target\n",
    "    df_candidates_t = df_candidates_t[ ~df_candidates_t[f\"{target}\"].isna()]\n",
    "\n",
    "\n",
    "    X_unscaled = df_candidates_t.drop(target, axis=1)  # remove  target from X\n",
    "    y = df_candidates_t[target]\n",
    " \n",
    "    ## test train split\n",
    "    X_train, X_test, y_train, y_test = train_test_split(\n",
    "        X_unscaled, y, test_size=0.25, \n",
    "        random_state=seed, shuffle=True)\n",
    "    \n",
    "    ## save evaluation set for later usage in feature importance\n",
    "    eval_set =  pd.concat([y_test, X_test], axis=1) #[(X_test, y_test)]\n",
    "    eval_set_list.append({pipe_name : eval_set})\n",
    "\n",
    "    ## normalize data \n",
    "    X_train, X_test = fs.normalize_X(X_train, X_test)\n",
    "        \n",
    "    print(\"Training size\", X_train.shape)\n",
    "    print(\"Test size\", X_test.shape)\n",
    "    \n",
    "    # model = {'model': BaggingRegressor,   # default bootstrap=True\n",
    "    #     'kwargs': {'estimator': ElasticNet()},  # TODO: pass 'random_state':seed to baggingregressor\n",
    "    #     'parameters': param_grid,\n",
    "    #     }\n",
    "    ## Hyperparmaters and CV\n",
    "    #cv = StratifiedKFold(n_splits=10, random_state=seed, shuffle=True)        #  StratifiedKFold = fold contains same percantega of class as in orignal training set, addresees imbalancing\n",
    "    #cv = RepeatedStratifiedKFold(n_splits=10, n_repeats=3, random_state=seed)        #  StratifiedKFold = fold contains same percantega of class as in orignal training set, addresees imbalancing\n",
    "    cv = RepeatedKFold(n_splits=10, n_repeats=5, random_state=seed)\n",
    "    model_cv = RandomizedSearchCV(\n",
    "        estimator= pipe,\n",
    "        param_distributions=param_grid, #\n",
    "        #param_distributions=param_bag_grid, \n",
    "        cv=cv, \n",
    "        scoring= \"neg_mean_absolute_error\",##\"neg_mean_absolute_error\", #\"neg_mean_squared_error\",#\"r2\" ,#\"neg_mean_absolute_error\",   #TODO classifcation: test also e.g \"f1\" or recall or \"f1_micro\", \"neg_mean_absolute_error\",\n",
    "        refit=True,   ## Refit the best estimator with the entire dataset. If “False”, it is impossible to make predictions using this GridSearchCV instance after fitting.\n",
    "                        ## If refit=False, clf.fit() will have no effect because the GridSearchCV object inside the pipeline will be reinitialized after fit().\n",
    "                        ## ! When refit=True, the GridSearchCV will be refitted with the best scoring parameter combination on the whole data that is passed in fit()\n",
    "        random_state=seed\n",
    "    )\n",
    "    ## Fit model\n",
    "    model_cv.fit(X_train, y_train)   \n",
    "    model =  model_cv.best_estimator_\n",
    "\n",
    "    if transformation:\n",
    "        ## log transformed target\n",
    "        \n",
    "        model_log_pipe = joblib.load(f'./pipelines/pipe_en_log.pkl')\n",
    "        model_log_cv = RandomizedSearchCV(\n",
    "            estimator= model_log_pipe,\n",
    "            param_distributions=param_grid_transform,\n",
    "            cv=cv, \n",
    "            scoring= \"neg_mean_absolute_error\",##\"neg_mean_absolute_error\", #\"neg_mean_squared_error\",#\"r2\" ,#\"neg_mean_absolute_error\",   #TODO classifcation: test also e.g \"f1\" or recall or \"f1_micro\", \"neg_mean_absolute_error\",\n",
    "            refit=True,        \n",
    "            random_state=seed\n",
    "        )\n",
    "        ## Fit model with log-transformed target\n",
    "        model_log_cv.fit(X_train, y_train)   \n",
    "        model_log = model_log_cv.best_estimator_\n",
    "\n",
    "\n",
    "        ## quantile transformed target\n",
    "        model_quantile_pipe = joblib.load(f'./pipelines/pipe_en_quantile.pkl')\n",
    "        model_quantile_cv = RandomizedSearchCV(\n",
    "            estimator= model_quantile_pipe,\n",
    "            param_distributions=param_grid_transform, \n",
    "            cv=cv, \n",
    "            scoring= \"neg_mean_absolute_error\",##\"neg_mean_absolute_error\", #\"neg_mean_squared_error\",#\"r2\" ,#\"neg_mean_absolute_error\",   #TODO classifcation: test also e.g \"f1\" or recall or \"f1_micro\", \"neg_mean_absolute_error\",\n",
    "            refit=True,        \n",
    "            random_state=seed\n",
    "        )\n",
    "        ## Fit model with quantile-transformed target\n",
    "        model_quantile_cv.fit(X_train, y_train)   \n",
    "        model_quantile = model_quantile_cv.best_estimator_\n",
    "\n",
    "\n",
    "        ## Box cox \n",
    "        model_boxcox_cv = joblib.load(f'./pipelines/pipe_en_boxcox.pkl')\n",
    "        model_boxcox_cv = RandomizedSearchCV(\n",
    "            estimator= model_boxcox_pipe,\n",
    "            param_distributions=param_grid_transform,\n",
    "            cv=cv, \n",
    "            scoring= \"neg_mean_absolute_error\",##\"neg_mean_absolute_error\", #\"neg_mean_squared_error\",#\"r2\" ,#\"neg_mean_absolute_error\",   #TODO classifcation: test also e.g \"f1\" or recall or \"f1_micro\", \"neg_mean_absolute_error\",\n",
    "            refit=True,        \n",
    "            random_state=seed\n",
    "        )\n",
    "        ## Fit model with box-cox-derived target\n",
    "         model_boxcox_cv.fit(X_train, y_train)   \n",
    "        model_boxcox = model_boxcox_cv.best_estimator_\n",
    "\n",
    "\n",
    "        ## square root \n",
    "        model_sqrt_cv = joblib.load(f'./pipelines/pipe_en_sqrt.pkl')\n",
    "        model_sqrt_cv = RandomizedSearchCV(\n",
    "            estimator= model_sqrt_pipe,\n",
    "            param_distributions=param_grid_transform,\n",
    "            cv=cv, \n",
    "            scoring= \"neg_mean_absolute_error\",##\"neg_mean_absolute_error\", #\"neg_mean_squared_error\",#\"r2\" ,#\"neg_mean_absolute_error\",   #TODO classifcation: test also e.g \"f1\" or recall or \"f1_micro\", \"neg_mean_absolute_error\",\n",
    "            refit=True,        \n",
    "            random_state=seed\n",
    "        )\n",
    "        ## Fit model with square-root-transformed target\n",
    "        model_sqrt_cv.fit(X_train, y_train)   \n",
    "        model_sqrt = model_sqrt_cv.best_estimator_\n",
    "\n",
    "\n",
    "    # ## store best trained model for evaluation\n",
    "    # filename = f'./models_trained/elasticnet_{target}_{pipe_name}.sav'\n",
    "    # pickle.dump(model, open(filename, 'wb'))\n",
    "\n",
    "    # ## Feature importance + selection\n",
    "    # importances = e.permutation_feature_importance(model, X_test, y_test, repeats=5, seed=seed)\n",
    "\n",
    "    # df_importance = pd.DataFrame(\n",
    "    #     {\"importances\" : importances[0]},\n",
    "    #     index=X_train.columns.to_list(),\n",
    "    #     ) \n",
    "    # df_importance = df_importance.sort_values(\"importances\", ascending=False)  # get most important features to the top\n",
    "    # print(\"Most important features:\", df_importance.iloc[:5].index.to_list())\n",
    "    # df_importance = df_importance.loc[df_importance.importances >= 0.000 , : ]\n",
    "    # #df_importance.head(5)\n",
    "    # # ## write selected predictors and response to disk\n",
    "    # fs.save_selected_features(\n",
    "    #     X_train, \n",
    "    #     pd.DataFrame(y_train, columns=[target]), \n",
    "    #     df_importance.T.columns, \n",
    "    #     filename=f\"../../../input_survey_data/selected_predictors/fs_elasticnet_{target.split('_')[1]}_{pipe_name}.xlsx\"\n",
    "    # )\n",
    "\n",
    "    ## Evaluate\n",
    "    ## print evaluation report + check for overfitting \n",
    "    print(\"\\nEvaluation without transformed target:\")\n",
    "    print(\"\\nTraining set\")\n",
    "    y_pred_train = model.predict(X_train)\n",
    "    e.evaluation_report(y_train, y_pred_train)\n",
    "\n",
    "    print(\"\\nTesting set\")\n",
    "    y_pred = model.predict(X_test)\n",
    "    e.evaluation_report(y_test, y_pred)\n",
    "    #print(e.compute_score(y_test, y_pred))\n",
    "\n",
    "    if transformation:\n",
    "        for model in [{model_log:\"natural log\"}, {model_quantile: \"quantile\"}, {model_boxcox:\"box-cox\"}, {model_sqrt:\"sqrt\"}]:\n",
    "            transf_type = list(model.values())[0]\n",
    "            model = list(model.keys()) [0]\n",
    "            #transf_type = str(model).split(\"transformer=\")[1].split(\"Transformer\")[0]\n",
    "            print(f\"\\nEvaluation with {transf_type}-transfomred target:\")\n",
    "            print(\"\\nTraining set\")\n",
    "            y_pred_train = model.predict(X_train)\n",
    "            e.evaluation_report(y_train, y_pred_train)\n",
    "\n",
    "            print(\"\\nTesting set\")\n",
    "            y_pred = model.predict(X_test)\n",
    "            e.evaluation_report(y_test, y_pred)\n",
    "            #print(e.compute_score(y_test, y_pred))\n"
   ]
  },
  {
   "cell_type": "code",
   "execution_count": 447,
   "metadata": {},
   "outputs": [
    {
     "name": "stdout",
     "output_type": "stream",
     "text": [
      "DescribeResult(nobs=50, minmax=(0.0001, 224190.4001), mean=5165.0441, variance=1011485827.2098609, skewness=6.734379272668876, kurtosis=43.845730573667616) \n",
      "\n",
      "DescribeResult(nobs=50, minmax=(18.792951896867475, 107.24172619853245), mean=51.94549368114944, variance=417.9431786816303, skewness=0.8353377748431481, kurtosis=0.5466233093223476)\n",
      "DescribeResult(nobs=50, minmax=(0.20955345301895945, 27.37222648309093), mean=9.213159281561285, variance=34.97441656658633, skewness=1.3983213764508942, kurtosis=2.663762674868134)\n",
      "DescribeResult(nobs=50, minmax=(0.0001, 0.0001), mean=0.00010000000000000002, variance=1.874193799142678e-40, skewness=nan, kurtosis=nan)\n",
      "DescribeResult(nobs=50, minmax=(0.00010463811826806886, 0.5199303147322804), mean=0.06166388077650761, variance=0.015226246563926639, skewness=2.7221033377625887, kurtosis=6.223315558698369)\n"
     ]
    }
   ],
   "source": [
    "print(stats.describe(y_test), \"\\n\")\n",
    "print(stats.describe(model.predict(X_test)))\n",
    "print(stats.describe(model_log.predict(X_test)))\n",
    "print(stats.describe(model_quantile.predict(X_test)))\n",
    "print(stats.describe(model_boxcox.predict(X_test)))\n",
    "\n",
    "# kurtosis= peak from gaussian distrib, Negative kurtosis means that the data has fewer extreme outliers than a normal distribution.\n",
    "\n",
    "## TODO make a boxplot"
   ]
  },
  {
   "cell_type": "markdown",
   "metadata": {},
   "source": [
    "### Duan's smearing, \n",
    "non-parametric approach via residuals\n"
   ]
  },
  {
   "cell_type": "code",
   "execution_count": 152,
   "metadata": {},
   "outputs": [],
   "source": [
    "# ttr = TransformedTargetRegressor(    ## TODO replace ttr by model_log_cv\n",
    "#     regressor=ElasticNet(),\n",
    "#     func=np.log1p, inverse_func=np.expm1\n",
    "#     )\n",
    "\n",
    "# f = ttr.get_params()['func']              #function\n",
    "# inv_f = ttr.get_params()['inverse_func']  #and inverse function"
   ]
  },
  {
   "cell_type": "code",
   "execution_count": 161,
   "metadata": {},
   "outputs": [],
   "source": [
    "# pred_log = model_log.predict(X_test)\n",
    "# resids = y_test - pred_log\n",
    "# resids = resids.values.reshape(1, X_test.shape[0])\n",
    "# resids\n",
    "# dp = inv_f(pred_log.reshape( X_test.shape[0], 1) + resids)\n",
    "# pred_log_dp = dp.mean(axis=1)\n",
    "# pred_log_dp\n",
    "\n",
    "# # dat[['y','WrongTrans','DuanPreds']].describe()\n",
    "# # log_pred = f(dat['WrongTrans'])\n",
    "# # resids = f(dat['y']) - log_pred\n",
    "# # resids = resids.values.reshape(1,n[0])\n",
    "# # dp = inv_f(log_pred.values.reshape(n[0],1) + resids)\n",
    "# # dat['DuanPreds'] = dp.mean(axis=1)\n",
    "\n",
    "# # dat[['y','WrongTrans','DuanPreds']].describe()\n"
   ]
  },
  {
   "cell_type": "code",
   "execution_count": 341,
   "metadata": {},
   "outputs": [
    {
     "data": {
      "text/plain": [
       "<bound method Pipeline.get_feature_names_out of Pipeline(steps=[('model',\n",
       "                 TransformedTargetRegressor(regressor=ElasticNet(alpha=1,\n",
       "                                                                 l1_ratio=0.0,\n",
       "                                                                 max_iter=4,\n",
       "                                                                 positive=True,\n",
       "                                                                 random_state=42,\n",
       "                                                                 selection='random',\n",
       "                                                                 tol=5.0),\n",
       "                                            transformer=PowerTransformer(method='box-cox',\n",
       "                                                                         standardize=False)))])>"
      ]
     },
     "execution_count": 341,
     "metadata": {},
     "output_type": "execute_result"
    }
   ],
   "source": [
    "model_boxcox.get_feature_names_out"
   ]
  },
  {
   "cell_type": "code",
   "execution_count": 46,
   "metadata": {},
   "outputs": [
    {
     "data": {
      "text/plain": [
       "{'model__tol': 0.5,\n",
       " 'model__selection': 'random',\n",
       " 'model__random_state': 42,\n",
       " 'model__max_iter': 5,\n",
       " 'model__l1_ratio': 0.5,\n",
       " 'model__alpha': 3}"
      ]
     },
     "execution_count": 46,
     "metadata": {},
     "output_type": "execute_result"
    }
   ],
   "source": [
    "model_cv.best_params_\n"
   ]
  },
  {
   "cell_type": "code",
   "execution_count": 47,
   "metadata": {},
   "outputs": [],
   "source": [
    "## An MAE(-of-the-logs) of 0.01 would tell you that typically your original values deviate by about 1% from the geometric mean."
   ]
  },
  {
   "cell_type": "code",
   "execution_count": null,
   "metadata": {},
   "outputs": [],
   "source": []
  },
  {
   "cell_type": "code",
   "execution_count": 347,
   "metadata": {},
   "outputs": [
    {
     "name": "stdout",
     "output_type": "stream",
     "text": [
      "DescribeResult(nobs=21, minmax=(11.0, 3624.4), mean=373.44761904761907, variance=606075.2596190477, skewness=3.702090257677358, kurtosis=12.987217450109926) \n",
      "\n",
      "DescribeResult(nobs=21, minmax=(2.3172627115194007, 6753.08750590097), mean=944.4365284552871, variance=3752083.954409084, skewness=2.481258163143037, kurtosis=4.650173555695675)\n",
      "DescribeResult(nobs=21, minmax=(87.40360120911735, 576.8527717124759), mean=184.58702044010676, variance=13625.452165161196, skewness=2.1405072792808264, kurtosis=4.272512424454877)\n",
      "DescribeResult(nobs=21, minmax=(74.7, 373.7), mean=121.31982000395253, variance=5187.3184809213135, skewness=2.4968735146319543, kurtosis=5.791765853519747)\n",
      "DescribeResult(nobs=21, minmax=(107.99649410174347, 147.91936327448937), mean=124.4740079479975, variance=101.411859094818, skewness=0.5962091218611784, kurtosis=-0.2593747273089657)\n"
     ]
    }
   ],
   "source": [
    "print(stats.describe(y_test), \"\\n\")\n",
    "print(stats.describe(model.predict(X_test)))\n",
    "print(stats.describe(model_log.predict(X_test)))\n",
    "print(stats.describe(model_quantile.predict(X_test)))\n",
    "print(stats.describe(model_boxcox.predict(X_test)))\n",
    "\n",
    "# kurtosis= peak from gaussian distrib, Negative kurtosis means that the data has fewer extreme outliers than a normal distribution.\n"
   ]
  },
  {
   "cell_type": "code",
   "execution_count": null,
   "metadata": {},
   "outputs": [
    {
     "name": "stdout",
     "output_type": "stream",
     "text": [
      "163    inf\n",
      "7      inf\n",
      "129    inf\n",
      "164    inf\n",
      "113    inf\n",
      "152    inf\n",
      "62     inf\n",
      "266    inf\n",
      "22     inf\n",
      "68     inf\n",
      "244    inf\n",
      "175    inf\n",
      "340    inf\n",
      "183    inf\n",
      "341    inf\n",
      "209    inf\n",
      "364    inf\n",
      "327    inf\n",
      "280    inf\n",
      "195    inf\n",
      "53     inf\n",
      "Name: Target_contentloss_euro, dtype: float64\n"
     ]
    },
    {
     "data": {
      "image/png": "[encoded data removed]",
      "text/plain": [
       "<Figure size 640x480 with 1 Axes>"
      ]
     },
     "metadata": {},
     "output_type": "display_data"
    }
   ],
   "source": [
    "\n",
    "resids = y_test  - model_log.predict(X_test)\n",
    "\n",
    "# Check to make sure that the residuals are really close to normal.Before doing this\n",
    "resids.hist(bins=100)\n",
    "\n",
    "# Approach for just log transformed\n",
    "mult = np.exp(0.5*resids.var())\n",
    "print( np.exp(y_test)*mult )\n",
    "##########"
   ]
  },
  {
   "cell_type": "code",
   "execution_count": null,
   "metadata": {},
   "outputs": [
    {
     "name": "stdout",
     "output_type": "stream",
     "text": [
      "Model Performance:\n",
      "        Root Mean Square Error: 799.16\n",
      "        Normalized Root Mean Square Error: 2.86\n",
      "        Mean Absolute Error: 386.56\n",
      "        Mean Bias Error: 159.47\n",
      "        R²-Score: -0.106\n",
      "    \n"
     ]
    },
    {
     "ename": "AttributeError",
     "evalue": "module 'utils.utils_evaluation' has no attribute 'compute_score'",
     "output_type": "error",
     "traceback": [
      "\u001b[1;31m---------------------------------------------------------------------------\u001b[0m",
      "\u001b[1;31mAttributeError\u001b[0m                            Traceback (most recent call last)",
      "\u001b[1;32mc:\\Users\\Anna\\Documents\\UNI\\MA_topic\\flood-loss-models-4-HCMC\\feature-selection-from-remote-fs\\model_preprocessing\\Feature_selection\\elastic_net_feature_selection.ipynb Cell 46\u001b[0m in \u001b[0;36m1\n\u001b[0;32m      <a href='vscode-notebook-cell:/c%3A/Users/Anna/Documents/UNI/MA_topic/flood-loss-models-4-HCMC/feature-selection-from-remote-fs/model_preprocessing/Feature_selection/elastic_net_feature_selection.ipynb#Y100sZmlsZQ%3D%3D?line=5'>6</a>\u001b[0m y_pred_log \u001b[39m=\u001b[39m tst_cv_with_trans_target\u001b[39m.\u001b[39mpredict(X_test)\n\u001b[0;32m      <a href='vscode-notebook-cell:/c%3A/Users/Anna/Documents/UNI/MA_topic/flood-loss-models-4-HCMC/feature-selection-from-remote-fs/model_preprocessing/Feature_selection/elastic_net_feature_selection.ipynb#Y100sZmlsZQ%3D%3D?line=7'>8</a>\u001b[0m e\u001b[39m.\u001b[39mevaluation_report(y_test, y_pred_log)\n\u001b[1;32m---> <a href='vscode-notebook-cell:/c%3A/Users/Anna/Documents/UNI/MA_topic/flood-loss-models-4-HCMC/feature-selection-from-remote-fs/model_preprocessing/Feature_selection/elastic_net_feature_selection.ipynb#Y100sZmlsZQ%3D%3D?line=9'>10</a>\u001b[0m \u001b[39mprint\u001b[39m(e\u001b[39m.\u001b[39;49mcompute_score(y_test, y_pred_log))\n",
      "\u001b[1;31mAttributeError\u001b[0m: module 'utils.utils_evaluation' has no attribute 'compute_score'"
     ]
    }
   ],
   "source": [
    "from sklearn.linear_model import ElasticNetCV\n",
    "\n",
    "tst_cv_with_trans_target = TransformedTargetRegressor(\n",
    "    regressor=ElasticNetCV(), func=np.log1p, inverse_func=np.expm1\n",
    ").fit(X_train, y_train)\n",
    "y_pred_log = tst_cv_with_trans_target.predict(X_test)\n",
    "\n",
    "e.evaluation_report(y_test, y_pred_log)\n",
    "\n",
    "print(e.compute_score(y_test, y_pred_log))\n",
    "#?zip\n",
    "#pd.DataFrame(zip(y_test.to_list(), y_pred_log))"
   ]
  },
  {
   "cell_type": "code",
   "execution_count": null,
   "metadata": {},
   "outputs": [
    {
     "name": "stdout",
     "output_type": "stream",
     "text": [
      "[73.7, 29.5, 153.1, 84.3, 224.2, 37.4, 18.7, 39.7, 268.1, 73.7, 110.5, 11.0, 165.6]\n",
      "[155.41302082 149.5         82.8        141.74123768 125.32141596\n",
      " 149.5         76.93773359 119.         139.11727656  76.5\n",
      " 115.75648501  76.5        119.        ]\n"
     ]
    }
   ],
   "source": [
    "print(y_test.to_list())\n",
    "print(y_pred)\n"
   ]
  },
  {
   "cell_type": "code",
   "execution_count": null,
   "metadata": {},
   "outputs": [],
   "source": []
  },
  {
   "cell_type": "code",
   "execution_count": null,
   "metadata": {},
   "outputs": [],
   "source": [
    "# fi_cols =  df_importance.loc[df_importance.importances >= 0.0001 , : ].index.to_list()#.shape\n",
    "\n",
    "# model = model_cv.best_estimator_\n",
    "# model.fit(X_train.loc[:, fi_cols], y_train)\n",
    "\n",
    "# print(len(fi_cols))"
   ]
  },
  {
   "cell_type": "code",
   "execution_count": null,
   "metadata": {},
   "outputs": [],
   "source": [
    "# y_pred_train_fi = model.predict(X_train.loc[:, fi_cols])\n",
    "# e.evaluation_report(y_train, y_pred_train_fi)\n",
    "\n",
    "# y_pred_fi = model.predict(X_test.loc[:, fi_cols])\n",
    "# e.evaluation_report(y_test, y_pred_fi)\n"
   ]
  },
  {
   "cell_type": "code",
   "execution_count": null,
   "metadata": {},
   "outputs": [],
   "source": []
  },
  {
   "cell_type": "code",
   "execution_count": null,
   "metadata": {},
   "outputs": [],
   "source": [
    "## reload models\n",
    "\n",
    "\n",
    "#pipelines = [\"pipe_bag_en\"]#, \n",
    "pipelines = [\"pipe_en\" ]#\n",
    "pipe_name = pipelines[0]\n",
    "\n",
    "#model_eval = pickle.load(open(f\"./models_trained/best_elasticnet_{target}_{pipe_name}.sav\", 'rb'))\n",
    "#elastic_net_eval.get_params()\n"
   ]
  },
  {
   "cell_type": "code",
   "execution_count": null,
   "metadata": {},
   "outputs": [
    {
     "name": "stdout",
     "output_type": "stream",
     "text": [
      "R^2 training set 19.66  %\n",
      "R^2 test set -368139.24\n"
     ]
    }
   ],
   "source": [
    "print('R^2 training set', round(model.score(X_train, y_train)*100, 2), ' %')\n",
    "print('R^2 test set', round(model.score(X_test, y_test)*100, 2))"
   ]
  },
  {
   "cell_type": "code",
   "execution_count": null,
   "metadata": {},
   "outputs": [
    {
     "name": "stdout",
     "output_type": "stream",
     "text": [
      "if alpha < 0.5 used more Ridge regularization: \n",
      " {'memory': None, 'steps': [('model', ElasticNet(alpha=3, max_iter=5, random_state=42, selection='random', tol=0.5))], 'verbose': False, 'model': ElasticNet(alpha=3, max_iter=5, random_state=42, selection='random', tol=0.5), 'model__alpha': 3, 'model__copy_X': True, 'model__fit_intercept': True, 'model__l1_ratio': 0.5, 'model__max_iter': 5, 'model__positive': False, 'model__precompute': False, 'model__random_state': 42, 'model__selection': 'random', 'model__tol': 0.5, 'model__warm_start': False}\n"
     ]
    }
   ],
   "source": [
    "print(\"if alpha < 0.5 used more Ridge regularization: \\n\" , model.get_params())"
   ]
  },
  {
   "cell_type": "markdown",
   "metadata": {},
   "source": [
    "## Evaluation"
   ]
  },
  {
   "cell_type": "markdown",
   "metadata": {},
   "source": [
    "### Plot prediction error "
   ]
  },
  {
   "cell_type": "code",
   "execution_count": null,
   "metadata": {},
   "outputs": [],
   "source": []
  },
  {
   "cell_type": "code",
   "execution_count": 344,
   "metadata": {},
   "outputs": [],
   "source": [
    "#y_pred_log_train = model_log.predict(X_train)\n",
    "y_pred = model.predict(X_test)\n",
    "y_pred_log = model_log.predict(X_test)\n",
    "y_pred_quantile = model_quantile.predict(X_test)\n",
    "y_pred_boxcox = model_boxcox.predict(X_test)\n"
   ]
  },
  {
   "cell_type": "code",
   "execution_count": 346,
   "metadata": {},
   "outputs": [
    {
     "ename": "AttributeError",
     "evalue": "module 'utils.utils_evaluation' has no attribute 'compute_score'",
     "output_type": "error",
     "traceback": [
      "\u001b[1;31m---------------------------------------------------------------------------\u001b[0m",
      "\u001b[1;31mAttributeError\u001b[0m                            Traceback (most recent call last)",
      "\u001b[1;32mc:\\Users\\Anna\\Documents\\UNI\\MA_topic\\flood-loss-models-4-HCMC\\feature-selection-from-remote-fs\\model_preprocessing\\Feature_selection\\elastic_net_feature_selection.ipynb Cell 64\u001b[0m in \u001b[0;36m4\n\u001b[0;32m     <a href='vscode-notebook-cell:/c%3A/Users/Anna/Documents/UNI/MA_topic/flood-loss-models-4-HCMC/feature-selection-from-remote-fs/model_preprocessing/Feature_selection/elastic_net_feature_selection.ipynb#Y112sZmlsZQ%3D%3D?line=39'>40</a>\u001b[0m \u001b[39m# Add the score in the legend of each axis\u001b[39;00m\n\u001b[0;32m     <a href='vscode-notebook-cell:/c%3A/Users/Anna/Documents/UNI/MA_topic/flood-loss-models-4-HCMC/feature-selection-from-remote-fs/model_preprocessing/Feature_selection/elastic_net_feature_selection.ipynb#Y112sZmlsZQ%3D%3D?line=40'>41</a>\u001b[0m \u001b[39mfor\u001b[39;00m ax, y_pred \u001b[39min\u001b[39;00m \u001b[39mzip\u001b[39m([ax0[\u001b[39m0\u001b[39m], ax0[\u001b[39m1\u001b[39m], ax0[\u001b[39m2\u001b[39m],ax0[\u001b[39m3\u001b[39m]], [y_pred, y_pred_log, y_pred_quantile, y_pred_boxcox]):\n\u001b[1;32m---> <a href='vscode-notebook-cell:/c%3A/Users/Anna/Documents/UNI/MA_topic/flood-loss-models-4-HCMC/feature-selection-from-remote-fs/model_preprocessing/Feature_selection/elastic_net_feature_selection.ipynb#Y112sZmlsZQ%3D%3D?line=41'>42</a>\u001b[0m     \u001b[39mfor\u001b[39;00m name, score \u001b[39min\u001b[39;00m e\u001b[39m.\u001b[39;49mcompute_score(y_test, y_pred)\u001b[39m.\u001b[39mitems():\n\u001b[0;32m     <a href='vscode-notebook-cell:/c%3A/Users/Anna/Documents/UNI/MA_topic/flood-loss-models-4-HCMC/feature-selection-from-remote-fs/model_preprocessing/Feature_selection/elastic_net_feature_selection.ipynb#Y112sZmlsZQ%3D%3D?line=42'>43</a>\u001b[0m         ax\u001b[39m.\u001b[39mplot([], [], \u001b[39m\"\u001b[39m\u001b[39m \u001b[39m\u001b[39m\"\u001b[39m, label\u001b[39m=\u001b[39m\u001b[39mf\u001b[39m\u001b[39m\"\u001b[39m\u001b[39m{\u001b[39;00mname\u001b[39m}\u001b[39;00m\u001b[39m=\u001b[39m\u001b[39m{\u001b[39;00mscore\u001b[39m}\u001b[39;00m\u001b[39m\"\u001b[39m)\n\u001b[0;32m     <a href='vscode-notebook-cell:/c%3A/Users/Anna/Documents/UNI/MA_topic/flood-loss-models-4-HCMC/feature-selection-from-remote-fs/model_preprocessing/Feature_selection/elastic_net_feature_selection.ipynb#Y112sZmlsZQ%3D%3D?line=43'>44</a>\u001b[0m     ax\u001b[39m.\u001b[39mlegend(loc\u001b[39m=\u001b[39m\u001b[39m\"\u001b[39m\u001b[39mupper left\u001b[39m\u001b[39m\"\u001b[39m)\n",
      "\u001b[1;31mAttributeError\u001b[0m: module 'utils.utils_evaluation' has no attribute 'compute_score'"
     ]
    },
    {
     "data": {
      "image/png": "[encoded data removed]",
      "text/plain": [
       "<Figure size 1500x800 with 8 Axes>"
      ]
     },
     "metadata": {},
     "output_type": "display_data"
    }
   ],
   "source": [
    "f, (ax0, ax1) = plt.subplots( 2, 4,  sharey=\"row\", figsize=(15, 8)) # \n",
    "\n",
    "\n",
    "PredictionErrorDisplay.from_predictions(\n",
    "    y_test,\n",
    "    y_pred,\n",
    "    kind=\"actual_vs_predicted\",\n",
    "    ax=ax0[0],\n",
    "    scatter_kwargs={\"alpha\": 0.5},\n",
    ")\n",
    "PredictionErrorDisplay.from_predictions(\n",
    "    y_test,\n",
    "    y_pred_log,\n",
    "    kind=\"actual_vs_predicted\",\n",
    "    ax=ax0[1],\n",
    "    scatter_kwargs={\"alpha\": 0.5},\n",
    ")\n",
    "PredictionErrorDisplay.from_predictions(\n",
    "    y_test,\n",
    "    y_pred_quantile,\n",
    "    kind=\"actual_vs_predicted\",\n",
    "    ax=ax0[2],\n",
    "    scatter_kwargs={\"alpha\": 0.5},\n",
    ")\n",
    "PredictionErrorDisplay.from_predictions(\n",
    "    y_test,\n",
    "    y_pred_boxcox,\n",
    "    kind=\"actual_vs_predicted\",\n",
    "    ax=ax0[3],\n",
    "    scatter_kwargs={\"alpha\": 0.5},\n",
    ")\n",
    "ax0[0].set_title(\"Elastic Net regression \\n without target transformation\")\n",
    "ax0[1].set_title(\"Elastic Net regression \\n with target log-transformation\")\n",
    "ax0[2].set_title(\"Elastic Net regression \\n with target quantile-transformation\")\n",
    "ax0[3].set_title(\"Elastic Net regression \\n with target boxcox-transformation\")\n",
    "\n",
    "ax0[0].set_ylim(0, 300)\n",
    "\n",
    "\n",
    "# Add the score in the legend of each axis\n",
    "for ax, y_pred in zip([ax0[0], ax0[1], ax0[2],ax0[3]], [y_pred, y_pred_log, y_pred_quantile, y_pred_boxcox]):\n",
    "    for name, score in e.compute_score(y_test, y_pred).items():\n",
    "        ax.plot([], [], \" \", label=f\"{name}={score}\")\n",
    "    ax.legend(loc=\"upper left\")\n",
    "\n",
    "\n",
    "# plot the residuals vs the predicted values\n",
    "PredictionErrorDisplay.from_predictions(\n",
    "    y_test,\n",
    "    y_pred,\n",
    "    kind=\"residual_vs_predicted\",\n",
    "    ax=ax1[0],\n",
    "    scatter_kwargs={\"alpha\": 0.5},\n",
    ")\n",
    "PredictionErrorDisplay.from_predictions(\n",
    "    y_test,\n",
    "    y_pred_log,\n",
    "    kind=\"residual_vs_predicted\",\n",
    "    ax=ax1[1],\n",
    "    scatter_kwargs={\"alpha\": 0.5},\n",
    ")\n",
    "PredictionErrorDisplay.from_predictions(\n",
    "    y_test,\n",
    "    y_pred_quantile,\n",
    "    kind=\"residual_vs_predicted\",\n",
    "    ax=ax1[2],\n",
    "    scatter_kwargs={\"alpha\": 0.5},\n",
    ")\n",
    "PredictionErrorDisplay.from_predictions(\n",
    "    y_test,\n",
    "    y_pred_boxcox,\n",
    "    kind=\"residual_vs_predicted\",\n",
    "    ax=ax1[3],\n",
    "    scatter_kwargs={\"alpha\": 0.5},\n",
    ")\n",
    "ax1[0].set_title(\"Elastic Net regression \\n without target transformation\")\n",
    "ax1[1].set_title(\"Elastic Net regression \\n with target log-transformation\")\n",
    "ax1[2].set_title(\"Elastic Net regression \\n with target quantile-transformation\")\n",
    "ax1[3].set_title(\"Elastic Net regression \\n with target boxcox-transformation\")\n",
    "\n",
    "#ax1[0].set_ylim(0,200)\n",
    "\n",
    "\n",
    "#f.suptitle(\"Synthetic data\", y=1.05)\n",
    "plt.tight_layout()"
   ]
  },
  {
   "cell_type": "code",
   "execution_count": 473,
   "metadata": {},
   "outputs": [
    {
     "data": {
      "text/plain": [
       "163    -87.08860\n",
       "7     -215.91465\n",
       "129     28.07582\n",
       "164    -66.50318\n",
       "113     -0.22487\n",
       "152   -257.59507\n",
       "62    -110.18732\n",
       "266   -155.07931\n",
       "22      91.44927\n",
       "68     -62.79247\n",
       "244    -43.09106\n",
       "175   -107.59088\n",
       "340     -6.49362\n",
       "Name: Target_contentloss_euro, dtype: float64"
      ]
     },
     "execution_count": 473,
     "metadata": {},
     "output_type": "execute_result"
    }
   ],
   "source": [
    "residuals = y_test - y_pred\n",
    "residuals"
   ]
  },
  {
   "cell_type": "code",
   "execution_count": 368,
   "metadata": {},
   "outputs": [],
   "source": [
    "# # #Snippet from: https://ubc-cs.github.io/cpsc330/lectures/08_hyperparameter-optimization.html#exhaustive-grid-search-sklearn-model-selection-gridsearchcv\n",
    "# #pd.DataFrame(elastic_net_cv.cv_results_).set_index(\"rank_test_score\").sort_index().T\n",
    "# pd.DataFrame(model_cv.cv_results_)[\n",
    "#         [                                   # only important cv evaluation metrics \n",
    "#             \"mean_test_score\",\n",
    "#             \"mean_fit_time\",\n",
    "#             \"rank_test_score\",\n",
    "#             \"param_bagging__estimator__alpha\",\n",
    "#             \"param_bagging__estimator__l1_ratio\",\n",
    "#             \"param_bagging__estimator__max_iter\"\n",
    "#         ]\n",
    "#     ].set_index(\"rank_test_score\").sort_index().T\n"
   ]
  },
  {
   "cell_type": "code",
   "execution_count": 378,
   "metadata": {},
   "outputs": [
    {
     "data": {
      "text/plain": [
       "(180, 34)"
      ]
     },
     "execution_count": 378,
     "metadata": {},
     "output_type": "execute_result"
    }
   ],
   "source": [
    "X_unscaled.shape\n"
   ]
  },
  {
   "cell_type": "markdown",
   "metadata": {},
   "source": [
    "### Feature importance "
   ]
  },
  {
   "cell_type": "code",
   "execution_count": 343,
   "metadata": {},
   "outputs": [
    {
     "data": {
      "image/png": "[encoded data removed]",
      "text/plain": [
       "<Figure size 800x1000 with 1 Axes>"
      ]
     },
     "metadata": {},
     "output_type": "display_data"
    }
   ],
   "source": [
    "# plot feature importance\n",
    "#fig, ax = plt.subplots(figsize=(12,5))\n",
    "\n",
    "# relaod evalation set\n",
    "eval_set = eval_set_list[0][pipe_name]\n",
    "\n",
    "importances = e.permutation_feature_importance(model_boxcox, \n",
    "#importances = e.permutation_feature_importance(model, \n",
    "                                               X_test,\n",
    "                                               y_test,\n",
    "                                               #eval_set.drop(target, axis=1), \n",
    "                                               #eval_set[target], \n",
    "                                               repeats=5, seed=seed\n",
    "                                               )\n",
    "\n",
    "## feature importance scores\n",
    "df_importance = pd.DataFrame({\n",
    "    \"name\" : X_unscaled.columns.to_list(),\n",
    "    \"importances\" : importances[0],\n",
    "     }) \n",
    "\n",
    "# drop features which dont reduce the loss\n",
    "df_importance = df_importance.loc[df_importance.importances > 0.0000, : ] \n",
    "df_importance = df_importance.sort_values(\"importances\", ascending=True)\n",
    "\n",
    "plt.figure(figsize=(8, 10))\n",
    "plt.barh(df_importance.name, df_importance.importances)\n",
    "plt.xticks(\n",
    "    #ticks = range(len(selected_feat)),\n",
    "    #labels = X_unscaled.iloc[:,selected_feat],\n",
    "    rotation = 90\n",
    "    )\n",
    "plt.title(f\"Elastic Net: Feature Importances for {target}\")\n",
    "plt.show()\n",
    "\n",
    "## save importnace scores  and figure\n",
    "filepath = f'./models_evaluation/best_elasticnet_importance_scores_{target}_{pipe_name}'\n",
    "#if not glob(filepath):\n",
    "#    df_importance.to_csv(filename, index = False)\n",
    "\n",
    "\n",
    "#plt.savefig(f'../../../figures/best_en_feature_importance_{target}_{pipe_name}.png', bbox_inches='tight')"
   ]
  },
  {
   "cell_type": "code",
   "execution_count": null,
   "metadata": {},
   "outputs": [],
   "source": [
    "# coef = pd.Series(elastic_net.coef_, index = X_train.columns)\n",
    "# important_features = pd.concat([coef.sort_values().head(10),\n",
    "#                      coef.sort_values().tail(10)])\n",
    "# important_features.plot(kind = \"barh\")\n",
    "# plt.title(\"Coefficients in the ElasticNet Model\")"
   ]
  },
  {
   "cell_type": "code",
   "execution_count": null,
   "metadata": {},
   "outputs": [
    {
     "name": "stdout",
     "output_type": "stream",
     "text": [
      "Most important features: ['bage', 'perception_private_economy_future', 'resilience_govern_careing', 'flowvelocity', 'flood_experience']\n"
     ]
    },
    {
     "data": {
      "text/html": [
       "<div>\n",
       "<style scoped>\n",
       "    .dataframe tbody tr th:only-of-type {\n",
       "        vertical-align: middle;\n",
       "    }\n",
       "\n",
       "    .dataframe tbody tr th {\n",
       "        vertical-align: top;\n",
       "    }\n",
       "\n",
       "    .dataframe thead th {\n",
       "        text-align: right;\n",
       "    }\n",
       "</style>\n",
       "<table border=\"1\" class=\"dataframe\">\n",
       "  <thead>\n",
       "    <tr style=\"text-align: right;\">\n",
       "      <th></th>\n",
       "      <th>importances</th>\n",
       "    </tr>\n",
       "  </thead>\n",
       "  <tbody>\n",
       "    <tr>\n",
       "      <th>bage</th>\n",
       "      <td>0.041559</td>\n",
       "    </tr>\n",
       "    <tr>\n",
       "      <th>perception_private_economy_future</th>\n",
       "      <td>0.039380</td>\n",
       "    </tr>\n",
       "    <tr>\n",
       "      <th>resilience_govern_careing</th>\n",
       "      <td>0.037630</td>\n",
       "    </tr>\n",
       "    <tr>\n",
       "      <th>flowvelocity</th>\n",
       "      <td>0.031579</td>\n",
       "    </tr>\n",
       "    <tr>\n",
       "      <th>flood_experience</th>\n",
       "      <td>0.021052</td>\n",
       "    </tr>\n",
       "    <tr>\n",
       "      <th>water_depth_cm</th>\n",
       "      <td>0.012803</td>\n",
       "    </tr>\n",
       "    <tr>\n",
       "      <th>shp_owner</th>\n",
       "      <td>0.007570</td>\n",
       "    </tr>\n",
       "    <tr>\n",
       "      <th>resilience_govern_warnings_helpful</th>\n",
       "      <td>0.006977</td>\n",
       "    </tr>\n",
       "    <tr>\n",
       "      <th>shp_profits_last5years</th>\n",
       "      <td>0.004885</td>\n",
       "    </tr>\n",
       "    <tr>\n",
       "      <th>resistant_material_building_impl</th>\n",
       "      <td>0.004471</td>\n",
       "    </tr>\n",
       "    <tr>\n",
       "      <th>flood_protections_impl</th>\n",
       "      <td>0.003220</td>\n",
       "    </tr>\n",
       "    <tr>\n",
       "      <th>shp_content_value_euro</th>\n",
       "      <td>0.002458</td>\n",
       "    </tr>\n",
       "    <tr>\n",
       "      <th>emergency_measures.8</th>\n",
       "      <td>0.000652</td>\n",
       "    </tr>\n",
       "  </tbody>\n",
       "</table>\n",
       "</div>"
      ],
      "text/plain": [
       "                                    importances\n",
       "bage                                   0.041559\n",
       "perception_private_economy_future      0.039380\n",
       "resilience_govern_careing              0.037630\n",
       "flowvelocity                           0.031579\n",
       "flood_experience                       0.021052\n",
       "water_depth_cm                         0.012803\n",
       "shp_owner                              0.007570\n",
       "resilience_govern_warnings_helpful     0.006977\n",
       "shp_profits_last5years                 0.004885\n",
       "resistant_material_building_impl       0.004471\n",
       "flood_protections_impl                 0.003220\n",
       "shp_content_value_euro                 0.002458\n",
       "emergency_measures.8                   0.000652"
      ]
     },
     "metadata": {},
     "output_type": "display_data"
    }
   ],
   "source": [
    "importances_cv = e.permutation_feature_importance(model_cv.best_estimator_, X_test, y_test, repeats=5, seed=seed)\n",
    "importances_cv\n",
    "\n",
    "df_importance = pd.DataFrame(\n",
    "    {\"importances\" : importances_cv[0]},\n",
    "    index=X_train.columns.to_list(),\n",
    "    ) \n",
    "df_importance = df_importance.sort_values(\"importances\", ascending=False)  # get most important features to the top\n",
    "print(\"Most important features:\", df_importance.iloc[:5].index.to_list())\n",
    "df_importance = df_importance.loc[df_importance.importances >= 0.0001, : ]\n",
    "\n",
    "df_importance"
   ]
  },
  {
   "cell_type": "code",
   "execution_count": null,
   "metadata": {},
   "outputs": [],
   "source": [
    "# fi_cols =  df_importance.loc[df_importance.importances >= 0.0001 , : ].index.to_list()#.shape\n",
    "\n",
    "\n",
    "# model_cv = RandomizedSearchCV(\n",
    "#     estimator=pipe, \n",
    "#     param_distributions=param_grid, #\n",
    "#     #param_distributions=param_bag_grid, \n",
    "#     cv=cv, \n",
    "#     scoring= \"neg_mean_absolute_error\",##\"neg_mean_absolute_error\", #\"neg_mean_squared_error\",#\"r2\" ,#\"neg_mean_absolute_error\",   #TODO classifcation: test also e.g \"f1\" or recall or \"f1_micro\", \"neg_mean_absolute_error\",\n",
    "#     refit=True,   ## Refit the best estimator with the entire dataset. If “False”, it is impossible to make predictions using this GridSearchCV instance after fitting.\n",
    "#                     ## If refit=False, clf.fit() will have no effect because the GridSearchCV object inside the pipeline will be reinitialized after fit().\n",
    "#                     ## ! When refit=True, the GridSearchCV will be refitted with the best scoring parameter combination on the whole data that is passed in fit()\n",
    "#     random_state=seed\n",
    "# )\n",
    "# ## Fit model\n",
    "# model_cv.fit(X_train.loc[:, fi_cols], y_train)   \n",
    "\n",
    "# print('Train R^2 Score : %.3f'%model_cv.best_estimator_.score(X_train.loc[:, fi_cols], y_train))\n",
    "# print('Test R^2 Score : %.3f'%model_cv.best_estimator_.score(X_test.loc[:, fi_cols], y_test))\n",
    "# #print(\"CV score: \", model_cv.best_score_ ,  model_cv.best_estimator_.score(X_train, y_train),  model_cv.best_estimator_.score(X_test, y_test))\n",
    "\n",
    "\n",
    "# ## fit model again with best hyperparams\n",
    "# print(\"Create new Elastic Net model based on best hyperparameters\")\n",
    "# model =  model_cv.best_estimator_\n"
   ]
  },
  {
   "cell_type": "code",
   "execution_count": null,
   "metadata": {},
   "outputs": [
    {
     "data": {
      "text/plain": [
       "{'model__tol': 0.5,\n",
       " 'model__selection': 'random',\n",
       " 'model__max_iter': 10,\n",
       " 'model__l1_ratio': 0.75,\n",
       " 'model__alpha': 0.1}"
      ]
     },
     "metadata": {},
     "output_type": "display_data"
    }
   ],
   "source": [
    "model_cv.best_params_\n",
    "\n",
    "## basis: bred, test set /Train 26R2)\n",
    "#    Model Performance:\n",
    "#         Mean Squared Error: 856.8\n",
    "#         Root Mean Square Error: 29.3\n",
    "#         Mean Absolute Error: 22.7\n",
    "#         Mean Absolute Percentage Error: inf\n",
    "#         R²-Score: -0.16\n",
    "#         Adjusted R²-Score: 2.32"
   ]
  },
  {
   "cell_type": "code",
   "execution_count": null,
   "metadata": {},
   "outputs": [
    {
     "name": "stdout",
     "output_type": "stream",
     "text": [
      "Most important features: ['bage', 'perception_private_economy_future', 'resilience_govern_careing', 'flowvelocity', 'flood_experience']\n"
     ]
    },
    {
     "data": {
      "text/html": [
       "<div>\n",
       "<style scoped>\n",
       "    .dataframe tbody tr th:only-of-type {\n",
       "        vertical-align: middle;\n",
       "    }\n",
       "\n",
       "    .dataframe tbody tr th {\n",
       "        vertical-align: top;\n",
       "    }\n",
       "\n",
       "    .dataframe thead th {\n",
       "        text-align: right;\n",
       "    }\n",
       "</style>\n",
       "<table border=\"1\" class=\"dataframe\">\n",
       "  <thead>\n",
       "    <tr style=\"text-align: right;\">\n",
       "      <th></th>\n",
       "      <th>importances</th>\n",
       "    </tr>\n",
       "  </thead>\n",
       "  <tbody>\n",
       "    <tr>\n",
       "      <th>bage</th>\n",
       "      <td>0.041559</td>\n",
       "    </tr>\n",
       "    <tr>\n",
       "      <th>perception_private_economy_future</th>\n",
       "      <td>0.039380</td>\n",
       "    </tr>\n",
       "    <tr>\n",
       "      <th>resilience_govern_careing</th>\n",
       "      <td>0.037630</td>\n",
       "    </tr>\n",
       "    <tr>\n",
       "      <th>flowvelocity</th>\n",
       "      <td>0.031579</td>\n",
       "    </tr>\n",
       "    <tr>\n",
       "      <th>flood_experience</th>\n",
       "      <td>0.021052</td>\n",
       "    </tr>\n",
       "    <tr>\n",
       "      <th>water_depth_cm</th>\n",
       "      <td>0.012803</td>\n",
       "    </tr>\n",
       "    <tr>\n",
       "      <th>shp_owner</th>\n",
       "      <td>0.007570</td>\n",
       "    </tr>\n",
       "    <tr>\n",
       "      <th>resilience_govern_warnings_helpful</th>\n",
       "      <td>0.006977</td>\n",
       "    </tr>\n",
       "    <tr>\n",
       "      <th>shp_profits_last5years</th>\n",
       "      <td>0.004885</td>\n",
       "    </tr>\n",
       "    <tr>\n",
       "      <th>resistant_material_building_impl</th>\n",
       "      <td>0.004471</td>\n",
       "    </tr>\n",
       "    <tr>\n",
       "      <th>flood_protections_impl</th>\n",
       "      <td>0.003220</td>\n",
       "    </tr>\n",
       "    <tr>\n",
       "      <th>shp_content_value_euro</th>\n",
       "      <td>0.002458</td>\n",
       "    </tr>\n",
       "    <tr>\n",
       "      <th>emergency_measures.8</th>\n",
       "      <td>0.000652</td>\n",
       "    </tr>\n",
       "  </tbody>\n",
       "</table>\n",
       "</div>"
      ],
      "text/plain": [
       "                                    importances\n",
       "bage                                   0.041559\n",
       "perception_private_economy_future      0.039380\n",
       "resilience_govern_careing              0.037630\n",
       "flowvelocity                           0.031579\n",
       "flood_experience                       0.021052\n",
       "water_depth_cm                         0.012803\n",
       "shp_owner                              0.007570\n",
       "resilience_govern_warnings_helpful     0.006977\n",
       "shp_profits_last5years                 0.004885\n",
       "resistant_material_building_impl       0.004471\n",
       "flood_protections_impl                 0.003220\n",
       "shp_content_value_euro                 0.002458\n",
       "emergency_measures.8                   0.000652"
      ]
     },
     "metadata": {},
     "output_type": "display_data"
    }
   ],
   "source": [
    "importances_cv = e.permutation_feature_importance(model_cv.best_estimator_, X_test, y_test, repeats=5, seed=seed)\n",
    "importances_cv\n",
    "\n",
    "df_importance = pd.DataFrame(\n",
    "    {\"importances\" : importances_cv[0]},\n",
    "    index=X_train.columns.to_list(),\n",
    "    ) \n",
    "df_importance = df_importance.sort_values(\"importances\", ascending=False)  # get most important features to the top\n",
    "print(\"Most important features:\", df_importance.iloc[:5].index.to_list())\n",
    "df_importance = df_importance.loc[df_importance.importances >= 0.0001, : ]\n",
    "\n",
    "df_importance"
   ]
  },
  {
   "cell_type": "markdown",
   "metadata": {},
   "source": [
    "#### Save best model, its hyperparamters, and evaluation scores and selected features"
   ]
  },
  {
   "cell_type": "code",
   "execution_count": null,
   "metadata": {},
   "outputs": [],
   "source": [
    "## Stored best xgb model for business reduction: best_xgboost_Target_businessreduction_pipe_xgb.sav\n",
    "## Its hyperaprams xgb_best_param_model_cv.best_params_  # early_stop=3\n",
    "\n",
    "## best model and hyperparams (here early stoping =3)\n",
    "filename = f'./models_trained/best_elasticnet_{target}_{pipe_name}.sav'\n",
    "if not glob(filename):\n",
    "    pickle.dump(model, open(filename, 'wb'))\n",
    "\n",
    "best_params = model_cv.best_params_\n",
    "best_params = pd.DataFrame({\"hyperparameter\":best_params.keys(), \"value\":best_params.values()})\n",
    "filepath = f'./models_evaluation/best_elasticnet_hyperparams_{target}_{pipe_name}.sav'\n",
    "if not glob(filepath):\n",
    "    best_params.to_csv(filename, index = False)\n",
    "\n",
    "# ## eval report\n",
    "# y_pred_train = model.predict(X_train)\n",
    "# e.evaluation_report(y_train, y_pred_train,\n",
    "#                     filepath=f\"./models_evaluation/elasticnet/best_eval_train_{target.split('_')[1]}_{pipe_name}.csv\")\n",
    "# y_pred = model.predict(X_test)\n",
    "# e.evaluation_report(y_test, y_pred, \n",
    "#                     filepath=f\"./models_evaluation/elasticnet/best_eval_test_{target.split('_')[1]}_{pipe_name}.csv\")\n",
    "\n",
    "# ## selected features\n",
    "# fs.save_selected_features(\n",
    "#         X_train, \n",
    "#         pd.DataFrame(y_train, columns=[target]), \n",
    "#         df_importance.T.columns, \n",
    "#         filename=f\"../../../input_survey_data/selected_predictors/best_fs_elasticnet_{target.split('_')[1]}_{pipe_name}.xlsx\"\n",
    "#     )"
   ]
  },
  {
   "cell_type": "code",
   "execution_count": null,
   "metadata": {},
   "outputs": [],
   "source": []
  },
  {
   "cell_type": "markdown",
   "metadata": {},
   "source": [
    "### Plot optimal number of features"
   ]
  },
  {
   "cell_type": "code",
   "execution_count": null,
   "metadata": {},
   "outputs": [],
   "source": []
  },
  {
   "cell_type": "code",
   "execution_count": 22,
   "metadata": {},
   "outputs": [
    {
     "data": {
      "text/plain": [
       "Index(['mean_fit_time', 'std_fit_time', 'mean_score_time', 'std_score_time',\n",
       "       'param_bagging__estimator__tol', 'param_bagging__estimator__selection',\n",
       "       'param_bagging__estimator__random_state',\n",
       "       'param_bagging__estimator__positive',\n",
       "       'param_bagging__estimator__max_iter',\n",
       "       'param_bagging__estimator__l1_ratio', 'param_bagging__estimator__alpha',\n",
       "       'params', 'split0_test_score', 'split1_test_score', 'split2_test_score',\n",
       "       'split3_test_score', 'split4_test_score', 'split5_test_score',\n",
       "       'split6_test_score', 'split7_test_score', 'split8_test_score',\n",
       "       'split9_test_score', 'split10_test_score', 'split11_test_score',\n",
       "       'split12_test_score', 'split13_test_score', 'split14_test_score',\n",
       "       'split15_test_score', 'split16_test_score', 'split17_test_score',\n",
       "       'split18_test_score', 'split19_test_score', 'split20_test_score',\n",
       "       'split21_test_score', 'split22_test_score', 'split23_test_score',\n",
       "       'split24_test_score', 'split25_test_score', 'split26_test_score',\n",
       "       'split27_test_score', 'split28_test_score', 'split29_test_score',\n",
       "       'mean_test_score', 'std_test_score', 'rank_test_score'],\n",
       "      dtype='object')"
      ]
     },
     "execution_count": 22,
     "metadata": {},
     "output_type": "execute_result"
    }
   ],
   "source": [
    "# cv results\n",
    "cv_results = pd.DataFrame(model_cv.cv_results_)\n",
    "cv_results.head(2)\n",
    "cv_results.columns"
   ]
  },
  {
   "cell_type": "code",
   "execution_count": 25,
   "metadata": {},
   "outputs": [],
   "source": [
    "#cv_results[\"params\"][0]"
   ]
  },
  {
   "cell_type": "code",
   "execution_count": null,
   "metadata": {},
   "outputs": [],
   "source": [
    "\n",
    "# plotting cv results\n",
    "plt.figure(figsize=(16,6))\n",
    "\n",
    "plt.plot(cv_results[\"param_n_features_to_select\"], cv_results[\"mean_test_score\"])\n",
    "plt.plot(cv_results[\"param_n_features_to_select\"], cv_results[\"mean_train_score\"])\n",
    "plt.xlabel('number of features')\n",
    "plt.ylabel('r-squared')\n",
    "plt.title(\"Optimal Number of Features\")\n",
    "plt.legend(['test score', 'train score'], loc='upper left')"
   ]
  },
  {
   "cell_type": "code",
   "execution_count": null,
   "metadata": {},
   "outputs": [],
   "source": []
  }
 ],
 "metadata": {
  "kernelspec": {
   "display_name": "py396_c3",
   "language": "python",
   "name": "python3"
  },
  "language_info": {
   "codemirror_mode": {
    "name": "ipython",
    "version": 3
   },
   "file_extension": ".py",
   "mimetype": "text/x-python",
   "name": "python",
   "nbconvert_exporter": "python",
   "pygments_lexer": "ipython3",
   "version": "3.9.6"
  },
  "orig_nbformat": 4
 },
 "nbformat": 4,
 "nbformat_minor": 2
}
