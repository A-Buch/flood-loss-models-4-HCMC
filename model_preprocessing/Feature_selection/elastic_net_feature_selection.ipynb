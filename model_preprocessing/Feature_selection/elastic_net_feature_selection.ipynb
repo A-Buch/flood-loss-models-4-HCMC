{
 "cells": [
  {
   "cell_type": "code",
   "execution_count": 102,
   "metadata": {},
   "outputs": [],
   "source": [
    "#!/usr/bin/env python\n",
    "# -*- coding: utf-8 -*-\n",
    "\"\"\"Data preprocessing for HCMC survey dataset\"\"\"\n",
    "\n",
    "__author__ = \"Anna Buch, Heidelberg University\"\n",
    "__email__ = \"a.buch@stud.uni-heidelberg.de\"\n"
   ]
  },
  {
   "cell_type": "markdown",
   "metadata": {},
   "source": [
    "# Feature selection done by elastic net \n",
    "\n",
    "Before a lasso regression was applied, but lead to not profound set of predictors, each model run lead to a nearly complete new selection of feautres. Therefore and in regard to strong multicollinearity (see pearson Correlation plot) a Elastic Net is tested.\n",
    "\n",
    "Elastic Net combines feature elimination from Lasso and feature coefficient reduction from the Ridge model to improve your model’s predictions.\n",
    "\n",
    "*Sources*\n",
    "Geron 2019: https://learning.oreilly.com/library/view/hands-on-machine-learning/9781492032632/ch04.html#idm45022190228392"
   ]
  },
  {
   "cell_type": "code",
   "execution_count": 103,
   "metadata": {},
   "outputs": [],
   "source": [
    "import numpy as np\n",
    "import pandas as pd\n",
    "\n",
    "import pickle\n",
    "\n",
    "from sklearn.linear_model import ElasticNet\n",
    "from sklearn.preprocessing import MinMaxScaler\n",
    "from sklearn.ensemble import BaggingRegressor\n",
    "from sklearn.metrics import r2_score, mean_squared_error\n",
    "from sklearn.model_selection import GridSearchCV, train_test_split, RepeatedStratifiedKFold, RepeatedKFold, cross_val_score, cross_validate\n",
    "\n",
    "\n",
    "from sklearn.pipeline import Pipeline\n",
    "\n",
    "import matplotlib.pyplot as plt\n",
    "\n",
    "from utils_feature_selection import save_selected_features\n",
    "\n",
    "\n",
    "\n",
    "seed = np.random.seed(1112)\n",
    "\n",
    "import warnings\n",
    "warnings.filterwarnings('ignore')\n",
    "\n"
   ]
  },
  {
   "cell_type": "code",
   "execution_count": 104,
   "metadata": {},
   "outputs": [
    {
     "name": "stdout",
     "output_type": "stream",
     "text": [
      "(397, 61)\n"
     ]
    },
    {
     "data": {
      "text/html": [
       "<div>\n",
       "<style scoped>\n",
       "    .dataframe tbody tr th:only-of-type {\n",
       "        vertical-align: middle;\n",
       "    }\n",
       "\n",
       "    .dataframe tbody tr th {\n",
       "        vertical-align: top;\n",
       "    }\n",
       "\n",
       "    .dataframe thead th {\n",
       "        text-align: right;\n",
       "    }\n",
       "</style>\n",
       "<table border=\"1\" class=\"dataframe\">\n",
       "  <thead>\n",
       "    <tr style=\"text-align: right;\">\n",
       "      <th></th>\n",
       "      <th>Target_contentloss_euro</th>\n",
       "      <th>Target_businessreduction</th>\n",
       "      <th>inundation_duration_h</th>\n",
       "      <th>water_depth_cm</th>\n",
       "      <th>contaminations.0</th>\n",
       "      <th>contaminations.1</th>\n",
       "      <th>contaminations.2</th>\n",
       "      <th>contaminations.3</th>\n",
       "      <th>contaminations.4</th>\n",
       "      <th>flowvelocity</th>\n",
       "      <th>...</th>\n",
       "      <th>resilience_left_alone</th>\n",
       "      <th>resilience_neighbor_management</th>\n",
       "      <th>perception_who_responsible4protection.Rank1</th>\n",
       "      <th>perception_who_responsible4protection.Rank2</th>\n",
       "      <th>perception_govern_support_past</th>\n",
       "      <th>perception_govern_support_future</th>\n",
       "      <th>perception_private_economy_future</th>\n",
       "      <th>shp_content_value_euro</th>\n",
       "      <th>shp_registered_capital_euro</th>\n",
       "      <th>elevation_m</th>\n",
       "    </tr>\n",
       "  </thead>\n",
       "  <tbody>\n",
       "    <tr>\n",
       "      <th>395</th>\n",
       "      <td>0.0</td>\n",
       "      <td>NaN</td>\n",
       "      <td>4.0</td>\n",
       "      <td>70.0</td>\n",
       "      <td>0</td>\n",
       "      <td>1</td>\n",
       "      <td>0</td>\n",
       "      <td>0</td>\n",
       "      <td>1</td>\n",
       "      <td>1</td>\n",
       "      <td>...</td>\n",
       "      <td>5</td>\n",
       "      <td>1.0</td>\n",
       "      <td>2.0</td>\n",
       "      <td>2.0</td>\n",
       "      <td>NaN</td>\n",
       "      <td>1.0</td>\n",
       "      <td>3.0</td>\n",
       "      <td>NaN</td>\n",
       "      <td>11047.7</td>\n",
       "      <td>1.83886</td>\n",
       "    </tr>\n",
       "    <tr>\n",
       "      <th>396</th>\n",
       "      <td>0.0</td>\n",
       "      <td>0.0</td>\n",
       "      <td>3.0</td>\n",
       "      <td>100.0</td>\n",
       "      <td>0</td>\n",
       "      <td>1</td>\n",
       "      <td>0</td>\n",
       "      <td>0</td>\n",
       "      <td>1</td>\n",
       "      <td>1</td>\n",
       "      <td>...</td>\n",
       "      <td>5</td>\n",
       "      <td>NaN</td>\n",
       "      <td>3.0</td>\n",
       "      <td>2.0</td>\n",
       "      <td>NaN</td>\n",
       "      <td>NaN</td>\n",
       "      <td>3.0</td>\n",
       "      <td>NaN</td>\n",
       "      <td>736.5</td>\n",
       "      <td>1.87277</td>\n",
       "    </tr>\n",
       "  </tbody>\n",
       "</table>\n",
       "<p>2 rows × 61 columns</p>\n",
       "</div>"
      ],
      "text/plain": [
       "     Target_contentloss_euro  Target_businessreduction  inundation_duration_h   \n",
       "395                      0.0                       NaN                    4.0  \\\n",
       "396                      0.0                       0.0                    3.0   \n",
       "\n",
       "     water_depth_cm  contaminations.0  contaminations.1  contaminations.2   \n",
       "395            70.0                 0                 1                 0  \\\n",
       "396           100.0                 0                 1                 0   \n",
       "\n",
       "     contaminations.3  contaminations.4  flowvelocity  ...   \n",
       "395                 0                 1             1  ...  \\\n",
       "396                 0                 1             1  ...   \n",
       "\n",
       "     resilience_left_alone  resilience_neighbor_management   \n",
       "395                      5                             1.0  \\\n",
       "396                      5                             NaN   \n",
       "\n",
       "     perception_who_responsible4protection.Rank1   \n",
       "395                                          2.0  \\\n",
       "396                                          3.0   \n",
       "\n",
       "     perception_who_responsible4protection.Rank2   \n",
       "395                                          2.0  \\\n",
       "396                                          2.0   \n",
       "\n",
       "     perception_govern_support_past  perception_govern_support_future   \n",
       "395                             NaN                               1.0  \\\n",
       "396                             NaN                               NaN   \n",
       "\n",
       "     perception_private_economy_future  shp_content_value_euro   \n",
       "395                                3.0                     NaN  \\\n",
       "396                                3.0                     NaN   \n",
       "\n",
       "     shp_registered_capital_euro  elevation_m  \n",
       "395                      11047.7      1.83886  \n",
       "396                        736.5      1.87277  \n",
       "\n",
       "[2 rows x 61 columns]"
      ]
     },
     "execution_count": 104,
     "metadata": {},
     "output_type": "execute_result"
    }
   ],
   "source": [
    "df_candidates = pd.read_excel(\"../../input_survey_data/input_data_business.xlsx\")\n",
    "print(df_candidates.shape)\n",
    "df_candidates.tail(2)\n"
   ]
  },
  {
   "cell_type": "code",
   "execution_count": null,
   "metadata": {},
   "outputs": [],
   "source": []
  },
  {
   "cell_type": "markdown",
   "metadata": {},
   "source": [
    "#### Split Data and Normalize variables \n",
    "- due that most variables dont have a gaussian distribution, donwside is that distance to outliers is decreased so outliers have influence on the loss calculation (smaller standard deviations when using normaization)\n"
   ]
  },
  {
   "cell_type": "code",
   "execution_count": 105,
   "metadata": {},
   "outputs": [
    {
     "name": "stdout",
     "output_type": "stream",
     "text": [
      "Percentage of missing valeus per feature\n",
      " warning_time_h                                 0.775819\n",
      "perception_who_responsible4protection.Rank2    0.392947\n",
      "perception_govern_support_past                 0.382872\n",
      "perception_govern_support_future               0.342569\n",
      "elevation_building_height_cm                   0.158690\n",
      "shp_content_value_euro                         0.156171\n",
      "resilience_govern_careing_increases            0.136020\n",
      "shp_registered_capital_euro                    0.118388\n",
      "Target_businessreduction                       0.090680\n",
      "perception_who_responsible4protection.Rank1    0.070529\n",
      "shp_risk_tolerance                             0.070529\n",
      "bage                                           0.068010\n",
      "perception_private_economy_future              0.065491\n",
      "hh_monthly_income_cat                          0.060453\n",
      "resilience_govern_careing                      0.057935\n",
      "dtype: float64\n"
     ]
    }
   ],
   "source": [
    "print(\"Percentage of missing valeus per feature\\n\", df_candidates.isna().mean().sort_values(ascending=False)[:15] ) "
   ]
  },
  {
   "cell_type": "code",
   "execution_count": 106,
   "metadata": {},
   "outputs": [
    {
     "name": "stdout",
     "output_type": "stream",
     "text": [
      "resilience_govern_careing_increases            54\n",
      "shp_registered_capital_euro                    47\n",
      "Target_businessreduction                       36\n",
      "perception_who_responsible4protection.Rank1    28\n",
      "shp_risk_tolerance                             28\n",
      "bage                                           27\n",
      "perception_private_economy_future              26\n",
      "hh_monthly_income_cat                          24\n",
      "resilience_govern_careing                      23\n",
      "resilience_govern_warnings_helpful             18\n",
      "shp_monetary_resources4prevention              18\n",
      "resilience_more_future_affected                15\n",
      "resilience_city_protection                     15\n",
      "shp_profits_last5years                         15\n",
      "resilience_neighbor_management                 11\n",
      "Target_contentloss_euro                        11\n",
      "inundation_duration_h                           9\n",
      "elevation_m                                     4\n",
      "b_area                                          2\n",
      "water_depth_cm                                  1\n",
      "overall_problem_house                           0\n",
      "emergency_measures.1                            0\n",
      "shp_suppliers_location.4                        0\n",
      "shp_suppliers_location.5                        0\n",
      "emergency_measures.6                            0\n",
      "emergency_measures.4                            0\n",
      "emergency_measures.3                            0\n",
      "emergency_measures.2                            0\n",
      "flowvelocity                                    0\n",
      "shp_suppliers_location.2                        0\n",
      "contaminations.4                                0\n",
      "contaminations.3                                0\n",
      "resilience_left_alone                           0\n",
      "contaminations.2                                0\n",
      "contaminations.1                                0\n",
      "contaminations.0                                0\n",
      "shp_suppliers_location.3                        0\n",
      "shp_suppliers_location.1                        0\n",
      "protect_valuables_impl                          0\n",
      "flood_experience                                0\n",
      "water_barriers_impl                             0\n",
      "pumping_equipment_impl                          0\n",
      "elevation_building_impl                         0\n",
      "resistant_material_building_impl                0\n",
      "electricity_higher_impl                         0\n",
      "flood_protections_impl                          0\n",
      "emergency_measures.9                            0\n",
      "shp_finance_investments                         0\n",
      "emergency_measures.8                            0\n",
      "emergency_measures.7                            0\n",
      "shp_owner                                       0\n",
      "shp_sector                                      0\n",
      "shp_employees                                   0\n",
      "shp_avgmonthly_sale_cat                         0\n",
      "elevation_rel2surrounding_cat                   0\n",
      "dtype: int64\n"
     ]
    }
   ],
   "source": [
    "## delete feautres with more than 50 missing values\n",
    "# print(df_candidates.isna().sum(axis=0).sort_values(ascending=False))\n",
    "df_candidates = df_candidates[df_candidates.columns[df_candidates.isna().mean() < 0.15]]  # drop feautres with more than 15 missing values\n",
    "print(df_candidates.isna().sum(axis=0).sort_values(ascending=False))\n",
    "\n",
    "## --> drop content values "
   ]
  },
  {
   "cell_type": "code",
   "execution_count": 107,
   "metadata": {},
   "outputs": [
    {
     "name": "stdout",
     "output_type": "stream",
     "text": [
      "resilience_govern_careing_increases            54\n",
      "shp_registered_capital_euro                    47\n",
      "Target_businessreduction                       36\n",
      "perception_who_responsible4protection.Rank1    28\n",
      "shp_risk_tolerance                             28\n",
      "bage                                           27\n",
      "perception_private_economy_future              26\n",
      "hh_monthly_income_cat                          24\n",
      "resilience_govern_careing                      23\n",
      "resilience_govern_warnings_helpful             18\n",
      "shp_monetary_resources4prevention              18\n",
      "resilience_more_future_affected                15\n",
      "resilience_city_protection                     15\n",
      "shp_profits_last5years                         15\n",
      "resilience_neighbor_management                 11\n",
      "Target_contentloss_euro                        11\n",
      "inundation_duration_h                           9\n",
      "elevation_m                                     4\n",
      "b_area                                          2\n",
      "water_depth_cm                                  1\n",
      "overall_problem_house                           0\n",
      "emergency_measures.1                            0\n",
      "shp_suppliers_location.4                        0\n",
      "shp_suppliers_location.5                        0\n",
      "emergency_measures.6                            0\n",
      "emergency_measures.4                            0\n",
      "emergency_measures.3                            0\n",
      "emergency_measures.2                            0\n",
      "flowvelocity                                    0\n",
      "shp_suppliers_location.2                        0\n",
      "contaminations.4                                0\n",
      "contaminations.3                                0\n",
      "resilience_left_alone                           0\n",
      "contaminations.2                                0\n",
      "contaminations.1                                0\n",
      "contaminations.0                                0\n",
      "shp_suppliers_location.3                        0\n",
      "shp_suppliers_location.1                        0\n",
      "protect_valuables_impl                          0\n",
      "flood_experience                                0\n",
      "water_barriers_impl                             0\n",
      "pumping_equipment_impl                          0\n",
      "elevation_building_impl                         0\n",
      "resistant_material_building_impl                0\n",
      "electricity_higher_impl                         0\n",
      "flood_protections_impl                          0\n",
      "emergency_measures.9                            0\n",
      "shp_finance_investments                         0\n",
      "emergency_measures.8                            0\n",
      "emergency_measures.7                            0\n",
      "shp_owner                                       0\n",
      "shp_sector                                      0\n",
      "shp_employees                                   0\n",
      "shp_avgmonthly_sale_cat                         0\n",
      "elevation_rel2surrounding_cat                   0\n",
      "dtype: int64\n"
     ]
    }
   ],
   "source": [
    "print(df_candidates.isna().sum().sort_values(ascending=False)) # remaining abs number of nan per feature"
   ]
  },
  {
   "cell_type": "code",
   "execution_count": 108,
   "metadata": {},
   "outputs": [],
   "source": [
    "# ## TODO fix missing values by filling or removing them:\n",
    "# ## Idea: remove nan in targets (->get 2 ds) and fill missing values in candidate predictors\n",
    "# ## or think about to remove predictors with very many missing values , even they are significant correlated to target eg. warning time\n",
    "\n",
    "## number of missing values for each predictor and for each case\n",
    "# df_candidates_t.isna().sum().sort_values(ascending=False)\n",
    "#t = df_candidates_t.drop([\"perception_govern_support_future\", \"warning_time_h\"], axis=1)\n",
    "# t.isna().sum().sum()\n",
    "\n",
    "# df_candidates.isna().sum(axis=1).sort_values(ascending=False) # nan per case\n"
   ]
  },
  {
   "cell_type": "code",
   "execution_count": 117,
   "metadata": {},
   "outputs": [],
   "source": [
    "## Hyperparameter ranges to test\n",
    "\n",
    "param_grid = {\n",
    "    \"name__estimator__alpha\": [0.001, 0.01, 0.1, 1, 5],      # alpha: constant mulitplies penality term, alpha = 0 is equivalent to an OLS solved by the LinearRegression\n",
    "    \"name__estimator__max_iter\": [1,2,3,4],\n",
    "    \"name__estimator__l1_ratio\": np.arange(0.0, 1.0, 0.25),     # r = 0, equivalent to Ridge Regression (=L2),  r = 1 equivalent to Lasso Regression (=L1) \n",
    "    #\"name__estimator__tol\": [0.5],\n",
    "}\n",
    "\n",
    "param_bagging = {\n",
    "    'bootstrap': [True, False],\n",
    "    # 'bootstrap_features': [True, False],\n",
    "    # 'n_estimators': [20,50,100],\n",
    "    # 'max_samples': [0.5,1.0, X_train.shape[0]//2,],\n",
    "    # 'max_features': [0.5,1.0, X_train.shape[1]//2,],\n",
    "}\n",
    "#['base_estimator', 'bootstrap', 'bootstrap_features', 'estimator', 'max_features', 'max_samples', 'n_estimators', 'n_jobs', 'oob_score', 'random_state', 'verbose', 'warm_start'].\n",
    "## TODO add hyperparams for Bagging: \n",
    "## current defaults: n_estimators=10, *, max_samples=1.0, max_features=1.0, bootstrap=True, bootstrap_features=False, oob_score=False\n"
   ]
  },
  {
   "cell_type": "code",
   "execution_count": 91,
   "metadata": {},
   "outputs": [
    {
     "data": {
      "text/plain": [
       "<function sklearn.ensemble._bagging.BaggingRegressor.__init__(self, estimator=None, n_estimators=10, *, max_samples=1.0, max_features=1.0, bootstrap=True, bootstrap_features=False, oob_score=False, warm_start=False, n_jobs=None, random_state=None, verbose=0, base_estimator='deprecated')>"
      ]
     },
     "execution_count": 91,
     "metadata": {},
     "output_type": "execute_result"
    }
   ],
   "source": [
    "BaggingRegressor.__init__\t"
   ]
  },
  {
   "cell_type": "code",
   "execution_count": 118,
   "metadata": {},
   "outputs": [
    {
     "data": {
      "text/plain": [
       "226"
      ]
     },
     "execution_count": 118,
     "metadata": {},
     "output_type": "execute_result"
    }
   ],
   "source": [
    "df_candidates.Target_contentloss_euro[df_candidates.Target_contentloss_euro==0].count()"
   ]
  },
  {
   "cell_type": "code",
   "execution_count": 120,
   "metadata": {},
   "outputs": [
    {
     "name": "stdout",
     "output_type": "stream",
     "text": [
      "\n",
      "Apply Elastic Net on Target_contentloss_euro:\n",
      "Number of missing target information 0\n",
      "Uses  201  records\n"
     ]
    }
   ],
   "source": [
    "## iterate over both targets and store results \n",
    "\n",
    "targets = [\"Target_contentloss_euro\", \"Target_businessreduction\"]\n",
    "importances_threshold = {\"Target_contentloss_euro\": 0.01, \"Target_businessreduction\": 0.01 }\n",
    "\n",
    "for target in targets:\n",
    "\n",
    "    print( f\"\\nApply Elastic Net on {target}:\")\n",
    "\n",
    "    df_candidates_t = df_candidates\n",
    "\n",
    "    ## remove cases where target information is missing \n",
    "    #df_candidates_t = df_candidates_t[ ~df_candidates_t[f\"{target}\"].isna()]\n",
    "    \n",
    "    ## clean df from remaining records containg nan\n",
    "    df_candidates_t = df_candidates_t.dropna()\n",
    "\n",
    "    print(\"Number of missing target information\", df_candidates_t[target].isna().sum())\n",
    "    print(\"Uses \", df_candidates_t.shape[0], \" records\")\n",
    "\n",
    "        \n",
    "    X_unscaled = df_candidates_t.drop(targets, axis=1)  # remove bth targets from X\n",
    "    y = df_candidates_t[target]\n",
    " \n",
    "    ## normalize data \n",
    "    scaler = MinMaxScaler() \n",
    "    X = scaler.fit_transform(pd.DataFrame(X_unscaled))\n",
    "    y = scaler.fit_transform(pd.DataFrame(y))\n",
    "    \n",
    "    ## test train split\n",
    "    X_train, X_test, y_train, y_test = train_test_split(\n",
    "        X, y, test_size=0.2, \n",
    "        random_state=seed, shuffle=True\n",
    "    )\n",
    "\n",
    "    ## GridSearchCV to find best hyperparameters\n",
    "    # alterniatve built-in version: ElasticNetCV()  https://scikit-learn.org/stable/modules/generated/sklearn.linear_model.ElasticNetCV.html#sklearn.linear_model.ElasticNetCV\n",
    "    cv = RepeatedKFold(n_splits=5, n_repeats=3, random_state=seed) # cv method TODO find better method maybe RepeatedStratifiedKFold\n",
    "    model = {'model': BaggingRegressor,\n",
    "            'kwargs': {'estimator': ElasticNet()},\n",
    "            'parameters': param_grid , # hyperParams for ElasticNet have to start with \"name__estimator__<HyperParamName>\"\" ,# eg. {'name__estimator__alpha': [0.0001, 0.001, 0.01, 0.1, 1, 10, 50, 100] }\n",
    "            }\n",
    "    pipeline = Pipeline(\n",
    "        [('name', model['model'] (**model['kwargs']) ) ]\n",
    "    )\n",
    "    elastic_net_cv = GridSearchCV(pipeline, param_grid=model['parameters'], cv=cv, scoring=\"neg_mean_absolute_error\")\n",
    "\n",
    "    ## Fit model \n",
    "    elastic_net_cv.fit(X_train, y_train) \n",
    "    print(f\"Best hyperparams: {elastic_net_cv.best_params_}\")\n",
    "    print('Train R^2 Score : %.3f'%elastic_net_cv.best_estimator_.score(X_train, y_train))\n",
    "    #print(\"MAE of best model: %.3f\" % elastic_net_cv.best_score_)  # TODO check why MAE nan \n",
    " \n",
    "\n",
    "    ## fit model again with best hyperparams\n",
    "    elastic_net = ElasticNet(alpha = elastic_net_cv.best_params_['name__estimator__alpha'], \n",
    "                        max_iter = elastic_net_cv.best_params_['name__estimator__max_iter'],\n",
    "                        l1_ratio = elastic_net_cv.best_params_['name__estimator__l1_ratio'],\n",
    "                        #tol = elastic_net_cv.best_params_['name__estimator__tol'],\n",
    "                        random_state=seed)\n",
    "    elastic_net.fit(X_train, y_train)\n",
    "    \n",
    "    ## store trained model for evaluation\n",
    "    filename = f'./models_trained/elasticnet_{target}.sav'\n",
    "    pickle.dump(elastic_net, open(filename, 'wb'))\n",
    "    \n",
    "    ## predict unseen data\n",
    "    #y_pred = elastic_net.predict(X_test)\n",
    "    #rmse = np.sqrt(mean_squared_error(y_test, y_pred))\n",
    "    #print(\"RMSE:  {:.2f}\".format(rmse)) \n",
    "\n",
    "   ## Evaluate model\n",
    "    print(\"Elastic Net:\")\n",
    "    print(f\"Training set score (R^2): {round(elastic_net.score(X_train, y_train), 2)}\")  # how well did the model on the training set\n",
    "    #print(f\"Test set score (R^2): {elastic_net.score(X_test, y_test)}\")   # .. compared to the unseen test set for overfitting - acutal not needed\n",
    "    # r2 = variance explained by model / total variance --> higher r2= better fitted model\n",
    "\n",
    "    ## select significant features by using elstic net coefs (= linear relationship between features ~ target, adjusted by the regularization terms)\n",
    "    df_importance = pd.DataFrame({\n",
    "        \"importances\" : np.abs(elastic_net.coef_), # larger absolute coef value == more important feature\n",
    "        }, index= X_unscaled.columns.to_list())\n",
    "    df_importance = df_importance.loc[df_importance.importances > importances_threshold[target], : ].T      # drop features which dont reduce the loss\n",
    "\n",
    "    ## write selected predictors and response to disk\n",
    "    X_train = pd.DataFrame(X_train)\n",
    "    X_train.columns = X_unscaled.columns\n",
    "    y_train = pd.DataFrame(y_train)\n",
    "    y_train.columns = [target]\n",
    "    save_selected_features(X_train, y_train, df_importance.columns, filename=f\"../../input_survey_data/fs_elasticnet_{target}.xlsx\")\n",
    "\n",
    "\n",
    "    ## evaluate\n",
    "    # scores = cross_validate(elastic_net, X_train, y_train, scoring='accuracy', cv=cv, n_jobs=-1) # neg_mean_absolute_error\n",
    "    # print(scores)\n",
    "    # # force scores to be positive\n",
    "    # #scores = np.abs(scores)\n",
    "    # #print('Mean MAE: %.3f (%.3f)' % (np.mean(scores), np.std(scores)))\n"
   ]
  },
  {
   "cell_type": "code",
   "execution_count": 51,
   "metadata": {},
   "outputs": [
    {
     "data": {
      "text/plain": [
       "<function sklearn.model_selection._search.GridSearchCV.__init__(self, estimator, param_grid, *, scoring=None, n_jobs=None, refit=True, cv=None, verbose=0, pre_dispatch='2*n_jobs', error_score=nan, return_train_score=False)>"
      ]
     },
     "execution_count": 51,
     "metadata": {},
     "output_type": "execute_result"
    }
   ],
   "source": [
    "elastic_net_cv.best_params_"
   ]
  },
  {
   "cell_type": "markdown",
   "metadata": {},
   "source": [
    "## Evaluation"
   ]
  },
  {
   "cell_type": "code",
   "execution_count": 199,
   "metadata": {},
   "outputs": [
    {
     "name": "stdout",
     "output_type": "stream",
     "text": [
      "['Target_contentloss_euro', 'Target_businessreduction']\n"
     ]
    },
    {
     "data": {
      "text/plain": [
       "{'alpha': 0.01,\n",
       " 'copy_X': True,\n",
       " 'fit_intercept': True,\n",
       " 'l1_ratio': 0.75,\n",
       " 'max_iter': 2,\n",
       " 'positive': False,\n",
       " 'precompute': False,\n",
       " 'random_state': None,\n",
       " 'selection': 'cyclic',\n",
       " 'tol': 0.5,\n",
       " 'warm_start': False}"
      ]
     },
     "execution_count": 199,
     "metadata": {},
     "output_type": "execute_result"
    }
   ],
   "source": [
    "## reload models\n",
    "\n",
    "print(targets)\n",
    "target = targets[0]\n",
    "\n",
    "elastic_net_eval = pickle.load(open(f\"./models_trained/elasticnet_{target}.sav\", 'rb'))\n",
    "elastic_net_eval.get_params()"
   ]
  },
  {
   "cell_type": "code",
   "execution_count": 200,
   "metadata": {},
   "outputs": [],
   "source": [
    "# print('R^2 training set', round(elastic_net.score(X_train, y_train)*100, 2))\n",
    "# print('R^2 test set', round(elastic_net.score(X_test, y_test)*100, 2))"
   ]
  },
  {
   "cell_type": "markdown",
   "metadata": {},
   "source": [
    "### Feature importance"
   ]
  },
  {
   "cell_type": "code",
   "execution_count": 201,
   "metadata": {},
   "outputs": [
    {
     "name": "stdout",
     "output_type": "stream",
     "text": [
      "if alpha < 0.5 used more Ridge regularization:  0.01\n"
     ]
    }
   ],
   "source": [
    "print(\"if alpha < 0.5 used more Ridge regularization: \" , elastic_net_eval.alpha)"
   ]
  },
  {
   "cell_type": "code",
   "execution_count": 204,
   "metadata": {},
   "outputs": [
    {
     "data": {
      "image/png": "[encoded data removed]",
      "text/plain": [
       "<Figure size 1200x500 with 1 Axes>"
      ]
     },
     "metadata": {},
     "output_type": "display_data"
    }
   ],
   "source": [
    "# plot feature importance\n",
    "fig, ax = plt.subplots(figsize=(12,5))\n",
    "\n",
    "## coef of feature importances\n",
    "df_importance = pd.DataFrame({\n",
    "    \"name\" : X_unscaled.columns.to_list(),\n",
    "    \"importances\" : np.absolute(elastic_net_eval.coef_),\n",
    "     }) \n",
    "\n",
    "# drop features which dont reduce the loss\n",
    "df_importance = df_importance.loc[df_importance.importances > 0.000, : ] \n",
    "df_importance = df_importance.sort_values(\"importances\", ascending=False)\n",
    "\n",
    "plt.bar(df_importance.name, df_importance.importances)\n",
    "plt.xticks(\n",
    "    #ticks = range(len(selected_feat)),\n",
    "    #labels = X_unscaled.iloc[:,selected_feat],\n",
    "    rotation = 90\n",
    "    )\n",
    "plt.title(f\"Feature Importances for {target}\")\n",
    "\n",
    "plt.show()"
   ]
  },
  {
   "cell_type": "code",
   "execution_count": 54,
   "metadata": {},
   "outputs": [],
   "source": [
    "# coef = pd.Series(elastic_net.coef_, index = X_train.columns)\n",
    "# important_features = pd.concat([coef.sort_values().head(10),\n",
    "#                      coef.sort_values().tail(10)])\n",
    "# important_features.plot(kind = \"barh\")\n",
    "# plt.title(\"Coefficients in the ElasticNet Model\")"
   ]
  },
  {
   "cell_type": "code",
   "execution_count": null,
   "metadata": {},
   "outputs": [],
   "source": []
  }
 ],
 "metadata": {
  "kernelspec": {
   "display_name": "py396_c3",
   "language": "python",
   "name": "python3"
  },
  "language_info": {
   "codemirror_mode": {
    "name": "ipython",
    "version": 3
   },
   "file_extension": ".py",
   "mimetype": "text/x-python",
   "name": "python",
   "nbconvert_exporter": "python",
   "pygments_lexer": "ipython3",
   "version": "3.9.6"
  },
  "orig_nbformat": 4
 },
 "nbformat": 4,
 "nbformat_minor": 2
}
