{
 "cells": [
  {
   "cell_type": "code",
   "execution_count": 1,
   "metadata": {},
   "outputs": [],
   "source": [
    "#!/usr/bin/env python\n",
    "# -*- coding: utf-8 -*-\n",
    "\"\"\"Data preprocessing for HCMC survey dataset\"\"\"\n",
    "\n",
    "__author__ = \"Anna Buch, Heidelberg University\"\n",
    "__email__ = \"a.buch@stud.uni-heidelberg.de\"\n"
   ]
  },
  {
   "cell_type": "markdown",
   "metadata": {},
   "source": [
    "# Feature selection done by elastic net \n",
    "\n",
    "Before a lasso regression was applied, but lead to not profound set of predictors, each model run lead to a nearly complete new selection of feautres. Therefore and in regard to strong multicollinearity (see pearson Correlation plot) a Elastic Net is tested.\n",
    "\n",
    "Elastic Net combines feature elimination from Lasso and feature coefficient reduction from the Ridge model to improve your model’s predictions.\n",
    "\n",
    "*Sources*\n",
    "Geron 2019: https://learning.oreilly.com/library/view/hands-on-machine-learning/9781492032632/ch04.html#idm45022190228392"
   ]
  },
  {
   "cell_type": "code",
   "execution_count": 2,
   "metadata": {},
   "outputs": [],
   "source": [
    "import sys\n",
    "import numpy as np\n",
    "import pandas as pd\n",
    "\n",
    "import pickle\n",
    "import joblib\n",
    "\n",
    "from sklearn.linear_model import ElasticNet\n",
    "from sklearn.preprocessing import MinMaxScaler\n",
    "from sklearn.ensemble import BaggingRegressor\n",
    "from sklearn.metrics import r2_score, mean_squared_error\n",
    "from sklearn.model_selection import RandomizedSearchCV, GridSearchCV, train_test_split, RepeatedStratifiedKFold, RepeatedKFold, cross_val_score, cross_validate\n",
    "from sklearn.compose import TransformedTargetRegressor\n",
    "\n",
    "from sklearn.pipeline import Pipeline\n",
    "\n",
    "import matplotlib.pyplot as plt\n",
    "\n",
    "sys.path.insert(0, \"../../../\")\n",
    "import utils.utils_feature_selection as fs\n",
    "import utils.utils_evaluation as e\n",
    "import utils.utils_figures as f\n",
    "import utils.settings as s\n",
    "import utils.pipelines_continous as p\n",
    "\n",
    "s.init()\n",
    "seed = s.seed\n",
    "\n",
    "import warnings\n",
    "warnings.filterwarnings('ignore')\n",
    "\n",
    "%matplotlib"
   ]
  },
  {
   "cell_type": "code",
   "execution_count": null,
   "metadata": {},
   "outputs": [
    {
     "name": "stdout",
     "output_type": "stream",
     "text": [
      "(397, 50)\n"
     ]
    },
    {
     "data": {
      "text/html": [
       "<div>\n",
       "<style scoped>\n",
       "    .dataframe tbody tr th:only-of-type {\n",
       "        vertical-align: middle;\n",
       "    }\n",
       "\n",
       "    .dataframe tbody tr th {\n",
       "        vertical-align: top;\n",
       "    }\n",
       "\n",
       "    .dataframe thead th {\n",
       "        text-align: right;\n",
       "    }\n",
       "</style>\n",
       "<table border=\"1\" class=\"dataframe\">\n",
       "  <thead>\n",
       "    <tr style=\"text-align: right;\">\n",
       "      <th></th>\n",
       "      <th>Target_businessreduction</th>\n",
       "      <th>inundation_duration_h</th>\n",
       "      <th>water_depth_cm</th>\n",
       "      <th>contaminations.0</th>\n",
       "      <th>flowvelocity</th>\n",
       "      <th>warning_time_h</th>\n",
       "      <th>emergency_measures.1</th>\n",
       "      <th>emergency_measures.2</th>\n",
       "      <th>emergency_measures.3</th>\n",
       "      <th>emergency_measures.4</th>\n",
       "      <th>...</th>\n",
       "      <th>resilience_left_alone</th>\n",
       "      <th>resilience_neighbor_management</th>\n",
       "      <th>perception_who_responsible4protection.Rank1</th>\n",
       "      <th>perception_private_economy_future</th>\n",
       "      <th>contaminations_light</th>\n",
       "      <th>contaminations_heavy</th>\n",
       "      <th>shp_suppliers_HCMC</th>\n",
       "      <th>shp_content_value_euro</th>\n",
       "      <th>elevation_m</th>\n",
       "      <th>shp_registered_capital_euro</th>\n",
       "    </tr>\n",
       "  </thead>\n",
       "  <tbody>\n",
       "    <tr>\n",
       "      <th>395</th>\n",
       "      <td>NaN</td>\n",
       "      <td>4.0</td>\n",
       "      <td>70.0</td>\n",
       "      <td>0</td>\n",
       "      <td>1</td>\n",
       "      <td>NaN</td>\n",
       "      <td>1</td>\n",
       "      <td>0</td>\n",
       "      <td>1</td>\n",
       "      <td>0</td>\n",
       "      <td>...</td>\n",
       "      <td>5</td>\n",
       "      <td>1.0</td>\n",
       "      <td>2.0</td>\n",
       "      <td>3.0</td>\n",
       "      <td>1</td>\n",
       "      <td>0</td>\n",
       "      <td>1</td>\n",
       "      <td>NaN</td>\n",
       "      <td>1.83886</td>\n",
       "      <td>11047.7</td>\n",
       "    </tr>\n",
       "    <tr>\n",
       "      <th>396</th>\n",
       "      <td>0.0</td>\n",
       "      <td>3.0</td>\n",
       "      <td>100.0</td>\n",
       "      <td>0</td>\n",
       "      <td>1</td>\n",
       "      <td>NaN</td>\n",
       "      <td>1</td>\n",
       "      <td>0</td>\n",
       "      <td>1</td>\n",
       "      <td>0</td>\n",
       "      <td>...</td>\n",
       "      <td>5</td>\n",
       "      <td>NaN</td>\n",
       "      <td>3.0</td>\n",
       "      <td>3.0</td>\n",
       "      <td>1</td>\n",
       "      <td>0</td>\n",
       "      <td>1</td>\n",
       "      <td>NaN</td>\n",
       "      <td>1.87277</td>\n",
       "      <td>736.5</td>\n",
       "    </tr>\n",
       "  </tbody>\n",
       "</table>\n",
       "<p>2 rows × 50 columns</p>\n",
       "</div>"
      ],
      "text/plain": [
       "     Target_businessreduction  inundation_duration_h  water_depth_cm   \n",
       "395                       NaN                    4.0            70.0  \\\n",
       "396                       0.0                    3.0           100.0   \n",
       "\n",
       "     contaminations.0  flowvelocity  warning_time_h  emergency_measures.1   \n",
       "395                 0             1             NaN                     1  \\\n",
       "396                 0             1             NaN                     1   \n",
       "\n",
       "     emergency_measures.2  emergency_measures.3  emergency_measures.4  ...   \n",
       "395                     0                     1                     0  ...  \\\n",
       "396                     0                     1                     0  ...   \n",
       "\n",
       "     resilience_left_alone  resilience_neighbor_management   \n",
       "395                      5                             1.0  \\\n",
       "396                      5                             NaN   \n",
       "\n",
       "     perception_who_responsible4protection.Rank1   \n",
       "395                                          2.0  \\\n",
       "396                                          3.0   \n",
       "\n",
       "     perception_private_economy_future  contaminations_light   \n",
       "395                                3.0                     1  \\\n",
       "396                                3.0                     1   \n",
       "\n",
       "     contaminations_heavy  shp_suppliers_HCMC  shp_content_value_euro   \n",
       "395                     0                   1                     NaN  \\\n",
       "396                     0                   1                     NaN   \n",
       "\n",
       "     elevation_m  shp_registered_capital_euro  \n",
       "395      1.83886                      11047.7  \n",
       "396      1.87277                        736.5  \n",
       "\n",
       "[2 rows x 50 columns]"
      ]
     },
     "execution_count": 3,
     "metadata": {},
     "output_type": "execute_result"
    }
   ],
   "source": [
    "df_candidates = pd.read_excel(\"../../../input_survey_data/input_data_businessreduction.xlsx\")\n",
    "#df_candidates = pd.read_excel(\"../../../input_survey_data/input_data_contentloss.xlsx\")\n",
    "\n",
    "print(df_candidates.shape)\n",
    "df_candidates.tail(2)\n"
   ]
  },
  {
   "cell_type": "markdown",
   "metadata": {},
   "source": [
    "## Clean dataset from features and records with too many missing values\n"
   ]
  },
  {
   "cell_type": "code",
   "execution_count": null,
   "metadata": {},
   "outputs": [
    {
     "name": "stdout",
     "output_type": "stream",
     "text": [
      "Percentage of missing valeus per feature\n",
      " warning_time_h                                 0.775819\n",
      "shp_content_value_euro                         0.158690\n",
      "elevation_building_height_cm                   0.158690\n",
      "shp_registered_capital_euro                    0.118388\n",
      "Target_businessreduction                       0.090680\n",
      "shp_risk_tolerance                             0.070529\n",
      "perception_who_responsible4protection.Rank1    0.070529\n",
      "bage                                           0.068010\n",
      "perception_private_economy_future              0.065491\n",
      "hh_monthly_income_cat                          0.060453\n",
      "resilience_govern_careing                      0.057935\n",
      "shp_monetary_resources4prevention              0.045340\n",
      "resilience_govern_warnings_helpful             0.045340\n",
      "resilience_more_future_affected                0.037783\n",
      "shp_profits_last5years                         0.037783\n",
      "dtype: float64\n"
     ]
    }
   ],
   "source": [
    "print(\"Percentage of missing valeus per feature\\n\", df_candidates.isna().mean().sort_values(ascending=False)[:15] ) "
   ]
  },
  {
   "cell_type": "code",
   "execution_count": null,
   "metadata": {},
   "outputs": [
    {
     "name": "stdout",
     "output_type": "stream",
     "text": [
      "Percentage of missing valeus per feature\n",
      " warning_time_h                                 0.775819\n",
      "shp_content_value_euro                         0.158690\n",
      "elevation_building_height_cm                   0.158690\n",
      "shp_registered_capital_euro                    0.118388\n",
      "Target_businessreduction                       0.090680\n",
      "shp_risk_tolerance                             0.070529\n",
      "perception_who_responsible4protection.Rank1    0.070529\n",
      "bage                                           0.068010\n",
      "perception_private_economy_future              0.065491\n",
      "hh_monthly_income_cat                          0.060453\n",
      "resilience_govern_careing                      0.057935\n",
      "shp_monetary_resources4prevention              0.045340\n",
      "resilience_govern_warnings_helpful             0.045340\n",
      "resilience_more_future_affected                0.037783\n",
      "shp_profits_last5years                         0.037783\n",
      "dtype: float64\n"
     ]
    }
   ],
   "source": [
    "## delete features with more than 10% missing values\n",
    "print(\"Percentage of missing valeus per feature\\n\", df_candidates.isna().mean().sort_values(ascending=False)[:15] ) \n",
    "#df_candidates = df_candidates[df_candidates.columns[df_candidates.isna().mean() < 0.10]]  # drop feautres with more than 10% missing values\n",
    "#print(df_candidates.isna().sum(axis=0).sort_values(ascending=False))\n",
    "## --> drops content values if threshold == 15%\n",
    "\n",
    "# drop warning time due to 77% nan\n",
    "df_candidates = df_candidates.drop(\"warning_time_h\", axis=1)"
   ]
  },
  {
   "cell_type": "code",
   "execution_count": null,
   "metadata": {},
   "outputs": [],
   "source": []
  },
  {
   "cell_type": "code",
   "execution_count": null,
   "metadata": {},
   "outputs": [],
   "source": [
    "# ## TODO fix missing values by filling or removing them:\n",
    "# ## Idea: remove nan in targets (->get 2 ds) and fill missing values in candidate predictors\n",
    "# ## or think about to remove predictors with very many missing values , even they are significant correlated to target eg. warning time\n",
    "\n",
    "## number of missing values for each predictor and for each case\n",
    "# df_candidates_t.isna().sum().sort_values(ascending=False)\n",
    "#t = df_candidates_t.drop([\"perception_govern_support_future\", \"warning_time_h\"], axis=1)\n",
    "# t.isna().sum().sum()\n",
    "\n",
    "# df_candidates.isna().sum(axis=1).sort_values(ascending=False) # nan per case\n"
   ]
  },
  {
   "cell_type": "markdown",
   "metadata": {},
   "source": [
    "## select only damage cases"
   ]
  },
  {
   "cell_type": "code",
   "execution_count": null,
   "metadata": {},
   "outputs": [],
   "source": [
    "targets = [\"Target_contentloss_euro\", \"Target_businessreduction\"]\n",
    "target = targets[1]\n"
   ]
  },
  {
   "cell_type": "code",
   "execution_count": null,
   "metadata": {},
   "outputs": [
    {
     "name": "stdout",
     "output_type": "stream",
     "text": [
      "Removing 149 zero loss records\n",
      "Keeping (248, 49) damage cases for model training and evaluation\n"
     ]
    }
   ],
   "source": [
    "print(f\"Removing {df_candidates.loc[df_candidates[target]==0,:].shape[0]} zero loss records\")\n",
    "df_candidates = df_candidates.loc[df_candidates[target]!=0,:]\n",
    "\n",
    "print(f\"Keeping {df_candidates.shape} damage cases for model training and evaluation\")"
   ]
  },
  {
   "cell_type": "markdown",
   "metadata": {},
   "source": [
    "## Fit model and select features"
   ]
  },
  {
   "cell_type": "code",
   "execution_count": null,
   "metadata": {},
   "outputs": [],
   "source": []
  },
  {
   "cell_type": "code",
   "execution_count": null,
   "metadata": {},
   "outputs": [],
   "source": [
    "## Hyperparameter ranges to test\n",
    "\n",
    "param_grid = {\n",
    "    \"model__alpha\": [ 0.01, 0.1, 1, 2, 3, 4],      # alpha: constant mulitplies penality term, alpha = 0 is equivalent to an OLS solved by the LinearRegression\n",
    "    \"model__max_iter\": [1,2,3,4,5, 10],\n",
    "    \"model__l1_ratio\": [0.0, 0.25, 0.5, 0.75, 1.0],     # r = 0, equivalent to Ridge Regression (=L2),  r = 1 equivalent to Lasso Regression (=L1) \n",
    "    \"model__tol\": [0.5, 0.7, 1.0, 2.0 ,5.0, 10.0],\n",
    "    \"model__selection\": [\"cyclic\", \"random\"],\n",
    "    \"model__positive\": [True],\n",
    "    \"model__random_state\": [seed],\n",
    "}\n",
    "\n",
    "## TODO fix  this current workaround with beginning of names for pipes with BaggingRegressor\n",
    "param_bag_grid = { k.replace('model', 'bagging__estimator') : v for (k, v) in param_grid.items()}\n",
    "\n",
    "\n",
    "\n",
    "param_bagging = {\n",
    "    'bootstrap': [True, False],\n",
    "    'random_state': [seed]\n",
    "    # 'bootstrap_features': [True, False],\n",
    "    # 'n_estimators': [20,50,100],\n",
    "    # 'max_samples': [0.5,1.0, X_train.shape[0]//2,],\n",
    "    # 'max_features': [0.5,1.0, X_train.shape[1]//2,],\n",
    "    # oob_score\n",
    "}\n",
    "## TODO add hyperparams for Bagging: \n",
    "## current defaults: n_estimators=10, *, max_samples=1.0, max_features=1.0, bootstrap=True, bootstrap_features=False, oob_score=False\n"
   ]
  },
  {
   "cell_type": "code",
   "execution_count": null,
   "metadata": {},
   "outputs": [],
   "source": []
  },
  {
   "cell_type": "code",
   "execution_count": null,
   "metadata": {},
   "outputs": [
    {
     "name": "stdout",
     "output_type": "stream",
     "text": [
      "Target_businessreduction\n",
      "\n",
      "Apply Elastic Net on Target_businessreduction, with pipeline pipe_bag_en:\n",
      "Training size (99, 48)\n",
      "Test size (18, 48)\n",
      "Train R^2 Score : 0.377\n",
      "Test R^2 Score : 0.018\n",
      "CV score:  -18.397567897453758 0.377119846841124 0.018313742895916585\n",
      "Create new Elastic Net model based on best hyperparameters\n",
      "Train R^2 Score : 0.410\n",
      "Test R^2 Score : 0.089\n",
      "RMSE:  645.47 euros or in %\n",
      "Most important features: ['emergency_measures.7', 'resilience_neighbor_management', 'resilience_govern_careing', 'emergency_measures.6', 'elevation_building_impl']\n",
      "total features: 48\n",
      "selected features: 33\n",
      "dropped features: 15\n",
      "selected features: \n",
      "['emergency_measures.7', 'resilience_neighbor_management', 'resilience_govern_careing', 'emergency_measures.6', 'elevation_building_impl', 'water_depth_cm', 'perception_who_responsible4protection.Rank1', 'emergency_measures.1', 'resilience_left_alone', 'resilience_more_future_affected', 'flood_experience', 'resilience_govern_warnings_helpful', 'shp_content_value_euro', 'pumping_equipment_impl', 'shp_avgmonthly_sale_cat', 'contaminations_light', 'elevation_rel2surrounding_cat', 'b_area', 'emergency_measures.3', 'shp_sector', 'shp_profits_last5years', 'water_barriers_impl', 'shp_risk_tolerance', 'resistant_material_building_impl', 'flowvelocity', 'resilience_city_protection', 'bage', 'flood_protections_impl', 'protect_valuables_impl', 'overall_problem_house', 'emergency_measures.9', 'shp_suppliers_HCMC', 'shp_monetary_resources4prevention']\n",
      "\n",
      "Saving model to disk: ../../../input_survey_data/selected_predictors/fs_elasticnet_businessreduction_pipe_bag_en.xlsx\n",
      "\n",
      "Training set\n",
      "\n",
      "    Model Performance:\n",
      "        Mean Squared Error: 403.7\n",
      "        Root Mean Square Error: 20.1\n",
      "        Mean Absolute Error: 15.4\n",
      "        Mean Absolute Percentage Error: 92.9\n",
      "        R²-Score: 0.41\n",
      "        Adjusted R²-Score: -0.16\n",
      "    \n",
      "\n",
      "Testing set\n",
      "\n",
      "    Model Performance:\n",
      "        Mean Squared Error: 645.5\n",
      "        Root Mean Square Error: 25.4\n",
      "        Mean Absolute Error: 19.9\n",
      "        Mean Absolute Percentage Error: 109.1\n",
      "        R²-Score: 0.09\n",
      "        Adjusted R²-Score: 1.5\n",
      "    \n"
     ]
    }
   ],
   "source": [
    "## iterate over both targets and store results \n",
    "\n",
    "eval_set_list = []\n",
    "\n",
    "#targets = [\"Target_contentloss_euro\", \"Target_businessreduction\"]\n",
    "print(target)\n",
    "\n",
    "## iterate over piplines. Each piplines contains precrosseing methods and several  classifier\n",
    "pipelines = [\"pipe_bag_en\"]#, \n",
    "#pipelines = [\"pipe_en\" ]#, \"pipe_ximput_logr\"]\n",
    "\n",
    "\n",
    "for pipe_name in pipelines:\n",
    "\n",
    "    print( f\"\\nApply Elastic Net on {target}, with pipeline {pipe_name}:\")\n",
    "\n",
    "    ## load sinlge pipeline\n",
    "    pipe = joblib.load(f'./pipelines/{pipe_name}.pkl')\n",
    "        \n",
    "\n",
    "    df_candidates_t = df_candidates\n",
    "\n",
    "   \n",
    "    ## clean df from remaining records containg nan\n",
    "    df_candidates_t = df_candidates_t.dropna()\n",
    "\n",
    "    ## clean df from nan in target\n",
    "    #df_candidates_t = df_candidates_t[ ~df_candidates_t[f\"{target}\"].isna()]\n",
    "\n",
    "    # ##impute nans in X\n",
    "    # for c in df_candidates_t.drop(target, axis=1): \n",
    "    #     #df_candidates_t[f\"{c}\"].fillna(value=np.nanmedian(df_candidates_t[f\"{c}\"]), inplace=True)\n",
    "    #     df_candidates_t[c].fillna(df_candidates_t[c].median(), inplace=True)\n",
    " \n",
    "     # print(\"Uses \", df_candidates_t.shape[0], \" records, from those have \", \n",
    "    #       { (df_candidates_t[target][df_candidates_t[target]==0.0]).count() }, f\" records zero {target.split('_')[1]}\")\n",
    "\n",
    "        \n",
    "    X_unscaled = df_candidates_t.drop(target, axis=1)  # remove bth targets from X\n",
    "    y = df_candidates_t[target]\n",
    " \n",
    "    ## test train split\n",
    "    X_train, X_test, y_train, y_test = train_test_split(\n",
    "        X_unscaled, y, test_size=0.15, \n",
    "        random_state=seed, shuffle=True)\n",
    "    ## save evaluation set for later usage in feature importance\n",
    "    eval_set =  pd.concat([y_test, X_test], axis=1) #[(X_test, y_test)]\n",
    "    eval_set_list.append({pipe_name : eval_set})\n",
    "\n",
    "    ## normalize data \n",
    "    X_train, X_test = fs.normalize_X(X_train, X_test)\n",
    "        \n",
    "    print(\"Training size\", X_train.shape)\n",
    "    print(\"Test size\", X_test.shape)\n",
    "    \n",
    "    # model = {'model': BaggingRegressor,   # default bootstrap=True\n",
    "    #     'kwargs': {'estimator': ElasticNet()},  # TODO: pass 'random_state':seed to baggingregressor\n",
    "    #     'parameters': param_grid,\n",
    "    #     }\n",
    "    ## Hyperparmaters and CV\n",
    "    #cv = StratifiedKFold(n_splits=10, random_state=seed, shuffle=True)        #  StratifiedKFold = fold contains same percantega of class as in orignal training set, addresees imbalancing\n",
    "    #cv = RepeatedStratifiedKFold(n_splits=10, n_repeats=3, random_state=seed)        #  StratifiedKFold = fold contains same percantega of class as in orignal training set, addresees imbalancing\n",
    "    cv = RepeatedKFold(n_splits=10, n_repeats=3, random_state=seed)\n",
    "    model_cv = RandomizedSearchCV(\n",
    "        estimator=pipe, \n",
    "        param_distributions=param_bag_grid, #param_bag_grid, \n",
    "        cv=cv, \n",
    "        scoring=\"neg_mean_absolute_error\", #\"neg_mean_squared_error\",#\"r2\" ,#\"neg_mean_absolute_error\",   #TODO classifcation: test also e.g \"f1\" or recall or \"f1_micro\", \"neg_mean_absolute_error\",\n",
    "        refit=True,   ## Refit the best estimator with the entire dataset. If “False”, it is impossible to make predictions using this GridSearchCV instance after fitting.\n",
    "                        ## If refit=False, clf.fit() will have no effect because the GridSearchCV object inside the pipeline will be reinitialized after fit().\n",
    "                        ## ! When refit=True, the GridSearchCV will be refitted with the best scoring parameter combination on the whole data that is passed in fit()\n",
    "        #random_state=seed\n",
    "    )\n",
    "    ## Fit model\n",
    "    model_cv.fit(X_train, y_train)   \n",
    "    \n",
    "    print('Train R^2 Score : %.3f'%model_cv.best_estimator_.score(X_train, y_train))\n",
    "    print('Test R^2 Score : %.3f'%model_cv.best_estimator_.score(X_test, y_test))\n",
    "    print(\"CV score: \", model_cv.best_score_ ,  model_cv.best_estimator_.score(X_train, y_train),  model_cv.best_estimator_.score(X_test, y_test))\n",
    "\n",
    " \n",
    "    ## fit model again with best hyperparams\n",
    "    print(\"Create new Elastic Net model based on best hyperparameters\")\n",
    "    model =  model_cv.best_estimator_\n",
    "    model.fit(X_train, y_train)\n",
    "\n",
    "    ## store best trained model for evaluation\n",
    "    filename = f'./models_trained/elasticnet_{target}_{pipe_name}.sav'\n",
    "    pickle.dump(model, open(filename, 'wb'))\n",
    "\n",
    "\n",
    "    ## predict unseen data\n",
    "    y_pred = model.predict(X_test)\n",
    "\n",
    "    print('Train R^2 Score : %.3f'%model.score(X_train, y_train)) # how well did the model on the training set\n",
    "    print('Test R^2 Score : %.3f'%model.score(X_test, y_test)) # .. compared to the unseen test set for overfitting \n",
    "    #print(\"MAE of best model: %.3f\" % elastic_net_cv.best_score_)  # TODO check why MAE nan \n",
    "    rmse = np.square(np.subtract(np.array(y_test).reshape(-1), y_pred)).mean()#np.sqrt(mean_squared_error(y_test, y_pred))\n",
    "    #np.sqrt(mean_squared_error(y_test, y_pred))\n",
    "    print(\"RMSE:  {:.2f}\".format(rmse), \"euros or in %\") \n",
    "\n",
    "\n",
    "    ## Feature importance + selection\n",
    "    importances = e.permutation_feature_importance(model, X_test, y_test, repeats=5, seed=seed)\n",
    "\n",
    "    df_importance = pd.DataFrame(\n",
    "        {\"importances\" : importances[0]},\n",
    "        index=X_train.columns.to_list(),\n",
    "        ) \n",
    "    df_importance = df_importance.sort_values(\"importances\", ascending=False)  # get most important features to the top\n",
    "    print(\"Most important features:\", df_importance.iloc[:5].index.to_list())\n",
    "    df_importance = df_importance.loc[df_importance.importances >= 0.000 , : ]\n",
    "    #df_importance.head(5)\n",
    "    # ## write selected predictors and response to disk\n",
    "    fs.save_selected_features(\n",
    "        X_train, \n",
    "        pd.DataFrame(y_train, columns=[target]), \n",
    "        df_importance.T.columns, \n",
    "        filename=f\"../../../input_survey_data/selected_predictors/fs_elasticnet_{target.split('_')[1]}_{pipe_name}.xlsx\"\n",
    "    )\n",
    "\n",
    "    ## Evaluate\n",
    "    ## print evaluation report + check for overfitting \n",
    "    print(\"\\nTraining set\")\n",
    "    y_pred_train = model.predict(X_train)\n",
    "    #y_pred_train = model_cv.best_estimator_.predict(X_train)\n",
    "    e.evaluation_report(y_train, y_pred_train,\n",
    "                         X_unscaled.shape[1], \n",
    "                         filepath=f\"./models_evaluation/elastic_net/eval_train_{target.split('_')[1]}_{pipe_name}.csv\")\n",
    "\n",
    "    print(\"\\nTesting set\")\n",
    "    y_pred = model.predict(X_test)\n",
    "    e.evaluation_report(y_test, y_pred, \n",
    "                        X_unscaled.shape[1], \n",
    "                        filepath=f\"./models_evaluation/elastic_net/eval_test_{target.split('_')[1]}_{pipe_name}.csv\")\n",
    "      \n"
   ]
  },
  {
   "cell_type": "code",
   "execution_count": null,
   "metadata": {},
   "outputs": [],
   "source": []
  },
  {
   "cell_type": "code",
   "execution_count": null,
   "metadata": {},
   "outputs": [
    {
     "data": {
      "text/html": [
       "<div>\n",
       "<style scoped>\n",
       "    .dataframe tbody tr th:only-of-type {\n",
       "        vertical-align: middle;\n",
       "    }\n",
       "\n",
       "    .dataframe tbody tr th {\n",
       "        vertical-align: top;\n",
       "    }\n",
       "\n",
       "    .dataframe thead th {\n",
       "        text-align: right;\n",
       "    }\n",
       "</style>\n",
       "<table border=\"1\" class=\"dataframe\">\n",
       "  <thead>\n",
       "    <tr style=\"text-align: right;\">\n",
       "      <th>rank_test_score</th>\n",
       "      <th>1</th>\n",
       "      <th>2</th>\n",
       "      <th>3</th>\n",
       "      <th>4</th>\n",
       "      <th>5</th>\n",
       "      <th>6</th>\n",
       "      <th>7</th>\n",
       "      <th>8</th>\n",
       "      <th>9</th>\n",
       "      <th>10</th>\n",
       "    </tr>\n",
       "  </thead>\n",
       "  <tbody>\n",
       "    <tr>\n",
       "      <th>mean_test_score</th>\n",
       "      <td>-18.542947</td>\n",
       "      <td>-18.555561</td>\n",
       "      <td>-18.643039</td>\n",
       "      <td>-18.828993</td>\n",
       "      <td>-19.410316</td>\n",
       "      <td>-19.860513</td>\n",
       "      <td>-20.008853</td>\n",
       "      <td>-20.185228</td>\n",
       "      <td>-20.255587</td>\n",
       "      <td>-20.290236</td>\n",
       "    </tr>\n",
       "    <tr>\n",
       "      <th>mean_fit_time</th>\n",
       "      <td>0.034736</td>\n",
       "      <td>0.037187</td>\n",
       "      <td>0.033127</td>\n",
       "      <td>0.045321</td>\n",
       "      <td>0.031629</td>\n",
       "      <td>0.043003</td>\n",
       "      <td>0.031868</td>\n",
       "      <td>0.031609</td>\n",
       "      <td>0.038029</td>\n",
       "      <td>0.037148</td>\n",
       "    </tr>\n",
       "    <tr>\n",
       "      <th>param_bagging__estimator__alpha</th>\n",
       "      <td>0.1</td>\n",
       "      <td>0.01</td>\n",
       "      <td>0.01</td>\n",
       "      <td>1</td>\n",
       "      <td>1</td>\n",
       "      <td>1</td>\n",
       "      <td>4</td>\n",
       "      <td>3</td>\n",
       "      <td>4</td>\n",
       "      <td>4</td>\n",
       "    </tr>\n",
       "    <tr>\n",
       "      <th>param_bagging__estimator__l1_ratio</th>\n",
       "      <td>0.5</td>\n",
       "      <td>0.5</td>\n",
       "      <td>0.0</td>\n",
       "      <td>1.0</td>\n",
       "      <td>0.75</td>\n",
       "      <td>0.0</td>\n",
       "      <td>0.0</td>\n",
       "      <td>0.25</td>\n",
       "      <td>0.25</td>\n",
       "      <td>1.0</td>\n",
       "    </tr>\n",
       "    <tr>\n",
       "      <th>param_bagging__estimator__max_iter</th>\n",
       "      <td>1</td>\n",
       "      <td>2</td>\n",
       "      <td>5</td>\n",
       "      <td>3</td>\n",
       "      <td>4</td>\n",
       "      <td>2</td>\n",
       "      <td>10</td>\n",
       "      <td>2</td>\n",
       "      <td>5</td>\n",
       "      <td>4</td>\n",
       "    </tr>\n",
       "  </tbody>\n",
       "</table>\n",
       "</div>"
      ],
      "text/plain": [
       "rank_test_score                            1          2          3    \n",
       "mean_test_score                    -18.542947 -18.555561 -18.643039  \\\n",
       "mean_fit_time                        0.034736   0.037187   0.033127   \n",
       "param_bagging__estimator__alpha           0.1       0.01       0.01   \n",
       "param_bagging__estimator__l1_ratio        0.5        0.5        0.0   \n",
       "param_bagging__estimator__max_iter          1          2          5   \n",
       "\n",
       "rank_test_score                            4          5          6    \n",
       "mean_test_score                    -18.828993 -19.410316 -19.860513  \\\n",
       "mean_fit_time                        0.045321   0.031629   0.043003   \n",
       "param_bagging__estimator__alpha             1          1          1   \n",
       "param_bagging__estimator__l1_ratio        1.0       0.75        0.0   \n",
       "param_bagging__estimator__max_iter          3          4          2   \n",
       "\n",
       "rank_test_score                            7          8          9          10  \n",
       "mean_test_score                    -20.008853 -20.185228 -20.255587 -20.290236  \n",
       "mean_fit_time                        0.031868   0.031609   0.038029   0.037148  \n",
       "param_bagging__estimator__alpha             4          3          4          4  \n",
       "param_bagging__estimator__l1_ratio        0.0       0.25       0.25        1.0  \n",
       "param_bagging__estimator__max_iter         10          2          5          4  "
      ]
     },
     "execution_count": 16,
     "metadata": {},
     "output_type": "execute_result"
    }
   ],
   "source": [
    "# #Snippet from: https://ubc-cs.github.io/cpsc330/lectures/08_hyperparameter-optimization.html#exhaustive-grid-search-sklearn-model-selection-gridsearchcv\n",
    "#pd.DataFrame(elastic_net_cv.cv_results_).set_index(\"rank_test_score\").sort_index().T\n",
    "pd.DataFrame(model_cv.cv_results_)[\n",
    "        [                                   # only important cv evaluation metrics \n",
    "            \"mean_test_score\",\n",
    "            \"mean_fit_time\",\n",
    "            \"rank_test_score\",\n",
    "            \"param_bagging__estimator__alpha\",\n",
    "            \"param_bagging__estimator__l1_ratio\",\n",
    "            \"param_bagging__estimator__max_iter\"\n",
    "        ]\n",
    "    ].set_index(\"rank_test_score\").sort_index().T\n"
   ]
  },
  {
   "cell_type": "code",
   "execution_count": null,
   "metadata": {},
   "outputs": [],
   "source": []
  },
  {
   "cell_type": "markdown",
   "metadata": {},
   "source": [
    "## Evaluation"
   ]
  },
  {
   "cell_type": "code",
   "execution_count": null,
   "metadata": {},
   "outputs": [
    {
     "name": "stdout",
     "output_type": "stream",
     "text": [
      "['Target_contentloss_euro', 'Target_businessreduction']\n"
     ]
    }
   ],
   "source": [
    "## reload models\n",
    "\n",
    "print(targets)\n",
    "target = targets[1]\n",
    "\n",
    "pipelines = [\"pipe_bag_en\"]#, \n",
    "#pipelines = [\"pipe_en\" ]#\n",
    "pipe_name = pipelines[0]\n",
    "\n",
    "model_eval = pickle.load(open(f\"./models_trained/elasticnet_{target}_{pipe_name}.sav\", 'rb'))\n",
    "#elastic_net_eval.get_params()\n"
   ]
  },
  {
   "cell_type": "code",
   "execution_count": null,
   "metadata": {},
   "outputs": [
    {
     "name": "stdout",
     "output_type": "stream",
     "text": [
      "R^2 training set 36.12  %\n"
     ]
    }
   ],
   "source": [
    "print('R^2 training set', round(model_eval.score(X_train, y_train)*100, 2), ' %')\n",
    "# print('R^2 test set', round(elastic_net.score(X_test, y_test)*100, 2))"
   ]
  },
  {
   "cell_type": "markdown",
   "metadata": {},
   "source": [
    "### Feature importance"
   ]
  },
  {
   "cell_type": "code",
   "execution_count": null,
   "metadata": {},
   "outputs": [],
   "source": [
    "#model_eval.get_params()\n",
    "model_eval"
   ]
  },
  {
   "cell_type": "code",
   "execution_count": null,
   "metadata": {},
   "outputs": [
    {
     "name": "stdout",
     "output_type": "stream",
     "text": [
      "if alpha < 0.5 used more Ridge regularization: \n",
      " {'memory': None, 'steps': [('bagging', BaggingRegressor(estimator=ElasticNet(alpha=0.1, max_iter=1, positive=True,\n",
      "                                      random_state=42, tol=0.7)))], 'verbose': False, 'bagging': BaggingRegressor(estimator=ElasticNet(alpha=0.1, max_iter=1, positive=True,\n",
      "                                      random_state=42, tol=0.7)), 'bagging__base_estimator': 'deprecated', 'bagging__bootstrap': True, 'bagging__bootstrap_features': False, 'bagging__estimator__alpha': 0.1, 'bagging__estimator__copy_X': True, 'bagging__estimator__fit_intercept': True, 'bagging__estimator__l1_ratio': 0.5, 'bagging__estimator__max_iter': 1, 'bagging__estimator__positive': True, 'bagging__estimator__precompute': False, 'bagging__estimator__random_state': 42, 'bagging__estimator__selection': 'cyclic', 'bagging__estimator__tol': 0.7, 'bagging__estimator__warm_start': False, 'bagging__estimator': ElasticNet(alpha=0.1, max_iter=1, positive=True, random_state=42, tol=0.7), 'bagging__max_features': 1.0, 'bagging__max_samples': 1.0, 'bagging__n_estimators': 10, 'bagging__n_jobs': None, 'bagging__oob_score': False, 'bagging__random_state': None, 'bagging__verbose': 0, 'bagging__warm_start': False}\n"
     ]
    }
   ],
   "source": [
    "print(\"if alpha < 0.5 used more Ridge regularization: \\n\" , model_eval.get_params())"
   ]
  },
  {
   "cell_type": "code",
   "execution_count": null,
   "metadata": {},
   "outputs": [],
   "source": []
  },
  {
   "cell_type": "code",
   "execution_count": 91,
   "metadata": {},
   "outputs": [],
   "source": [
    "# plot feature importance\n",
    "#fig, ax = plt.subplots(figsize=(12,5))\n",
    "\n",
    "# relaod evalation set\n",
    "eval_set = eval_set_list[0][pipe_name]\n",
    "\n",
    "importances = e.permutation_feature_importance(model_eval, \n",
    "                                               eval_set.drop(target, axis=1), \n",
    "                                               eval_set[target], \n",
    "                                               repeats=5, seed=seed\n",
    "                                               )\n",
    "\n",
    "## feature importance scores\n",
    "df_importance = pd.DataFrame({\n",
    "    \"name\" : X_unscaled.columns.to_list(),\n",
    "    \"importances\" : importances[0], #np.absolute(model_eval.coef_),\n",
    "     }) \n",
    "\n",
    "# drop features which dont reduce the loss\n",
    "df_importance = df_importance.loc[df_importance.importances > 11, : ] \n",
    "df_importance = df_importance.sort_values(\"importances\", ascending=True)\n",
    "\n",
    "plt.figure(figsize=(8, 10))\n",
    "plt.barh(df_importance.name, df_importance.importances)\n",
    "plt.xticks(\n",
    "    #ticks = range(len(selected_feat)),\n",
    "    #labels = X_unscaled.iloc[:,selected_feat],\n",
    "    rotation = 90\n",
    "    )\n",
    "plt.title(f\"Feature Importances for {target}\")\n",
    "plt.show()"
   ]
  },
  {
   "cell_type": "code",
   "execution_count": null,
   "metadata": {},
   "outputs": [],
   "source": [
    "# coef = pd.Series(elastic_net.coef_, index = X_train.columns)\n",
    "# important_features = pd.concat([coef.sort_values().head(10),\n",
    "#                      coef.sort_values().tail(10)])\n",
    "# important_features.plot(kind = \"barh\")\n",
    "# plt.title(\"Coefficients in the ElasticNet Model\")"
   ]
  },
  {
   "cell_type": "markdown",
   "metadata": {},
   "source": [
    "### Plot optimal number of features"
   ]
  },
  {
   "cell_type": "code",
   "execution_count": null,
   "metadata": {},
   "outputs": [],
   "source": [
    "elastic_net_eval.c"
   ]
  },
  {
   "cell_type": "code",
   "execution_count": null,
   "metadata": {},
   "outputs": [
    {
     "ename": "AttributeError",
     "evalue": "'ElasticNet' object has no attribute 'cv_results_'",
     "output_type": "error",
     "traceback": [
      "\u001b[1;31m---------------------------------------------------------------------------\u001b[0m",
      "\u001b[1;31mAttributeError\u001b[0m                            Traceback (most recent call last)",
      "\u001b[1;32mc:\\Users\\Anna\\Documents\\UNI\\MA_topic\\flood-loss-models-4-HCMC\\model_preprocessing\\Feature_selection\\elastic_net_feature_selection.ipynb Cell 26\u001b[0m in \u001b[0;36m2\n\u001b[0;32m      <a href='vscode-notebook-cell:/c%3A/Users/Anna/Documents/UNI/MA_topic/flood-loss-models-4-HCMC/model_preprocessing/Feature_selection/elastic_net_feature_selection.ipynb#X35sZmlsZQ%3D%3D?line=0'>1</a>\u001b[0m \u001b[39m# cv results\u001b[39;00m\n\u001b[1;32m----> <a href='vscode-notebook-cell:/c%3A/Users/Anna/Documents/UNI/MA_topic/flood-loss-models-4-HCMC/model_preprocessing/Feature_selection/elastic_net_feature_selection.ipynb#X35sZmlsZQ%3D%3D?line=1'>2</a>\u001b[0m cv_results \u001b[39m=\u001b[39m pd\u001b[39m.\u001b[39mDataFrame(elastic_net_eval\u001b[39m.\u001b[39;49mcv_results_)\n\u001b[0;32m      <a href='vscode-notebook-cell:/c%3A/Users/Anna/Documents/UNI/MA_topic/flood-loss-models-4-HCMC/model_preprocessing/Feature_selection/elastic_net_feature_selection.ipynb#X35sZmlsZQ%3D%3D?line=2'>3</a>\u001b[0m cv_results\n",
      "\u001b[1;31mAttributeError\u001b[0m: 'ElasticNet' object has no attribute 'cv_results_'"
     ]
    }
   ],
   "source": [
    "# cv results\n",
    "cv_results = pd.DataFrame(elastic_net_eval.cv_results_)\n",
    "cv_results\n"
   ]
  },
  {
   "cell_type": "code",
   "execution_count": null,
   "metadata": {},
   "outputs": [],
   "source": [
    "\n",
    "# plotting cv results\n",
    "plt.figure(figsize=(16,6))\n",
    "\n",
    "plt.plot(cv_results[\"param_n_features_to_select\"], cv_results[\"mean_test_score\"])\n",
    "plt.plot(cv_results[\"param_n_features_to_select\"], cv_results[\"mean_train_score\"])\n",
    "plt.xlabel('number of features')\n",
    "plt.ylabel('r-squared')\n",
    "plt.title(\"Optimal Number of Features\")\n",
    "plt.legend(['test score', 'train score'], loc='upper left')"
   ]
  },
  {
   "cell_type": "code",
   "execution_count": null,
   "metadata": {},
   "outputs": [],
   "source": []
  }
 ],
 "metadata": {
  "kernelspec": {
   "display_name": "py396_c3",
   "language": "python",
   "name": "python3"
  },
  "language_info": {
   "codemirror_mode": {
    "name": "ipython",
    "version": 3
   },
   "file_extension": ".py",
   "mimetype": "text/x-python",
   "name": "python",
   "nbconvert_exporter": "python",
   "pygments_lexer": "ipython3",
   "version": "3.9.6"
  },
  "orig_nbformat": 4
 },
 "nbformat": 4,
 "nbformat_minor": 2
}
