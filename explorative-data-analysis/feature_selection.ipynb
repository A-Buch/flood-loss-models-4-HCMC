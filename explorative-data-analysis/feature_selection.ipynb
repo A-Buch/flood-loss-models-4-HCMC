{
 "cells": [
  {
   "attachments": {},
   "cell_type": "markdown",
   "metadata": {},
   "source": [
    "## Feautre selection done by testing unsupervised and supervised methods\n",
    "Feature selection is doen after explorative data analysis. \n",
    "If potential groups of damage-influencing variables are clear than supervised techniques will be used, if underlying groups of variables are unknown than PCA (unsupervised method) is used.\n",
    "\n"
   ]
  },
  {
   "cell_type": "code",
   "execution_count": null,
   "metadata": {},
   "outputs": [],
   "source": [
    "\n",
    "import numpy as np\n",
    "import pandas as pd\n",
    "\n",
    "\n",
    "from sklearn.decomposition import PCA\n",
    "from sklearn.preprocessing import StandardScaler\n"
   ]
  },
  {
   "cell_type": "code",
   "execution_count": null,
   "metadata": {},
   "outputs": [],
   "source": []
  },
  {
   "cell_type": "code",
   "execution_count": null,
   "metadata": {},
   "outputs": [],
   "source": []
  },
  {
   "attachments": {},
   "cell_type": "markdown",
   "metadata": {},
   "source": [
    "## define explanatory variables and target variables and Standardize"
   ]
  },
  {
   "cell_type": "code",
   "execution_count": null,
   "metadata": {},
   "outputs": [],
   "source": [
    "## select only numeric columns, exclude als .specfic-columns or with string or datetime\n",
    "df_p125_t = df_p125.select_dtypes(include = ['int64'], exclude=[\"object\"])  \n",
    "df_p125_t\n",
    "## determine only important variables\n",
    "\n",
    "y_direct = df_p125['Target_direct'] #  target var for direct cost due to damages on buiness contents \n",
    "y_indirect = df_p125['Target_indirect'] # target var for indirect costs due to buiness interuptions \n",
    "X = df_p125.loc[ :, df_p125.columns != ['Target_direct', 'Target_indirect'] ]\n",
    "X = X.iloc[:,:] # assign column 9 to 21 as x variable - the features\n",
    "\n",
    "X = StandardScaler().fit_transform(X) # standarize the variables\n",
    "#df['Attrition_Flag'].replace('Existing Customer','1',inplace=True)  # categorize string columns\n",
    "#df['Attrition_Flag'].replace('Attrited Customer','0',inplace=True)\n"
   ]
  },
  {
   "attachments": {},
   "cell_type": "markdown",
   "metadata": {},
   "source": [
    "## PCA\n",
    "\n",
    "*Example from: https://towardsdatascience.com/principal-component-analysis-with-python-an-example-for-beginners-by-a-beginner-ac052eff45c*\n"
   ]
  },
  {
   "attachments": {},
   "cell_type": "markdown",
   "metadata": {},
   "source": [
    "#### PCA on direct costs"
   ]
  },
  {
   "cell_type": "code",
   "execution_count": null,
   "metadata": {},
   "outputs": [],
   "source": [
    "\n",
    "## We will start by using only the first 2 leading principal components, and then explore 3 principal components and 4 principal components.\n",
    "pca=PCA(n_components=2)\n",
    "PC=pca.fit_transform(X)\n",
    "principalDF=pd.DataFrame(data=PC, columns=['pc1','pc2'])\n",
    "df_pca = pd.concat([principalDF, df_p125[['Target_direct']]], axis = 1)\n",
    "df_pca.head()\n",
    "X.columns.tolist()\n",
    "#components #=components[9:21]\n",
    "\n",
    "PCloadings = pca.components_.T * np.sqrt(pca.explained_variance_)\n",
    "components = df_p125.loc[:, df_p125.columns != 'Target'].columns.tolist()  # use X before standarized\n",
    "\n",
    "loadingdf = pd.DataFrame(PCloadings,columns=('PC1','PC2'))\n",
    "loadingdf[\"variable\"] = components\n",
    "loadingdf\n",
    "### Visual selection of important variables by weights of PCs\n",
    "fig = ex.scatter(x=loadingdf['PC1'],y=loadingdf['PC2'],text=loadingdf['variable'],)\n",
    "fig.update_layout(\n",
    "height = 600, width = 500,\n",
    "title_text='loadings plot')\n",
    "fig.update_traces(textposition='bottom center')\n",
    "fig.add_shape(type=\"line\",\n",
    "    x0 = -0, y0 = -0.5, x1 = -0, y1 = 2.5,\n",
    "    line = dict(color=\"RoyalBlue\",width=3)\n",
    ")\n",
    "fig.add_shape(type=\"line\",\n",
    "    x0 = -1, y0 = 0, x1 = 1, y1 = 0,\n",
    "    line=dict(color=\"RoyalBlue\",width=3)\n",
    ")\n",
    "fig.show()"
   ]
  },
  {
   "attachments": {},
   "cell_type": "markdown",
   "metadata": {},
   "source": [
    "#### PCA on indirect costs"
   ]
  },
  {
   "cell_type": "code",
   "execution_count": null,
   "metadata": {},
   "outputs": [],
   "source": []
  },
  {
   "attachments": {},
   "cell_type": "markdown",
   "metadata": {},
   "source": [
    "## Discretized continous variabels: \n",
    "E.g. by an equal frequency discretization\n",
    "use coarse discrete classes for each varible e.g. 5 classes used in Can ho City-DS"
   ]
  },
  {
   "cell_type": "code",
   "execution_count": null,
   "metadata": {},
   "outputs": [],
   "source": []
  }
 ],
 "metadata": {
  "language_info": {
   "name": "python"
  },
  "orig_nbformat": 4
 },
 "nbformat": 4,
 "nbformat_minor": 2
}
