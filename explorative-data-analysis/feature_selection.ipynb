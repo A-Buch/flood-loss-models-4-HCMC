{
 "cells": [
  {
   "attachments": {},
   "cell_type": "markdown",
   "metadata": {},
   "source": [
    "## Feature selection done by testing unsupervised and supervised methods\n",
    "Feature selection is done after explorative data analysis. \n",
    "If potential groups of damage-influencing variables are clear than supervised techniques will be used, if underlying groups of variables are unknown than PCA (unsupervised method) is applied on the survey data to reduce mulitcollinearity.\n",
    "\n"
   ]
  },
  {
   "cell_type": "code",
   "execution_count": 93,
   "metadata": {},
   "outputs": [
    {
     "ename": "ModuleNotFoundError",
     "evalue": "No module named 'factor_analyzer'",
     "output_type": "error",
     "traceback": [
      "\u001b[1;31m---------------------------------------------------------------------------\u001b[0m",
      "\u001b[1;31mModuleNotFoundError\u001b[0m                       Traceback (most recent call last)",
      "\u001b[1;32mc:\\Users\\Anna\\Documents\\UNI\\MA_topic\\flood-loss-models-4-HCMC\\explorative-data-analysis\\feature_selection.ipynb Cell 2\u001b[0m in \u001b[0;36m1\n\u001b[0;32m     <a href='vscode-notebook-cell:/c%3A/Users/Anna/Documents/UNI/MA_topic/flood-loss-models-4-HCMC/explorative-data-analysis/feature_selection.ipynb#W1sZmlsZQ%3D%3D?line=10'>11</a>\u001b[0m \u001b[39mfrom\u001b[39;00m \u001b[39msklearn\u001b[39;00m\u001b[39m.\u001b[39;00m\u001b[39mdecomposition\u001b[39;00m \u001b[39mimport\u001b[39;00m PCA\n\u001b[0;32m     <a href='vscode-notebook-cell:/c%3A/Users/Anna/Documents/UNI/MA_topic/flood-loss-models-4-HCMC/explorative-data-analysis/feature_selection.ipynb#W1sZmlsZQ%3D%3D?line=11'>12</a>\u001b[0m \u001b[39mfrom\u001b[39;00m \u001b[39msklearn\u001b[39;00m\u001b[39m.\u001b[39;00m\u001b[39mpreprocessing\u001b[39;00m \u001b[39mimport\u001b[39;00m StandardScaler\n\u001b[1;32m---> <a href='vscode-notebook-cell:/c%3A/Users/Anna/Documents/UNI/MA_topic/flood-loss-models-4-HCMC/explorative-data-analysis/feature_selection.ipynb#W1sZmlsZQ%3D%3D?line=12'>13</a>\u001b[0m \u001b[39mfrom\u001b[39;00m \u001b[39mfactor_analyzer\u001b[39;00m \u001b[39mimport\u001b[39;00m FactorAnalyzer\n",
      "\u001b[1;31mModuleNotFoundError\u001b[0m: No module named 'factor_analyzer'"
     ]
    }
   ],
   "source": [
    "import numpy as np\n",
    "import pandas as pd\n",
    "\n",
    "import plotly.express as ex\n",
    "import plotly.graph_objs as go\n",
    "import plotly.figure_factory as ff\n",
    "from plotly.subplots import make_subplots\n",
    "import seaborn as sns\n",
    "import matplotlib.pyplot as plt\n",
    "\n",
    "from sklearn.decomposition import PCA\n",
    "from sklearn.preprocessing import StandardScaler\n",
    "from factor_analyzer import FactorAnalyzer\n",
    "\n"
   ]
  },
  {
   "cell_type": "code",
   "execution_count": 75,
   "metadata": {},
   "outputs": [
    {
     "name": "stdout",
     "output_type": "stream",
     "text": [
      "<class 'pandas.core.frame.DataFrame'>\n",
      "RangeIndex: 252 entries, 0 to 251\n",
      "Data columns (total 26 columns):\n",
      " #   Column                              Non-Null Count  Dtype  \n",
      "---  ------                              --------------  -----  \n",
      " 0   Target_direct_s                     247 non-null    float64\n",
      " 1   Target_direct_r                     246 non-null    float64\n",
      " 2   shp_closed_d                        252 non-null    int64  \n",
      " 3   shp_duration_back2normal            252 non-null    int64  \n",
      " 4   business_reduction_s                252 non-null    int64  \n",
      " 5   business_reduction_r                251 non-null    float64\n",
      " 6   inundation_duration_h               252 non-null    int64  \n",
      " 7   water_depth_cm                      252 non-null    int64  \n",
      " 8   contaminations                      252 non-null    int64  \n",
      " 9   warning_time_h                      252 non-null    int64  \n",
      " 10  emergency_measures                  252 non-null    int64  \n",
      " 11  protect_valuables_impl              252 non-null    int64  \n",
      " 12  water_barries_impl                  252 non-null    int64  \n",
      " 13  flood_protections_impl              252 non-null    int64  \n",
      " 14  resistant_material_building_impl    252 non-null    int64  \n",
      " 15  elevation_building_height_cm        252 non-null    int64  \n",
      " 16  building_elevation_rel2surrounding  252 non-null    int64  \n",
      " 17  building_floor                      252 non-null    int64  \n",
      " 18  shp_damage_level_business           252 non-null    int64  \n",
      " 19  shp_damage_level_products           252 non-null    int64  \n",
      " 20  shp_sector                          252 non-null    int64  \n",
      " 21  shp_employees                       252 non-null    int64  \n",
      " 22  shp_avgmonthly_sale_mVND            252 non-null    int64  \n",
      " 23  shp_capital_mVND                    252 non-null    int64  \n",
      " 24  shp_risk_behaviour                  252 non-null    int64  \n",
      " 25  shp_monetary_resources_prenvention  252 non-null    int64  \n",
      "dtypes: float64(3), int64(23)\n",
      "memory usage: 51.3 KB\n"
     ]
    }
   ],
   "source": [
    "df_candidates = pd.read_excel(\"../input_survey_data/survey_data_candidates.xlsx\")\n",
    "df_candidates.info()"
   ]
  },
  {
   "cell_type": "code",
   "execution_count": 82,
   "metadata": {},
   "outputs": [
    {
     "name": "stdout",
     "output_type": "stream",
     "text": [
      "Target_direct_s                       0\n",
      "Target_direct_r                       0\n",
      "shp_closed_d                          0\n",
      "shp_duration_back2normal              0\n",
      "business_reduction_s                  0\n",
      "business_reduction_r                  0\n",
      "inundation_duration_h                 0\n",
      "water_depth_cm                        0\n",
      "contaminations                        0\n",
      "warning_time_h                        0\n",
      "emergency_measures                    0\n",
      "protect_valuables_impl                0\n",
      "water_barries_impl                    0\n",
      "flood_protections_impl                0\n",
      "resistant_material_building_impl      0\n",
      "elevation_building_height_cm          0\n",
      "building_elevation_rel2surrounding    0\n",
      "building_floor                        0\n",
      "shp_damage_level_business             0\n",
      "shp_damage_level_products             0\n",
      "shp_sector                            0\n",
      "shp_employees                         0\n",
      "shp_avgmonthly_sale_mVND              0\n",
      "shp_capital_mVND                      0\n",
      "shp_risk_behaviour                    0\n",
      "shp_monetary_resources_prenvention    0\n",
      "dtype: int64\n"
     ]
    }
   ],
   "source": [
    "## clean df from few nan values\n",
    "\n",
    "print(df_candidates.isna().sum())\n",
    "df_candidates = df_candidates.replace(np.nan, 0)\n"
   ]
  },
  {
   "attachments": {},
   "cell_type": "markdown",
   "metadata": {},
   "source": [
    "## define explanatory variables and Standardize"
   ]
  },
  {
   "cell_type": "code",
   "execution_count": 83,
   "metadata": {},
   "outputs": [
    {
     "name": "stdout",
     "output_type": "stream",
     "text": [
      "(252, 24) [[-0.19788526 -0.25679631  0.06399057 ... -0.05697625 -0.33599224\n",
      "  -0.30608811]\n",
      " [ 0.09520424  0.93863479  0.06399057 ...  2.32248772 -0.21549407\n",
      "  -0.11886917]\n",
      " [-0.19788526 -0.25679631 -0.8318774  ... -0.1349242  -0.33599224\n",
      "  -0.21247864]\n",
      " ...\n",
      " [ 1.05821261  1.1378733   2.15434916 ... -0.12671915 -0.33599224\n",
      "  -0.30608811]\n",
      " [-0.15601533 -0.21694861  2.1244869  ... -0.09800149 -0.33599224\n",
      "  -0.30608811]\n",
      " [-0.19788526 -0.25679631  2.1244869  ... -0.13902673 -0.21549407\n",
      "  -0.16567391]]\n"
     ]
    }
   ],
   "source": [
    "## select only numeric columns, exclude als .specfic-columns or with string or datetime\n",
    "#df_t = df_candidates.select_dtypes(include = ['int64'], exclude=[\"object\"])  \n",
    "\n",
    "## define set for target and explanatory variables\n",
    "df_candidates_X = df_candidates[df_candidates.columns.drop(list(df_candidates.filter(regex='^Target')))]  # only explanatory vars\n",
    "df_candidates_Y = df_candidates[list(df_candidates.filter(regex='^Target'))]  # target var for direct cost due to damages on business contents \n",
    "\n",
    "\n",
    "X = StandardScaler().fit_transform(df_candidates_X) # standarize the variables\n",
    "print(X.shape, X)\n",
    "\n",
    "#df['Attrition_Flag'].replace('Existing Customer','1',inplace=True)  # categorize string columns\n",
    "#df['Attrition_Flag'].replace('Attrited Customer','0',inplace=True)\n"
   ]
  },
  {
   "attachments": {},
   "cell_type": "markdown",
   "metadata": {},
   "source": [
    "## PCA\n",
    "\n",
    "*Example from: https://towardsdatascience.com/principal-component-analysis-with-python-an-example-for-beginners-by-a-beginner-ac052eff45c*\n"
   ]
  },
  {
   "attachments": {},
   "cell_type": "markdown",
   "metadata": {},
   "source": [
    "#### PCA on direct costs"
   ]
  },
  {
   "cell_type": "code",
   "execution_count": 84,
   "metadata": {},
   "outputs": [
    {
     "data": {
      "text/html": [
       "<div>\n",
       "<style scoped>\n",
       "    .dataframe tbody tr th:only-of-type {\n",
       "        vertical-align: middle;\n",
       "    }\n",
       "\n",
       "    .dataframe tbody tr th {\n",
       "        vertical-align: top;\n",
       "    }\n",
       "\n",
       "    .dataframe thead th {\n",
       "        text-align: right;\n",
       "    }\n",
       "</style>\n",
       "<table border=\"1\" class=\"dataframe\">\n",
       "  <thead>\n",
       "    <tr style=\"text-align: right;\">\n",
       "      <th></th>\n",
       "      <th>pc1</th>\n",
       "      <th>pc2</th>\n",
       "      <th>pc3</th>\n",
       "      <th>Target_direct_s</th>\n",
       "    </tr>\n",
       "  </thead>\n",
       "  <tbody>\n",
       "    <tr>\n",
       "      <th>0</th>\n",
       "      <td>0.140089</td>\n",
       "      <td>-1.061167</td>\n",
       "      <td>-0.607122</td>\n",
       "      <td>30.0</td>\n",
       "    </tr>\n",
       "    <tr>\n",
       "      <th>1</th>\n",
       "      <td>3.548939</td>\n",
       "      <td>0.547703</td>\n",
       "      <td>-1.322628</td>\n",
       "      <td>97.0</td>\n",
       "    </tr>\n",
       "    <tr>\n",
       "      <th>2</th>\n",
       "      <td>-0.638547</td>\n",
       "      <td>0.127566</td>\n",
       "      <td>-1.395237</td>\n",
       "      <td>0.0</td>\n",
       "    </tr>\n",
       "    <tr>\n",
       "      <th>3</th>\n",
       "      <td>29.305635</td>\n",
       "      <td>2.081818</td>\n",
       "      <td>-3.756280</td>\n",
       "      <td>6000.0</td>\n",
       "    </tr>\n",
       "    <tr>\n",
       "      <th>4</th>\n",
       "      <td>0.613495</td>\n",
       "      <td>-1.162003</td>\n",
       "      <td>1.520319</td>\n",
       "      <td>15.0</td>\n",
       "    </tr>\n",
       "  </tbody>\n",
       "</table>\n",
       "</div>"
      ],
      "text/plain": [
       "         pc1       pc2       pc3  Target_direct_s\n",
       "0   0.140089 -1.061167 -0.607122             30.0\n",
       "1   3.548939  0.547703 -1.322628             97.0\n",
       "2  -0.638547  0.127566 -1.395237              0.0\n",
       "3  29.305635  2.081818 -3.756280           6000.0\n",
       "4   0.613495 -1.162003  1.520319             15.0"
      ]
     },
     "execution_count": 84,
     "metadata": {},
     "output_type": "execute_result"
    }
   ],
   "source": [
    "\n",
    "## We will start by using only the first 2 leading principal components, and then explore 3 principal components and 4 principal components.\n",
    "pca = PCA(n_components=3)\n",
    "PC = pca.fit_transform(X)\n",
    "principalDF = pd.DataFrame(data=PC, columns=['pc1','pc2', 'pc3'])\n",
    "df_pca = pd.concat([principalDF, df_candidates[['Target_direct_s']]], axis = 1)\n",
    "df_pca.head()\n",
    "#X.columns.tolist()\n",
    "#components #=components[9:21]\n"
   ]
  },
  {
   "attachments": {},
   "cell_type": "markdown",
   "metadata": {},
   "source": [
    "#### Loadings"
   ]
  },
  {
   "cell_type": "code",
   "execution_count": 85,
   "metadata": {},
   "outputs": [
    {
     "data": {
      "text/html": [
       "<div>\n",
       "<style scoped>\n",
       "    .dataframe tbody tr th:only-of-type {\n",
       "        vertical-align: middle;\n",
       "    }\n",
       "\n",
       "    .dataframe tbody tr th {\n",
       "        vertical-align: top;\n",
       "    }\n",
       "\n",
       "    .dataframe thead th {\n",
       "        text-align: right;\n",
       "    }\n",
       "</style>\n",
       "<table border=\"1\" class=\"dataframe\">\n",
       "  <thead>\n",
       "    <tr style=\"text-align: right;\">\n",
       "      <th></th>\n",
       "      <th>PC1</th>\n",
       "      <th>PC2</th>\n",
       "      <th>PC3</th>\n",
       "      <th>variable</th>\n",
       "    </tr>\n",
       "  </thead>\n",
       "  <tbody>\n",
       "    <tr>\n",
       "      <th>0</th>\n",
       "      <td>0.944157</td>\n",
       "      <td>0.007253</td>\n",
       "      <td>-0.107816</td>\n",
       "      <td>shp_closed_d</td>\n",
       "    </tr>\n",
       "    <tr>\n",
       "      <th>1</th>\n",
       "      <td>0.947559</td>\n",
       "      <td>-0.020800</td>\n",
       "      <td>-0.090928</td>\n",
       "      <td>shp_duration_back2normal</td>\n",
       "    </tr>\n",
       "    <tr>\n",
       "      <th>2</th>\n",
       "      <td>0.376501</td>\n",
       "      <td>-0.490241</td>\n",
       "      <td>0.678739</td>\n",
       "      <td>business_reduction_s</td>\n",
       "    </tr>\n",
       "    <tr>\n",
       "      <th>3</th>\n",
       "      <td>0.365683</td>\n",
       "      <td>-0.453246</td>\n",
       "      <td>0.619360</td>\n",
       "      <td>business_reduction_r</td>\n",
       "    </tr>\n",
       "    <tr>\n",
       "      <th>4</th>\n",
       "      <td>0.178530</td>\n",
       "      <td>0.101497</td>\n",
       "      <td>0.028340</td>\n",
       "      <td>inundation_duration_h</td>\n",
       "    </tr>\n",
       "    <tr>\n",
       "      <th>5</th>\n",
       "      <td>0.251572</td>\n",
       "      <td>-0.165288</td>\n",
       "      <td>-0.171194</td>\n",
       "      <td>water_depth_cm</td>\n",
       "    </tr>\n",
       "    <tr>\n",
       "      <th>6</th>\n",
       "      <td>0.053524</td>\n",
       "      <td>-0.353224</td>\n",
       "      <td>-0.297319</td>\n",
       "      <td>contaminations</td>\n",
       "    </tr>\n",
       "    <tr>\n",
       "      <th>7</th>\n",
       "      <td>-0.085735</td>\n",
       "      <td>-0.275122</td>\n",
       "      <td>0.040341</td>\n",
       "      <td>warning_time_h</td>\n",
       "    </tr>\n",
       "    <tr>\n",
       "      <th>8</th>\n",
       "      <td>-0.012096</td>\n",
       "      <td>-0.454766</td>\n",
       "      <td>-0.013289</td>\n",
       "      <td>emergency_measures</td>\n",
       "    </tr>\n",
       "    <tr>\n",
       "      <th>9</th>\n",
       "      <td>0.063528</td>\n",
       "      <td>0.401980</td>\n",
       "      <td>-0.191404</td>\n",
       "      <td>protect_valuables_impl</td>\n",
       "    </tr>\n",
       "    <tr>\n",
       "      <th>10</th>\n",
       "      <td>0.101067</td>\n",
       "      <td>0.463363</td>\n",
       "      <td>0.162978</td>\n",
       "      <td>water_barries_impl</td>\n",
       "    </tr>\n",
       "    <tr>\n",
       "      <th>11</th>\n",
       "      <td>0.021099</td>\n",
       "      <td>-0.096493</td>\n",
       "      <td>-0.158073</td>\n",
       "      <td>flood_protections_impl</td>\n",
       "    </tr>\n",
       "    <tr>\n",
       "      <th>12</th>\n",
       "      <td>0.016936</td>\n",
       "      <td>-0.080036</td>\n",
       "      <td>-0.456427</td>\n",
       "      <td>resistant_material_building_impl</td>\n",
       "    </tr>\n",
       "    <tr>\n",
       "      <th>13</th>\n",
       "      <td>0.094970</td>\n",
       "      <td>-0.231581</td>\n",
       "      <td>-0.156751</td>\n",
       "      <td>elevation_building_height_cm</td>\n",
       "    </tr>\n",
       "    <tr>\n",
       "      <th>14</th>\n",
       "      <td>0.012244</td>\n",
       "      <td>-0.098516</td>\n",
       "      <td>-0.017603</td>\n",
       "      <td>building_elevation_rel2surrounding</td>\n",
       "    </tr>\n",
       "    <tr>\n",
       "      <th>15</th>\n",
       "      <td>-0.096764</td>\n",
       "      <td>-0.028827</td>\n",
       "      <td>0.159432</td>\n",
       "      <td>building_floor</td>\n",
       "    </tr>\n",
       "    <tr>\n",
       "      <th>16</th>\n",
       "      <td>0.335561</td>\n",
       "      <td>-0.066243</td>\n",
       "      <td>0.069743</td>\n",
       "      <td>shp_damage_level_business</td>\n",
       "    </tr>\n",
       "    <tr>\n",
       "      <th>17</th>\n",
       "      <td>0.056589</td>\n",
       "      <td>0.352780</td>\n",
       "      <td>0.026844</td>\n",
       "      <td>shp_damage_level_products</td>\n",
       "    </tr>\n",
       "    <tr>\n",
       "      <th>18</th>\n",
       "      <td>0.321992</td>\n",
       "      <td>0.256080</td>\n",
       "      <td>-0.063454</td>\n",
       "      <td>shp_sector</td>\n",
       "    </tr>\n",
       "    <tr>\n",
       "      <th>19</th>\n",
       "      <td>0.877756</td>\n",
       "      <td>0.194828</td>\n",
       "      <td>-0.124684</td>\n",
       "      <td>shp_employees</td>\n",
       "    </tr>\n",
       "    <tr>\n",
       "      <th>20</th>\n",
       "      <td>0.386115</td>\n",
       "      <td>0.020386</td>\n",
       "      <td>0.159475</td>\n",
       "      <td>shp_avgmonthly_sale_mVND</td>\n",
       "    </tr>\n",
       "    <tr>\n",
       "      <th>21</th>\n",
       "      <td>0.924094</td>\n",
       "      <td>0.085570</td>\n",
       "      <td>-0.162995</td>\n",
       "      <td>shp_capital_mVND</td>\n",
       "    </tr>\n",
       "    <tr>\n",
       "      <th>22</th>\n",
       "      <td>-0.019178</td>\n",
       "      <td>0.638488</td>\n",
       "      <td>0.379494</td>\n",
       "      <td>shp_risk_behaviour</td>\n",
       "    </tr>\n",
       "    <tr>\n",
       "      <th>23</th>\n",
       "      <td>0.004095</td>\n",
       "      <td>0.486178</td>\n",
       "      <td>0.414470</td>\n",
       "      <td>shp_monetary_resources_prenvention</td>\n",
       "    </tr>\n",
       "  </tbody>\n",
       "</table>\n",
       "</div>"
      ],
      "text/plain": [
       "         PC1       PC2       PC3                            variable\n",
       "0   0.944157  0.007253 -0.107816                        shp_closed_d\n",
       "1   0.947559 -0.020800 -0.090928            shp_duration_back2normal\n",
       "2   0.376501 -0.490241  0.678739                business_reduction_s\n",
       "3   0.365683 -0.453246  0.619360                business_reduction_r\n",
       "4   0.178530  0.101497  0.028340               inundation_duration_h\n",
       "5   0.251572 -0.165288 -0.171194                      water_depth_cm\n",
       "6   0.053524 -0.353224 -0.297319                      contaminations\n",
       "7  -0.085735 -0.275122  0.040341                      warning_time_h\n",
       "8  -0.012096 -0.454766 -0.013289                  emergency_measures\n",
       "9   0.063528  0.401980 -0.191404              protect_valuables_impl\n",
       "10  0.101067  0.463363  0.162978                  water_barries_impl\n",
       "11  0.021099 -0.096493 -0.158073              flood_protections_impl\n",
       "12  0.016936 -0.080036 -0.456427    resistant_material_building_impl\n",
       "13  0.094970 -0.231581 -0.156751        elevation_building_height_cm\n",
       "14  0.012244 -0.098516 -0.017603  building_elevation_rel2surrounding\n",
       "15 -0.096764 -0.028827  0.159432                      building_floor\n",
       "16  0.335561 -0.066243  0.069743           shp_damage_level_business\n",
       "17  0.056589  0.352780  0.026844           shp_damage_level_products\n",
       "18  0.321992  0.256080 -0.063454                          shp_sector\n",
       "19  0.877756  0.194828 -0.124684                       shp_employees\n",
       "20  0.386115  0.020386  0.159475            shp_avgmonthly_sale_mVND\n",
       "21  0.924094  0.085570 -0.162995                    shp_capital_mVND\n",
       "22 -0.019178  0.638488  0.379494                  shp_risk_behaviour\n",
       "23  0.004095  0.486178  0.414470  shp_monetary_resources_prenvention"
      ]
     },
     "execution_count": 85,
     "metadata": {},
     "output_type": "execute_result"
    }
   ],
   "source": [
    "PC_loadings = pca.components_.T * np.sqrt(pca.explained_variance_)\n",
    "components = df_candidates_X.columns.tolist()  # use X before standarized\n",
    "\n",
    "loadingdf = pd.DataFrame(PC_loadings, columns=('PC1','PC2', 'PC3'))\n",
    "loadingdf[\"variable\"] = components\n",
    "loadingdf\n"
   ]
  },
  {
   "cell_type": "code",
   "execution_count": 86,
   "metadata": {},
   "outputs": [
    {
     "data": {
      "application/vnd.plotly.v1+json": {
       "config": {
        "plotlyServerURL": "https://plot.ly"
       },
       "data": [
        {
         "hovertemplate": "x=%{x}<br>y=%{y}<br>text=%{text}<extra></extra>",
         "legendgroup": "",
         "marker": {
          "color": "#636efa",
          "symbol": "circle"
         },
         "mode": "markers+text",
         "name": "",
         "orientation": "v",
         "showlegend": false,
         "text": [
          "shp_closed_d",
          "shp_duration_back2normal",
          "business_reduction_s",
          "business_reduction_r",
          "inundation_duration_h",
          "water_depth_cm",
          "contaminations",
          "warning_time_h",
          "emergency_measures",
          "protect_valuables_impl",
          "water_barries_impl",
          "flood_protections_impl",
          "resistant_material_building_impl",
          "elevation_building_height_cm",
          "building_elevation_rel2surrounding",
          "building_floor",
          "shp_damage_level_business",
          "shp_damage_level_products",
          "shp_sector",
          "shp_employees",
          "shp_avgmonthly_sale_mVND",
          "shp_capital_mVND",
          "shp_risk_behaviour",
          "shp_monetary_resources_prenvention"
         ],
         "textposition": "bottom center",
         "type": "scatter",
         "x": [
          0.9441572235982052,
          0.9475586309938697,
          0.37650116007858475,
          0.3656833133122914,
          0.178530031030384,
          0.25157224369029685,
          0.05352399161615749,
          -0.08573464295681558,
          -0.012096489336425185,
          0.06352793514424208,
          0.1010666783631668,
          0.021098795934669585,
          0.016936378029972055,
          0.09497039599373995,
          0.012244150790296162,
          -0.09676439790992822,
          0.335561147078169,
          0.05658867424707675,
          0.3219919548827204,
          0.8777558016772896,
          0.3861152400596926,
          0.924094123339531,
          -0.019177899796007133,
          0.004095307202063246
         ],
         "xaxis": "x",
         "y": [
          0.00725295958126946,
          -0.020799506770269503,
          -0.49024064452671895,
          -0.4532456043970284,
          0.10149721665499827,
          -0.1652876149058211,
          -0.3532239616474673,
          -0.2751222523844138,
          -0.45476578755268704,
          0.4019800459566018,
          0.4633631367660187,
          -0.09649288325934645,
          -0.08003642293756674,
          -0.23158145203980302,
          -0.09851607079922399,
          -0.02882694050416408,
          -0.06624250704455037,
          0.3527804358870821,
          0.25607965742699784,
          0.19482785413487763,
          0.020386346820931787,
          0.08557004590675232,
          0.6384879265646001,
          0.4861775624785112
         ],
         "yaxis": "y"
        }
       ],
       "layout": {
        "height": 600,
        "legend": {
         "tracegroupgap": 0
        },
        "margin": {
         "t": 60
        },
        "shapes": [
         {
          "line": {
           "color": "RoyalBlue",
           "width": 3
          },
          "type": "line",
          "x0": 0,
          "x1": 0,
          "y0": -0.5,
          "y1": 2.5
         },
         {
          "line": {
           "color": "RoyalBlue",
           "width": 3
          },
          "type": "line",
          "x0": -1,
          "x1": 1,
          "y0": 0,
          "y1": 0
         }
        ],
        "template": {
         "data": {
          "bar": [
           {
            "error_x": {
             "color": "#2a3f5f"
            },
            "error_y": {
             "color": "#2a3f5f"
            },
            "marker": {
             "line": {
              "color": "#E5ECF6",
              "width": 0.5
             },
             "pattern": {
              "fillmode": "overlay",
              "size": 10,
              "solidity": 0.2
             }
            },
            "type": "bar"
           }
          ],
          "barpolar": [
           {
            "marker": {
             "line": {
              "color": "#E5ECF6",
              "width": 0.5
             },
             "pattern": {
              "fillmode": "overlay",
              "size": 10,
              "solidity": 0.2
             }
            },
            "type": "barpolar"
           }
          ],
          "carpet": [
           {
            "aaxis": {
             "endlinecolor": "#2a3f5f",
             "gridcolor": "white",
             "linecolor": "white",
             "minorgridcolor": "white",
             "startlinecolor": "#2a3f5f"
            },
            "baxis": {
             "endlinecolor": "#2a3f5f",
             "gridcolor": "white",
             "linecolor": "white",
             "minorgridcolor": "white",
             "startlinecolor": "#2a3f5f"
            },
            "type": "carpet"
           }
          ],
          "choropleth": [
           {
            "colorbar": {
             "outlinewidth": 0,
             "ticks": ""
            },
            "type": "choropleth"
           }
          ],
          "contour": [
           {
            "colorbar": {
             "outlinewidth": 0,
             "ticks": ""
            },
            "colorscale": [
             [
              0,
              "#0d0887"
             ],
             [
              0.1111111111111111,
              "#46039f"
             ],
             [
              0.2222222222222222,
              "#7201a8"
             ],
             [
              0.3333333333333333,
              "#9c179e"
             ],
             [
              0.4444444444444444,
              "#bd3786"
             ],
             [
              0.5555555555555556,
              "#d8576b"
             ],
             [
              0.6666666666666666,
              "#ed7953"
             ],
             [
              0.7777777777777778,
              "#fb9f3a"
             ],
             [
              0.8888888888888888,
              "#fdca26"
             ],
             [
              1,
              "#f0f921"
             ]
            ],
            "type": "contour"
           }
          ],
          "contourcarpet": [
           {
            "colorbar": {
             "outlinewidth": 0,
             "ticks": ""
            },
            "type": "contourcarpet"
           }
          ],
          "heatmap": [
           {
            "colorbar": {
             "outlinewidth": 0,
             "ticks": ""
            },
            "colorscale": [
             [
              0,
              "#0d0887"
             ],
             [
              0.1111111111111111,
              "#46039f"
             ],
             [
              0.2222222222222222,
              "#7201a8"
             ],
             [
              0.3333333333333333,
              "#9c179e"
             ],
             [
              0.4444444444444444,
              "#bd3786"
             ],
             [
              0.5555555555555556,
              "#d8576b"
             ],
             [
              0.6666666666666666,
              "#ed7953"
             ],
             [
              0.7777777777777778,
              "#fb9f3a"
             ],
             [
              0.8888888888888888,
              "#fdca26"
             ],
             [
              1,
              "#f0f921"
             ]
            ],
            "type": "heatmap"
           }
          ],
          "heatmapgl": [
           {
            "colorbar": {
             "outlinewidth": 0,
             "ticks": ""
            },
            "colorscale": [
             [
              0,
              "#0d0887"
             ],
             [
              0.1111111111111111,
              "#46039f"
             ],
             [
              0.2222222222222222,
              "#7201a8"
             ],
             [
              0.3333333333333333,
              "#9c179e"
             ],
             [
              0.4444444444444444,
              "#bd3786"
             ],
             [
              0.5555555555555556,
              "#d8576b"
             ],
             [
              0.6666666666666666,
              "#ed7953"
             ],
             [
              0.7777777777777778,
              "#fb9f3a"
             ],
             [
              0.8888888888888888,
              "#fdca26"
             ],
             [
              1,
              "#f0f921"
             ]
            ],
            "type": "heatmapgl"
           }
          ],
          "histogram": [
           {
            "marker": {
             "pattern": {
              "fillmode": "overlay",
              "size": 10,
              "solidity": 0.2
             }
            },
            "type": "histogram"
           }
          ],
          "histogram2d": [
           {
            "colorbar": {
             "outlinewidth": 0,
             "ticks": ""
            },
            "colorscale": [
             [
              0,
              "#0d0887"
             ],
             [
              0.1111111111111111,
              "#46039f"
             ],
             [
              0.2222222222222222,
              "#7201a8"
             ],
             [
              0.3333333333333333,
              "#9c179e"
             ],
             [
              0.4444444444444444,
              "#bd3786"
             ],
             [
              0.5555555555555556,
              "#d8576b"
             ],
             [
              0.6666666666666666,
              "#ed7953"
             ],
             [
              0.7777777777777778,
              "#fb9f3a"
             ],
             [
              0.8888888888888888,
              "#fdca26"
             ],
             [
              1,
              "#f0f921"
             ]
            ],
            "type": "histogram2d"
           }
          ],
          "histogram2dcontour": [
           {
            "colorbar": {
             "outlinewidth": 0,
             "ticks": ""
            },
            "colorscale": [
             [
              0,
              "#0d0887"
             ],
             [
              0.1111111111111111,
              "#46039f"
             ],
             [
              0.2222222222222222,
              "#7201a8"
             ],
             [
              0.3333333333333333,
              "#9c179e"
             ],
             [
              0.4444444444444444,
              "#bd3786"
             ],
             [
              0.5555555555555556,
              "#d8576b"
             ],
             [
              0.6666666666666666,
              "#ed7953"
             ],
             [
              0.7777777777777778,
              "#fb9f3a"
             ],
             [
              0.8888888888888888,
              "#fdca26"
             ],
             [
              1,
              "#f0f921"
             ]
            ],
            "type": "histogram2dcontour"
           }
          ],
          "mesh3d": [
           {
            "colorbar": {
             "outlinewidth": 0,
             "ticks": ""
            },
            "type": "mesh3d"
           }
          ],
          "parcoords": [
           {
            "line": {
             "colorbar": {
              "outlinewidth": 0,
              "ticks": ""
             }
            },
            "type": "parcoords"
           }
          ],
          "pie": [
           {
            "automargin": true,
            "type": "pie"
           }
          ],
          "scatter": [
           {
            "fillpattern": {
             "fillmode": "overlay",
             "size": 10,
             "solidity": 0.2
            },
            "type": "scatter"
           }
          ],
          "scatter3d": [
           {
            "line": {
             "colorbar": {
              "outlinewidth": 0,
              "ticks": ""
             }
            },
            "marker": {
             "colorbar": {
              "outlinewidth": 0,
              "ticks": ""
             }
            },
            "type": "scatter3d"
           }
          ],
          "scattercarpet": [
           {
            "marker": {
             "colorbar": {
              "outlinewidth": 0,
              "ticks": ""
             }
            },
            "type": "scattercarpet"
           }
          ],
          "scattergeo": [
           {
            "marker": {
             "colorbar": {
              "outlinewidth": 0,
              "ticks": ""
             }
            },
            "type": "scattergeo"
           }
          ],
          "scattergl": [
           {
            "marker": {
             "colorbar": {
              "outlinewidth": 0,
              "ticks": ""
             }
            },
            "type": "scattergl"
           }
          ],
          "scattermapbox": [
           {
            "marker": {
             "colorbar": {
              "outlinewidth": 0,
              "ticks": ""
             }
            },
            "type": "scattermapbox"
           }
          ],
          "scatterpolar": [
           {
            "marker": {
             "colorbar": {
              "outlinewidth": 0,
              "ticks": ""
             }
            },
            "type": "scatterpolar"
           }
          ],
          "scatterpolargl": [
           {
            "marker": {
             "colorbar": {
              "outlinewidth": 0,
              "ticks": ""
             }
            },
            "type": "scatterpolargl"
           }
          ],
          "scatterternary": [
           {
            "marker": {
             "colorbar": {
              "outlinewidth": 0,
              "ticks": ""
             }
            },
            "type": "scatterternary"
           }
          ],
          "surface": [
           {
            "colorbar": {
             "outlinewidth": 0,
             "ticks": ""
            },
            "colorscale": [
             [
              0,
              "#0d0887"
             ],
             [
              0.1111111111111111,
              "#46039f"
             ],
             [
              0.2222222222222222,
              "#7201a8"
             ],
             [
              0.3333333333333333,
              "#9c179e"
             ],
             [
              0.4444444444444444,
              "#bd3786"
             ],
             [
              0.5555555555555556,
              "#d8576b"
             ],
             [
              0.6666666666666666,
              "#ed7953"
             ],
             [
              0.7777777777777778,
              "#fb9f3a"
             ],
             [
              0.8888888888888888,
              "#fdca26"
             ],
             [
              1,
              "#f0f921"
             ]
            ],
            "type": "surface"
           }
          ],
          "table": [
           {
            "cells": {
             "fill": {
              "color": "#EBF0F8"
             },
             "line": {
              "color": "white"
             }
            },
            "header": {
             "fill": {
              "color": "#C8D4E3"
             },
             "line": {
              "color": "white"
             }
            },
            "type": "table"
           }
          ]
         },
         "layout": {
          "annotationdefaults": {
           "arrowcolor": "#2a3f5f",
           "arrowhead": 0,
           "arrowwidth": 1
          },
          "autotypenumbers": "strict",
          "coloraxis": {
           "colorbar": {
            "outlinewidth": 0,
            "ticks": ""
           }
          },
          "colorscale": {
           "diverging": [
            [
             0,
             "#8e0152"
            ],
            [
             0.1,
             "#c51b7d"
            ],
            [
             0.2,
             "#de77ae"
            ],
            [
             0.3,
             "#f1b6da"
            ],
            [
             0.4,
             "#fde0ef"
            ],
            [
             0.5,
             "#f7f7f7"
            ],
            [
             0.6,
             "#e6f5d0"
            ],
            [
             0.7,
             "#b8e186"
            ],
            [
             0.8,
             "#7fbc41"
            ],
            [
             0.9,
             "#4d9221"
            ],
            [
             1,
             "#276419"
            ]
           ],
           "sequential": [
            [
             0,
             "#0d0887"
            ],
            [
             0.1111111111111111,
             "#46039f"
            ],
            [
             0.2222222222222222,
             "#7201a8"
            ],
            [
             0.3333333333333333,
             "#9c179e"
            ],
            [
             0.4444444444444444,
             "#bd3786"
            ],
            [
             0.5555555555555556,
             "#d8576b"
            ],
            [
             0.6666666666666666,
             "#ed7953"
            ],
            [
             0.7777777777777778,
             "#fb9f3a"
            ],
            [
             0.8888888888888888,
             "#fdca26"
            ],
            [
             1,
             "#f0f921"
            ]
           ],
           "sequentialminus": [
            [
             0,
             "#0d0887"
            ],
            [
             0.1111111111111111,
             "#46039f"
            ],
            [
             0.2222222222222222,
             "#7201a8"
            ],
            [
             0.3333333333333333,
             "#9c179e"
            ],
            [
             0.4444444444444444,
             "#bd3786"
            ],
            [
             0.5555555555555556,
             "#d8576b"
            ],
            [
             0.6666666666666666,
             "#ed7953"
            ],
            [
             0.7777777777777778,
             "#fb9f3a"
            ],
            [
             0.8888888888888888,
             "#fdca26"
            ],
            [
             1,
             "#f0f921"
            ]
           ]
          },
          "colorway": [
           "#636efa",
           "#EF553B",
           "#00cc96",
           "#ab63fa",
           "#FFA15A",
           "#19d3f3",
           "#FF6692",
           "#B6E880",
           "#FF97FF",
           "#FECB52"
          ],
          "font": {
           "color": "#2a3f5f"
          },
          "geo": {
           "bgcolor": "white",
           "lakecolor": "white",
           "landcolor": "#E5ECF6",
           "showlakes": true,
           "showland": true,
           "subunitcolor": "white"
          },
          "hoverlabel": {
           "align": "left"
          },
          "hovermode": "closest",
          "mapbox": {
           "style": "light"
          },
          "paper_bgcolor": "white",
          "plot_bgcolor": "#E5ECF6",
          "polar": {
           "angularaxis": {
            "gridcolor": "white",
            "linecolor": "white",
            "ticks": ""
           },
           "bgcolor": "#E5ECF6",
           "radialaxis": {
            "gridcolor": "white",
            "linecolor": "white",
            "ticks": ""
           }
          },
          "scene": {
           "xaxis": {
            "backgroundcolor": "#E5ECF6",
            "gridcolor": "white",
            "gridwidth": 2,
            "linecolor": "white",
            "showbackground": true,
            "ticks": "",
            "zerolinecolor": "white"
           },
           "yaxis": {
            "backgroundcolor": "#E5ECF6",
            "gridcolor": "white",
            "gridwidth": 2,
            "linecolor": "white",
            "showbackground": true,
            "ticks": "",
            "zerolinecolor": "white"
           },
           "zaxis": {
            "backgroundcolor": "#E5ECF6",
            "gridcolor": "white",
            "gridwidth": 2,
            "linecolor": "white",
            "showbackground": true,
            "ticks": "",
            "zerolinecolor": "white"
           }
          },
          "shapedefaults": {
           "line": {
            "color": "#2a3f5f"
           }
          },
          "ternary": {
           "aaxis": {
            "gridcolor": "white",
            "linecolor": "white",
            "ticks": ""
           },
           "baxis": {
            "gridcolor": "white",
            "linecolor": "white",
            "ticks": ""
           },
           "bgcolor": "#E5ECF6",
           "caxis": {
            "gridcolor": "white",
            "linecolor": "white",
            "ticks": ""
           }
          },
          "title": {
           "x": 0.05
          },
          "xaxis": {
           "automargin": true,
           "gridcolor": "white",
           "linecolor": "white",
           "ticks": "",
           "title": {
            "standoff": 15
           },
           "zerolinecolor": "white",
           "zerolinewidth": 2
          },
          "yaxis": {
           "automargin": true,
           "gridcolor": "white",
           "linecolor": "white",
           "ticks": "",
           "title": {
            "standoff": 15
           },
           "zerolinecolor": "white",
           "zerolinewidth": 2
          }
         }
        },
        "title": {
         "text": "loadings plot"
        },
        "width": 500,
        "xaxis": {
         "anchor": "y",
         "domain": [
          0,
          1
         ],
         "title": {
          "text": "x"
         }
        },
        "yaxis": {
         "anchor": "x",
         "domain": [
          0,
          1
         ],
         "title": {
          "text": "y"
         }
        }
       }
      }
     },
     "metadata": {},
     "output_type": "display_data"
    }
   ],
   "source": [
    "### Visualization of important variables by weights of PCs\n",
    "fig = ex.scatter(x=loadingdf['PC1'],y=loadingdf['PC2'],text=loadingdf['variable'],)\n",
    "\n",
    "fig.update_layout(\n",
    "height = 600, width = 500,\n",
    "title_text='loadings plot')\n",
    "fig.update_traces(textposition='bottom center')\n",
    "fig.add_shape(type=\"line\",\n",
    "    x0 = -0, y0 = -0.5, x1 = -0, y1 = 2.5,\n",
    "    line = dict(color=\"RoyalBlue\",width=3)\n",
    ")\n",
    "fig.add_shape(type=\"line\",\n",
    "    x0 = -1, y0 = 0, x1 = 1, y1 = 0,\n",
    "    line=dict(color=\"RoyalBlue\",width=3)\n",
    ")\n",
    "fig.show()"
   ]
  },
  {
   "attachments": {},
   "cell_type": "markdown",
   "metadata": {},
   "source": [
    "#### Eigenvectors and eigenvalues\n",
    "Code snippets were taken from: https://www.kaggle.com/code/gianinamariapetrascu/pca-varimax-rotation#var"
   ]
  },
  {
   "cell_type": "code",
   "execution_count": 87,
   "metadata": {},
   "outputs": [
    {
     "data": {
      "text/html": [
       "<style type=\"text/css\">\n",
       "</style>\n",
       "<table id=\"T_71a41\">\n",
       "  <thead>\n",
       "    <tr>\n",
       "      <th class=\"blank level0\" >&nbsp;</th>\n",
       "      <th id=\"T_71a41_level0_col0\" class=\"col_heading level0 col0\" >Eigenvalue</th>\n",
       "      <th id=\"T_71a41_level0_col1\" class=\"col_heading level0 col1\" >Proportion</th>\n",
       "      <th id=\"T_71a41_level0_col2\" class=\"col_heading level0 col2\" >Cumulative Proportion</th>\n",
       "    </tr>\n",
       "  </thead>\n",
       "  <tbody>\n",
       "    <tr>\n",
       "      <th id=\"T_71a41_level0_row0\" class=\"row_heading level0 row0\" >shp_closed_d</th>\n",
       "      <td id=\"T_71a41_row0_col0\" class=\"data row0 col0\" >4.1805</td>\n",
       "      <td id=\"T_71a41_row0_col1\" class=\"data row0 col1\" >0.1742</td>\n",
       "      <td id=\"T_71a41_row0_col2\" class=\"data row0 col2\" >0.1742</td>\n",
       "    </tr>\n",
       "    <tr>\n",
       "      <th id=\"T_71a41_level0_row1\" class=\"row_heading level0 row1\" >shp_duration_back2normal</th>\n",
       "      <td id=\"T_71a41_row1_col0\" class=\"data row1 col0\" >2.2226</td>\n",
       "      <td id=\"T_71a41_row1_col1\" class=\"data row1 col1\" >0.0926</td>\n",
       "      <td id=\"T_71a41_row1_col2\" class=\"data row1 col2\" >0.2668</td>\n",
       "    </tr>\n",
       "    <tr>\n",
       "      <th id=\"T_71a41_level0_row2\" class=\"row_heading level0 row2\" >business_reduction_s</th>\n",
       "      <td id=\"T_71a41_row2_col0\" class=\"data row2 col0\" >1.7174</td>\n",
       "      <td id=\"T_71a41_row2_col1\" class=\"data row2 col1\" >0.0716</td>\n",
       "      <td id=\"T_71a41_row2_col2\" class=\"data row2 col2\" >0.3384</td>\n",
       "    </tr>\n",
       "    <tr>\n",
       "      <th id=\"T_71a41_level0_row3\" class=\"row_heading level0 row3\" >business_reduction_r</th>\n",
       "      <td id=\"T_71a41_row3_col0\" class=\"data row3 col0\" >1.5708</td>\n",
       "      <td id=\"T_71a41_row3_col1\" class=\"data row3 col1\" >0.0654</td>\n",
       "      <td id=\"T_71a41_row3_col2\" class=\"data row3 col2\" >0.4038</td>\n",
       "    </tr>\n",
       "    <tr>\n",
       "      <th id=\"T_71a41_level0_row4\" class=\"row_heading level0 row4\" >inundation_duration_h</th>\n",
       "      <td id=\"T_71a41_row4_col0\" class=\"data row4 col0\" >1.4335</td>\n",
       "      <td id=\"T_71a41_row4_col1\" class=\"data row4 col1\" >0.0597</td>\n",
       "      <td id=\"T_71a41_row4_col2\" class=\"data row4 col2\" >0.4635</td>\n",
       "    </tr>\n",
       "    <tr>\n",
       "      <th id=\"T_71a41_level0_row5\" class=\"row_heading level0 row5\" >water_depth_cm</th>\n",
       "      <td id=\"T_71a41_row5_col0\" class=\"data row5 col0\" >1.3699</td>\n",
       "      <td id=\"T_71a41_row5_col1\" class=\"data row5 col1\" >0.0571</td>\n",
       "      <td id=\"T_71a41_row5_col2\" class=\"data row5 col2\" >0.5206</td>\n",
       "    </tr>\n",
       "    <tr>\n",
       "      <th id=\"T_71a41_level0_row6\" class=\"row_heading level0 row6\" >contaminations</th>\n",
       "      <td id=\"T_71a41_row6_col0\" class=\"data row6 col0\" >1.2065</td>\n",
       "      <td id=\"T_71a41_row6_col1\" class=\"data row6 col1\" >0.0503</td>\n",
       "      <td id=\"T_71a41_row6_col2\" class=\"data row6 col2\" >0.5709</td>\n",
       "    </tr>\n",
       "    <tr>\n",
       "      <th id=\"T_71a41_level0_row7\" class=\"row_heading level0 row7\" >warning_time_h</th>\n",
       "      <td id=\"T_71a41_row7_col0\" class=\"data row7 col0\" >1.1546</td>\n",
       "      <td id=\"T_71a41_row7_col1\" class=\"data row7 col1\" >0.0481</td>\n",
       "      <td id=\"T_71a41_row7_col2\" class=\"data row7 col2\" >0.6190</td>\n",
       "    </tr>\n",
       "    <tr>\n",
       "      <th id=\"T_71a41_level0_row8\" class=\"row_heading level0 row8\" >emergency_measures</th>\n",
       "      <td id=\"T_71a41_row8_col0\" class=\"data row8 col0\" >1.0495</td>\n",
       "      <td id=\"T_71a41_row8_col1\" class=\"data row8 col1\" >0.0437</td>\n",
       "      <td id=\"T_71a41_row8_col2\" class=\"data row8 col2\" >0.6627</td>\n",
       "    </tr>\n",
       "    <tr>\n",
       "      <th id=\"T_71a41_level0_row9\" class=\"row_heading level0 row9\" >protect_valuables_impl</th>\n",
       "      <td id=\"T_71a41_row9_col0\" class=\"data row9 col0\" >0.9660</td>\n",
       "      <td id=\"T_71a41_row9_col1\" class=\"data row9 col1\" >0.0403</td>\n",
       "      <td id=\"T_71a41_row9_col2\" class=\"data row9 col2\" >0.7030</td>\n",
       "    </tr>\n",
       "    <tr>\n",
       "      <th id=\"T_71a41_level0_row10\" class=\"row_heading level0 row10\" >water_barries_impl</th>\n",
       "      <td id=\"T_71a41_row10_col0\" class=\"data row10 col0\" >0.9131</td>\n",
       "      <td id=\"T_71a41_row10_col1\" class=\"data row10 col1\" >0.0380</td>\n",
       "      <td id=\"T_71a41_row10_col2\" class=\"data row10 col2\" >0.7410</td>\n",
       "    </tr>\n",
       "    <tr>\n",
       "      <th id=\"T_71a41_level0_row11\" class=\"row_heading level0 row11\" >flood_protections_impl</th>\n",
       "      <td id=\"T_71a41_row11_col0\" class=\"data row11 col0\" >0.8987</td>\n",
       "      <td id=\"T_71a41_row11_col1\" class=\"data row11 col1\" >0.0374</td>\n",
       "      <td id=\"T_71a41_row11_col2\" class=\"data row11 col2\" >0.7785</td>\n",
       "    </tr>\n",
       "    <tr>\n",
       "      <th id=\"T_71a41_level0_row12\" class=\"row_heading level0 row12\" >resistant_material_building_impl</th>\n",
       "      <td id=\"T_71a41_row12_col0\" class=\"data row12 col0\" >0.8836</td>\n",
       "      <td id=\"T_71a41_row12_col1\" class=\"data row12 col1\" >0.0368</td>\n",
       "      <td id=\"T_71a41_row12_col2\" class=\"data row12 col2\" >0.8153</td>\n",
       "    </tr>\n",
       "    <tr>\n",
       "      <th id=\"T_71a41_level0_row13\" class=\"row_heading level0 row13\" >elevation_building_height_cm</th>\n",
       "      <td id=\"T_71a41_row13_col0\" class=\"data row13 col0\" >0.7303</td>\n",
       "      <td id=\"T_71a41_row13_col1\" class=\"data row13 col1\" >0.0304</td>\n",
       "      <td id=\"T_71a41_row13_col2\" class=\"data row13 col2\" >0.8457</td>\n",
       "    </tr>\n",
       "    <tr>\n",
       "      <th id=\"T_71a41_level0_row14\" class=\"row_heading level0 row14\" >building_elevation_rel2surrounding</th>\n",
       "      <td id=\"T_71a41_row14_col0\" class=\"data row14 col0\" >0.6744</td>\n",
       "      <td id=\"T_71a41_row14_col1\" class=\"data row14 col1\" >0.0281</td>\n",
       "      <td id=\"T_71a41_row14_col2\" class=\"data row14 col2\" >0.8738</td>\n",
       "    </tr>\n",
       "    <tr>\n",
       "      <th id=\"T_71a41_level0_row15\" class=\"row_heading level0 row15\" >building_floor</th>\n",
       "      <td id=\"T_71a41_row15_col0\" class=\"data row15 col0\" >0.6511</td>\n",
       "      <td id=\"T_71a41_row15_col1\" class=\"data row15 col1\" >0.0271</td>\n",
       "      <td id=\"T_71a41_row15_col2\" class=\"data row15 col2\" >0.9009</td>\n",
       "    </tr>\n",
       "    <tr>\n",
       "      <th id=\"T_71a41_level0_row16\" class=\"row_heading level0 row16\" >shp_damage_level_business</th>\n",
       "      <td id=\"T_71a41_row16_col0\" class=\"data row16 col0\" >0.6071</td>\n",
       "      <td id=\"T_71a41_row16_col1\" class=\"data row16 col1\" >0.0253</td>\n",
       "      <td id=\"T_71a41_row16_col2\" class=\"data row16 col2\" >0.9262</td>\n",
       "    </tr>\n",
       "    <tr>\n",
       "      <th id=\"T_71a41_level0_row17\" class=\"row_heading level0 row17\" >shp_damage_level_products</th>\n",
       "      <td id=\"T_71a41_row17_col0\" class=\"data row17 col0\" >0.5259</td>\n",
       "      <td id=\"T_71a41_row17_col1\" class=\"data row17 col1\" >0.0219</td>\n",
       "      <td id=\"T_71a41_row17_col2\" class=\"data row17 col2\" >0.9481</td>\n",
       "    </tr>\n",
       "    <tr>\n",
       "      <th id=\"T_71a41_level0_row18\" class=\"row_heading level0 row18\" >shp_sector</th>\n",
       "      <td id=\"T_71a41_row18_col0\" class=\"data row18 col0\" >0.4551</td>\n",
       "      <td id=\"T_71a41_row18_col1\" class=\"data row18 col1\" >0.0190</td>\n",
       "      <td id=\"T_71a41_row18_col2\" class=\"data row18 col2\" >0.9671</td>\n",
       "    </tr>\n",
       "    <tr>\n",
       "      <th id=\"T_71a41_level0_row19\" class=\"row_heading level0 row19\" >shp_employees</th>\n",
       "      <td id=\"T_71a41_row19_col0\" class=\"data row19 col0\" >0.3631</td>\n",
       "      <td id=\"T_71a41_row19_col1\" class=\"data row19 col1\" >0.0151</td>\n",
       "      <td id=\"T_71a41_row19_col2\" class=\"data row19 col2\" >0.9822</td>\n",
       "    </tr>\n",
       "    <tr>\n",
       "      <th id=\"T_71a41_level0_row20\" class=\"row_heading level0 row20\" >shp_avgmonthly_sale_mVND</th>\n",
       "      <td id=\"T_71a41_row20_col0\" class=\"data row20 col0\" >0.1949</td>\n",
       "      <td id=\"T_71a41_row20_col1\" class=\"data row20 col1\" >0.0081</td>\n",
       "      <td id=\"T_71a41_row20_col2\" class=\"data row20 col2\" >0.9904</td>\n",
       "    </tr>\n",
       "    <tr>\n",
       "      <th id=\"T_71a41_level0_row21\" class=\"row_heading level0 row21\" >shp_capital_mVND</th>\n",
       "      <td id=\"T_71a41_row21_col0\" class=\"data row21 col0\" >0.1317</td>\n",
       "      <td id=\"T_71a41_row21_col1\" class=\"data row21 col1\" >0.0055</td>\n",
       "      <td id=\"T_71a41_row21_col2\" class=\"data row21 col2\" >0.9958</td>\n",
       "    </tr>\n",
       "    <tr>\n",
       "      <th id=\"T_71a41_level0_row22\" class=\"row_heading level0 row22\" >shp_risk_behaviour</th>\n",
       "      <td id=\"T_71a41_row22_col0\" class=\"data row22 col0\" >0.0780</td>\n",
       "      <td id=\"T_71a41_row22_col1\" class=\"data row22 col1\" >0.0032</td>\n",
       "      <td id=\"T_71a41_row22_col2\" class=\"data row22 col2\" >0.9991</td>\n",
       "    </tr>\n",
       "    <tr>\n",
       "      <th id=\"T_71a41_level0_row23\" class=\"row_heading level0 row23\" >shp_monetary_resources_prenvention</th>\n",
       "      <td id=\"T_71a41_row23_col0\" class=\"data row23 col0\" >0.0219</td>\n",
       "      <td id=\"T_71a41_row23_col1\" class=\"data row23 col1\" >0.0009</td>\n",
       "      <td id=\"T_71a41_row23_col2\" class=\"data row23 col2\" >1.0000</td>\n",
       "    </tr>\n",
       "  </tbody>\n",
       "</table>\n"
      ],
      "text/plain": [
       "<pandas.io.formats.style.Styler at 0x1caaa10a6a0>"
      ]
     },
     "metadata": {},
     "output_type": "display_data"
    }
   ],
   "source": [
    "## calc Eingevactor and eigenvalues\n",
    "\n",
    "eigenvalues, eigenvectors = np.linalg.eig(np.corrcoef(X.T))\n",
    "\n",
    "# sort the eigenvalues and eigenvectors in descending order\n",
    "idx = eigenvalues.argsort()[::-1]\n",
    "eigenvalues = eigenvalues[idx]\n",
    "\n",
    "# convert to dataframes\n",
    "eigenvalues_df = pd.DataFrame({'Eigenvalue': eigenvalues}, index=df_candidates_X.columns)\n",
    "eigenvalues_df['Proportion'] = eigenvalues_df['Eigenvalue'] / eigenvalues_df['Eigenvalue'].sum()\n",
    "eigenvalues_df['Cumulative Proportion'] = eigenvalues_df['Proportion'].cumsum()\n",
    "\n",
    "display(eigenvalues_df.style.format({'Eigenvalue': '{:.4f}', 'Proportion': '{:.4f}', 'Cumulative Proportion': '{:.4f}'}))"
   ]
  },
  {
   "attachments": {},
   "cell_type": "markdown",
   "metadata": {},
   "source": [
    "#### Summarize eigenvalues:\n",
    "- around 33.8% of the variance in the direct damage costs for business contents can be explained by flood variables (water depth, inundation time and contamination)\n"
   ]
  },
  {
   "cell_type": "code",
   "execution_count": 88,
   "metadata": {},
   "outputs": [
    {
     "data": {
      "image/png": "[encoded data removed]",
      "text/plain": [
       "<Figure size 640x480 with 1 Axes>"
      ]
     },
     "metadata": {},
     "output_type": "display_data"
    }
   ],
   "source": [
    "## how many PCs are needed  ? \n",
    "plt.plot(range(1, len(eigenvalues) + 1), eigenvalues, marker='o', color='#8080ff')\n",
    "plt.xlabel('Principal Component')\n",
    "plt.ylabel('Eigenvalue')\n",
    "plt.title('Scree Plot')\n",
    "plt.show()"
   ]
  },
  {
   "cell_type": "code",
   "execution_count": 90,
   "metadata": {},
   "outputs": [],
   "source": [
    "pca.components_.T;"
   ]
  },
  {
   "cell_type": "code",
   "execution_count": 91,
   "metadata": {},
   "outputs": [
    {
     "data": {
      "text/plain": [
       "<matplotlib.image.AxesImage at 0x1caaad3a3a0>"
      ]
     },
     "execution_count": 91,
     "metadata": {},
     "output_type": "execute_result"
    },
    {
     "data": {
      "image/png": "[encoded data removed]",
      "text/plain": [
       "<Figure size 640x480 with 1 Axes>"
      ]
     },
     "metadata": {},
     "output_type": "display_data"
    }
   ],
   "source": [
    "components = pca.components_.T\n",
    "\n",
    "vmax = np.abs(components).max()\n",
    "plt.imshow(components, cmap=\"RdBu_r\", vmax=vmax, vmin=-vmax)"
   ]
  },
  {
   "cell_type": "code",
   "execution_count": 92,
   "metadata": {},
   "outputs": [
    {
     "data": {
      "text/plain": [
       "array([0.17418822, 0.09260905, 0.07155936])"
      ]
     },
     "execution_count": 92,
     "metadata": {},
     "output_type": "execute_result"
    }
   ],
   "source": [
    "pca.explained_variance_ratio_\n",
    "\n"
   ]
  },
  {
   "attachments": {},
   "cell_type": "markdown",
   "metadata": {},
   "source": [
    "### Varimax rotation for better interpretation of variables\n",
    "By the rotation or adjustment the variance shared among the variables should be maximized"
   ]
  },
  {
   "cell_type": "code",
   "execution_count": null,
   "metadata": {},
   "outputs": [],
   "source": [
    "# normalizing features\n",
    "#X_norm = (X - X.mean(axis=0)) / X.std(axis=0)\n",
    "\n",
    "# fit factor analyzer with principal components and varimax rotation\n",
    "fa = FactorAnalyzer(rotation=\"varimax\", n_factors=2, method='principal')\n",
    "fa.fit(X_norm)\n",
    "\n",
    "# get the rotated factor pattern\n",
    "loadings2 = pd.DataFrame(fa.loadings_, index=X_norm.columns, columns=[f\"Factor{i+1}\" for i in range(2)])\n",
    "rotated_factor_pattern = loadings2[abs(loadings2) >= 0.4].dropna(how='all')\n"
   ]
  },
  {
   "cell_type": "code",
   "execution_count": null,
   "metadata": {},
   "outputs": [],
   "source": []
  },
  {
   "cell_type": "code",
   "execution_count": 27,
   "metadata": {},
   "outputs": [
    {
     "data": {
      "text/plain": [
       "<Axes: >"
      ]
     },
     "execution_count": 27,
     "metadata": {},
     "output_type": "execute_result"
    },
    {
     "data": {
      "image/png": "[encoded data removed]",
      "text/plain": [
       "<Figure size 640x480 with 2 Axes>"
      ]
     },
     "metadata": {},
     "output_type": "display_data"
    }
   ],
   "source": [
    "#Checking Co-relation between features after PCA\n",
    "sns.heatmap(df_pca.corr())"
   ]
  },
  {
   "cell_type": "code",
   "execution_count": 21,
   "metadata": {},
   "outputs": [
    {
     "data": {
      "application/vnd.plotly.v1+json": {
       "config": {
        "plotlyServerURL": "https://plot.ly"
       },
       "data": [
        {
         "hovertemplate": "x=%{x}<br>y=%{y}<br>text=%{text}<extra></extra>",
         "legendgroup": "",
         "marker": {
          "color": "#636efa",
          "symbol": "circle"
         },
         "mode": "markers+text",
         "name": "",
         "orientation": "v",
         "showlegend": false,
         "text": [
          "Unnamed: 0",
          "inundation_duration_h",
          "water_depth_cm",
          "contaminations",
          "warning_time_h",
          "emergency_measures",
          "protect_valuables_impl",
          "water_barries_impl",
          "flood_protections_impl",
          "resistant_material_building_impl",
          "elevation_building_height_cm",
          "building_elevation_rel2surrounding",
          "building_floor",
          "shp_damage_level_business",
          "shp_damage_level_products",
          "shp_closed_d",
          "shp_duration_back2normal",
          "business_reduction_s",
          "business_reduction_r",
          "shp_sector",
          "shp_employees",
          "shp_avgmonthly_sale_mVND",
          "shp_capital_mVND",
          "shp_risk_behaviour",
          "shp_monetary_resources_prenvention"
         ],
         "textposition": "bottom center",
         "type": "scatter",
         "x": [
          -0.32237096738134213,
          0.1905227484324424,
          0.3076839946011935,
          0.07040636021283465,
          -0.08127726013805962,
          0.008470506789065288,
          0.06654619159777049,
          0.10123246076822345,
          0.030785320546555014,
          0.03344333904575713,
          0.12167043307257201,
          0.019905255751401164,
          -0.10849645941224412,
          0.343469858537198,
          0.06278725819303933,
          0.9334467608514466,
          0.9400336744603219,
          0.38072150830699225,
          0.3749245127169252,
          0.3156021458089412,
          0.8657534660210051,
          0.38180653895217026,
          0.9092762368916907,
          -0.018274167908949618,
          -0.0046392596983575885
         ],
         "xaxis": "x",
         "y": [
          0.30982921011094,
          0.04962153508708579,
          -0.3156558458010421,
          -0.39103791193059395,
          -0.24646679909941865,
          -0.48172256641668654,
          0.3675925416129566,
          0.42474331823253597,
          -0.1242541773304694,
          -0.1278366477550181,
          -0.299357461959576,
          -0.11061119807942768,
          0.029282818399066702,
          -0.08512254089737009,
          0.2988993499523652,
          0.0649767151624969,
          0.028849882080711122,
          -0.44049289435858563,
          -0.41940684196402106,
          0.2685146130399686,
          0.23723045859695613,
          0.04890866779206989,
          0.14647938618383685,
          0.5802020514495119,
          0.4674557925013481
         ],
         "yaxis": "y"
        }
       ],
       "layout": {
        "height": 600,
        "legend": {
         "tracegroupgap": 0
        },
        "margin": {
         "t": 60
        },
        "shapes": [
         {
          "line": {
           "color": "RoyalBlue",
           "width": 3
          },
          "type": "line",
          "x0": 0,
          "x1": 0,
          "y0": -0.5,
          "y1": 2.5
         },
         {
          "line": {
           "color": "RoyalBlue",
           "width": 3
          },
          "type": "line",
          "x0": -1,
          "x1": 1,
          "y0": 0,
          "y1": 0
         }
        ],
        "template": {
         "data": {
          "bar": [
           {
            "error_x": {
             "color": "#2a3f5f"
            },
            "error_y": {
             "color": "#2a3f5f"
            },
            "marker": {
             "line": {
              "color": "#E5ECF6",
              "width": 0.5
             },
             "pattern": {
              "fillmode": "overlay",
              "size": 10,
              "solidity": 0.2
             }
            },
            "type": "bar"
           }
          ],
          "barpolar": [
           {
            "marker": {
             "line": {
              "color": "#E5ECF6",
              "width": 0.5
             },
             "pattern": {
              "fillmode": "overlay",
              "size": 10,
              "solidity": 0.2
             }
            },
            "type": "barpolar"
           }
          ],
          "carpet": [
           {
            "aaxis": {
             "endlinecolor": "#2a3f5f",
             "gridcolor": "white",
             "linecolor": "white",
             "minorgridcolor": "white",
             "startlinecolor": "#2a3f5f"
            },
            "baxis": {
             "endlinecolor": "#2a3f5f",
             "gridcolor": "white",
             "linecolor": "white",
             "minorgridcolor": "white",
             "startlinecolor": "#2a3f5f"
            },
            "type": "carpet"
           }
          ],
          "choropleth": [
           {
            "colorbar": {
             "outlinewidth": 0,
             "ticks": ""
            },
            "type": "choropleth"
           }
          ],
          "contour": [
           {
            "colorbar": {
             "outlinewidth": 0,
             "ticks": ""
            },
            "colorscale": [
             [
              0,
              "#0d0887"
             ],
             [
              0.1111111111111111,
              "#46039f"
             ],
             [
              0.2222222222222222,
              "#7201a8"
             ],
             [
              0.3333333333333333,
              "#9c179e"
             ],
             [
              0.4444444444444444,
              "#bd3786"
             ],
             [
              0.5555555555555556,
              "#d8576b"
             ],
             [
              0.6666666666666666,
              "#ed7953"
             ],
             [
              0.7777777777777778,
              "#fb9f3a"
             ],
             [
              0.8888888888888888,
              "#fdca26"
             ],
             [
              1,
              "#f0f921"
             ]
            ],
            "type": "contour"
           }
          ],
          "contourcarpet": [
           {
            "colorbar": {
             "outlinewidth": 0,
             "ticks": ""
            },
            "type": "contourcarpet"
           }
          ],
          "heatmap": [
           {
            "colorbar": {
             "outlinewidth": 0,
             "ticks": ""
            },
            "colorscale": [
             [
              0,
              "#0d0887"
             ],
             [
              0.1111111111111111,
              "#46039f"
             ],
             [
              0.2222222222222222,
              "#7201a8"
             ],
             [
              0.3333333333333333,
              "#9c179e"
             ],
             [
              0.4444444444444444,
              "#bd3786"
             ],
             [
              0.5555555555555556,
              "#d8576b"
             ],
             [
              0.6666666666666666,
              "#ed7953"
             ],
             [
              0.7777777777777778,
              "#fb9f3a"
             ],
             [
              0.8888888888888888,
              "#fdca26"
             ],
             [
              1,
              "#f0f921"
             ]
            ],
            "type": "heatmap"
           }
          ],
          "heatmapgl": [
           {
            "colorbar": {
             "outlinewidth": 0,
             "ticks": ""
            },
            "colorscale": [
             [
              0,
              "#0d0887"
             ],
             [
              0.1111111111111111,
              "#46039f"
             ],
             [
              0.2222222222222222,
              "#7201a8"
             ],
             [
              0.3333333333333333,
              "#9c179e"
             ],
             [
              0.4444444444444444,
              "#bd3786"
             ],
             [
              0.5555555555555556,
              "#d8576b"
             ],
             [
              0.6666666666666666,
              "#ed7953"
             ],
             [
              0.7777777777777778,
              "#fb9f3a"
             ],
             [
              0.8888888888888888,
              "#fdca26"
             ],
             [
              1,
              "#f0f921"
             ]
            ],
            "type": "heatmapgl"
           }
          ],
          "histogram": [
           {
            "marker": {
             "pattern": {
              "fillmode": "overlay",
              "size": 10,
              "solidity": 0.2
             }
            },
            "type": "histogram"
           }
          ],
          "histogram2d": [
           {
            "colorbar": {
             "outlinewidth": 0,
             "ticks": ""
            },
            "colorscale": [
             [
              0,
              "#0d0887"
             ],
             [
              0.1111111111111111,
              "#46039f"
             ],
             [
              0.2222222222222222,
              "#7201a8"
             ],
             [
              0.3333333333333333,
              "#9c179e"
             ],
             [
              0.4444444444444444,
              "#bd3786"
             ],
             [
              0.5555555555555556,
              "#d8576b"
             ],
             [
              0.6666666666666666,
              "#ed7953"
             ],
             [
              0.7777777777777778,
              "#fb9f3a"
             ],
             [
              0.8888888888888888,
              "#fdca26"
             ],
             [
              1,
              "#f0f921"
             ]
            ],
            "type": "histogram2d"
           }
          ],
          "histogram2dcontour": [
           {
            "colorbar": {
             "outlinewidth": 0,
             "ticks": ""
            },
            "colorscale": [
             [
              0,
              "#0d0887"
             ],
             [
              0.1111111111111111,
              "#46039f"
             ],
             [
              0.2222222222222222,
              "#7201a8"
             ],
             [
              0.3333333333333333,
              "#9c179e"
             ],
             [
              0.4444444444444444,
              "#bd3786"
             ],
             [
              0.5555555555555556,
              "#d8576b"
             ],
             [
              0.6666666666666666,
              "#ed7953"
             ],
             [
              0.7777777777777778,
              "#fb9f3a"
             ],
             [
              0.8888888888888888,
              "#fdca26"
             ],
             [
              1,
              "#f0f921"
             ]
            ],
            "type": "histogram2dcontour"
           }
          ],
          "mesh3d": [
           {
            "colorbar": {
             "outlinewidth": 0,
             "ticks": ""
            },
            "type": "mesh3d"
           }
          ],
          "parcoords": [
           {
            "line": {
             "colorbar": {
              "outlinewidth": 0,
              "ticks": ""
             }
            },
            "type": "parcoords"
           }
          ],
          "pie": [
           {
            "automargin": true,
            "type": "pie"
           }
          ],
          "scatter": [
           {
            "fillpattern": {
             "fillmode": "overlay",
             "size": 10,
             "solidity": 0.2
            },
            "type": "scatter"
           }
          ],
          "scatter3d": [
           {
            "line": {
             "colorbar": {
              "outlinewidth": 0,
              "ticks": ""
             }
            },
            "marker": {
             "colorbar": {
              "outlinewidth": 0,
              "ticks": ""
             }
            },
            "type": "scatter3d"
           }
          ],
          "scattercarpet": [
           {
            "marker": {
             "colorbar": {
              "outlinewidth": 0,
              "ticks": ""
             }
            },
            "type": "scattercarpet"
           }
          ],
          "scattergeo": [
           {
            "marker": {
             "colorbar": {
              "outlinewidth": 0,
              "ticks": ""
             }
            },
            "type": "scattergeo"
           }
          ],
          "scattergl": [
           {
            "marker": {
             "colorbar": {
              "outlinewidth": 0,
              "ticks": ""
             }
            },
            "type": "scattergl"
           }
          ],
          "scattermapbox": [
           {
            "marker": {
             "colorbar": {
              "outlinewidth": 0,
              "ticks": ""
             }
            },
            "type": "scattermapbox"
           }
          ],
          "scatterpolar": [
           {
            "marker": {
             "colorbar": {
              "outlinewidth": 0,
              "ticks": ""
             }
            },
            "type": "scatterpolar"
           }
          ],
          "scatterpolargl": [
           {
            "marker": {
             "colorbar": {
              "outlinewidth": 0,
              "ticks": ""
             }
            },
            "type": "scatterpolargl"
           }
          ],
          "scatterternary": [
           {
            "marker": {
             "colorbar": {
              "outlinewidth": 0,
              "ticks": ""
             }
            },
            "type": "scatterternary"
           }
          ],
          "surface": [
           {
            "colorbar": {
             "outlinewidth": 0,
             "ticks": ""
            },
            "colorscale": [
             [
              0,
              "#0d0887"
             ],
             [
              0.1111111111111111,
              "#46039f"
             ],
             [
              0.2222222222222222,
              "#7201a8"
             ],
             [
              0.3333333333333333,
              "#9c179e"
             ],
             [
              0.4444444444444444,
              "#bd3786"
             ],
             [
              0.5555555555555556,
              "#d8576b"
             ],
             [
              0.6666666666666666,
              "#ed7953"
             ],
             [
              0.7777777777777778,
              "#fb9f3a"
             ],
             [
              0.8888888888888888,
              "#fdca26"
             ],
             [
              1,
              "#f0f921"
             ]
            ],
            "type": "surface"
           }
          ],
          "table": [
           {
            "cells": {
             "fill": {
              "color": "#EBF0F8"
             },
             "line": {
              "color": "white"
             }
            },
            "header": {
             "fill": {
              "color": "#C8D4E3"
             },
             "line": {
              "color": "white"
             }
            },
            "type": "table"
           }
          ]
         },
         "layout": {
          "annotationdefaults": {
           "arrowcolor": "#2a3f5f",
           "arrowhead": 0,
           "arrowwidth": 1
          },
          "autotypenumbers": "strict",
          "coloraxis": {
           "colorbar": {
            "outlinewidth": 0,
            "ticks": ""
           }
          },
          "colorscale": {
           "diverging": [
            [
             0,
             "#8e0152"
            ],
            [
             0.1,
             "#c51b7d"
            ],
            [
             0.2,
             "#de77ae"
            ],
            [
             0.3,
             "#f1b6da"
            ],
            [
             0.4,
             "#fde0ef"
            ],
            [
             0.5,
             "#f7f7f7"
            ],
            [
             0.6,
             "#e6f5d0"
            ],
            [
             0.7,
             "#b8e186"
            ],
            [
             0.8,
             "#7fbc41"
            ],
            [
             0.9,
             "#4d9221"
            ],
            [
             1,
             "#276419"
            ]
           ],
           "sequential": [
            [
             0,
             "#0d0887"
            ],
            [
             0.1111111111111111,
             "#46039f"
            ],
            [
             0.2222222222222222,
             "#7201a8"
            ],
            [
             0.3333333333333333,
             "#9c179e"
            ],
            [
             0.4444444444444444,
             "#bd3786"
            ],
            [
             0.5555555555555556,
             "#d8576b"
            ],
            [
             0.6666666666666666,
             "#ed7953"
            ],
            [
             0.7777777777777778,
             "#fb9f3a"
            ],
            [
             0.8888888888888888,
             "#fdca26"
            ],
            [
             1,
             "#f0f921"
            ]
           ],
           "sequentialminus": [
            [
             0,
             "#0d0887"
            ],
            [
             0.1111111111111111,
             "#46039f"
            ],
            [
             0.2222222222222222,
             "#7201a8"
            ],
            [
             0.3333333333333333,
             "#9c179e"
            ],
            [
             0.4444444444444444,
             "#bd3786"
            ],
            [
             0.5555555555555556,
             "#d8576b"
            ],
            [
             0.6666666666666666,
             "#ed7953"
            ],
            [
             0.7777777777777778,
             "#fb9f3a"
            ],
            [
             0.8888888888888888,
             "#fdca26"
            ],
            [
             1,
             "#f0f921"
            ]
           ]
          },
          "colorway": [
           "#636efa",
           "#EF553B",
           "#00cc96",
           "#ab63fa",
           "#FFA15A",
           "#19d3f3",
           "#FF6692",
           "#B6E880",
           "#FF97FF",
           "#FECB52"
          ],
          "font": {
           "color": "#2a3f5f"
          },
          "geo": {
           "bgcolor": "white",
           "lakecolor": "white",
           "landcolor": "#E5ECF6",
           "showlakes": true,
           "showland": true,
           "subunitcolor": "white"
          },
          "hoverlabel": {
           "align": "left"
          },
          "hovermode": "closest",
          "mapbox": {
           "style": "light"
          },
          "paper_bgcolor": "white",
          "plot_bgcolor": "#E5ECF6",
          "polar": {
           "angularaxis": {
            "gridcolor": "white",
            "linecolor": "white",
            "ticks": ""
           },
           "bgcolor": "#E5ECF6",
           "radialaxis": {
            "gridcolor": "white",
            "linecolor": "white",
            "ticks": ""
           }
          },
          "scene": {
           "xaxis": {
            "backgroundcolor": "#E5ECF6",
            "gridcolor": "white",
            "gridwidth": 2,
            "linecolor": "white",
            "showbackground": true,
            "ticks": "",
            "zerolinecolor": "white"
           },
           "yaxis": {
            "backgroundcolor": "#E5ECF6",
            "gridcolor": "white",
            "gridwidth": 2,
            "linecolor": "white",
            "showbackground": true,
            "ticks": "",
            "zerolinecolor": "white"
           },
           "zaxis": {
            "backgroundcolor": "#E5ECF6",
            "gridcolor": "white",
            "gridwidth": 2,
            "linecolor": "white",
            "showbackground": true,
            "ticks": "",
            "zerolinecolor": "white"
           }
          },
          "shapedefaults": {
           "line": {
            "color": "#2a3f5f"
           }
          },
          "ternary": {
           "aaxis": {
            "gridcolor": "white",
            "linecolor": "white",
            "ticks": ""
           },
           "baxis": {
            "gridcolor": "white",
            "linecolor": "white",
            "ticks": ""
           },
           "bgcolor": "#E5ECF6",
           "caxis": {
            "gridcolor": "white",
            "linecolor": "white",
            "ticks": ""
           }
          },
          "title": {
           "x": 0.05
          },
          "xaxis": {
           "automargin": true,
           "gridcolor": "white",
           "linecolor": "white",
           "ticks": "",
           "title": {
            "standoff": 15
           },
           "zerolinecolor": "white",
           "zerolinewidth": 2
          },
          "yaxis": {
           "automargin": true,
           "gridcolor": "white",
           "linecolor": "white",
           "ticks": "",
           "title": {
            "standoff": 15
           },
           "zerolinecolor": "white",
           "zerolinewidth": 2
          }
         }
        },
        "title": {
         "text": "loadings plot"
        },
        "width": 500,
        "xaxis": {
         "anchor": "y",
         "domain": [
          0,
          1
         ],
         "title": {
          "text": "x"
         }
        },
        "yaxis": {
         "anchor": "x",
         "domain": [
          0,
          1
         ],
         "title": {
          "text": "y"
         }
        }
       }
      }
     },
     "metadata": {},
     "output_type": "display_data"
    }
   ],
   "source": []
  },
  {
   "attachments": {},
   "cell_type": "markdown",
   "metadata": {},
   "source": [
    "#### PCA on indirect costs"
   ]
  },
  {
   "cell_type": "code",
   "execution_count": null,
   "metadata": {},
   "outputs": [],
   "source": []
  },
  {
   "attachments": {},
   "cell_type": "markdown",
   "metadata": {},
   "source": []
  },
  {
   "cell_type": "code",
   "execution_count": null,
   "metadata": {},
   "outputs": [],
   "source": []
  }
 ],
 "metadata": {
  "kernelspec": {
   "display_name": "py396_c3",
   "language": "python",
   "name": "python3"
  },
  "language_info": {
   "codemirror_mode": {
    "name": "ipython",
    "version": 3
   },
   "file_extension": ".py",
   "mimetype": "text/x-python",
   "name": "python",
   "nbconvert_exporter": "python",
   "pygments_lexer": "ipython3",
   "version": "3.9.6"
  },
  "orig_nbformat": 4
 },
 "nbformat": 4,
 "nbformat_minor": 2
}
