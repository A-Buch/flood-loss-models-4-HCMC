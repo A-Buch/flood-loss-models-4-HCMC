{
 "cells": [
  {
   "cell_type": "code",
   "execution_count": null,
   "metadata": {},
   "outputs": [],
   "source": []
  },
  {
   "cell_type": "markdown",
   "metadata": {},
   "source": [
    "**Goal:**\n",
    "Examine if the floor number in the updated HCMC dataset correlates with the DSM values. If so than approximate all missing floor numbers in the HCMC dataset by the DSM "
   ]
  },
  {
   "cell_type": "code",
   "execution_count": 19,
   "metadata": {},
   "outputs": [],
   "source": [
    "import sys, os\n",
    "\n",
    "import numpy as np\n",
    "import pandas as pd\n",
    "import geopandas as gpd\n",
    "import re\n",
    "import rasterio as rio\n",
    "\n",
    "import matplotlib.pyplot as plt\n",
    "import seaborn as sns\n",
    "\n",
    "\n",
    "sys.path.insert(0, \"../\")\n",
    "#sys.path.insert(0,os.getcwd())\n",
    "import utils.utils_figures as f\n",
    "import utils.utils_feature_selection as fs\n",
    "\n",
    "import warnings\n",
    "warnings.filterwarnings('ignore')\n",
    "\n",
    "pd.set_option('display.max_columns', None)\n"
   ]
  },
  {
   "cell_type": "code",
   "execution_count": 20,
   "metadata": {},
   "outputs": [
    {
     "data": {
      "text/plain": [
       "'../input_survey_data/DEM_LiDAR/WSF3D_V02_BuildingHeight_HCMC.tif'"
      ]
     },
     "execution_count": 20,
     "metadata": {},
     "output_type": "execute_result"
    }
   ],
   "source": [
    "# df_candidates = gpd.read_file(\"../input_survey_data/raw_data_vietnamese_geolocations_no_dublicates_for_shp.shp\")\n",
    "df_candidates = gpd.read_file(\"../input_survey_data/raw_data_vietnamese_geolocations_exactmatches.shp\")\n",
    "#df_candidates = gpd.read_file(\"../input_survey_data/raw_data_vietnamese_geolocations_no_dublicates_gps_inaccurate.csv\")\n",
    "df_candidates.tail(3)\n",
    "\n",
    "dlr_building_height = \"../input_survey_data/DEM_LiDAR/WSF3D_V02_BuildingHeight_HCMC.tif\" # shop locations including elevation height based on original and interpolated DEM\n",
    "dlr_building_height\n",
    "\n"
   ]
  },
  {
   "cell_type": "code",
   "execution_count": 21,
   "metadata": {},
   "outputs": [],
   "source": [
    "df_candidates[\"shp_building_heights_m\"] = None\n",
    "coords = df_candidates.get_coordinates().values\n",
    "\n",
    "with rio.open(dlr_building_height) as src:\n",
    "    df_candidates[\"shp_building_heights_m\"] = [x[0] for x in src.sample(coords)]\n",
    "\n",
    "df_candidates[\"shp_building_heights_m\"] =  df_candidates[\"shp_building_heights_m\"]  / 10 # fix decimals \n",
    "# df_candidates[\"shp_building_heights_m\"] "
   ]
  },
  {
   "cell_type": "markdown",
   "metadata": {},
   "source": [
    "## Correlation floor numbers ~ DSM\n",
    "First check how well the obtained floor numbers correlates with building heights\n",
    "Sampel size: 61 companies for which floor number and improved geolocation exists"
   ]
  },
  {
   "cell_type": "code",
   "execution_count": 29,
   "metadata": {},
   "outputs": [
    {
     "name": "stdout",
     "output_type": "stream",
     "text": [
      "(60, 393)\n"
     ]
    }
   ],
   "source": [
    "## use only compaines in buidlings with not more than 3 floors\n",
    "df_candidates = df_candidates.loc[df_candidates.Nr_Floors <= 3.0, :]\n",
    "## use only compaines in buidlings with a reasonable building height\n",
    "df_candidates = df_candidates.loc[df_candidates.shp_building_heights_m < 25, :]\n",
    "print(df_candidates.shape)"
   ]
  },
  {
   "cell_type": "code",
   "execution_count": 23,
   "metadata": {},
   "outputs": [
    {
     "name": "stdout",
     "output_type": "stream",
     "text": [
      "Pearson Corr: -0.16856525784022824\n",
      "Spearman's rho: -0.060545007806883266\n"
     ]
    }
   ],
   "source": [
    "print(\"Pearson Corr:\", df_candidates[\"shp_building_heights_m\"].corr(df_candidates[\"Nr_Floors\"] ))\n",
    "print(\"Spearman's rho:\", df_candidates[\"shp_building_heights_m\"].corr(df_candidates[\"Nr_Floors\"], method=\"spearman\"))"
   ]
  },
  {
   "cell_type": "markdown",
   "metadata": {},
   "source": [
    "-> no reasonable correlation between building height and the matched floor number could be found"
   ]
  },
  {
   "cell_type": "code",
   "execution_count": 44,
   "metadata": {},
   "outputs": [
    {
     "data": {
      "text/plain": [
       "<Axes: xlabel='Nr_Floors', ylabel='shp_building_heights_m'>"
      ]
     },
     "execution_count": 44,
     "metadata": {},
     "output_type": "execute_result"
    },
    {
     "data": {
      "image/png": "[encoded data removed]",
      "text/plain": [
       "<Figure size 640x480 with 1 Axes>"
      ]
     },
     "metadata": {},
     "output_type": "display_data"
    }
   ],
   "source": [
    "## plot correlation\n",
    "sns.boxplot(data=df_candidates, x=\"Nr_Floors\", y=\"shp_building_heights_m\", saturation=.0)\n",
    "sns.stripplot(data=df_candidates, x=\"Nr_Floors\", y=\"shp_building_heights_m\")\n",
    "\n",
    "#sns.catplot(data=df_candidates, x=\"Nr_Floors\", y=\"shp_building_heights_m\")#,alpha=.5)\n",
    "# --> qualitatively also no correlation"
   ]
  },
  {
   "cell_type": "code",
   "execution_count": 43,
   "metadata": {},
   "outputs": [],
   "source": [
    "# ?sns.boxplot"
   ]
  },
  {
   "cell_type": "code",
   "execution_count": 45,
   "metadata": {},
   "outputs": [
    {
     "name": "stdout",
     "output_type": "stream",
     "text": [
      "Building height median for 1 floor: 4.4\n",
      "Building height median for 2 floor: 4.4\n",
      "Building height median for 3 floor: 5.8\n"
     ]
    }
   ],
   "source": [
    "print(\"Building height median for 1 floor:\", np.median(df_candidates.loc[df_candidates.Nr_Floors==1.00, \"shp_building_heights_m\"]))\n",
    "print(\"Building height median for 2 floor:\", np.median(df_candidates.loc[df_candidates.Nr_Floors==2.00, \"shp_building_heights_m\"]))\n",
    "print(\"Building height median for 3 floor:\", np.median(df_candidates.loc[df_candidates.Nr_Floors==3.00, \"shp_building_heights_m\"]))"
   ]
  },
  {
   "cell_type": "code",
   "execution_count": null,
   "metadata": {},
   "outputs": [],
   "source": []
  }
 ],
 "metadata": {
  "kernelspec": {
   "display_name": "py396_c3",
   "language": "python",
   "name": "python3"
  },
  "language_info": {
   "codemirror_mode": {
    "name": "ipython",
    "version": 3
   },
   "file_extension": ".py",
   "mimetype": "text/x-python",
   "name": "python",
   "nbconvert_exporter": "python",
   "pygments_lexer": "ipython3",
   "version": "3.9.6"
  }
 },
 "nbformat": 4,
 "nbformat_minor": 2
}
